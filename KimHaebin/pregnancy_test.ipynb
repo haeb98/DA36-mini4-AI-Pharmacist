{
 "cells": [
  {
   "cell_type": "code",
   "id": "initial_id",
   "metadata": {
    "collapsed": true,
    "ExecuteTime": {
     "end_time": "2024-12-19T02:05:56.902516Z",
     "start_time": "2024-12-19T02:05:56.858918Z"
    }
   },
   "source": [
    "from dotenv import load_dotenv\n",
    "load_dotenv()\n",
    "\n",
    "# .env 파일 강제 로드\n",
    "load_dotenv(override=True)"
   ],
   "outputs": [
    {
     "data": {
      "text/plain": [
       "True"
      ]
     },
     "execution_count": 1,
     "metadata": {},
     "output_type": "execute_result"
    }
   ],
   "execution_count": 1
  },
  {
   "metadata": {
    "ExecuteTime": {
     "end_time": "2024-12-19T02:21:38.103370Z",
     "start_time": "2024-12-19T02:21:37.953975Z"
    }
   },
   "cell_type": "code",
   "source": [
    "import pandas as pd\n",
    "preg_dur_df = pd.read_csv('C:\\Workspaces\\AI-Pharmacist\\data_pregnancy\\DUR_pregnant.csv',  encoding='cp949')"
   ],
   "id": "db5dd10828317278",
   "outputs": [],
   "execution_count": 8
  },
  {
   "metadata": {
    "ExecuteTime": {
     "end_time": "2024-12-19T02:21:46.203224Z",
     "start_time": "2024-12-19T02:21:46.175832Z"
    }
   },
   "cell_type": "code",
   "source": "preg_dur_df.head()",
   "id": "9f75ae5208fba04d",
   "outputs": [
    {
     "data": {
      "text/plain": [
       "                                            성분명  \\\n",
       "0  Chenodeoxycholic acid + Ursodeoxycholic acid   \n",
       "1                                   acamprosate   \n",
       "2                                   acamprosate   \n",
       "3                                      acarbose   \n",
       "4                                      acarbose   \n",
       "\n",
       "                                            제품명      업체명 금기등급  \\\n",
       "0  씨앤유캡슐(케노데속시콜산-우르소데속시콜산삼수화물마그네슘염)_(0.25g/1캡슐)  명문제약(주)    1   \n",
       "1        명인아캄프로세이트정333mg(아캄프로세이트칼슘)_(0.333g/1정)  명인제약(주)    2   \n",
       "2             환인아캄프로세이트정(아캄프로세이트칼슘)_(0.333g/1정)  환인제약(주)    2   \n",
       "3                 글루코바이정100밀리그람(아카보즈)_(0.1g/1정)    (주)한독    2   \n",
       "4                  글루코바이정50밀리그람(아카보즈)_(50mg/1정)    (주)한독    2   \n",
       "\n",
       "                           상세정보  \n",
       "0  임부 투여금기, 동물실험에서 간독성의 증거 나타남   \n",
       "1               임부에 대한 안전성 미확립.  \n",
       "2               임부에 대한 안전성 미확립.  \n",
       "3               임부에 대한 안전성 미확립.  \n",
       "4               임부에 대한 안전성 미확립.  "
      ],
      "text/html": [
       "<div>\n",
       "<style scoped>\n",
       "    .dataframe tbody tr th:only-of-type {\n",
       "        vertical-align: middle;\n",
       "    }\n",
       "\n",
       "    .dataframe tbody tr th {\n",
       "        vertical-align: top;\n",
       "    }\n",
       "\n",
       "    .dataframe thead th {\n",
       "        text-align: right;\n",
       "    }\n",
       "</style>\n",
       "<table border=\"1\" class=\"dataframe\">\n",
       "  <thead>\n",
       "    <tr style=\"text-align: right;\">\n",
       "      <th></th>\n",
       "      <th>성분명</th>\n",
       "      <th>제품명</th>\n",
       "      <th>업체명</th>\n",
       "      <th>금기등급</th>\n",
       "      <th>상세정보</th>\n",
       "    </tr>\n",
       "  </thead>\n",
       "  <tbody>\n",
       "    <tr>\n",
       "      <th>0</th>\n",
       "      <td>Chenodeoxycholic acid + Ursodeoxycholic acid</td>\n",
       "      <td>씨앤유캡슐(케노데속시콜산-우르소데속시콜산삼수화물마그네슘염)_(0.25g/1캡슐)</td>\n",
       "      <td>명문제약(주)</td>\n",
       "      <td>1</td>\n",
       "      <td>임부 투여금기, 동물실험에서 간독성의 증거 나타남</td>\n",
       "    </tr>\n",
       "    <tr>\n",
       "      <th>1</th>\n",
       "      <td>acamprosate</td>\n",
       "      <td>명인아캄프로세이트정333mg(아캄프로세이트칼슘)_(0.333g/1정)</td>\n",
       "      <td>명인제약(주)</td>\n",
       "      <td>2</td>\n",
       "      <td>임부에 대한 안전성 미확립.</td>\n",
       "    </tr>\n",
       "    <tr>\n",
       "      <th>2</th>\n",
       "      <td>acamprosate</td>\n",
       "      <td>환인아캄프로세이트정(아캄프로세이트칼슘)_(0.333g/1정)</td>\n",
       "      <td>환인제약(주)</td>\n",
       "      <td>2</td>\n",
       "      <td>임부에 대한 안전성 미확립.</td>\n",
       "    </tr>\n",
       "    <tr>\n",
       "      <th>3</th>\n",
       "      <td>acarbose</td>\n",
       "      <td>글루코바이정100밀리그람(아카보즈)_(0.1g/1정)</td>\n",
       "      <td>(주)한독</td>\n",
       "      <td>2</td>\n",
       "      <td>임부에 대한 안전성 미확립.</td>\n",
       "    </tr>\n",
       "    <tr>\n",
       "      <th>4</th>\n",
       "      <td>acarbose</td>\n",
       "      <td>글루코바이정50밀리그람(아카보즈)_(50mg/1정)</td>\n",
       "      <td>(주)한독</td>\n",
       "      <td>2</td>\n",
       "      <td>임부에 대한 안전성 미확립.</td>\n",
       "    </tr>\n",
       "  </tbody>\n",
       "</table>\n",
       "</div>"
      ]
     },
     "execution_count": 10,
     "metadata": {},
     "output_type": "execute_result"
    }
   ],
   "execution_count": 10
  },
  {
   "metadata": {
    "ExecuteTime": {
     "end_time": "2024-12-19T02:36:28.060796Z",
     "start_time": "2024-12-19T02:36:27.273922Z"
    }
   },
   "cell_type": "code",
   "source": [
    "from langchain_community.document_loaders import CSVLoader\n",
    "\n",
    "loader = CSVLoader('C:\\Workspaces\\AI-Pharmacist\\data_pregnancy\\DUR_pregnant.csv', encoding='cp949')\n",
    "preg_dur_document = loader.load()\n",
    "print(type(preg_dur_document))\n",
    "print(len(preg_dur_document))\n",
    "print(preg_dur_document[0])\n",
    "print(type(preg_dur_document[0]))"
   ],
   "id": "9e7f76d4f4121f11",
   "outputs": [
    {
     "name": "stdout",
     "output_type": "stream",
     "text": [
      "<class 'list'>\n",
      "19014\n",
      "page_content='성분명: Chenodeoxycholic acid + Ursodeoxycholic acid\n",
      "제품명: 씨앤유캡슐(케노데속시콜산-우르소데속시콜산삼수화물마그네슘염)_(0.25g/1캡슐)\n",
      "업체명: 명문제약(주)\n",
      "금기등급: 1\n",
      "상세정보: 임부 투여금기, 동물실험에서 간독성의 증거 나타남' metadata={'source': 'C:\\\\Workspaces\\\\AI-Pharmacist\\\\data_pregnancy\\\\DUR_pregnant.csv', 'row': 0}\n",
      "<class 'langchain_core.documents.base.Document'>\n"
     ]
    }
   ],
   "execution_count": 23
  },
  {
   "metadata": {
    "ExecuteTime": {
     "end_time": "2024-12-19T02:22:37.726512Z",
     "start_time": "2024-12-19T02:22:37.703920Z"
    }
   },
   "cell_type": "code",
   "source": [
    "import os\n",
    "PINECONE_INDEX_NAME = os.getenv(\"PINECONE_INDEX_NAME\")\n",
    "PINECONE_NAMESPACE = os.getenv(\"PINECONE_NAMESPACE\")\n",
    "PINECONE_API_KEY = os.getenv(\"PINECONE_API_KEY\")\n",
    "\n",
    "print(PINECONE_INDEX_NAME)\n",
    "print(PINECONE_NAMESPACE)\n",
    "print(PINECONE_API_KEY)"
   ],
   "id": "c1ddd189213b9bc9",
   "outputs": [
    {
     "name": "stdout",
     "output_type": "stream",
     "text": [
      "ai-pharmacist\n",
      "ai-pharmacist-ns\n",
      "pcsk_5TkRik_EzGTnXtpN1c26rjgbrhySAUqgAAHhR9QEmje4vwZkMoEKiADwUKrPjkEAQwfsTs\n"
     ]
    }
   ],
   "execution_count": 14
  },
  {
   "metadata": {
    "ExecuteTime": {
     "end_time": "2024-12-19T02:22:35.722218Z",
     "start_time": "2024-12-19T02:22:34.228863Z"
    }
   },
   "cell_type": "code",
   "outputs": [],
   "execution_count": 13,
   "source": [
    "from langchain_openai.embeddings import OpenAIEmbeddings\n",
    "\n",
    "embeddings = OpenAIEmbeddings(model=\"text-embedding-3-small\")"
   ],
   "id": "5cb99d76d922a87d"
  },
  {
   "metadata": {
    "ExecuteTime": {
     "end_time": "2024-12-19T03:27:25.031924Z",
     "start_time": "2024-12-19T03:12:26.605054Z"
    }
   },
   "cell_type": "code",
   "source": [
    "from langchain_openai.embeddings import OpenAIEmbeddings\n",
    "from langchain_pinecone import PineconeVectorStore\n",
    "import os\n",
    "\n",
    "PINECONE_INDEX_NAME = os.getenv(\"PINECONE_INDEX_NAME\")\n",
    "PINECONE_NAMESPACE = os.getenv(\"PINECONE_NAMESPACE\")\n",
    "PINECONE_API_KEY = os.getenv(\"PINECONE_API_KEY\")\n",
    "\n",
    "embeddings = OpenAIEmbeddings(model=\"text-embedding-3-small\")\n",
    "\n",
    "# 문서 배치 크기 설정 (예: 1000개씩 나눔)\n",
    "batch_size = 1000\n",
    "total_documents = len(preg_dur_document)\n",
    "# # 문서에 대한 임베딩 생성\n",
    "# document_embeddings = embeddings.embed_documents([doc.page_content for doc in preg_dur_document])\n",
    "\n",
    "# 문서를 배치로 나누어 처리\n",
    "for i in range(0, total_documents, batch_size):\n",
    "    batch = preg_dur_document[i:i+batch_size]\n",
    "    # embeddings_batch = document_embeddings[i:i+batch_size]  # 배치에 맞는 임베딩\n",
    "    \n",
    "    # Pinecone에 배치 업로드\n",
    "    vector_db = PineconeVectorStore.from_documents(\n",
    "        batch,\n",
    "        embedding=embeddings,\n",
    "        index_name=PINECONE_INDEX_NAME,\n",
    "        namespace=PINECONE_NAMESPACE,\n",
    "        pinecone_api_key=PINECONE_API_KEY\n",
    "    )\n",
    "\n",
    "    # 배치 업로드 완료 메시지\n",
    "    print(f\"Batch {i // batch_size + 1} uploaded, {min(i + batch_size, total_documents)} documents processed.\")"
   ],
   "id": "b159a373295740e0",
   "outputs": [
    {
     "name": "stdout",
     "output_type": "stream",
     "text": [
      "Batch 1 uploaded, 1000 documents processed.\n",
      "Batch 2 uploaded, 2000 documents processed.\n",
      "Batch 3 uploaded, 3000 documents processed.\n",
      "Batch 4 uploaded, 4000 documents processed.\n",
      "Batch 5 uploaded, 5000 documents processed.\n",
      "Batch 6 uploaded, 6000 documents processed.\n",
      "Batch 7 uploaded, 7000 documents processed.\n",
      "Batch 8 uploaded, 8000 documents processed.\n",
      "Batch 9 uploaded, 9000 documents processed.\n",
      "Batch 10 uploaded, 10000 documents processed.\n",
      "Batch 11 uploaded, 11000 documents processed.\n",
      "Batch 12 uploaded, 12000 documents processed.\n",
      "Batch 13 uploaded, 13000 documents processed.\n",
      "Batch 14 uploaded, 14000 documents processed.\n",
      "Batch 15 uploaded, 15000 documents processed.\n",
      "Batch 16 uploaded, 16000 documents processed.\n",
      "Batch 17 uploaded, 17000 documents processed.\n",
      "Batch 18 uploaded, 18000 documents processed.\n",
      "Batch 19 uploaded, 19000 documents processed.\n",
      "Batch 20 uploaded, 19014 documents processed.\n"
     ]
    }
   ],
   "execution_count": 26
  },
  {
   "metadata": {},
   "cell_type": "code",
   "outputs": [],
   "execution_count": null,
   "source": [
    "import pinecone\n",
    "import os\n",
    "\n",
    "# Pinecone 초기화\n",
    "pinecone.init(\n",
    "    api_key=os.getenv(\"PINECONE_API_KEY\"),        # 환경 변수에서 API 키 불러오기\n",
    "    environment=os.getenv(\"PINECONE_ENVIRONMENT\")  # 환경 변수에서 환경 설정 불러오기\n",
    ")\n",
    "\n",
    "# 인덱스 객체 생성\n",
    "index = pinecone.Index(os.getenv(\"PINECONE_INDEX_NAME\"))\n",
    "\n",
    "# 네임스페이스 내 모든 데이터 삭제\n",
    "index.delete(delete_all=True, namespace=os.getenv(\"PINECONE_NAMESPACE\"))\n",
    "\n",
    "print(\"네임스페이스 내 데이터가 성공적으로 삭제되었습니다.\")"
   ],
   "id": "9dc56f0ce162f4b7"
  },
  {
   "metadata": {
    "ExecuteTime": {
     "end_time": "2024-12-19T04:41:17.329093Z",
     "start_time": "2024-12-19T04:41:17.321456Z"
    }
   },
   "cell_type": "code",
   "source": [
    "from langchain_core.prompts import ChatPromptTemplate\n",
    "\n",
    "prompt = ChatPromptTemplate([\n",
    "    ('system', \"\"\"\n",
    "Persona: 당신은 전문적인 약사입니다. 약에 대해 복용 방법, 주의 사항, 금기 여부를 알고 있으며 일반인을 대상으로 설명이 가능합니다.\n",
    "\n",
    "Role: 임산부에게 의약품의 복용 가능 여부 및 금기 등급, 금기 등급의 의미를 정확히 이해할 수 있도록 돕습니다. context를 기반으로 약품에 대해 아무것도 모르는 임산부가 이해할 수 있도록 주의 사항을 도출해서 5줄 이내로 알려줍니다.\n",
    "\n",
    "Examples: 만약 해당 성분이 임산부에게 해로우면, 해당 의약품이 어떤 성분으로 인해 어느 금기 등급에 속하며 어떤 위험성이 있는지 알려준다. 만약 해당 성분이 임산부에게 해롭지 않으면, DUR 임부금기에 해당되지 않으므로 복용해도 된다고 알려준다.\n",
    "\"\"\"),\n",
    "    ('user', '''\n",
    "    query 약품을 임산부가 먹어도 되는지 context만 참조해서 알려줘.\n",
    "    \n",
    "    question: {query}  \n",
    "    context: {context}\n",
    "    ''')\n",
    "])\n",
    "prompt"
   ],
   "id": "f16c586abfb00845",
   "outputs": [
    {
     "data": {
      "text/plain": [
       "ChatPromptTemplate(input_variables=['context', 'query'], input_types={}, partial_variables={}, messages=[SystemMessagePromptTemplate(prompt=PromptTemplate(input_variables=[], input_types={}, partial_variables={}, template='\\nPersona: 당신은 전문적인 약사입니다. 약에 대해 복용 방법, 주의 사항, 금기 여부를 알고 있으며 일반인을 대상으로 설명이 가능합니다.\\n\\nRole: 임산부에게 의약품의 복용 가능 여부 및 금기 등급, 금기 등급의 의미를 정확히 이해할 수 있도록 돕습니다. context를 기반으로 약품에 대해 아무것도 모르는 임산부가 이해할 수 있도록 주의 사항을 도출해서 5줄 이내로 알려줍니다.\\n\\nExamples: 만약 해당 성분이 임산부에게 해로우면, 해당 의약품이 어떤 성분으로 인해 어느 금기 등급에 속하며 어떤 위험성이 있는지 알려준다. 만약 해당 성분이 임산부에게 해롭지 않으면, DUR 임부금기에 해당되지 않으므로 복용해도 된다고 알려준다.\\n'), additional_kwargs={}), HumanMessagePromptTemplate(prompt=PromptTemplate(input_variables=['context', 'query'], input_types={}, partial_variables={}, template='\\n    query 약품을 임산부가 먹어도 되는지 context만 참조해서 알려줘.\\n    \\n    question: {query}  \\n    context: {context}\\n    '), additional_kwargs={})])"
      ]
     },
     "execution_count": 40,
     "metadata": {},
     "output_type": "execute_result"
    }
   ],
   "execution_count": 40
  },
  {
   "metadata": {
    "ExecuteTime": {
     "end_time": "2024-12-19T04:41:25.412005Z",
     "start_time": "2024-12-19T04:41:23.782866Z"
    }
   },
   "cell_type": "code",
   "source": [
    "query = \"에이서캡슐(아세클로페낙)_(0.1g/1캡슐)\"\n",
    "retriever = vector_db.as_retriever(\n",
    "    search_type='similarity',\n",
    "    search_kwargs={'k': 5}\n",
    ")\n",
    "retrievals = retriever.batch([query])\n",
    "retrievals"
   ],
   "id": "ebe805ee7add9dcd",
   "outputs": [
    {
     "data": {
      "text/plain": [
       "[[Document(id='70229fc7-96c4-43fd-a87f-117bc6478860', metadata={'row': 16294.0, 'source': 'C:\\\\Workspaces\\\\AI-Pharmacist\\\\data_pregnancy\\\\DUR_pregnant.csv'}, page_content='성분명: ginkgo biloba leaf ext.\\n제품명: 써큐로드연질캡슐120mg(은행엽건조엑스)_(0.12g/1캡슐)\\n업체명: (주)동구바이오제약\\n금기등급: 2\\n상세정보: (정제, 액제, 캡슐제) 임신 중 투여에 대한 충분한 사용경험 적음 (주사제) -'),\n",
       "  Document(id='24b867a7-929b-4642-93da-c148e075c349', metadata={'row': 1763.0, 'source': 'C:\\\\Workspaces\\\\AI-Pharmacist\\\\data_pregnancy\\\\DUR_pregnant.csv'}, page_content='성분명: Diacerein\\n제품명: 아세렌캡슐(디아세레인)_(50mg/1캡슐)\\n업체명: 대화제약(주)\\n금기등급: 2\\n상세정보: 동물실험에서 태자 골형성 지연 보고'),\n",
       "  Document(id='7066ca9f-d47f-4a59-a425-d8b53f5e34ce', metadata={'row': 18984.0, 'source': 'C:\\\\Workspaces\\\\AI-Pharmacist\\\\data_pregnancy\\\\DUR_pregnant.csv'}, page_content='성분명: pseudoephedrine\\n제품명: 쏙콜에이연질캡슐_(1캡슐)\\n업체명: (주)에이프로젠바이오로직스\\n금기등급: 2\\n상세정보: 임부에 대한 안전성 미확립.'),\n",
       "  Document(id='93881303-1e56-4b69-9248-4beed2a761f1', metadata={'row': 5.0, 'source': 'C:\\\\Workspaces\\\\AI-Pharmacist\\\\data_pregnancy\\\\DUR_pregnant.csv'}, page_content='성분명: aceclofenac\\n제품명: 에이서캡슐(아세클로페낙)_(0.1g/1캡슐)\\n업체명: 경동제약(주)\\n금기등급: 2\\n상세정보: 임부에 대한 안전성 미확립.임신 말기에 투여시 태아의 동맥관조기폐쇄 가능성.동물실험에서 비스테로이드성 소염진통제는 난산발생빈도 증가, 분만지연, 태아 생존율 감소 보고.임신 약 20주 이후 비스테로이드성 소염제의 사용은 태아의 신기능 이상을 일으켜 양수 과소증 유발 가능 및 경우에 따라 신생아 신장애 발생 가능'),\n",
       "  Document(id='ed1c590d-5b67-45f6-8938-58f6e1886985', metadata={'row': 18280.0, 'source': 'C:\\\\Workspaces\\\\AI-Pharmacist\\\\data_pregnancy\\\\DUR_pregnant.csv'}, page_content='성분명: ginkgo biloba leaf ext. + ginseng 30% ethanol ext.\\n제품명: 징코산캡슐_(1캡슐)\\n업체명: (주)한국파비스제약\\n금기등급: 2\\n상세정보: (정제, 액제, 캡슐제) 임신 중 투여에 대한 충분한 사용경험 적음 (주사제) -')]]"
      ]
     },
     "execution_count": 41,
     "metadata": {},
     "output_type": "execute_result"
    }
   ],
   "execution_count": 41
  },
  {
   "metadata": {
    "ExecuteTime": {
     "end_time": "2024-12-19T04:41:33.450386Z",
     "start_time": "2024-12-19T04:41:33.444050Z"
    }
   },
   "cell_type": "code",
   "source": "prompt.invoke({'query': query, 'context': retriever})",
   "id": "b3209274c22216c4",
   "outputs": [
    {
     "data": {
      "text/plain": [
       "ChatPromptValue(messages=[SystemMessage(content='\\nPersona: 당신은 전문적인 약사입니다. 약에 대해 복용 방법, 주의 사항, 금기 여부를 알고 있으며 일반인을 대상으로 설명이 가능합니다.\\n\\nRole: 임산부에게 의약품의 복용 가능 여부 및 금기 등급, 금기 등급의 의미를 정확히 이해할 수 있도록 돕습니다. context를 기반으로 약품에 대해 아무것도 모르는 임산부가 이해할 수 있도록 주의 사항을 도출해서 5줄 이내로 알려줍니다.\\n\\nExamples: 만약 해당 성분이 임산부에게 해로우면, 해당 의약품이 어떤 성분으로 인해 어느 금기 등급에 속하며 어떤 위험성이 있는지 알려준다. 만약 해당 성분이 임산부에게 해롭지 않으면, DUR 임부금기에 해당되지 않으므로 복용해도 된다고 알려준다.\\n', additional_kwargs={}, response_metadata={}), HumanMessage(content=\"\\n    query 약품을 임산부가 먹어도 되는지 context만 참조해서 알려줘.\\n    \\n    question: 에이서캡슐(아세클로페낙)_(0.1g/1캡슐)  \\n    context: tags=['PineconeVectorStore', 'OpenAIEmbeddings'] vectorstore=<langchain_pinecone.vectorstores.PineconeVectorStore object at 0x0000027FC6DF8590> search_kwargs={'k': 5}\\n    \", additional_kwargs={}, response_metadata={})])"
      ]
     },
     "execution_count": 42,
     "metadata": {},
     "output_type": "execute_result"
    }
   ],
   "execution_count": 42
  },
  {
   "metadata": {
    "ExecuteTime": {
     "end_time": "2024-12-19T04:36:49.374026Z",
     "start_time": "2024-12-19T04:36:48.613218Z"
    }
   },
   "cell_type": "code",
   "source": [
    "from langchain_openai import ChatOpenAI\n",
    "\n",
    "model = ChatOpenAI(\n",
    "    model='gpt-4o',\n",
    "    temperature=0.5\n",
    ")"
   ],
   "id": "b4c74bdae25d068c",
   "outputs": [],
   "execution_count": 34
  },
  {
   "metadata": {
    "ExecuteTime": {
     "end_time": "2024-12-19T04:41:43.438878Z",
     "start_time": "2024-12-19T04:41:38.846295Z"
    }
   },
   "cell_type": "code",
   "source": [
    "from langchain_core.output_parsers import StrOutputParser\n",
    "from langchain_core.runnables import RunnablePassthrough\n",
    "\n",
    "# RunnablePassThrough: invoke()에 전달된 인자를 받아서 그대로 출력\n",
    "chain = {'query': RunnablePassthrough(), 'context': retriever} | prompt | model | StrOutputParser() \n",
    "\n",
    "chain.invoke(query)"
   ],
   "id": "4e97f31efd86f09a",
   "outputs": [
    {
     "data": {
      "text/plain": [
       "'\\n에이서캡슐(아세클로페낙)은 임산부에게 금기 등급 2에 해당합니다. 이는 임부에 대한 안전성이 확립되지 않았으며, 임신 말기에 투여 시 태아의 동맥관 조기 폐쇄 가능성이 있습니다. 또한, 비스테로이드성 소염진통제는 난산 발생 빈도 증가, 분만 지연, 태아 생존율 감소를 일으킬 수 있습니다. 임신 약 20주 이후 사용 시 태아의 신기능 이상을 초래하여 양수 과소증 및 신생아 신장애 발생 가능성이 보고되었습니다. 따라서 임산부는 이 약의 복용을 피하는 것이 좋습니다.'"
      ]
     },
     "execution_count": 43,
     "metadata": {},
     "output_type": "execute_result"
    }
   ],
   "execution_count": 43
  },
  {
   "metadata": {
    "ExecuteTime": {
     "end_time": "2024-12-19T04:41:48.098992Z",
     "start_time": "2024-12-19T04:41:45.400128Z"
    }
   },
   "cell_type": "code",
   "source": "chain.invoke('덱스트로메토펜')",
   "id": "12cc0b3b922e462e",
   "outputs": [
    {
     "data": {
      "text/plain": [
       "'\\n덱스트로메토펜(Dextromethorphan)에 대한 정보는 제공된 context에 포함되어 있지 않습니다. 그러나 일반적으로 덱스트로메토펜은 임신 중에도 비교적 안전한 것으로 간주되며, DUR 임부금기 등급에 해당되지 않습니다. 하지만, 모든 약물 복용은 개인의 건강 상태와 임신 주기에 따라 다를 수 있으므로, 복용 전에 반드시 담당 의사나 약사와 상담하는 것이 중요합니다.'"
      ]
     },
     "execution_count": 44,
     "metadata": {},
     "output_type": "execute_result"
    }
   ],
   "execution_count": 44
  },
  {
   "metadata": {
    "ExecuteTime": {
     "end_time": "2024-12-19T04:43:05.046375Z",
     "start_time": "2024-12-19T04:43:00.731250Z"
    }
   },
   "cell_type": "code",
   "source": "chain.invoke('아세렌캡슐(디아세레인')",
   "id": "e768a8fb9e2affe0",
   "outputs": [
    {
     "data": {
      "text/plain": [
       "'\\n아세렌캡슐(디아세레인)의 주성분인 디아세레인은 임산부에게 금기등급 2에 속합니다. 이는 동물실험에서 태아의 골형성 지연이 보고되었음을 의미합니다. 임신 중 이 약을 복용하면 태아에게 해로울 수 있으므로, 복용을 피하는 것이 좋습니다. 의사와 상의하여 대체 약물을 고려하는 것이 안전합니다.'"
      ]
     },
     "execution_count": 45,
     "metadata": {},
     "output_type": "execute_result"
    }
   ],
   "execution_count": 45
  },
  {
   "metadata": {
    "ExecuteTime": {
     "end_time": "2024-12-19T05:03:10.727974Z",
     "start_time": "2024-12-19T05:03:05.557568Z"
    }
   },
   "cell_type": "code",
   "source": "chain.invoke('타이레놀')",
   "id": "a03f194e354f6365",
   "outputs": [
    {
     "data": {
      "text/plain": [
       "'\\n타이레놀 자체는 일반적으로 임산부에게 안전한 것으로 알려져 있지만, 타이레놀콜드-에스정에는 Pseudoephedrine이라는 성분이 포함되어 있습니다. 이 성분의 경우 임부에 대한 안전성이 확립되지 않았으며, 금기등급 2로 분류되어 있습니다. 이는 임산부에게 잠재적인 위험이 있을 수 있음을 의미합니다. 따라서, 타이레놀콜드-에스정은 임산부가 복용하기에 적합하지 않을 수 있으니, 타이레놀을 복용하려면 반드시 주치의와 상담하시기 바랍니다.'"
      ]
     },
     "execution_count": 46,
     "metadata": {},
     "output_type": "execute_result"
    }
   ],
   "execution_count": 46
  },
  {
   "metadata": {},
   "cell_type": "code",
   "outputs": [],
   "execution_count": null,
   "source": "",
   "id": "c819bbf0ac0461a9"
  }
 ],
 "metadata": {
  "kernelspec": {
   "display_name": "Python 3",
   "language": "python",
   "name": "python3"
  },
  "language_info": {
   "codemirror_mode": {
    "name": "ipython",
    "version": 2
   },
   "file_extension": ".py",
   "mimetype": "text/x-python",
   "name": "python",
   "nbconvert_exporter": "python",
   "pygments_lexer": "ipython2",
   "version": "2.7.6"
  }
 },
 "nbformat": 4,
 "nbformat_minor": 5
}
