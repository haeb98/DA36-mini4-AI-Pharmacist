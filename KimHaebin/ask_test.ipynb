{
 "cells": [
  {
   "cell_type": "code",
   "id": "initial_id",
   "metadata": {
    "collapsed": true,
    "ExecuteTime": {
     "end_time": "2024-12-18T07:48:36.947625Z",
     "start_time": "2024-12-18T07:48:36.931478Z"
    }
   },
   "source": [
    "from dotenv import load_dotenv\n",
    "load_dotenv()"
   ],
   "outputs": [
    {
     "data": {
      "text/plain": [
       "True"
      ]
     },
     "execution_count": 16,
     "metadata": {},
     "output_type": "execute_result"
    }
   ],
   "execution_count": 16
  },
  {
   "metadata": {},
   "cell_type": "code",
   "outputs": [],
   "execution_count": null,
   "source": [
    "import pinecone\n",
    "from langchain.prompts import PromptTemplate\n",
    "from langchain.chat_models import ChatOpenAI\n",
    "from langchain.vectorstores import Pinecone\n",
    "from langchain.retrievers import PineconeRetriever\n",
    "from langchain.chains import LLMChain\n",
    "\n",
    "# 모델 초기화\n",
    "def init_model():\n",
    "    return ChatOpenAI(model='gpt-4o', temperature=0.5)\n",
    "\n",
    "# 벡터 DB 초기화\n",
    "def init_vector_db(api_key, environment, index_name):\n",
    "    pinecone.init(api_key=api_key, environment=environment)\n",
    "    return Pinecone.from_existing_index(index_name, embedding_function=OpenAIEmbeddings())\n",
    "\n",
    "# Retriever 초기화\n",
    "def init_retriever(vector_db):\n",
    "    return PineconeRetriever(vectorstore=vector_db)\n",
    "\n",
    "# 약품 정보와 DUR 정보 검색\n",
    "def retrieve_context(query, retriever):\n",
    "    return retriever.get_relevant_documents(query)\n",
    "\n",
    "# 프롬프트 생성\n",
    "def generate_prompt(medicine_context, dur_context, query):\n",
    "    prompt_template = \"\"\"\n",
    "    You are a helpful AI pharmacist. Your task is to provide simple and clear explanations about medicines for general people. Your explanation should cover the following:\n",
    "    \n",
    "    1. A brief explanation of the medicine, its effectiveness, dosage, precautions, side effects, and storage information.\n",
    "    2. If the medicine is safe for pregnant women, including any contraindications, warning levels, and what they mean.\n",
    "    \n",
    "    Use the context provided below to answer the user's query.\n",
    "    \n",
    "    Context about the medicine:\n",
    "    {medicine_context}\n",
    "    \n",
    "    Context about the pregnancy-related contraindications:\n",
    "    {dur_context}\n",
    "    \n",
    "    User's query: {query}\n",
    "    \"\"\"\n",
    "    return PromptTemplate(input_variables=[\"medicine_context\", \"dur_context\", \"query\"], template=prompt_template)\n",
    "\n",
    "# 답변 생성\n",
    "def generate_answer(chain, medicine_context, dur_context, query):\n",
    "    return chain.run(medicine_context=medicine_context, dur_context=dur_context, query=query)\n",
    "\n",
    "# 전체 흐름 함수\n",
    "def process_query(query, api_key, environment, medicine_index, dur_index):\n",
    "    # 1. 모델 초기화\n",
    "    model = init_model()\n",
    "\n",
    "    # 2. 벡터 DB 초기화\n",
    "    vector_db_medicine = init_vector_db(api_key, environment, medicine_index)\n",
    "    vector_db_dur = init_vector_db(api_key, environment, dur_index)\n",
    "\n",
    "    # 3. Retriever 초기화\n",
    "    retriever_medicine = init_retriever(vector_db_medicine)\n",
    "    retriever_dur = init_retriever(vector_db_dur)\n",
    "\n",
    "    # 4. 약품 정보와 DUR 정보 검색\n",
    "    medicine_context = retrieve_context(query, retriever_medicine)\n",
    "    dur_context = retrieve_context(query, retriever_dur)\n",
    "\n",
    "    # 5. 프롬프트 생성\n",
    "    prompt = generate_prompt(medicine_context, dur_context, query)\n",
    "\n",
    "    # 6. LLMChain 설정\n",
    "    chain = LLMChain(prompt=prompt, llm=model)\n",
    "\n",
    "    # 7. 답변 생성\n",
    "    response = generate_answer(chain, medicine_context, dur_context, query)\n",
    "    \n",
    "    return response\n",
    "\n",
    "# 예시 사용\n",
    "api_key = \"your-api-key\"\n",
    "environment = \"your-environment\"\n",
    "medicine_index = \"medicine_index\"\n",
    "dur_index = \"dur_index\"\n",
    "query = \"아스피린\"\n",
    "\n",
    "response = process_query(query, api_key, environment, medicine_index, dur_index)\n",
    "print(response)\n"
   ],
   "id": "92de5b5ed6ecfbd2"
  }
 ],
 "metadata": {
  "kernelspec": {
   "display_name": "Python 3",
   "language": "python",
   "name": "python3"
  },
  "language_info": {
   "codemirror_mode": {
    "name": "ipython",
    "version": 2
   },
   "file_extension": ".py",
   "mimetype": "text/x-python",
   "name": "python",
   "nbconvert_exporter": "python",
   "pygments_lexer": "ipython2",
   "version": "2.7.6"
  }
 },
 "nbformat": 4,
 "nbformat_minor": 5
}
