{
 "cells": [
  {
   "metadata": {
    "ExecuteTime": {
     "end_time": "2024-12-19T15:29:42.693129Z",
     "start_time": "2024-12-19T15:29:42.641780Z"
    }
   },
   "cell_type": "code",
   "source": [
    "from dotenv import load_dotenv\n",
    "load_dotenv()\n",
    "\n",
    "# .env 파일 강제 로드\n",
    "load_dotenv(override=True)"
   ],
   "id": "b63b4bb56bd3e2ba",
   "outputs": [
    {
     "data": {
      "text/plain": [
       "True"
      ]
     },
     "execution_count": 18,
     "metadata": {},
     "output_type": "execute_result"
    }
   ],
   "execution_count": 18
  },
  {
   "metadata": {
    "ExecuteTime": {
     "end_time": "2024-12-19T15:29:50.597939Z",
     "start_time": "2024-12-19T15:29:49.699547Z"
    }
   },
   "cell_type": "code",
   "source": [
    "from langchain_community.document_loaders import CSVLoader\n",
    "\n",
    "loader = CSVLoader('C:\\Workspaces\\AI-Pharmacist\\KimHaebin\\drug_info.csv', encoding='utf-8')\n",
    "drug_info_document = loader.load()\n",
    "print(len(drug_info_document))\n",
    "print(drug_info_document[0])"
   ],
   "id": "a1a034ee3c4f15d8",
   "outputs": [
    {
     "name": "stdout",
     "output_type": "stream",
     "text": [
      "4756\n",
      "page_content='﻿업체명: 동화약품(주)\n",
      "제품명: 활명수\n",
      "품목기준코드: 195700020\n",
      "효능: 이 약은 식욕감퇴(식욕부진), 위부팽만감, 소화불량, 과식, 체함, 구역, 구토에 사용합니다.\n",
      "복용방법: 만 15세 이상 및 성인은 1회 1병(75 mL), 만 11세이상~만 15세미만은 1회 2/3병(50 mL), 만 8세 이상~만 11세 미만은 1회 1/2병(37.5 mL), 만 5세 이상~만 8세 미만은 1회 1/3병(25 mL), 만 3세 이상~만 5세 미만은 1회 1/4병(18.75 mL), 만 1세 이상~만 3세 미만은 1회 1/5병(15 mL), 1일 3회 식후에 복용합니다. 복용간격은 4시간 이상으로 합니다.\n",
      "알아야할 점: \n",
      "사용상 주의사항: 만 3개월 미만의 젖먹이는 이 약을 복용하지 마십시오.\n",
      "\n",
      "이 약을 복용하기 전에 만 1세 미만의 젖먹이, 임부 또는 임신하고 있을 가능성이 있는 여성, 카라멜에 과민증 환자 또는 경험자, 나트륨 제한 식이를 하는 사람은 의사 또는 약사와 상의하십시오.\n",
      "\n",
      "정해진 용법과 용량을 잘 지키십시오.\n",
      "\n",
      "어린이에게 투여할 경우 보호자의 지도 감독하에 투여하십시오.\n",
      "\n",
      "1개월 정도 복용하여도 증상의 개선이 없을 경우 복용을 즉각 중지하고 의사 또는 약사와 상의하십시오.\n",
      "병용금지 약/음식: \n",
      "이상반응 가능성: \n",
      "보관방법: 습기와 빛을 피해 실온에서 보관하십시오.\n",
      "\n",
      "어린이의 손이 닿지 않는 곳에 보관하십시오.' metadata={'source': 'C:\\\\Workspaces\\\\AI-Pharmacist\\\\KimHaebin\\\\drug_info.csv', 'row': 0}\n"
     ]
    }
   ],
   "execution_count": 19
  },
  {
   "metadata": {
    "ExecuteTime": {
     "end_time": "2024-12-19T15:29:52.711402Z",
     "start_time": "2024-12-19T15:29:52.696297Z"
    }
   },
   "cell_type": "code",
   "source": [
    "import os\n",
    "PINECONE_INDEX_NAME_2 = os.getenv(\"PINECONE_INDEX_NAME_2\")\n",
    "PINECONE_NAMESPACE_2 = os.getenv(\"PINECONE_NAMESPACE_2\")\n",
    "PINECONE_API_KEY = os.getenv(\"PINECONE_API_KEY\")\n",
    "\n",
    "print(PINECONE_INDEX_NAME_2)\n",
    "print(PINECONE_NAMESPACE_2)\n",
    "print(PINECONE_API_KEY)"
   ],
   "id": "76b37148ab4ebaff",
   "outputs": [
    {
     "name": "stdout",
     "output_type": "stream",
     "text": [
      "ai-drug-info\n",
      "ai-drug-info-ns\n",
      "pcsk_5TkRik_EzGTnXtpN1c26rjgbrhySAUqgAAHhR9QEmje4vwZkMoEKiADwUKrPjkEAQwfsTs\n"
     ]
    }
   ],
   "execution_count": 20
  },
  {
   "metadata": {
    "ExecuteTime": {
     "end_time": "2024-12-19T07:49:52.226712Z",
     "start_time": "2024-12-19T07:49:48.831973Z"
    }
   },
   "cell_type": "code",
   "source": [
    "from langchain_openai.embeddings import OpenAIEmbeddings\n",
    "\n",
    "embeddings = OpenAIEmbeddings(model=\"text-embedding-3-small\")"
   ],
   "id": "57070d5650fe479e",
   "outputs": [],
   "execution_count": 5
  },
  {
   "metadata": {
    "ExecuteTime": {
     "end_time": "2024-12-19T15:37:02.401917Z",
     "start_time": "2024-12-19T15:30:48.116857Z"
    }
   },
   "cell_type": "code",
   "source": [
    "from langchain_openai.embeddings import OpenAIEmbeddings\n",
    "from langchain_pinecone import PineconeVectorStore\n",
    "import os\n",
    "\n",
    "PINECONE_INDEX_NAME_2 = os.getenv(\"PINECONE_INDEX_NAME_2\")\n",
    "PINECONE_NAMESPACE_2 = os.getenv(\"PINECONE_NAMESPACE_2\")\n",
    "PINECONE_API_KEY = os.getenv(\"PINECONE_API_KEY\")\n",
    "\n",
    "# 문서 배치 크기 설정 (예: 1000개씩 나눔)\n",
    "batch_size = 500\n",
    "total_documents = len(drug_info_document)\n",
    "# # 문서에 대한 임베딩 생성\n",
    "# document_embeddings = embeddings.embed_documents([doc.page_content for doc in preg_dur_document])\n",
    "\n",
    "# 문서를 배치로 나누어 처리\n",
    "for i in range(0, total_documents, batch_size):\n",
    "    batch = drug_info_document[i:i+batch_size]\n",
    "    # embeddings_batch = document_embeddings[i:i+batch_size]  # 배치에 맞는 임베딩\n",
    "    \n",
    "    # Pinecone에 배치 업로드\n",
    "    vector_db = PineconeVectorStore.from_documents(\n",
    "        batch,\n",
    "        embedding=embeddings,\n",
    "        index_name=PINECONE_INDEX_NAME_2,\n",
    "        namespace=PINECONE_NAMESPACE_2,\n",
    "        pinecone_api_key=PINECONE_API_KEY\n",
    "    )\n",
    "\n",
    "    # 배치 업로드 완료 메시지\n",
    "    print(f\"Batch {i // batch_size + 1} uploaded, {min(i + batch_size, total_documents)} documents processed.\")"
   ],
   "id": "ad894f5a2c31a6f",
   "outputs": [
    {
     "name": "stdout",
     "output_type": "stream",
     "text": [
      "Batch 1 uploaded, 500 documents processed.\n",
      "Batch 2 uploaded, 1000 documents processed.\n",
      "Batch 3 uploaded, 1500 documents processed.\n",
      "Batch 4 uploaded, 2000 documents processed.\n",
      "Batch 5 uploaded, 2500 documents processed.\n",
      "Batch 6 uploaded, 3000 documents processed.\n",
      "Batch 7 uploaded, 3500 documents processed.\n",
      "Batch 8 uploaded, 4000 documents processed.\n",
      "Batch 9 uploaded, 4500 documents processed.\n",
      "Batch 10 uploaded, 4756 documents processed.\n"
     ]
    }
   ],
   "execution_count": 21
  },
  {
   "metadata": {
    "ExecuteTime": {
     "end_time": "2024-12-19T15:45:47.739638Z",
     "start_time": "2024-12-19T15:45:47.715490Z"
    }
   },
   "cell_type": "code",
   "source": [
    "from langchain_core.prompts import ChatPromptTemplate\n",
    "\n",
    "prompt = ChatPromptTemplate([\n",
    "    ('system', \"\"\"\n",
    "Persona: 당신은 전문적인 약사입니다. 약의 효능, 복용방법, 알아야할 점, 사용상 주의사항, 병용금지 약/음식, 이상반응 가능성, 보관방법 등을 알고 있으며 일반인을 대상으로 설명이 가능합니다.\n",
    "\n",
    "Role: 약의 효능, 복용방법, 알아야할 점, 사용상 주의사항, 병용금지 약/음식, 이상반응 가능성, 보관방법 등에 context를 기반으로 약품에 대해 아무것도 모르는 일반인이 이해하도록 간략하게 설명해줍니다.\n",
    "\n",
    "\"\"\"),\n",
    "    ('user', '''\n",
    "    query 질문에 대해 context만 참조해서 알려줘.\n",
    "    \n",
    "    question: {query}  \n",
    "    context: {context}\n",
    "    ''')\n",
    "])\n",
    "prompt"
   ],
   "id": "6db17dac90139d19",
   "outputs": [
    {
     "data": {
      "text/plain": [
       "ChatPromptTemplate(input_variables=['context', 'query'], input_types={}, partial_variables={}, messages=[SystemMessagePromptTemplate(prompt=PromptTemplate(input_variables=[], input_types={}, partial_variables={}, template='\\nPersona: 당신은 전문적인 약사입니다. 약의 효능, 복용방법, 알아야할 점, 사용상 주의사항, 병용금지 약/음식, 이상반응 가능성, 보관방법 등을 알고 있으며 일반인을 대상으로 설명이 가능합니다.\\n\\nRole: 약의 효능, 복용방법, 알아야할 점, 사용상 주의사항, 병용금지 약/음식, 이상반응 가능성, 보관방법 등에 context를 기반으로 약품에 대해 아무것도 모르는 일반인이 이해하도록 간략하게 설명해줍니다.\\n\\n'), additional_kwargs={}), HumanMessagePromptTemplate(prompt=PromptTemplate(input_variables=['context', 'query'], input_types={}, partial_variables={}, template='\\n    query 질문에 대해 context만 참조해서 알려줘.\\n    \\n    question: {query}  \\n    context: {context}\\n    '), additional_kwargs={})])"
      ]
     },
     "execution_count": 22,
     "metadata": {},
     "output_type": "execute_result"
    }
   ],
   "execution_count": 22
  },
  {
   "metadata": {
    "ExecuteTime": {
     "end_time": "2024-12-19T15:57:24.054812Z",
     "start_time": "2024-12-19T15:57:21.793400Z"
    }
   },
   "cell_type": "code",
   "source": [
    "query = \"에이서캡슐(아세클로페낙)\"\n",
    "retriever = vector_db.as_retriever(\n",
    "    search_type='similarity',\n",
    "    search_kwargs={'k': 10}\n",
    ")\n",
    "retrievals = retriever.batch([query])\n",
    "retrievals"
   ],
   "id": "84b8b57473ad9ae3",
   "outputs": [
    {
     "data": {
      "text/plain": [
       "[[Document(id='410a064d-1954-49ea-9db7-464a8087e311', metadata={'row': 2526.0, 'source': 'C:\\\\Workspaces\\\\AI-Pharmacist\\\\KimHaebin\\\\drug_info.csv'}, page_content='\\ufeff업체명: (주)한국글로벌제약\\n제품명: 뮤코틸캡슐(아세틸시스테인)\\n품목기준코드: 201404707\\n효능: 이 약은 급ㆍ만성기관지염, 기관지천식, 후두염, 부비동염, 낭성섬유증의 질환에서\\xa0객담배출곤란에 사용합니다.\\n복용방법: 급성질환에 성인은 1회 1캡슐(200 mg)씩, 1일 3회, 6~14세는 1회 1캡슐(200 mg)씩, 1일 2회 식전에 소량의 물과 함께 복용합니다.만성질환에 성인은 1회 1캡슐(200 mg)씩, 1일 2회, 6~14세는 1회\\xa0\\xa01/2\\xa0캡슐(100 mg)씩, 1일 3회 식전에 소량의 물과 함께 복용합니다.낭성섬유증에 6세 이상은 1회 1캡슐(200 mg)씩, 1일 3회 식전에 소량의 물과 함께 복용합니다.\\n알아야할 점: \\n사용상 주의사항: 이 약에 과민증 환자,\\xa0위•십이지장궤양,\\xa02세 미만 영아, 갈락토오스 불내성, Lapp 유당분해효소 결핍증 또는 포도당-갈락토오스 흡수장애 등의 유전적인 문제가 있는 환자는 이 약을 복용하지 마십시오.이 약을 복용하기 전에\\xa0임부 또는 임신하고 있을 가능성이 있는 여성 및 수유부는 의사 또는 약사와 상담하십시오.\\n병용금지 약/음식: 경구용 항생제(아목시실린, 세푸록심, 독시사이클린, 에리트로마이신, 티암페니콜)와\\xa0함께 복용 시 적어도 2시간\\xa0간격을 두고 복용하십시오.\\n이상반응 가능성: 드물게 구역, 구토, 구내염, 가슴쓰림, 설사, 두드러기, 가려움, 발진, 두통, 이명, 기관지경련(특히 천식 환자), 빈맥, 고혈압 등이 나타나는 경우\\xa0즉각 복용을 중지하고\\xa0의사 또는 약사와 상담하십시오.\\n보관방법: 실온에서 보관하십시오.어린이의 손이 닿지 않는 곳에 보관하십시오.'),\n",
       "  Document(id='85c5fc65-bee0-4162-90fa-42602d9cea53', metadata={'row': 1898.0, 'source': 'C:\\\\Workspaces\\\\AI-Pharmacist\\\\KimHaebin\\\\drug_info.csv'}, page_content='\\ufeff업체명: 태극제약(주)\\n제품명: 아로마에프캡슐\\n품목기준코드: 200903224\\n효능: 이 약은 치주치료 후 치은염, 경·중등도 치주염의 보조치료에 사용합니다.\\n복용방법: 성인은 1회 1캡슐, 1일 3회 식후에 복용합니다.\\n알아야할 점: \\n사용상 주의사항: 15세 미만 소아는 이 약을 복용하지 마십시오.이 약에 과민증 환자, 화장품 또는 달걀에 과민증(발열, 발진, 관절통, 천식, 가려움 등) 경험자, 알레르기 체질인 사람, 황색5호에 과민증 환자는\\xa0의사 또는 약사와 상의하십시오.정해진 용법과 용량을 잘 지키십시오.\\n병용금지 약/음식: \\n이상반응 가능성: 발진, 발적, 설사, 식욕부진, 위부불쾌감, 구역, 구토, 구내염, 피부점막안증후군(스티븐스-존슨증후군), 독성표피괴사용해(발열, 홍반, 가려움, 안충혈, 구내염 등의 증상, 전신의 피부, 입과 목의 점막에 고열을 동반하는 발진·발적, 화상모양의 수종 등의 중증의 증상) 등이 나타나는 경우 복용을 즉각 중지하고 의사 또는 약사와 상의하십시오.\\n보관방법: 실온에서 보관하십시오.어린이의 손이 닿지 않는 곳에 보관하십시오.'),\n",
       "  Document(id='9b8b96aa-857b-44f4-8483-cbb419f961e2', metadata={'row': 3206.0, 'source': 'C:\\\\Workspaces\\\\AI-Pharmacist\\\\KimHaebin\\\\drug_info.csv'}, page_content='\\ufeff업체명: 아이큐어(주)\\n제품명: 아세틴캡슐(아세틸시스테인)\\n품목기준코드: 201705483\\n효능: 이 약은 급ㆍ만성기관지염, 기관지천식, 후두염, 부비동염, 낭성섬유증의 질환에서\\xa0객담배출곤란에 사용합니다.\\n복용방법: 급성질환에 성인은 1회 1캡슐(200 mg)씩, 1일 3회, 6~14세는 1회 1캡슐(200 mg)씩, 1일 2회 식전에 소량의 물과 함께 복용합니다.만성질환에 성인은 1회 1캡슐(200 mg)씩, 1일 2회, 6~14세는 1회\\xa0\\xa01/2\\xa0캡슐(100 mg)씩, 1일 3회 식전에 소량의 물과 함께 복용합니다.낭성섬유증에 6세 이상은 1회 1캡슐(200 mg)씩, 1일 3회 식전에 소량의 물과 함께 복용합니다.\\n알아야할 점: \\n사용상 주의사항: 이 약에 과민증 환자,\\xa0위•십이지장궤양,\\xa02세 미만 영아, 갈락토오스 불내성, Lapp 유당분해효소 결핍증 또는 포도당-갈락토오스 흡수장애 등의 유전적인 문제가 있는 환자는 이 약을 복용하지 마십시오.이 약을 복용하기 전에\\xa0임부 또는 임신하고 있을 가능성이 있는 여성 및 수유부는 의사 또는 약사와 상담하십시오.\\n병용금지 약/음식: 경구용 항생제(아목시실린, 세푸록심, 독시사이클린, 에리트로마이신, 티암페니콜)와\\xa0함께 복용 시 적어도 2시간\\xa0간격을 두고 복용하십시오.\\n이상반응 가능성: 드물게 구역, 구토, 구내염, 가슴쓰림, 설사, 두드러기, 가려움, 발진, 두통, 이명, 기관지경련(특히 천식 환자), 빈맥, 고혈압 등이 나타나는 경우\\xa0즉각 복용을 중지하고\\xa0의사 또는 약사와 상담하십시오.\\n보관방법: 실온에서 보관하십시오.어린이의 손이 닿지 않는 곳에 보관하십시오.'),\n",
       "  Document(id='b0cc539f-dabc-437c-885a-3f117e3ed2fe', metadata={'row': 1844.0, 'source': 'C:\\\\Workspaces\\\\AI-Pharmacist\\\\KimHaebin\\\\drug_info.csv'}, page_content='\\ufeff업체명: 동성제약(주)\\n제품명: 티스란에프캡슐\\n품목기준코드: 200900674\\n효능: 이 약은 치주치료 후 치은염, 경·중등도 치주염의 보조치료에 사용합니다.\\n복용방법: 성인은 1회 1캡슐, 1일 3회 식후에 복용합니다.\\n알아야할 점: \\n사용상 주의사항: 15세 미만의 소아는\\xa0이 약을 복용하지 마십시오.이 약을 복용하기 전에 약, 화장품 또는 달걀에 과민증, 알레르기 증상(발열, 발진, 관절통, 천식, 가려움 등) 경험자, 알레르기 체질인 사람은\\xa0의사 또는 약사와 상의하십시오.정해진 용법과 용량을 잘 지키십시오.1개월 이상\\xa0복용하여도 증상의 개선이 없을 경우 복용을 즉각 중지하고 의사 또는 약사와 상의하십시오.\\n병용금지 약/음식: \\n이상반응 가능성: 발진, 발적, 설사, 식욕부진, 위부불쾌감, 구역, 구토, 구내염, 피부점막안증후군(스티븐스-존슨증후군), 독성표피괴사용해(발열, 홍반, 가려움, 안충혈, 구내염 등의 증상, 전신의 피부, 입과 목의 점막에 고열을 동반하는 발진·발적, 화상모양의 수종 등의 중증의 증상) 등이 나타나는 경우 복용을 즉각 중지하고 의사 또는 약사와 상의하십시오.\\n보관방법: 실온에서 보관하십시오.어린이의 손이 닿지 않는 곳에 보관하십시오.'),\n",
       "  Document(id='bd087499-869f-4489-9225-3a1c2d6c7897', metadata={'row': 482.0, 'source': 'C:\\\\Workspaces\\\\AI-Pharmacist\\\\KimHaebin\\\\drug_info.csv'}, page_content='\\ufeff업체명: (주)파마킹\\n제품명: 아시틴캡슐(아세틸시스테인)\\n품목기준코드: 199601956\\n효능: 이 약은 급ㆍ만성기관지염, 기관지천식, 후두염, 부비동염, 낭성섬유증의 질환에서\\xa0객담배출곤란에 사용합니다.\\n복용방법: 급성질환에 성인은 1회 1캡슐(200 mg)씩, 1일 3회, 6~14세는 1회 1캡슐(200 mg)씩, 1일 2회 식전에 소량의 물과 함께 복용합니다.만성질환에 성인은 1회 1캡슐(200 mg)씩, 1일 2회, 6~14세는 1회\\xa0\\xa01/2\\xa0캡슐(100 mg)씩, 1일 3회 식전에 소량의 물과 함께 복용합니다.낭성섬유증에 6세 이상은 1회 1캡슐(200 mg)씩, 1일 3회 식전에 소량의 물과 함께 복용합니다.\\n알아야할 점: \\n사용상 주의사항: 이 약에 과민증 환자,\\xa0위•십이지장궤양,\\xa02세 미만 영아, 갈락토오스 불내성, Lapp 유당분해효소 결핍증 또는 포도당-갈락토오스 흡수장애 등의 유전적인 문제가 있는 환자는 이 약을 복용하지 마십시오.이 약을 복용하기 전에\\xa0임부 또는 임신하고 있을 가능성이 있는 여성 및 수유부는 의사 또는 약사와 상담하십시오.\\n병용금지 약/음식: 경구용 항생제(아목시실린, 세푸록심, 독시사이클린, 에리트로마이신, 티암페니콜)와\\xa0함께 복용 시 적어도 2시간\\xa0간격을 두고 복용하십시오.\\n이상반응 가능성: 드물게 구역, 구토, 구내염, 가슴쓰림, 설사, 두드러기, 가려움, 발진, 두통, 이명, 기관지경련(특히 천식 환자), 빈맥, 고혈압 등이 나타나는 경우\\xa0즉각 복용을 중지하고\\xa0의사 또는 약사와 상담하십시오.\\n보관방법: 실온에서 보관하십시오.어린이의 손이 닿지 않는 곳에 보관하십시오.'),\n",
       "  Document(id='094ee087-b7d2-42c6-a827-3e635af072b4', metadata={'row': 3962.0, 'source': 'C:\\\\Workspaces\\\\AI-Pharmacist\\\\KimHaebin\\\\drug_info.csv'}, page_content='\\ufeff업체명: 엔비케이제약(주)\\n제품명: 세시텐캡슐(아세틸시스테인)\\n품목기준코드: 202001477\\n효능: 이 약은 급ㆍ만성기관지염, 기관지천식, 후두염, 부비동염, 낭성섬유증의 객담배출곤란에 사용합니다.\\n복용방법: 급성질환에 1회 1캡슐(200 mg)씩, 성인은 1일 3회, 만 6~14세 소아는 1일 2회 식전에 소량의 물과 함께 복용합니다.\\n\\n만성질환에 성인은 1회 1캡슐(200 mg)씩, 1일 2회, 만 6~14세 소아는 1회 1/2캡슐(100 mg)씩, 1일 3회 식전에 소량의 물과 함께 복용합니다.\\n\\n낭성섬유증에 만 6세 이상 소아는 1회 1캡슐(200 mg)씩, 1일 3회 식전에 소량의 물과 함께 복용합니다.\\n알아야할 점: \\n사용상 주의사항: 이 약에 과민증, 위•십이지장궤양 환자, 2세 미만 영아, 갈락토오스 불내성, Lapp 유당분해효소 결핍증 또는 포도당-갈락토오스 흡수장애 등의 유전적인 문제가 있는 환자는 이 약을 복용하지 마십시오.\\n\\n이 약을 복용하기 전에 임부 또는 임신하고 있을 가능성이 있는 여성 및 수유부는 의사 또는 약사와 상의하십시오.\\n병용금지 약/음식: 경구용 항생물질(아목시실린, 세푸록심, 독시사이클린, 에리트로마이신, 치암페니콜)과 함께 복용 시 적어도 2시간의 간격을 두고 복용하십시오.\\n\\n이 약의 용액에 다른 약물의 첨가는 피하십시오.\\n이상반응 가능성: 드물게 구역, 구토, 구내염, 가슴쓰림, 설사, 두드러기, 가려움, 발진, 두통, 이명, 기관지경련(특히 천식 환자), 빈맥, 고혈압 등이 나타나는 경우 복용을 즉각 중지하고 의사 또는 약사와 상의하십시오.\\n보관방법: 실온에서 보관하십시오.\\n\\n어린이의 손이 닿지 않는 곳에 보관하십시오.'),\n",
       "  Document(id='4002d7b1-84ba-4397-b583-72be13b47747', metadata={'row': 1369.0, 'source': 'C:\\\\Workspaces\\\\AI-Pharmacist\\\\KimHaebin\\\\drug_info.csv'}, page_content='\\ufeff업체명: (주)에이프로젠바이오로직스\\n제품명: 이덴큐캡슐\\n품목기준코드: 200500923\\n효능: 이 약은 치주치료 후 치은염, 경·중등도 치주염의 보조치료에 사용합니다.\\n복용방법: 성인은 1회 1캡슐, 1일 3회 식후에 복용합니다.\\n알아야할 점: \\n사용상 주의사항: 15세 미만 소아는 이 약을 복용하지 마십시오.이 약을 복용하기 전에 약 및 화장품에\\xa0알레르기 증상(발진, 발적, 가려움 등) 경험자, 달걀에 알레르기 증상(발열, 발진, 관절통, 천식, 가려움 등) 경험자, 알레르기 체질인 사람은\\xa0의사 또는 약사와 상의하십시오.정해진 용법과 용량을 잘 지키십시오.1개월 이상 복용하여도 증상의 개선이 없을 경우\\xa0복용을 즉각 중지하고 의사 또는 약사와 상의하십시오.\\n병용금지 약/음식: 이 약을 복용하기 전에 다른 약물을 복용하고 있는 경우 의사 또는 약사와 상의하십시오.\\n이상반응 가능성: 발진, 발적, 설사, 식욕부진, 위부불쾌감, 구역, 구토, 구내염, 피부점막안증후군(스티븐스-존슨증후군) 또는 독성표피괴사용해(리엘증후군)의 증상(예: 발열, 홍반, 가려움, 안충혈, 구내염 등의 증상, 전신의 피부, 입과 목의 점막에 고열을 동반하는 발진·발적, 화상모양의 수종 등의 중증의 증상) 등이 나타나는 경우 복용을 즉각 중지하고 의사 또는 약사와 상의하십시오.\\n보관방법: 실온에서 보관하십시오.어린이의 손이 닿지 않는 곳에 보관하십시오.'),\n",
       "  Document(id='bbfd02c8-ada3-48d6-985f-2f78a398711a', metadata={'row': 1480.0, 'source': 'C:\\\\Workspaces\\\\AI-Pharmacist\\\\KimHaebin\\\\drug_info.csv'}, page_content='\\ufeff업체명: 영일제약(주)\\n제품명: 아스콘에이캡슐\\n품목기준코드: 200600421\\n효능: 이 약은 기침, 가래에 사용합니다.\\n복용방법: 성인은 1회 2캡슐씩,\\xa01일 3회 식후 30분에 복용합니다.\\n알아야할 점: \\n사용상 주의사항: 이 약을 복용하기 전에 이 약에 과민증, 알레르기를 일으키기 쉬운\\xa0체질, 알레르기 증상(발열, 발진, 관절통, 천식, 가려움증 등) 경험자, 임부 또는 임신하고 있을 가능성이 있는 여성 및 수유부, 고령자, 허약자, 간장애, 신장애, 갑상선질환, 당뇨병, 고열, 심장애, 고혈압, 녹내장(눈의 통증, 눈의 침침함 등), 배뇨장애 환자는 의사 또는 약사와 상의하십시오.정해진 용법과 용량을 잘 지키십시오.복용 후 졸음이 나타날 수 있으므로 운전 및 기계조작 시 주의하십시오.\\n병용금지 약/음식: 다른 진해거담제, 감기약, 항히스타민제, 진정제, 알코올과 함께 복용하지 마십시오.\\n이상반응 가능성: 발진, 발적, 구역, 구토, 식욕부진 어지러움 등이 나타나는 경우 복용을 즉각 중지하고 의사 또는 약사와 상의하십시오.\\n보관방법: 습기와 빛을 피해 실온에서 보관하십시오.어린이의 손이 닿지 않는 곳에 보관하십시오.'),\n",
       "  Document(id='21dd7ec6-204e-454d-958b-8320946fbb66', metadata={'row': 3534.0, 'source': 'C:\\\\Workspaces\\\\AI-Pharmacist\\\\KimHaebin\\\\drug_info.csv'}, page_content='\\ufeff업체명: 해태에이치티비(주)\\n제품명: 이클린티엑스캡슐\\n품목기준코드: 201804192\\n효능: 이 약은 치주치료 후 치은염, 경·중등도 치주염의 보조치료에 사용합니다.\\n복용방법: 성인은 1회 1캡슐, 1일 3회 식후에 복용합니다.\\n알아야할 점: \\n사용상 주의사항: 15세 미만 소아는 이 약을 복용하지 마십시오.이 약에 과민증 환자, 화장품 또는 달걀에 과민증(발열, 발진, 관절통, 천식, 가려움 등) 경험자, 알레르기 체질인 사람, 황색5호에 과민증 환자는\\xa0의사 또는 약사와 상의하십시오.정해진 용법과 용량을 잘 지키십시오.\\n병용금지 약/음식: \\n이상반응 가능성: 발진, 발적, 설사, 식욕부진, 위부불쾌감, 구역, 구토, 구내염, 피부점막안증후군(스티븐스-존슨증후군), 독성표피괴사용해(발열, 홍반, 가려움, 안충혈, 구내염 등의 증상, 전신의 피부, 입과 목의 점막에 고열을 동반하는 발진·발적, 화상모양의 수종 등의 중증의 증상) 등이 나타나는 경우 복용을 즉각 중지하고 의사 또는 약사와 상의하십시오.\\n보관방법: 실온에서 보관하십시오.어린이의 손이 닿지 않는 곳에 보관하십시오.'),\n",
       "  Document(id='7f71a00d-3478-40af-aefa-ebf959b4704a', metadata={'row': 3208.0, 'source': 'C:\\\\Workspaces\\\\AI-Pharmacist\\\\KimHaebin\\\\drug_info.csv'}, page_content='\\ufeff업체명: (주)시어스제약\\n제품명: 티스탑에프캡슐\\n품목기준코드: 201705493\\n효능: 이 약은 치주치료 후 치은염, 경·중등도 치주염의 보조치료에 사용합니다.\\n복용방법: 성인은 1회 1캡슐, 1일 3회 식후에 복용합니다.\\n알아야할 점: \\n사용상 주의사항: 15세 미만 소아는 이 약을 복용하지 마십시오.이 약에 과민증 환자, 화장품 또는 달걀에 과민증(발열, 발진, 관절통, 천식, 가려움 등) 경험자, 알레르기 체질인 사람은 의사 또는 약사와 상의하십시오.정해진 용법과 용량을 잘 지키십시오.\\n병용금지 약/음식: \\n이상반응 가능성: 발진, 발적, 설사, 식욕부진, 위부불쾌감, 구역, 구토, 구내염, 피부점막안증후군(스티븐스-존슨증후군), 독성표피괴사용해(발열, 홍반, 가려움, 안충혈, 구내염 등의 증상, 전신의 피부, 입과 목의 점막에 고열을 동반하는 발진·발적, 화상모양의 수종 등의 중증의 증상) 등이 나타나는 경우 복용을 즉각 중지하고 의사 또는 약사와 상의하십시오.\\n보관방법: 실온에서 보관하십시오.어린이의 손이 닿지 않는 곳에 보관하십시오.')]]"
      ]
     },
     "execution_count": 24,
     "metadata": {},
     "output_type": "execute_result"
    }
   ],
   "execution_count": 24
  },
  {
   "metadata": {
    "ExecuteTime": {
     "end_time": "2024-12-19T08:13:08.736856Z",
     "start_time": "2024-12-19T08:13:08.711702Z"
    }
   },
   "cell_type": "code",
   "source": "prompt.invoke({'query': query, 'context': retriever})",
   "id": "526d0f8c802560c7",
   "outputs": [
    {
     "data": {
      "text/plain": [
       "ChatPromptValue(messages=[SystemMessage(content='\\nPersona: 당신은 전문적인 약사입니다. 약의 효능, 복용방법, 알아야할 점, 사용상 주의사항, 병용금지 약/음식, 이상반응 가능성, 보관방법 등을 알고 있으며 일반인을 대상으로 설명이 가능합니다.\\n\\nRole: 약의 효능, 복용방법, 알아야할 점, 사용상 주의사항, 병용금지 약/음식, 이상반응 가능성, 보관방법 등에 context를 기반으로 약품에 대해 아무것도 모르는 일반인이 이해하도록 간략하게 설명해줍니다.\\n\\n', additional_kwargs={}, response_metadata={}), HumanMessage(content=\"\\n    query 질문에 대해 context만 참조해서 알려줘.\\n    \\n    question: 소화사 안돼서 활명수 먹으려해. 주의할 게 있을까?  \\n    context: tags=['PineconeVectorStore', 'OpenAIEmbeddings'] vectorstore=<langchain_pinecone.vectorstores.PineconeVectorStore object at 0x00000188A7065410> search_kwargs={'k': 10}\\n    \", additional_kwargs={}, response_metadata={})])"
      ]
     },
     "execution_count": 15,
     "metadata": {},
     "output_type": "execute_result"
    }
   ],
   "execution_count": 15
  },
  {
   "metadata": {
    "ExecuteTime": {
     "end_time": "2024-12-19T08:13:11.720314Z",
     "start_time": "2024-12-19T08:13:10.513741Z"
    }
   },
   "cell_type": "code",
   "source": [
    "from langchain_openai import ChatOpenAI\n",
    "\n",
    "model = ChatOpenAI(\n",
    "    model='gpt-4o',\n",
    "    temperature=0.5\n",
    ")"
   ],
   "id": "68a65644c06d09ad",
   "outputs": [],
   "execution_count": 16
  },
  {
   "metadata": {
    "ExecuteTime": {
     "end_time": "2024-12-19T08:13:19.165935Z",
     "start_time": "2024-12-19T08:13:11.982709Z"
    }
   },
   "cell_type": "code",
   "source": [
    "from langchain_core.output_parsers import StrOutputParser\n",
    "from langchain_core.runnables import RunnablePassthrough\n",
    "\n",
    "# RunnablePassThrough: invoke()에 전달된 인자를 받아서 그대로 출력\n",
    "chain = {'query': RunnablePassthrough(), 'context': retriever} | prompt | model | StrOutputParser() \n",
    "\n",
    "chain.invoke(query)"
   ],
   "id": "619e98a0122c0ec8",
   "outputs": [
    {
     "data": {
      "text/plain": [
       "'활명수를 복용하실 때 주의할 점에 대해 설명드리겠습니다.\\n\\n1. **복용 방법**: 활명수는 일반적으로 소화불량, 식욕감퇴, 과식 등으로 인한 소화 문제를 완화하는 데 사용됩니다. 제품에 따라 복용 방법이 다를 수 있으니, 포장지에 있는 지시사항을 잘 따라주세요.\\n\\n2. **사용상 주의사항**: 활명수는 일반적으로 안전하게 사용될 수 있지만, 알레르기 체질이거나 특정 성분에 과민 반응이 있는 경우 주의가 필요합니다. 특히, 만 7세 이하의 어린이는 복용하지 않는 것이 좋습니다.\\n\\n3. **병용금지 약/음식**: 특정 약물이나 음식과 함께 복용할 때 주의가 필요할 수 있습니다. 다른 약물을 복용 중이시라면, 약사나 의사와 상담하시는 것이 좋습니다.\\n\\n4. **이상반응 가능성**: 드물게 복부 팽만감, 구역, 변비 또는 설사 등의 이상반응이 나타날 수 있습니다. 이러한 증상이 나타나면 복용을 중단하고 의사나 약사와 상담하세요.\\n\\n5. **보관방법**: 습기와 빛을 피하여 실온에서 보관하시고, 어린이의 손이 닿지 않는 곳에 보관하십시오.\\n\\n활명수를 복용하시기 전에 위의 사항들을 확인하시고, 필요시 전문가와 상담하시는 것이 중요합니다.'"
      ]
     },
     "execution_count": 17,
     "metadata": {},
     "output_type": "execute_result"
    }
   ],
   "execution_count": 17
  },
  {
   "metadata": {},
   "cell_type": "code",
   "outputs": [],
   "execution_count": null,
   "source": "",
   "id": "644488e9e35c5ff5"
  }
 ],
 "metadata": {
  "kernelspec": {
   "display_name": "Python 3",
   "language": "python",
   "name": "python3"
  },
  "language_info": {
   "codemirror_mode": {
    "name": "ipython",
    "version": 2
   },
   "file_extension": ".py",
   "mimetype": "text/x-python",
   "name": "python",
   "nbconvert_exporter": "python",
   "pygments_lexer": "ipython2",
   "version": "2.7.6"
  }
 },
 "nbformat": 4,
 "nbformat_minor": 5
}
