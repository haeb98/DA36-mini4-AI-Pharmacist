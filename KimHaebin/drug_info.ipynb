{
 "cells": [
  {
   "metadata": {
    "ExecuteTime": {
     "end_time": "2024-12-19T07:46:26.770197Z",
     "start_time": "2024-12-19T07:46:26.727947Z"
    }
   },
   "cell_type": "code",
   "source": [
    "from dotenv import load_dotenv\n",
    "load_dotenv()\n",
    "\n",
    "# .env 파일 강제 로드\n",
    "load_dotenv(override=True)"
   ],
   "id": "b63b4bb56bd3e2ba",
   "outputs": [
    {
     "data": {
      "text/plain": [
       "True"
      ]
     },
     "execution_count": 1,
     "metadata": {},
     "output_type": "execute_result"
    }
   ],
   "execution_count": 1
  },
  {
   "metadata": {
    "ExecuteTime": {
     "end_time": "2024-12-19T07:48:19.398047Z",
     "start_time": "2024-12-19T07:48:18.703985Z"
    }
   },
   "cell_type": "code",
   "source": [
    "from langchain_community.document_loaders import CSVLoader\n",
    "\n",
    "loader = CSVLoader('C:\\Workspaces\\AI-Pharmacist\\KimHaebin\\drug_info.csv', encoding='utf-8')\n",
    "drug_info_document = loader.load()\n",
    "print(len(drug_info_document))\n",
    "print(drug_info_document[0])"
   ],
   "id": "a1a034ee3c4f15d8",
   "outputs": [
    {
     "name": "stdout",
     "output_type": "stream",
     "text": [
      "4756\n",
      "page_content='﻿업체명: 동화약품(주)\n",
      "제품명: 활명수\n",
      "품목기준코드: 195700020\n",
      "효능: 이 약은 식욕감퇴(식욕부진), 위부팽만감, 소화불량, 과식, 체함, 구역, 구토에 사용합니다.\n",
      "복용방법: 만 15세 이상 및 성인은 1회 1병(75 mL), 만 11세이상~만 15세미만은 1회 2/3병(50 mL), 만 8세 이상~만 11세 미만은 1회 1/2병(37.5 mL), 만 5세 이상~만 8세 미만은 1회 1/3병(25 mL), 만 3세 이상~만 5세 미만은 1회 1/4병(18.75 mL), 만 1세 이상~만 3세 미만은 1회 1/5병(15 mL), 1일 3회 식후에 복용합니다. 복용간격은 4시간 이상으로 합니다.\n",
      "알아야할 점: \n",
      "사용상 주의사항: 만 3개월 미만의 젖먹이는 이 약을 복용하지 마십시오.\n",
      "\n",
      "이 약을 복용하기 전에 만 1세 미만의 젖먹이, 임부 또는 임신하고 있을 가능성이 있는 여성, 카라멜에 과민증 환자 또는 경험자, 나트륨 제한 식이를 하는 사람은 의사 또는 약사와 상의하십시오.\n",
      "\n",
      "정해진 용법과 용량을 잘 지키십시오.\n",
      "\n",
      "어린이에게 투여할 경우 보호자의 지도 감독하에 투여하십시오.\n",
      "\n",
      "1개월 정도 복용하여도 증상의 개선이 없을 경우 복용을 즉각 중지하고 의사 또는 약사와 상의하십시오.\n",
      "병용금지 약/음식: \n",
      "이상반응 가능성: \n",
      "보관방법: 습기와 빛을 피해 실온에서 보관하십시오.\n",
      "\n",
      "어린이의 손이 닿지 않는 곳에 보관하십시오.' metadata={'source': 'C:\\\\Workspaces\\\\AI-Pharmacist\\\\KimHaebin\\\\drug_info.csv', 'row': 0}\n"
     ]
    }
   ],
   "execution_count": 3
  },
  {
   "metadata": {
    "ExecuteTime": {
     "end_time": "2024-12-19T07:49:36.926850Z",
     "start_time": "2024-12-19T07:49:36.904329Z"
    }
   },
   "cell_type": "code",
   "source": [
    "import os\n",
    "PINECONE_INDEX_NAME = os.getenv(\"PINECONE_INDEX_NAME_2\")\n",
    "PINECONE_NAMESPACE = os.getenv(\"PINECONE_NAMESPACE_2\")\n",
    "PINECONE_API_KEY = os.getenv(\"PINECONE_API_KEY\")\n",
    "\n",
    "print(PINECONE_INDEX_NAME)\n",
    "print(PINECONE_NAMESPACE)\n",
    "print(PINECONE_API_KEY)"
   ],
   "id": "76b37148ab4ebaff",
   "outputs": [
    {
     "name": "stdout",
     "output_type": "stream",
     "text": [
      "ai-drug-info\n",
      "ai-drug-info-ns\n",
      "pcsk_5TkRik_EzGTnXtpN1c26rjgbrhySAUqgAAHhR9QEmje4vwZkMoEKiADwUKrPjkEAQwfsTs\n"
     ]
    }
   ],
   "execution_count": 4
  },
  {
   "metadata": {
    "ExecuteTime": {
     "end_time": "2024-12-19T07:49:52.226712Z",
     "start_time": "2024-12-19T07:49:48.831973Z"
    }
   },
   "cell_type": "code",
   "source": [
    "from langchain_openai.embeddings import OpenAIEmbeddings\n",
    "\n",
    "embeddings = OpenAIEmbeddings(model=\"text-embedding-3-small\")"
   ],
   "id": "57070d5650fe479e",
   "outputs": [],
   "execution_count": 5
  },
  {
   "metadata": {
    "ExecuteTime": {
     "end_time": "2024-12-19T07:57:15.147779Z",
     "start_time": "2024-12-19T07:50:29.271827Z"
    }
   },
   "cell_type": "code",
   "source": [
    "from langchain_openai.embeddings import OpenAIEmbeddings\n",
    "from langchain_pinecone import PineconeVectorStore\n",
    "import os\n",
    "\n",
    "PINECONE_INDEX_NAME = os.getenv(\"PINECONE_INDEX_NAME\")\n",
    "PINECONE_NAMESPACE = os.getenv(\"PINECONE_NAMESPACE\")\n",
    "PINECONE_API_KEY = os.getenv(\"PINECONE_API_KEY\")\n",
    "\n",
    "# 문서 배치 크기 설정 (예: 1000개씩 나눔)\n",
    "batch_size = 500\n",
    "total_documents = len(drug_info_document)\n",
    "# # 문서에 대한 임베딩 생성\n",
    "# document_embeddings = embeddings.embed_documents([doc.page_content for doc in preg_dur_document])\n",
    "\n",
    "# 문서를 배치로 나누어 처리\n",
    "for i in range(0, total_documents, batch_size):\n",
    "    batch = drug_info_document[i:i+batch_size]\n",
    "    # embeddings_batch = document_embeddings[i:i+batch_size]  # 배치에 맞는 임베딩\n",
    "    \n",
    "    # Pinecone에 배치 업로드\n",
    "    vector_db = PineconeVectorStore.from_documents(\n",
    "        batch,\n",
    "        embedding=embeddings,\n",
    "        index_name=PINECONE_INDEX_NAME,\n",
    "        namespace=PINECONE_NAMESPACE,\n",
    "        pinecone_api_key=PINECONE_API_KEY\n",
    "    )\n",
    "\n",
    "    # 배치 업로드 완료 메시지\n",
    "    print(f\"Batch {i // batch_size + 1} uploaded, {min(i + batch_size, total_documents)} documents processed.\")"
   ],
   "id": "ad894f5a2c31a6f",
   "outputs": [
    {
     "name": "stderr",
     "output_type": "stream",
     "text": [
      "C:\\Users\\playdata2\\anaconda3\\envs\\dl_nlp2_env\\Lib\\site-packages\\pinecone\\data\\index.py:1: TqdmWarning: IProgress not found. Please update jupyter and ipywidgets. See https://ipywidgets.readthedocs.io/en/stable/user_install.html\n",
      "  from tqdm.autonotebook import tqdm\n"
     ]
    },
    {
     "name": "stdout",
     "output_type": "stream",
     "text": [
      "Batch 1 uploaded, 500 documents processed.\n",
      "Batch 2 uploaded, 1000 documents processed.\n",
      "Batch 3 uploaded, 1500 documents processed.\n",
      "Batch 4 uploaded, 2000 documents processed.\n",
      "Batch 5 uploaded, 2500 documents processed.\n",
      "Batch 6 uploaded, 3000 documents processed.\n",
      "Batch 7 uploaded, 3500 documents processed.\n",
      "Batch 8 uploaded, 4000 documents processed.\n",
      "Batch 9 uploaded, 4500 documents processed.\n",
      "Batch 10 uploaded, 4756 documents processed.\n"
     ]
    }
   ],
   "execution_count": 6
  },
  {
   "metadata": {
    "ExecuteTime": {
     "end_time": "2024-12-19T08:10:24.458269Z",
     "start_time": "2024-12-19T08:10:24.437099Z"
    }
   },
   "cell_type": "code",
   "source": [
    "from langchain_core.prompts import ChatPromptTemplate\n",
    "\n",
    "prompt = ChatPromptTemplate([\n",
    "    ('system', \"\"\"\n",
    "Persona: 당신은 전문적인 약사입니다. 약의 효능, 복용방법, 알아야할 점, 사용상 주의사항, 병용금지 약/음식, 이상반응 가능성, 보관방법 등을 알고 있으며 일반인을 대상으로 설명이 가능합니다.\n",
    "\n",
    "Role: 약의 효능, 복용방법, 알아야할 점, 사용상 주의사항, 병용금지 약/음식, 이상반응 가능성, 보관방법 등에 context를 기반으로 약품에 대해 아무것도 모르는 일반인이 이해하도록 간략하게 설명해줍니다.\n",
    "\n",
    "\"\"\"),\n",
    "    ('user', '''\n",
    "    query 질문에 대해 context만 참조해서 알려줘.\n",
    "    \n",
    "    question: {query}  \n",
    "    context: {context}\n",
    "    ''')\n",
    "])\n",
    "prompt"
   ],
   "id": "6db17dac90139d19",
   "outputs": [
    {
     "data": {
      "text/plain": [
       "ChatPromptTemplate(input_variables=['context', 'query'], input_types={}, partial_variables={}, messages=[SystemMessagePromptTemplate(prompt=PromptTemplate(input_variables=[], input_types={}, partial_variables={}, template='\\nPersona: 당신은 전문적인 약사입니다. 약의 효능, 복용방법, 알아야할 점, 사용상 주의사항, 병용금지 약/음식, 이상반응 가능성, 보관방법 등을 알고 있으며 일반인을 대상으로 설명이 가능합니다.\\n\\nRole: 약의 효능, 복용방법, 알아야할 점, 사용상 주의사항, 병용금지 약/음식, 이상반응 가능성, 보관방법 등에 context를 기반으로 약품에 대해 아무것도 모르는 일반인이 이해하도록 간략하게 설명해줍니다.\\n\\n'), additional_kwargs={}), HumanMessagePromptTemplate(prompt=PromptTemplate(input_variables=['context', 'query'], input_types={}, partial_variables={}, template='\\n    query 질문에 대해 context만 참조해서 알려줘.\\n    \\n    question: {query}  \\n    context: {context}\\n    '), additional_kwargs={})])"
      ]
     },
     "execution_count": 8,
     "metadata": {},
     "output_type": "execute_result"
    }
   ],
   "execution_count": 8
  },
  {
   "metadata": {
    "ExecuteTime": {
     "end_time": "2024-12-19T08:12:58.583559Z",
     "start_time": "2024-12-19T08:12:57.805750Z"
    }
   },
   "cell_type": "code",
   "source": [
    "query = \"소화사 안돼서 활명수 먹으려해. 주의할 게 있을까?\"\n",
    "retriever = vector_db.as_retriever(\n",
    "    search_type='similarity',\n",
    "    search_kwargs={'k': 10}\n",
    ")\n",
    "retrievals = retriever.batch([query])\n",
    "retrievals"
   ],
   "id": "84b8b57473ad9ae3",
   "outputs": [
    {
     "data": {
      "text/plain": [
       "[[Document(id='78d8da52-f9f6-401a-b7b3-cff624a5904e', metadata={'row': 3718.0, 'source': 'C:\\\\Workspaces\\\\AI-Pharmacist\\\\KimHaebin\\\\drug_info.csv'}, page_content='\\ufeff업체명: (주)바스칸바이오제약\\n제품명: 소와엔정\\n품목기준코드: 201903734\\n효능: 이 약은 소화불량, 식욕감퇴(식욕부진), 과식, 체함, 소화촉진, 소화불량으로 인한 위부팽만감에 사용합니다.\\n복용방법: 만 15세 이상 및 성인은 1회 2정, 1일 3회 식후에 복용합니다.\\n알아야할 점: \\n사용상 주의사항: 만 7세 이하의 어린이는 이 약을 복용하지 마십시오.이 약을 복용하기 전에 알레르기 체질인 환자, 황색4호에 과민증 환자 또는 경험자는 의사 또는 약사와 상의하십시오.정해진 용법과 용량을 잘 지키십시오.2주 정도 복용하여도 증상의 개선이 없을 경우 복용을 즉각 중지하고 의사 또는 약사와 상의하십시오.\\n병용금지 약/음식: \\n이상반응 가능성: \\n보관방법: 습기와 빛을 피해 실온에서 보관하십시오.어린이의 손이 닿지 않는 곳에 보관하십시오.'),\n",
       "  Document(id='39be4f2d-5522-4614-8b71-ffc94ce5796c', metadata={'row': 13.0, 'source': 'C:\\\\Workspaces\\\\AI-Pharmacist\\\\KimHaebin\\\\drug_info.csv'}, page_content='\\ufeff업체명: 원광제약(주)\\n제품명: 보화소합원(대환,소환)\\n품목기준코드: 196400089\\n효능: 이 약은 식욕감퇴(식욕부진), 위부팽만감, 소화불량, 과식, 체함, 구역, 구토에 사용합니다.\\n복용방법: 대환은 1회 1∼2환을 1일 3회 식후에 소량의 물과 함께 복용하십시오.소환은 1회 8∼16환을 1일 3회 식후에 소량의 물과 함께 복용하십시오.\\n알아야할 점: \\n사용상 주의사항: 만 7세 이하의 소아는 이 약을 복용하지 마십시오.이 약을 복용하기 전에 혈압이 높은 환자, 고령자,\\xa0심장 또는 신장(콩팥)에 장애가 있는 환자,\\xa0부종(부기)이 있는 사람은 의사 또는 약사와 상의하십시오.정해진 용법과 용량을 잘 지키십시오.어린이에게 투여할 경우 보호자의 지도 감독하에 투여하십시오.\\n병용금지 약/음식: 칼륨함유제제, 감초함유제제, 글리시리진산 혹은 그 염류 함유제제, 루프계 이뇨제(푸로세미드, 에타크린산) 또는 티아지드계 이뇨제(트리클로르메티아지드)를 복용하는 사람은\\xa0의사 또는 약사와 상의하십시오.\\n이상반응 가능성: 요량이 감소하거나 얼굴과 손발이 붓고, 눈꺼풀이 무거워지고, 손이 굳어지고, 혈압이 높아지거나 두통, 근병증(무력감, 사지경련, 마비 등)이\\xa0나타나는 경우 복용을 즉각 중지하고 의사 또는 약사와 상의하십시오.\\n보관방법: 습기와 빛을 피해 건냉암소에서 보관하십시오.어린이의 손이 닿지 않는 곳에 보관하십시오.'),\n",
       "  Document(id='04a6124c-fcf5-4b95-90c6-b4285256c6f2', metadata={'row': 3402.0, 'source': 'C:\\\\Workspaces\\\\AI-Pharmacist\\\\KimHaebin\\\\drug_info.csv'}, page_content='\\ufeff업체명: (주)아이월드제약\\n제품명: 슬리마정(수출용)\\n품목기준코드: 201801678\\n효능: 이 약은 음식물 섭취 감소를 통한 체중감량의 보조요법으로 사용합니다.\\n복용방법: 1회 2정씩, 1일 3회 식전에 복용하고 필요에 따라서는 취침전에 추가로 2정 복용 가능합니다.충분한 양의 물과 함께 복용하는 것이 좋습니다.권장량을 최소 3~4주간 복용할 것이 권장됩니다.\\n알아야할 점: \\n사용상 주의사항: 이 약에 과민증 환자, 유소아는 이 약을\\xa0복용하지 마십시오.이 약을 복용하기 전에\\xa0임부 및 수유부,\\xa0소화기장애 환자는 의사 또는 약사와 상의하십시오.정해진 용법과 용량을 잘 지키십시오.1개월 이상 복용하여도 증상의 개선이 없을 경우 복용을 즉각 중지하고 의사 또는 약사와 상의하십시오.\\n병용금지 약/음식: 다른 약과 동시에 복용하지 않는 것이 좋으며, 복용할 경우 30분~1시간의 간격을 두고 복용하는 것이 권장됩니다.\\n이상반응 가능성: 복부 팽만감, 구역, 변비 또는 설사 등이 나타나는 경우 복용을 즉각 중지하고 의사 또는 약사와 상의하십시오.\\n보관방법: 실온에서 보관하십시오.어린이의 손이 닿지 않는 곳에 보관하십시오.'),\n",
       "  Document(id='a3bf0e52-4ee7-4687-a07e-ec3078aa1f20', metadata={'row': 1669.0, 'source': 'C:\\\\Workspaces\\\\AI-Pharmacist\\\\KimHaebin\\\\drug_info.csv'}, page_content='\\ufeff업체명: (주)에이프로젠바이오로직스\\n제품명: 팜스타정\\n품목기준코드: 200711036\\n효능: 이 약은 소화불량, 식욕감퇴(식욕부진), 과식, 식체(위체), 소화촉진, 소화불량으로 인한 위부팽만감, 위산과다, 속쓰림, 위부불쾌감, 구역, 구토, 위통, 신트림에 사용합니다.\\n복용방법: 성인 및 15세 이상은 1회 2정을 1일 3회 복용합니다.\\n알아야할 점: \\n사용상 주의사항: 만 7세 이하의 어린이,\\xa0갈락토오스 불내성, Lapp 유당분해효소 결핍증 또는 포도당-갈락토오스 흡수장애 등의 유전적인 문제가 있는 환자는 이 약을 복용하지 마십시오.이 약을 복용하기 전에 알레르기 체질, 신장장애 환자, 나트륨 제한 식이를 하는 사람은\\xa0의사 또는 약사와 상의하십시오.정해진 용법과 용량을 잘 지키십시오.2주 정도 복용하여도 증상의 개선이 없을 경우 복용을 즉각 중지하고 의사 또는 약사와 상의하십시오.\\n병용금지 약/음식: \\n이상반응 가능성: \\n보관방법: 습기와 빛을 피해 실온에서 보관하십시오.어린이의 손이 닿지 않는 곳에 보관하십시오.'),\n",
       "  Document(id='1770d941-457a-400c-939f-4299714f871c', metadata={'row': 4026.0, 'source': 'C:\\\\Workspaces\\\\AI-Pharmacist\\\\KimHaebin\\\\drug_info.csv'}, page_content='\\ufeff업체명: 한국프라임제약(주)\\n제품명: 올편제에스정\\n품목기준코드: 202003068\\n효능: 이 약은 소화불량, 식욕감퇴(식욕부진), 과식, 체함, 소화촉진, 소화불량으로 인한 위부팽만감에 사용합니다.\\n복용방법: 만 15세 이상 및 성인은 1회 2정씩, 1일 3회 식후에 복용합니다.\\n알아야할 점: \\n사용상 주의사항: 만 7세 이하의 어린이, 대두유에 과민증 환자, 알레르기 반응 경험자, 콩 또는 땅콩에 과민증 환자는 이 약을 복용하지 마십시오.\\n이 약을 복용하기 전에 알레르기 체질인 환자, 고지단백혈증, 당뇨병성고지질혈증 및 췌장염 등 지방대사 이상 환자 또는 지질성 유제를 신중히 투여해야 하는 환자는 의사 또는 약사와 상의하십시오.\\n정해진 용법과 용량을 잘 지키십시오.\\n2주 정도 투여하여도 증상의 개선이 없을 경우 복용을 즉각 중지하고 의사 또는 약사와 상의하십시오.\\n병용금지 약/음식: \\n이상반응 가능성: \\n보관방법: 습기와 빛을 피해 실온에서 보관하십시오.\\n\\n어린이의 손이 닿지 않는 곳에 보관하십시오.'),\n",
       "  Document(id='07bcb993-f721-4265-8b8f-7205d210a078', metadata={'row': 22.0, 'source': 'C:\\\\Workspaces\\\\AI-Pharmacist\\\\KimHaebin\\\\drug_info.csv'}, page_content='\\ufeff업체명: 신신제약(주)\\n제품명: 에어신신파스\\n품목기준코드: 196700061\\n효능: 이 약은 삠, 타박상, 근육통, 관절통, 골절통, 요(허리)통, 어깨결림, 신경통, 류마티스통증, 피부 가려움, 벌레 물린데, 동창(언 상처)의 진통·소염(항염)에 사용합니다.\\n복용방법: 1일 1회~수회(여러 차례) 환부(질환 부위)에 적당량을 뿌립니다.\\n알아야할 점: \\n사용상 주의사항: 30개월 이하의 유아,\\xa0눈 주위, 점막 등,\\xa0습진, 옻 등에 의한 피부염, 상처부위에는 이 약을 사용하지 마십시오.\\n\\n이 약을 사용하기 전에 이 약이나 화장품 등에 과민증 환자, 알레르기 체질, 습윤(습기 참)이나 미란(짓무름)이 심한 환자, 의사의 치료를 받고 있는 환자, 소아, 임부 또는 임신하고 있을 가능성이 있는 여성, 수유부는 의사 또는 약사와 상의하십시오.\\n\\n정해진 용법과 용량을 잘 지키십시오.\\n\\n어린이에게 투여할 경우 보호자의 지도 감독하에 투여하십시오.\\n\\n5~6회 투여하여도 증상이 좋아지지 않을 경우 의사 또는 약사와 상의하십시오.\\n\\n이 약은 외용으로만 사용하십시오.\\n\\n눈에 들어가지 않도록 주의하십시오.\\n\\n사용 전에 잘 흔들어 사용하며 환부(질환부위)로부터 20 cm의 거리에서 뿌리되 동일 부위에 연속하여 3초 이상 뿌리지 않습니다.\\n\\n화기를 사용하고 있는 실내에서 사용하지 말고 밀폐된 실내에서 사용한 후에는 반드시 환기를 실시하십시오.\\n병용금지 약/음식: \\n이상반응 가능성: 발진ㆍ발적(충혈되어 붉어짐), 가려움, 부종(부기) 등이 나타나는 경우 사용을 즉각 중지하고 의사 또는 약사와 상의하십시오.\\n보관방법: 실온에서 보관하십시오.\\n\\n어린이의 손이 닿지 않는 곳에 보관하십시오.\\n\\n화기 근처에 두지 마십시오.\\n\\n밀폐된 장소에 보관하지 마십시오.\\n\\n사용 후 잔가스가 없도록 하여 버리십시오.'),\n",
       "  Document(id='d57677cd-031c-45c6-9360-5ece173ff2ee', metadata={'row': 4433.0, 'source': 'C:\\\\Workspaces\\\\AI-Pharmacist\\\\KimHaebin\\\\drug_info.csv'}, page_content='\\ufeff업체명: (주)한독\\n제품명: 훼스탈슈퍼자임정\\n품목기준코드: 202108052\\n효능: 이 약은 소화불량, 식욕감퇴(식욕부진), 과식, 체함, 소화촉진, 위부팽만감, 위산과다, 속쓰림, 위부불쾌감, 구역, 구토, 위통, 신트림에 사용합니다.\\n복용방법: 만 15세 이상 및 성인은 1회 1~2정씩, 만 8세~만 15세 미만 소아는 1회 1정씩, 1일 3회 복용합니다.\\n알아야할 점: \\n사용상 주의사항: 만 7세 이하의 어린이는 이 약을 복용하지 마십시오.\\n\\n이 약을 복용하기 전에 신장장애 환자, 알레르기 체질은 의사 또는 약사와 상의하십시오.\\n\\n정해진 용법과 용량을 잘 지키십시오.\\n\\n어린이에게 투여할 경우 보호자의 지도·감독하에 투여하십시오.\\n\\n2주 정도 투여하여도 증상의 개선이 없을 경우 복용을 즉각 중지하고 의사 또는 약사와 상의하십시오.\\n병용금지 약/음식: \\n이상반응 가능성: 변비 또는 설사 등이 나타나는 경우 복용을 즉각 중지하고 의사 또는 약사와 상의하십시오.\\n보관방법: 습기와 빛을 피해 실온에서 보관하십시오.\\n\\n어린이의 손이 닿지 않는 곳에 보관하십시오.'),\n",
       "  Document(id='6c367fbb-47a3-4b40-898a-1558b622d9bd', metadata={'row': 117.0, 'source': 'C:\\\\Workspaces\\\\AI-Pharmacist\\\\KimHaebin\\\\drug_info.csv'}, page_content='\\ufeff업체명: (주)뉴젠팜\\n제품명: 제스탈정\\n품목기준코드: 201601324\\n효능: 이 약은 소화불량, 식욕감퇴(식욕부진), 과식, 체함, 소화촉진, 소화불량으로 인한 위부팽만감에 사용합니다.\\n복용방법: 성인은 1회 1~2정 1일 3회 식후에 복용합니다.\\n알아야할 점: \\n사용상 주의사항: 이 약에 과민증 환자, 황색4호(타르트라진)에 과민증 환자, 만 7세 이하의 영.유아에게는 투여하지 않습니다.정해진 용법과 용량을 잘 지키십시오.\\n병용금지 약/음식: \\n이상반응 가능성: \\n보관방법: 습기와 빛을 피해 실온에서 보관하십시오.어린이의 손이 닿지 않는 곳에 보관하십시오.'),\n",
       "  Document(id='e620ecdf-5f08-4153-b4d2-8064519b6eb1', metadata={'row': 3919.0, 'source': 'C:\\\\Workspaces\\\\AI-Pharmacist\\\\KimHaebin\\\\drug_info.csv'}, page_content='\\ufeff업체명: (주)녹십자\\n제품명: 아프소겐정(파모티딘)\\n품목기준코드: 202000421\\n효능: 이 약은 위산과다, 속쓰림, 신트림에 사용합니다.\\n복용방법: 16세 이상은 1회 1정(10 mg), 1일 2정(20 mg)까지 복용할 수 있습니다.\\n알아야할 점: \\n사용상 주의사항: 이 약 및 H2 수용체 길항제에 과민증, 갈락토오스 불내성, Lapp 유당분해효소 결핍증 또는 포도당-갈락토오스 흡수장애 등의 유전적인 문제가 있는 환자는 이 약을 복용하지 마십시오.\\n이 약을 복용하기 전에 음식을 삼키기 어렵거나 삼킬 때 통증이 있는 경우 및 토혈(혈액구토)이나 혈변이 있는 경우, 속쓰림 증상이 3개월 이상 지속되는 경우, 현기증(어지러움) 또는 졸림, 식은땀이 함께 나타나는 경우, 짧은 호흡과 함께 가슴 또는 어깨 통증을 동반하는 경우, 가슴통증이 빈번히 나타나는 경우, 예상치 않은 체중감소, 오심(구역), 구토, 위장관 통증 등의 증상이 나타나는 경우, 약물들에 대한 과민증 경험자, 신장애(신장장애), 심질환, 간장애, 고령자, 임부 또는 임신하고 있을 가능성이 있는 여성 및 수유부, 혈액투석환자는 의사 또는 약사와 상의하십시오.\\n이 약을 투여 후 투약 전과 신체 기능에 변화가 있는 경우 의사 또는 약사와 상의하십시오.\\n증상의 개선이 없을 경우 복용을 즉각 중지하고 의사 또는 약사와 상의하십시오.\\n이 약은 14일 이상 복용하지 마십시오.\\n병용금지 약/음식: 비스테로이드성 소염(항염)진통제, 무좀치료제, 정주용 지질제와 함께 사용 시 의사 또는 약사와 상의하십시오.\\n\\n복용 중에는 음주하지 마십시오.\\n이상반응 가능성: 쇽, 아나필락시스, 호흡곤란, 전신홍조(온몸이 붉어짐), 안면부종(얼굴부기), 인두부종(부기), 두드러기, 백혈구, 적혈구, 혈소판, 호산구 감소, 빈혈, 지혈지연, 피부점막안증후군, 표피괴사증, 발진, 두드러기(홍반), 간기능 이상, AST(GOT)ㆍALT(GPT) 등의 상승, 총빌리루빈ㆍLDH 상승, 황달, 간염, 근육통, 횡문근융해증, 관절통, 근육경련, 서맥(느린맥), 빈맥(빠른맥), 가슴 통증, 혈압상승, 안면홍조, 이명(귀울림), 의식장애, 경련, 전신권태감, 두통, 졸음, 불면, 환각, 초조, 흥분, 성욕감퇴, 감각이상, 두중감(머리 무거움), 혼돈, 우울, 어지러움, 변비, 설사, 구갈, 구역구토, 복부 팽만감, 식욕부진, 구내염(입안염), 간질성 신염(신장염), 급성 신부전, 발열, 신기능 검사치 이상(BUNㆍ크레아티닌 상승 등), 월경불순, 고열, 기침, 호흡곤란 및 흉부 X-ray 이상을 동반한 간질성 폐렴, 기관지 경련, 여성형 유방, 미각 이상이 나타나는 경우 복용을 즉각 중지하고 의사 또는 약사와 상의하십시오.\\n보관방법: 실온에서 보관하십시오.\\n\\n어린이의 손이 닿지 않는 곳에 보관하십시오.'),\n",
       "  Document(id='24d997cd-0d75-4eba-afd0-8c95943c9548', metadata={'row': 297.0, 'source': 'C:\\\\Workspaces\\\\AI-Pharmacist\\\\KimHaebin\\\\drug_info.csv'}, page_content='\\ufeff업체명: 하이플생명과학(주)\\n제품명: 말레부틴정(트리메부틴말레산염)\\n품목기준코드: 199001559\\n효능: 이 약은 식도역류 및 열공헤르니아, 위 십이지장염, 위ㆍ십이지장궤양에 있어서의 소화기능이상 (복통, 소화불량,구역, 구토)과\\xa0과민성대장증후군 및 경련성 결장과\\xa0소아 질환(습관성 구토, 비감염성 장관 통과 장애(변비, 설사))에 사용합니다.\\n복용방법: 성인은 1회 1~2정(100~200 mg)씩, 1일 3회 식전에 복용합니다.\\n\\n연령, 증상에 따라 적절히 증감합니다.\\n알아야할 점: \\n사용상 주의사항: 갈락토오스 불내성, Lapp 유당분해효소 결핍증 또는 포도당-갈락토오스 흡수장애 등의 유전적인 문제가 있는 환자는 이 약을 복용하지 마십시오.\\n\\n이 약을 복용하기 전에 임부 또는 임신하고 있을 가능성이 있는 여성 및 수유부는 의사 또는 약사와 상의하십시오.\\n병용금지 약/음식: \\n이상반응 가능성: 드물게 변비, 설사, 복명, 구역, 구토, 소화장애, 구갈, 구내마비감, 심계항진, 피로감, 졸음, 현기, 권태감, 두통, GOT, GPT상승이 나타날 수 있습니다.\\n\\n드물게 발진 등이 나타나는 경우 복용을 즉각 중지하고 의사 또는 약사와 상의하십시오.\\n보관방법: 습기와 빛을 피해 실온에서 보관하십시오.\\n\\n어린이의 손이 닿지 않는 곳에 보관하십시오.')]]"
      ]
     },
     "execution_count": 14,
     "metadata": {},
     "output_type": "execute_result"
    }
   ],
   "execution_count": 14
  },
  {
   "metadata": {
    "ExecuteTime": {
     "end_time": "2024-12-19T08:13:08.736856Z",
     "start_time": "2024-12-19T08:13:08.711702Z"
    }
   },
   "cell_type": "code",
   "source": "prompt.invoke({'query': query, 'context': retriever})",
   "id": "526d0f8c802560c7",
   "outputs": [
    {
     "data": {
      "text/plain": [
       "ChatPromptValue(messages=[SystemMessage(content='\\nPersona: 당신은 전문적인 약사입니다. 약의 효능, 복용방법, 알아야할 점, 사용상 주의사항, 병용금지 약/음식, 이상반응 가능성, 보관방법 등을 알고 있으며 일반인을 대상으로 설명이 가능합니다.\\n\\nRole: 약의 효능, 복용방법, 알아야할 점, 사용상 주의사항, 병용금지 약/음식, 이상반응 가능성, 보관방법 등에 context를 기반으로 약품에 대해 아무것도 모르는 일반인이 이해하도록 간략하게 설명해줍니다.\\n\\n', additional_kwargs={}, response_metadata={}), HumanMessage(content=\"\\n    query 질문에 대해 context만 참조해서 알려줘.\\n    \\n    question: 소화사 안돼서 활명수 먹으려해. 주의할 게 있을까?  \\n    context: tags=['PineconeVectorStore', 'OpenAIEmbeddings'] vectorstore=<langchain_pinecone.vectorstores.PineconeVectorStore object at 0x00000188A7065410> search_kwargs={'k': 10}\\n    \", additional_kwargs={}, response_metadata={})])"
      ]
     },
     "execution_count": 15,
     "metadata": {},
     "output_type": "execute_result"
    }
   ],
   "execution_count": 15
  },
  {
   "metadata": {
    "ExecuteTime": {
     "end_time": "2024-12-19T08:13:11.720314Z",
     "start_time": "2024-12-19T08:13:10.513741Z"
    }
   },
   "cell_type": "code",
   "source": [
    "from langchain_openai import ChatOpenAI\n",
    "\n",
    "model = ChatOpenAI(\n",
    "    model='gpt-4o',\n",
    "    temperature=0.5\n",
    ")"
   ],
   "id": "68a65644c06d09ad",
   "outputs": [],
   "execution_count": 16
  },
  {
   "metadata": {
    "ExecuteTime": {
     "end_time": "2024-12-19T08:13:19.165935Z",
     "start_time": "2024-12-19T08:13:11.982709Z"
    }
   },
   "cell_type": "code",
   "source": [
    "from langchain_core.output_parsers import StrOutputParser\n",
    "from langchain_core.runnables import RunnablePassthrough\n",
    "\n",
    "# RunnablePassThrough: invoke()에 전달된 인자를 받아서 그대로 출력\n",
    "chain = {'query': RunnablePassthrough(), 'context': retriever} | prompt | model | StrOutputParser() \n",
    "\n",
    "chain.invoke(query)"
   ],
   "id": "619e98a0122c0ec8",
   "outputs": [
    {
     "data": {
      "text/plain": [
       "'활명수를 복용하실 때 주의할 점에 대해 설명드리겠습니다.\\n\\n1. **복용 방법**: 활명수는 일반적으로 소화불량, 식욕감퇴, 과식 등으로 인한 소화 문제를 완화하는 데 사용됩니다. 제품에 따라 복용 방법이 다를 수 있으니, 포장지에 있는 지시사항을 잘 따라주세요.\\n\\n2. **사용상 주의사항**: 활명수는 일반적으로 안전하게 사용될 수 있지만, 알레르기 체질이거나 특정 성분에 과민 반응이 있는 경우 주의가 필요합니다. 특히, 만 7세 이하의 어린이는 복용하지 않는 것이 좋습니다.\\n\\n3. **병용금지 약/음식**: 특정 약물이나 음식과 함께 복용할 때 주의가 필요할 수 있습니다. 다른 약물을 복용 중이시라면, 약사나 의사와 상담하시는 것이 좋습니다.\\n\\n4. **이상반응 가능성**: 드물게 복부 팽만감, 구역, 변비 또는 설사 등의 이상반응이 나타날 수 있습니다. 이러한 증상이 나타나면 복용을 중단하고 의사나 약사와 상담하세요.\\n\\n5. **보관방법**: 습기와 빛을 피하여 실온에서 보관하시고, 어린이의 손이 닿지 않는 곳에 보관하십시오.\\n\\n활명수를 복용하시기 전에 위의 사항들을 확인하시고, 필요시 전문가와 상담하시는 것이 중요합니다.'"
      ]
     },
     "execution_count": 17,
     "metadata": {},
     "output_type": "execute_result"
    }
   ],
   "execution_count": 17
  },
  {
   "metadata": {},
   "cell_type": "code",
   "outputs": [],
   "execution_count": null,
   "source": "",
   "id": "644488e9e35c5ff5"
  }
 ],
 "metadata": {
  "kernelspec": {
   "display_name": "Python 3",
   "language": "python",
   "name": "python3"
  },
  "language_info": {
   "codemirror_mode": {
    "name": "ipython",
    "version": 2
   },
   "file_extension": ".py",
   "mimetype": "text/x-python",
   "name": "python",
   "nbconvert_exporter": "python",
   "pygments_lexer": "ipython2",
   "version": "2.7.6"
  }
 },
 "nbformat": 4,
 "nbformat_minor": 5
}
