{
 "cells": [
  {
   "cell_type": "code",
   "id": "initial_id",
   "metadata": {
    "collapsed": true,
    "ExecuteTime": {
     "end_time": "2024-12-18T07:15:53.470519Z",
     "start_time": "2024-12-18T07:15:53.449524Z"
    }
   },
   "source": [
    "from dotenv import load_dotenv\n",
    "load_dotenv()\n",
    "\n",
    "# .env 파일 강제 로드\n",
    "load_dotenv(override=True)"
   ],
   "outputs": [
    {
     "data": {
      "text/plain": [
       "True"
      ]
     },
     "execution_count": 3,
     "metadata": {},
     "output_type": "execute_result"
    }
   ],
   "execution_count": 3
  },
  {
   "metadata": {
    "ExecuteTime": {
     "end_time": "2024-12-18T02:54:45.534192Z",
     "start_time": "2024-12-18T02:54:42.175789Z"
    }
   },
   "cell_type": "code",
   "source": [
    "import pandas as pd\n",
    "adv_df = pd.read_csv('./의약품안전사용서비스(DUR)_병용금기 품목리스트 2024.5.csv',  encoding='cp949')"
   ],
   "id": "db5dd10828317278",
   "outputs": [
    {
     "name": "stderr",
     "output_type": "stream",
     "text": [
      "C:\\Users\\playdata2\\AppData\\Local\\Temp\\ipykernel_2668\\3761064063.py:2: DtypeWarning: Columns (15) have mixed types. Specify dtype option on import or set low_memory=False.\n",
      "  adv_df = pd.read_csv('./의약품안전사용서비스(DUR)_병용금기 품목리스트 2024.5.csv',  encoding='cp949')\n"
     ]
    }
   ],
   "execution_count": 5
  },
  {
   "metadata": {
    "ExecuteTime": {
     "end_time": "2024-12-18T02:55:25.063897Z",
     "start_time": "2024-12-18T02:55:25.036121Z"
    }
   },
   "cell_type": "code",
   "source": "adv_df.head()",
   "id": "9f75ae5208fba04d",
   "outputs": [
    {
     "data": {
      "text/plain": [
       "          성분명A      성분코드A      제품코드A                      제품명A     업소명A 구분A  \\\n",
       "0  aceclofenac  100901ACH  648101510  에이서캡슐(아세클로페낙)_(0.1g/1캡슐)  경동제약(주)  급여   \n",
       "1  aceclofenac  100901ACH  648101510  에이서캡슐(아세클로페낙)_(0.1g/1캡슐)  경동제약(주)  급여   \n",
       "2  aceclofenac  100901ACH  648101510  에이서캡슐(아세클로페낙)_(0.1g/1캡슐)  경동제약(주)  급여   \n",
       "3  aceclofenac  100901ACH  648101510  에이서캡슐(아세클로페낙)_(0.1g/1캡슐)  경동제약(주)  급여   \n",
       "4  aceclofenac  100901ACH  648101510  에이서캡슐(아세클로페낙)_(0.1g/1캡슐)  경동제약(주)  급여   \n",
       "\n",
       "                     성분명B      성분코드B      제품코드B                         제품명B  \\\n",
       "0  ketorolac tromethamine  180001ATB  653400910   케토라신정(케토롤락트로메타민)_(10mg/1정)   \n",
       "1  ketorolac tromethamine  180033BIJ   57200121   타라신주(케토롤락트로메타민)_(30mg/1mL)   \n",
       "2  ketorolac tromethamine  180033BIJ   59000681  케롤락주(케토롤락트로메타민염)_(30mg/1mL)   \n",
       "3  ketorolac tromethamine  180033BIJ  645902651  케로라주(케토롤락트로메타민염)_(30mg/1mL)   \n",
       "4  ketorolac tromethamine  180033BIJ  646002281   타벨주(케토롤락트로메타민염)_(30mg/1mL)   \n",
       "\n",
       "             업소명B 구분B      고시번호       고시적용일           금기사유   비고  \n",
       "0         동국제약(주)  급여  20050017  2005-03-09  중증의 위장관계 이상반응  NaN  \n",
       "1  지피테라퓨틱스코리아주식회사  급여  20050017  2005-03-09  중증의 위장관계 이상반응  NaN  \n",
       "2      주식회사케이에스제약  급여  20050017  2005-03-09  중증의 위장관계 이상반응  NaN  \n",
       "3         동광제약(주)  급여  20050017  2005-03-09  중증의 위장관계 이상반응  NaN  \n",
       "4       (주)메디카코리아  급여  20050017  2005-03-09  중증의 위장관계 이상반응  NaN  "
      ],
      "text/html": [
       "<div>\n",
       "<style scoped>\n",
       "    .dataframe tbody tr th:only-of-type {\n",
       "        vertical-align: middle;\n",
       "    }\n",
       "\n",
       "    .dataframe tbody tr th {\n",
       "        vertical-align: top;\n",
       "    }\n",
       "\n",
       "    .dataframe thead th {\n",
       "        text-align: right;\n",
       "    }\n",
       "</style>\n",
       "<table border=\"1\" class=\"dataframe\">\n",
       "  <thead>\n",
       "    <tr style=\"text-align: right;\">\n",
       "      <th></th>\n",
       "      <th>성분명A</th>\n",
       "      <th>성분코드A</th>\n",
       "      <th>제품코드A</th>\n",
       "      <th>제품명A</th>\n",
       "      <th>업소명A</th>\n",
       "      <th>구분A</th>\n",
       "      <th>성분명B</th>\n",
       "      <th>성분코드B</th>\n",
       "      <th>제품코드B</th>\n",
       "      <th>제품명B</th>\n",
       "      <th>업소명B</th>\n",
       "      <th>구분B</th>\n",
       "      <th>고시번호</th>\n",
       "      <th>고시적용일</th>\n",
       "      <th>금기사유</th>\n",
       "      <th>비고</th>\n",
       "    </tr>\n",
       "  </thead>\n",
       "  <tbody>\n",
       "    <tr>\n",
       "      <th>0</th>\n",
       "      <td>aceclofenac</td>\n",
       "      <td>100901ACH</td>\n",
       "      <td>648101510</td>\n",
       "      <td>에이서캡슐(아세클로페낙)_(0.1g/1캡슐)</td>\n",
       "      <td>경동제약(주)</td>\n",
       "      <td>급여</td>\n",
       "      <td>ketorolac tromethamine</td>\n",
       "      <td>180001ATB</td>\n",
       "      <td>653400910</td>\n",
       "      <td>케토라신정(케토롤락트로메타민)_(10mg/1정)</td>\n",
       "      <td>동국제약(주)</td>\n",
       "      <td>급여</td>\n",
       "      <td>20050017</td>\n",
       "      <td>2005-03-09</td>\n",
       "      <td>중증의 위장관계 이상반응</td>\n",
       "      <td>NaN</td>\n",
       "    </tr>\n",
       "    <tr>\n",
       "      <th>1</th>\n",
       "      <td>aceclofenac</td>\n",
       "      <td>100901ACH</td>\n",
       "      <td>648101510</td>\n",
       "      <td>에이서캡슐(아세클로페낙)_(0.1g/1캡슐)</td>\n",
       "      <td>경동제약(주)</td>\n",
       "      <td>급여</td>\n",
       "      <td>ketorolac tromethamine</td>\n",
       "      <td>180033BIJ</td>\n",
       "      <td>57200121</td>\n",
       "      <td>타라신주(케토롤락트로메타민)_(30mg/1mL)</td>\n",
       "      <td>지피테라퓨틱스코리아주식회사</td>\n",
       "      <td>급여</td>\n",
       "      <td>20050017</td>\n",
       "      <td>2005-03-09</td>\n",
       "      <td>중증의 위장관계 이상반응</td>\n",
       "      <td>NaN</td>\n",
       "    </tr>\n",
       "    <tr>\n",
       "      <th>2</th>\n",
       "      <td>aceclofenac</td>\n",
       "      <td>100901ACH</td>\n",
       "      <td>648101510</td>\n",
       "      <td>에이서캡슐(아세클로페낙)_(0.1g/1캡슐)</td>\n",
       "      <td>경동제약(주)</td>\n",
       "      <td>급여</td>\n",
       "      <td>ketorolac tromethamine</td>\n",
       "      <td>180033BIJ</td>\n",
       "      <td>59000681</td>\n",
       "      <td>케롤락주(케토롤락트로메타민염)_(30mg/1mL)</td>\n",
       "      <td>주식회사케이에스제약</td>\n",
       "      <td>급여</td>\n",
       "      <td>20050017</td>\n",
       "      <td>2005-03-09</td>\n",
       "      <td>중증의 위장관계 이상반응</td>\n",
       "      <td>NaN</td>\n",
       "    </tr>\n",
       "    <tr>\n",
       "      <th>3</th>\n",
       "      <td>aceclofenac</td>\n",
       "      <td>100901ACH</td>\n",
       "      <td>648101510</td>\n",
       "      <td>에이서캡슐(아세클로페낙)_(0.1g/1캡슐)</td>\n",
       "      <td>경동제약(주)</td>\n",
       "      <td>급여</td>\n",
       "      <td>ketorolac tromethamine</td>\n",
       "      <td>180033BIJ</td>\n",
       "      <td>645902651</td>\n",
       "      <td>케로라주(케토롤락트로메타민염)_(30mg/1mL)</td>\n",
       "      <td>동광제약(주)</td>\n",
       "      <td>급여</td>\n",
       "      <td>20050017</td>\n",
       "      <td>2005-03-09</td>\n",
       "      <td>중증의 위장관계 이상반응</td>\n",
       "      <td>NaN</td>\n",
       "    </tr>\n",
       "    <tr>\n",
       "      <th>4</th>\n",
       "      <td>aceclofenac</td>\n",
       "      <td>100901ACH</td>\n",
       "      <td>648101510</td>\n",
       "      <td>에이서캡슐(아세클로페낙)_(0.1g/1캡슐)</td>\n",
       "      <td>경동제약(주)</td>\n",
       "      <td>급여</td>\n",
       "      <td>ketorolac tromethamine</td>\n",
       "      <td>180033BIJ</td>\n",
       "      <td>646002281</td>\n",
       "      <td>타벨주(케토롤락트로메타민염)_(30mg/1mL)</td>\n",
       "      <td>(주)메디카코리아</td>\n",
       "      <td>급여</td>\n",
       "      <td>20050017</td>\n",
       "      <td>2005-03-09</td>\n",
       "      <td>중증의 위장관계 이상반응</td>\n",
       "      <td>NaN</td>\n",
       "    </tr>\n",
       "  </tbody>\n",
       "</table>\n",
       "</div>"
      ]
     },
     "execution_count": 6,
     "metadata": {},
     "output_type": "execute_result"
    }
   ],
   "execution_count": 6
  },
  {
   "metadata": {
    "ExecuteTime": {
     "end_time": "2024-12-18T02:56:33.127667Z",
     "start_time": "2024-12-18T02:56:18.768581Z"
    }
   },
   "cell_type": "code",
   "source": [
    "from langchain_community.document_loaders import CSVLoader\n",
    "\n",
    "loader = CSVLoader('./의약품안전사용서비스(DUR)_병용금기 품목리스트 2024.5.csv', encoding='cp949')\n",
    "documents = loader.load()\n",
    "print(len(documents))\n",
    "documents[0]"
   ],
   "id": "9e7f76d4f4121f11",
   "outputs": [
    {
     "name": "stdout",
     "output_type": "stream",
     "text": [
      "791230\n"
     ]
    },
    {
     "data": {
      "text/plain": [
       "Document(metadata={'source': './의약품안전사용서비스(DUR)_병용금기 품목리스트 2024.5.csv', 'row': 0}, page_content='성분명A: aceclofenac\\n성분코드A: 100901ACH\\n제품코드A: 648101510\\n제품명A: 에이서캡슐(아세클로페낙)_(0.1g/1캡슐)\\n업소명A: 경동제약(주)\\n구분A: 급여\\n성분명B: ketorolac tromethamine\\n성분코드B: 180001ATB\\n제품코드B: 653400910\\n제품명B: 케토라신정(케토롤락트로메타민)_(10mg/1정)\\n업소명B: 동국제약(주)\\n구분B: 급여\\n고시번호: 20050017\\n고시적용일: 2005-03-09\\n금기사유: 중증의 위장관계 이상반응\\n비고: ')"
      ]
     },
     "execution_count": 8,
     "metadata": {},
     "output_type": "execute_result"
    }
   ],
   "execution_count": 8
  },
  {
   "metadata": {
    "ExecuteTime": {
     "end_time": "2024-12-18T07:17:13.929372Z",
     "start_time": "2024-12-18T07:17:12.204256Z"
    }
   },
   "cell_type": "code",
   "source": [
    "from langchain_openai.embeddings import OpenAIEmbeddings\n",
    "\n",
    "embeddings = OpenAIEmbeddings(model=\"text-embedding-3-small\")"
   ],
   "id": "5cb99d76d922a87d",
   "outputs": [],
   "execution_count": 7
  },
  {
   "metadata": {
    "ExecuteTime": {
     "end_time": "2024-12-18T07:15:57.911903Z",
     "start_time": "2024-12-18T07:15:57.894144Z"
    }
   },
   "cell_type": "code",
   "source": [
    "import os\n",
    "PINECONE_INDEX_NAME = os.getenv(\"PINECONE_INDEX_NAME\")\n",
    "PINECONE_NAMESPACE = os.getenv(\"PINECONE_NAMESPACE\")\n",
    "PINECONE_API_KEY = os.getenv(\"PINECONE_API_KEY\")\n",
    "\n",
    "print(PINECONE_INDEX_NAME)\n",
    "print(PINECONE_NAMESPACE)\n",
    "print(PINECONE_API_KEY)"
   ],
   "id": "c1ddd189213b9bc9",
   "outputs": [
    {
     "name": "stdout",
     "output_type": "stream",
     "text": [
      "241218-ai-medicine\n",
      "241218-ai-medicine-ns\n",
      "pcsk_7GsZj2_NJyHz8wTEQ8Q19KUXDBqWjTLqbzHkvYPcyKieA2yUACz7jMcZ2QwxD34QPdQx5S\n"
     ]
    }
   ],
   "execution_count": 4
  },
  {
   "metadata": {
    "ExecuteTime": {
     "end_time": "2024-12-18T06:03:16.717195Z",
     "start_time": "2024-12-18T05:12:57.447215Z"
    }
   },
   "cell_type": "code",
   "source": [
    "#Pinecone 클라이언트\n",
    "from langchain_pinecone import PineconeVectorStore\n",
    "import os\n",
    "\n",
    "PINECONE_INDEX_NAME = os.getenv(\"PINECONE_INDEX_NAME\")\n",
    "PINECONE_NAMESPACE = os.getenv(\"PINECONE_NAMESPACE\")\n",
    "PINECONE_API_KEY = os.getenv(\"PINECONE_API_KEY\")\n",
    "\n",
    "def batch_documents(documents, batch_size):\n",
    "    for i in range(0, len(documents), batch_size):\n",
    "        yield documents[i:i + batch_size]\n",
    "\n",
    "batch_size = 5000  # 배치 크기 설정\n",
    "for batch in batch_documents(documents, batch_size):\n",
    "    PineconeVectorStore.from_documents(\n",
    "        batch,\n",
    "        embeddings,\n",
    "        index_name=PINECONE_INDEX_NAME,\n",
    "        namespace=PINECONE_NAMESPACE,\n",
    "        pinecone_api_key=PINECONE_API_KEY\n",
    "    )\n",
    "\n",
    "# vector_db = PineconeVectorStore.from_documents(\n",
    "#     documents,\n",
    "#     embeddings,\n",
    "#     index_name=PINECONE_INDEX_NAME,\n",
    "#     namespace=PINECONE_NAMESPACE,\n",
    "#     pinecone_api_key=PINECONE_API_KEY\n",
    "# )\n"
   ],
   "id": "b159a373295740e0",
   "outputs": [
    {
     "ename": "PineconeApiException",
     "evalue": "(429)\nReason: Too Many Requests\nHTTP response headers: HTTPHeaderDict({'Date': 'Wed, 18 Dec 2024 06:03:07 GMT', 'Content-Type': 'application/json', 'Content-Length': '166', 'Connection': 'keep-alive', 'x-pinecone-request-latency-ms': '1287', 'x-pinecone-request-id': '6339427293384721043', 'x-envoy-upstream-service-time': '3', 'server': 'envoy'})\nHTTP response body: {\"code\":8,\"message\":\"Request failed. You've reached your write unit limit for the current month (2000000). To continue writing data, upgrade your plan.\",\"details\":[]}\n",
     "output_type": "error",
     "traceback": [
      "\u001B[1;31m---------------------------------------------------------------------------\u001B[0m",
      "\u001B[1;31mPineconeApiException\u001B[0m                      Traceback (most recent call last)",
      "Cell \u001B[1;32mIn[12], line 15\u001B[0m\n\u001B[0;32m     13\u001B[0m batch_size \u001B[38;5;241m=\u001B[39m \u001B[38;5;241m5000\u001B[39m  \u001B[38;5;66;03m# 배치 크기 설정\u001B[39;00m\n\u001B[0;32m     14\u001B[0m \u001B[38;5;28;01mfor\u001B[39;00m batch \u001B[38;5;129;01min\u001B[39;00m batch_documents(documents, batch_size):\n\u001B[1;32m---> 15\u001B[0m     \u001B[43mPineconeVectorStore\u001B[49m\u001B[38;5;241;43m.\u001B[39;49m\u001B[43mfrom_documents\u001B[49m\u001B[43m(\u001B[49m\n\u001B[0;32m     16\u001B[0m \u001B[43m        \u001B[49m\u001B[43mbatch\u001B[49m\u001B[43m,\u001B[49m\n\u001B[0;32m     17\u001B[0m \u001B[43m        \u001B[49m\u001B[43membeddings\u001B[49m\u001B[43m,\u001B[49m\n\u001B[0;32m     18\u001B[0m \u001B[43m        \u001B[49m\u001B[43mindex_name\u001B[49m\u001B[38;5;241;43m=\u001B[39;49m\u001B[43mPINECONE_INDEX_NAME\u001B[49m\u001B[43m,\u001B[49m\n\u001B[0;32m     19\u001B[0m \u001B[43m        \u001B[49m\u001B[43mnamespace\u001B[49m\u001B[38;5;241;43m=\u001B[39;49m\u001B[43mPINECONE_NAMESPACE\u001B[49m\u001B[43m,\u001B[49m\n\u001B[0;32m     20\u001B[0m \u001B[43m        \u001B[49m\u001B[43mpinecone_api_key\u001B[49m\u001B[38;5;241;43m=\u001B[39;49m\u001B[43mPINECONE_API_KEY\u001B[49m\n\u001B[0;32m     21\u001B[0m \u001B[43m    \u001B[49m\u001B[43m)\u001B[49m\n\u001B[0;32m     23\u001B[0m \u001B[38;5;66;03m# vector_db = PineconeVectorStore.from_documents(\u001B[39;00m\n\u001B[0;32m     24\u001B[0m \u001B[38;5;66;03m#     documents,\u001B[39;00m\n\u001B[0;32m     25\u001B[0m \u001B[38;5;66;03m#     embeddings,\u001B[39;00m\n\u001B[1;32m   (...)\u001B[0m\n\u001B[0;32m     28\u001B[0m \u001B[38;5;66;03m#     pinecone_api_key=PINECONE_API_KEY\u001B[39;00m\n\u001B[0;32m     29\u001B[0m \u001B[38;5;66;03m# )\u001B[39;00m\n",
      "File \u001B[1;32m~\\anaconda3\\envs\\dl_nlp2_env\\Lib\\site-packages\\langchain_core\\vectorstores\\base.py:852\u001B[0m, in \u001B[0;36mVectorStore.from_documents\u001B[1;34m(cls, documents, embedding, **kwargs)\u001B[0m\n\u001B[0;32m    849\u001B[0m     \u001B[38;5;28;01mif\u001B[39;00m \u001B[38;5;28many\u001B[39m(ids):\n\u001B[0;32m    850\u001B[0m         kwargs[\u001B[38;5;124m\"\u001B[39m\u001B[38;5;124mids\u001B[39m\u001B[38;5;124m\"\u001B[39m] \u001B[38;5;241m=\u001B[39m ids\n\u001B[1;32m--> 852\u001B[0m \u001B[38;5;28;01mreturn\u001B[39;00m \u001B[38;5;28;43mcls\u001B[39;49m\u001B[38;5;241;43m.\u001B[39;49m\u001B[43mfrom_texts\u001B[49m\u001B[43m(\u001B[49m\u001B[43mtexts\u001B[49m\u001B[43m,\u001B[49m\u001B[43m \u001B[49m\u001B[43membedding\u001B[49m\u001B[43m,\u001B[49m\u001B[43m \u001B[49m\u001B[43mmetadatas\u001B[49m\u001B[38;5;241;43m=\u001B[39;49m\u001B[43mmetadatas\u001B[49m\u001B[43m,\u001B[49m\u001B[43m \u001B[49m\u001B[38;5;241;43m*\u001B[39;49m\u001B[38;5;241;43m*\u001B[39;49m\u001B[43mkwargs\u001B[49m\u001B[43m)\u001B[49m\n",
      "File \u001B[1;32m~\\anaconda3\\envs\\dl_nlp2_env\\Lib\\site-packages\\langchain_pinecone\\vectorstores.py:583\u001B[0m, in \u001B[0;36mPineconeVectorStore.from_texts\u001B[1;34m(cls, texts, embedding, metadatas, ids, batch_size, text_key, namespace, index_name, upsert_kwargs, pool_threads, embeddings_chunk_size, async_req, id_prefix, **kwargs)\u001B[0m\n\u001B[0;32m    580\u001B[0m pinecone_index \u001B[38;5;241m=\u001B[39m \u001B[38;5;28mcls\u001B[39m\u001B[38;5;241m.\u001B[39mget_pinecone_index(index_name, pool_threads)\n\u001B[0;32m    581\u001B[0m pinecone \u001B[38;5;241m=\u001B[39m \u001B[38;5;28mcls\u001B[39m(pinecone_index, embedding, text_key, namespace, \u001B[38;5;241m*\u001B[39m\u001B[38;5;241m*\u001B[39mkwargs)\n\u001B[1;32m--> 583\u001B[0m \u001B[43mpinecone\u001B[49m\u001B[38;5;241;43m.\u001B[39;49m\u001B[43madd_texts\u001B[49m\u001B[43m(\u001B[49m\n\u001B[0;32m    584\u001B[0m \u001B[43m    \u001B[49m\u001B[43mtexts\u001B[49m\u001B[43m,\u001B[49m\n\u001B[0;32m    585\u001B[0m \u001B[43m    \u001B[49m\u001B[43mmetadatas\u001B[49m\u001B[38;5;241;43m=\u001B[39;49m\u001B[43mmetadatas\u001B[49m\u001B[43m,\u001B[49m\n\u001B[0;32m    586\u001B[0m \u001B[43m    \u001B[49m\u001B[43mids\u001B[49m\u001B[38;5;241;43m=\u001B[39;49m\u001B[43mids\u001B[49m\u001B[43m,\u001B[49m\n\u001B[0;32m    587\u001B[0m \u001B[43m    \u001B[49m\u001B[43mnamespace\u001B[49m\u001B[38;5;241;43m=\u001B[39;49m\u001B[43mnamespace\u001B[49m\u001B[43m,\u001B[49m\n\u001B[0;32m    588\u001B[0m \u001B[43m    \u001B[49m\u001B[43mbatch_size\u001B[49m\u001B[38;5;241;43m=\u001B[39;49m\u001B[43mbatch_size\u001B[49m\u001B[43m,\u001B[49m\n\u001B[0;32m    589\u001B[0m \u001B[43m    \u001B[49m\u001B[43membedding_chunk_size\u001B[49m\u001B[38;5;241;43m=\u001B[39;49m\u001B[43membeddings_chunk_size\u001B[49m\u001B[43m,\u001B[49m\n\u001B[0;32m    590\u001B[0m \u001B[43m    \u001B[49m\u001B[43masync_req\u001B[49m\u001B[38;5;241;43m=\u001B[39;49m\u001B[43masync_req\u001B[49m\u001B[43m,\u001B[49m\n\u001B[0;32m    591\u001B[0m \u001B[43m    \u001B[49m\u001B[43mid_prefix\u001B[49m\u001B[38;5;241;43m=\u001B[39;49m\u001B[43mid_prefix\u001B[49m\u001B[43m,\u001B[49m\n\u001B[0;32m    592\u001B[0m \u001B[43m    \u001B[49m\u001B[38;5;241;43m*\u001B[39;49m\u001B[38;5;241;43m*\u001B[39;49m\u001B[43m(\u001B[49m\u001B[43mupsert_kwargs\u001B[49m\u001B[43m \u001B[49m\u001B[38;5;129;43;01mor\u001B[39;49;00m\u001B[43m \u001B[49m\u001B[43m{\u001B[49m\u001B[43m}\u001B[49m\u001B[43m)\u001B[49m\u001B[43m,\u001B[49m\n\u001B[0;32m    593\u001B[0m \u001B[43m\u001B[49m\u001B[43m)\u001B[49m\n\u001B[0;32m    594\u001B[0m \u001B[38;5;28;01mreturn\u001B[39;00m pinecone\n",
      "File \u001B[1;32m~\\anaconda3\\envs\\dl_nlp2_env\\Lib\\site-packages\\langchain_pinecone\\vectorstores.py:292\u001B[0m, in \u001B[0;36mPineconeVectorStore.add_texts\u001B[1;34m(self, texts, metadatas, ids, namespace, batch_size, embedding_chunk_size, async_req, id_prefix, **kwargs)\u001B[0m\n\u001B[0;32m    281\u001B[0m \u001B[38;5;28;01mif\u001B[39;00m async_req:\n\u001B[0;32m    282\u001B[0m     \u001B[38;5;66;03m# Runs the pinecone upsert asynchronously.\u001B[39;00m\n\u001B[0;32m    283\u001B[0m     async_res \u001B[38;5;241m=\u001B[39m [\n\u001B[0;32m    284\u001B[0m         \u001B[38;5;28mself\u001B[39m\u001B[38;5;241m.\u001B[39m_index\u001B[38;5;241m.\u001B[39mupsert(\n\u001B[0;32m    285\u001B[0m             vectors\u001B[38;5;241m=\u001B[39mbatch_vector_tuples,\n\u001B[1;32m   (...)\u001B[0m\n\u001B[0;32m    290\u001B[0m         \u001B[38;5;28;01mfor\u001B[39;00m batch_vector_tuples \u001B[38;5;129;01min\u001B[39;00m batch_iterate(batch_size, vector_tuples)\n\u001B[0;32m    291\u001B[0m     ]\n\u001B[1;32m--> 292\u001B[0m     \u001B[43m[\u001B[49m\u001B[43mres\u001B[49m\u001B[38;5;241;43m.\u001B[39;49m\u001B[43mget\u001B[49m\u001B[43m(\u001B[49m\u001B[43m)\u001B[49m\u001B[43m \u001B[49m\u001B[38;5;28;43;01mfor\u001B[39;49;00m\u001B[43m \u001B[49m\u001B[43mres\u001B[49m\u001B[43m \u001B[49m\u001B[38;5;129;43;01min\u001B[39;49;00m\u001B[43m \u001B[49m\u001B[43masync_res\u001B[49m\u001B[43m]\u001B[49m\n\u001B[0;32m    293\u001B[0m \u001B[38;5;28;01melse\u001B[39;00m:\n\u001B[0;32m    294\u001B[0m     \u001B[38;5;28mself\u001B[39m\u001B[38;5;241m.\u001B[39m_index\u001B[38;5;241m.\u001B[39mupsert(\n\u001B[0;32m    295\u001B[0m         vectors\u001B[38;5;241m=\u001B[39mvector_tuples,\n\u001B[0;32m    296\u001B[0m         namespace\u001B[38;5;241m=\u001B[39mnamespace,\n\u001B[0;32m    297\u001B[0m         async_req\u001B[38;5;241m=\u001B[39masync_req,\n\u001B[0;32m    298\u001B[0m         \u001B[38;5;241m*\u001B[39m\u001B[38;5;241m*\u001B[39mkwargs,\n\u001B[0;32m    299\u001B[0m     )\n",
      "File \u001B[1;32m~\\anaconda3\\envs\\dl_nlp2_env\\Lib\\site-packages\\langchain_pinecone\\vectorstores.py:292\u001B[0m, in \u001B[0;36m<listcomp>\u001B[1;34m(.0)\u001B[0m\n\u001B[0;32m    281\u001B[0m \u001B[38;5;28;01mif\u001B[39;00m async_req:\n\u001B[0;32m    282\u001B[0m     \u001B[38;5;66;03m# Runs the pinecone upsert asynchronously.\u001B[39;00m\n\u001B[0;32m    283\u001B[0m     async_res \u001B[38;5;241m=\u001B[39m [\n\u001B[0;32m    284\u001B[0m         \u001B[38;5;28mself\u001B[39m\u001B[38;5;241m.\u001B[39m_index\u001B[38;5;241m.\u001B[39mupsert(\n\u001B[0;32m    285\u001B[0m             vectors\u001B[38;5;241m=\u001B[39mbatch_vector_tuples,\n\u001B[1;32m   (...)\u001B[0m\n\u001B[0;32m    290\u001B[0m         \u001B[38;5;28;01mfor\u001B[39;00m batch_vector_tuples \u001B[38;5;129;01min\u001B[39;00m batch_iterate(batch_size, vector_tuples)\n\u001B[0;32m    291\u001B[0m     ]\n\u001B[1;32m--> 292\u001B[0m     [\u001B[43mres\u001B[49m\u001B[38;5;241;43m.\u001B[39;49m\u001B[43mget\u001B[49m\u001B[43m(\u001B[49m\u001B[43m)\u001B[49m \u001B[38;5;28;01mfor\u001B[39;00m res \u001B[38;5;129;01min\u001B[39;00m async_res]\n\u001B[0;32m    293\u001B[0m \u001B[38;5;28;01melse\u001B[39;00m:\n\u001B[0;32m    294\u001B[0m     \u001B[38;5;28mself\u001B[39m\u001B[38;5;241m.\u001B[39m_index\u001B[38;5;241m.\u001B[39mupsert(\n\u001B[0;32m    295\u001B[0m         vectors\u001B[38;5;241m=\u001B[39mvector_tuples,\n\u001B[0;32m    296\u001B[0m         namespace\u001B[38;5;241m=\u001B[39mnamespace,\n\u001B[0;32m    297\u001B[0m         async_req\u001B[38;5;241m=\u001B[39masync_req,\n\u001B[0;32m    298\u001B[0m         \u001B[38;5;241m*\u001B[39m\u001B[38;5;241m*\u001B[39mkwargs,\n\u001B[0;32m    299\u001B[0m     )\n",
      "File \u001B[1;32m~\\anaconda3\\envs\\dl_nlp2_env\\Lib\\multiprocessing\\pool.py:774\u001B[0m, in \u001B[0;36mApplyResult.get\u001B[1;34m(self, timeout)\u001B[0m\n\u001B[0;32m    772\u001B[0m     \u001B[38;5;28;01mreturn\u001B[39;00m \u001B[38;5;28mself\u001B[39m\u001B[38;5;241m.\u001B[39m_value\n\u001B[0;32m    773\u001B[0m \u001B[38;5;28;01melse\u001B[39;00m:\n\u001B[1;32m--> 774\u001B[0m     \u001B[38;5;28;01mraise\u001B[39;00m \u001B[38;5;28mself\u001B[39m\u001B[38;5;241m.\u001B[39m_value\n",
      "File \u001B[1;32m~\\anaconda3\\envs\\dl_nlp2_env\\Lib\\multiprocessing\\pool.py:125\u001B[0m, in \u001B[0;36mworker\u001B[1;34m(inqueue, outqueue, initializer, initargs, maxtasks, wrap_exception)\u001B[0m\n\u001B[0;32m    123\u001B[0m job, i, func, args, kwds \u001B[38;5;241m=\u001B[39m task\n\u001B[0;32m    124\u001B[0m \u001B[38;5;28;01mtry\u001B[39;00m:\n\u001B[1;32m--> 125\u001B[0m     result \u001B[38;5;241m=\u001B[39m (\u001B[38;5;28;01mTrue\u001B[39;00m, \u001B[43mfunc\u001B[49m\u001B[43m(\u001B[49m\u001B[38;5;241;43m*\u001B[39;49m\u001B[43margs\u001B[49m\u001B[43m,\u001B[49m\u001B[43m \u001B[49m\u001B[38;5;241;43m*\u001B[39;49m\u001B[38;5;241;43m*\u001B[39;49m\u001B[43mkwds\u001B[49m\u001B[43m)\u001B[49m)\n\u001B[0;32m    126\u001B[0m \u001B[38;5;28;01mexcept\u001B[39;00m \u001B[38;5;167;01mException\u001B[39;00m \u001B[38;5;28;01mas\u001B[39;00m e:\n\u001B[0;32m    127\u001B[0m     \u001B[38;5;28;01mif\u001B[39;00m wrap_exception \u001B[38;5;129;01mand\u001B[39;00m func \u001B[38;5;129;01mis\u001B[39;00m \u001B[38;5;129;01mnot\u001B[39;00m _helper_reraises_exception:\n",
      "File \u001B[1;32m~\\anaconda3\\envs\\dl_nlp2_env\\Lib\\site-packages\\pinecone\\core\\openapi\\shared\\api_client.py:187\u001B[0m, in \u001B[0;36mApiClient.__call_api\u001B[1;34m(self, resource_path, method, path_params, query_params, header_params, body, post_params, files, response_type, auth_settings, _return_http_data_only, collection_formats, _preload_content, _request_timeout, _host, _check_type)\u001B[0m\n\u001B[0;32m    185\u001B[0m \u001B[38;5;28;01mexcept\u001B[39;00m PineconeApiException \u001B[38;5;28;01mas\u001B[39;00m e:\n\u001B[0;32m    186\u001B[0m     e\u001B[38;5;241m.\u001B[39mbody \u001B[38;5;241m=\u001B[39m e\u001B[38;5;241m.\u001B[39mbody\u001B[38;5;241m.\u001B[39mdecode(\u001B[38;5;124m\"\u001B[39m\u001B[38;5;124mutf-8\u001B[39m\u001B[38;5;124m\"\u001B[39m)\n\u001B[1;32m--> 187\u001B[0m     \u001B[38;5;28;01mraise\u001B[39;00m e\n\u001B[0;32m    189\u001B[0m \u001B[38;5;28mself\u001B[39m\u001B[38;5;241m.\u001B[39mlast_response \u001B[38;5;241m=\u001B[39m response_data\n\u001B[0;32m    191\u001B[0m return_data \u001B[38;5;241m=\u001B[39m response_data\n",
      "File \u001B[1;32m~\\anaconda3\\envs\\dl_nlp2_env\\Lib\\site-packages\\pinecone\\core\\openapi\\shared\\api_client.py:175\u001B[0m, in \u001B[0;36mApiClient.__call_api\u001B[1;34m(self, resource_path, method, path_params, query_params, header_params, body, post_params, files, response_type, auth_settings, _return_http_data_only, collection_formats, _preload_content, _request_timeout, _host, _check_type)\u001B[0m\n\u001B[0;32m    171\u001B[0m     url \u001B[38;5;241m=\u001B[39m _host \u001B[38;5;241m+\u001B[39m resource_path\n\u001B[0;32m    173\u001B[0m \u001B[38;5;28;01mtry\u001B[39;00m:\n\u001B[0;32m    174\u001B[0m     \u001B[38;5;66;03m# perform request and return response\u001B[39;00m\n\u001B[1;32m--> 175\u001B[0m     response_data \u001B[38;5;241m=\u001B[39m \u001B[38;5;28;43mself\u001B[39;49m\u001B[38;5;241;43m.\u001B[39;49m\u001B[43mrequest\u001B[49m\u001B[43m(\u001B[49m\n\u001B[0;32m    176\u001B[0m \u001B[43m        \u001B[49m\u001B[43mmethod\u001B[49m\u001B[43m,\u001B[49m\n\u001B[0;32m    177\u001B[0m \u001B[43m        \u001B[49m\u001B[43murl\u001B[49m\u001B[43m,\u001B[49m\n\u001B[0;32m    178\u001B[0m \u001B[43m        \u001B[49m\u001B[43mquery_params\u001B[49m\u001B[38;5;241;43m=\u001B[39;49m\u001B[43mquery_params\u001B[49m\u001B[43m,\u001B[49m\n\u001B[0;32m    179\u001B[0m \u001B[43m        \u001B[49m\u001B[43mheaders\u001B[49m\u001B[38;5;241;43m=\u001B[39;49m\u001B[43mheader_params\u001B[49m\u001B[43m,\u001B[49m\n\u001B[0;32m    180\u001B[0m \u001B[43m        \u001B[49m\u001B[43mpost_params\u001B[49m\u001B[38;5;241;43m=\u001B[39;49m\u001B[43mpost_params\u001B[49m\u001B[43m,\u001B[49m\n\u001B[0;32m    181\u001B[0m \u001B[43m        \u001B[49m\u001B[43mbody\u001B[49m\u001B[38;5;241;43m=\u001B[39;49m\u001B[43mbody\u001B[49m\u001B[43m,\u001B[49m\n\u001B[0;32m    182\u001B[0m \u001B[43m        \u001B[49m\u001B[43m_preload_content\u001B[49m\u001B[38;5;241;43m=\u001B[39;49m\u001B[43m_preload_content\u001B[49m\u001B[43m,\u001B[49m\n\u001B[0;32m    183\u001B[0m \u001B[43m        \u001B[49m\u001B[43m_request_timeout\u001B[49m\u001B[38;5;241;43m=\u001B[39;49m\u001B[43m_request_timeout\u001B[49m\u001B[43m,\u001B[49m\n\u001B[0;32m    184\u001B[0m \u001B[43m    \u001B[49m\u001B[43m)\u001B[49m\n\u001B[0;32m    185\u001B[0m \u001B[38;5;28;01mexcept\u001B[39;00m PineconeApiException \u001B[38;5;28;01mas\u001B[39;00m e:\n\u001B[0;32m    186\u001B[0m     e\u001B[38;5;241m.\u001B[39mbody \u001B[38;5;241m=\u001B[39m e\u001B[38;5;241m.\u001B[39mbody\u001B[38;5;241m.\u001B[39mdecode(\u001B[38;5;124m\"\u001B[39m\u001B[38;5;124mutf-8\u001B[39m\u001B[38;5;124m\"\u001B[39m)\n",
      "File \u001B[1;32m~\\anaconda3\\envs\\dl_nlp2_env\\Lib\\site-packages\\pinecone\\core\\openapi\\shared\\api_client.py:460\u001B[0m, in \u001B[0;36mApiClient.request\u001B[1;34m(self, method, url, query_params, headers, post_params, body, _preload_content, _request_timeout)\u001B[0m\n\u001B[0;32m    450\u001B[0m     \u001B[38;5;28;01mreturn\u001B[39;00m \u001B[38;5;28mself\u001B[39m\u001B[38;5;241m.\u001B[39mrest_client\u001B[38;5;241m.\u001B[39mOPTIONS(\n\u001B[0;32m    451\u001B[0m         url,\n\u001B[0;32m    452\u001B[0m         query_params\u001B[38;5;241m=\u001B[39mquery_params,\n\u001B[1;32m   (...)\u001B[0m\n\u001B[0;32m    457\u001B[0m         body\u001B[38;5;241m=\u001B[39mbody,\n\u001B[0;32m    458\u001B[0m     )\n\u001B[0;32m    459\u001B[0m \u001B[38;5;28;01melif\u001B[39;00m method \u001B[38;5;241m==\u001B[39m \u001B[38;5;124m\"\u001B[39m\u001B[38;5;124mPOST\u001B[39m\u001B[38;5;124m\"\u001B[39m:\n\u001B[1;32m--> 460\u001B[0m     \u001B[38;5;28;01mreturn\u001B[39;00m \u001B[38;5;28;43mself\u001B[39;49m\u001B[38;5;241;43m.\u001B[39;49m\u001B[43mrest_client\u001B[49m\u001B[38;5;241;43m.\u001B[39;49m\u001B[43mPOST\u001B[49m\u001B[43m(\u001B[49m\n\u001B[0;32m    461\u001B[0m \u001B[43m        \u001B[49m\u001B[43murl\u001B[49m\u001B[43m,\u001B[49m\n\u001B[0;32m    462\u001B[0m \u001B[43m        \u001B[49m\u001B[43mquery_params\u001B[49m\u001B[38;5;241;43m=\u001B[39;49m\u001B[43mquery_params\u001B[49m\u001B[43m,\u001B[49m\n\u001B[0;32m    463\u001B[0m \u001B[43m        \u001B[49m\u001B[43mheaders\u001B[49m\u001B[38;5;241;43m=\u001B[39;49m\u001B[43mheaders\u001B[49m\u001B[43m,\u001B[49m\n\u001B[0;32m    464\u001B[0m \u001B[43m        \u001B[49m\u001B[43mpost_params\u001B[49m\u001B[38;5;241;43m=\u001B[39;49m\u001B[43mpost_params\u001B[49m\u001B[43m,\u001B[49m\n\u001B[0;32m    465\u001B[0m \u001B[43m        \u001B[49m\u001B[43m_preload_content\u001B[49m\u001B[38;5;241;43m=\u001B[39;49m\u001B[43m_preload_content\u001B[49m\u001B[43m,\u001B[49m\n\u001B[0;32m    466\u001B[0m \u001B[43m        \u001B[49m\u001B[43m_request_timeout\u001B[49m\u001B[38;5;241;43m=\u001B[39;49m\u001B[43m_request_timeout\u001B[49m\u001B[43m,\u001B[49m\n\u001B[0;32m    467\u001B[0m \u001B[43m        \u001B[49m\u001B[43mbody\u001B[49m\u001B[38;5;241;43m=\u001B[39;49m\u001B[43mbody\u001B[49m\u001B[43m,\u001B[49m\n\u001B[0;32m    468\u001B[0m \u001B[43m    \u001B[49m\u001B[43m)\u001B[49m\n\u001B[0;32m    469\u001B[0m \u001B[38;5;28;01melif\u001B[39;00m method \u001B[38;5;241m==\u001B[39m \u001B[38;5;124m\"\u001B[39m\u001B[38;5;124mPUT\u001B[39m\u001B[38;5;124m\"\u001B[39m:\n\u001B[0;32m    470\u001B[0m     \u001B[38;5;28;01mreturn\u001B[39;00m \u001B[38;5;28mself\u001B[39m\u001B[38;5;241m.\u001B[39mrest_client\u001B[38;5;241m.\u001B[39mPUT(\n\u001B[0;32m    471\u001B[0m         url,\n\u001B[0;32m    472\u001B[0m         query_params\u001B[38;5;241m=\u001B[39mquery_params,\n\u001B[1;32m   (...)\u001B[0m\n\u001B[0;32m    477\u001B[0m         body\u001B[38;5;241m=\u001B[39mbody,\n\u001B[0;32m    478\u001B[0m     )\n",
      "File \u001B[1;32m~\\anaconda3\\envs\\dl_nlp2_env\\Lib\\site-packages\\pinecone\\core\\openapi\\shared\\rest.py:345\u001B[0m, in \u001B[0;36mRESTClientObject.POST\u001B[1;34m(self, url, headers, query_params, post_params, body, _preload_content, _request_timeout)\u001B[0m\n\u001B[0;32m    335\u001B[0m \u001B[38;5;28;01mdef\u001B[39;00m \u001B[38;5;21mPOST\u001B[39m(\n\u001B[0;32m    336\u001B[0m     \u001B[38;5;28mself\u001B[39m,\n\u001B[0;32m    337\u001B[0m     url,\n\u001B[1;32m   (...)\u001B[0m\n\u001B[0;32m    343\u001B[0m     _request_timeout\u001B[38;5;241m=\u001B[39m\u001B[38;5;28;01mNone\u001B[39;00m,\n\u001B[0;32m    344\u001B[0m ):\n\u001B[1;32m--> 345\u001B[0m     \u001B[38;5;28;01mreturn\u001B[39;00m \u001B[38;5;28;43mself\u001B[39;49m\u001B[38;5;241;43m.\u001B[39;49m\u001B[43mrequest\u001B[49m\u001B[43m(\u001B[49m\n\u001B[0;32m    346\u001B[0m \u001B[43m        \u001B[49m\u001B[38;5;124;43m\"\u001B[39;49m\u001B[38;5;124;43mPOST\u001B[39;49m\u001B[38;5;124;43m\"\u001B[39;49m\u001B[43m,\u001B[49m\n\u001B[0;32m    347\u001B[0m \u001B[43m        \u001B[49m\u001B[43murl\u001B[49m\u001B[43m,\u001B[49m\n\u001B[0;32m    348\u001B[0m \u001B[43m        \u001B[49m\u001B[43mheaders\u001B[49m\u001B[38;5;241;43m=\u001B[39;49m\u001B[43mheaders\u001B[49m\u001B[43m,\u001B[49m\n\u001B[0;32m    349\u001B[0m \u001B[43m        \u001B[49m\u001B[43mquery_params\u001B[49m\u001B[38;5;241;43m=\u001B[39;49m\u001B[43mquery_params\u001B[49m\u001B[43m,\u001B[49m\n\u001B[0;32m    350\u001B[0m \u001B[43m        \u001B[49m\u001B[43mpost_params\u001B[49m\u001B[38;5;241;43m=\u001B[39;49m\u001B[43mpost_params\u001B[49m\u001B[43m,\u001B[49m\n\u001B[0;32m    351\u001B[0m \u001B[43m        \u001B[49m\u001B[43m_preload_content\u001B[49m\u001B[38;5;241;43m=\u001B[39;49m\u001B[43m_preload_content\u001B[49m\u001B[43m,\u001B[49m\n\u001B[0;32m    352\u001B[0m \u001B[43m        \u001B[49m\u001B[43m_request_timeout\u001B[49m\u001B[38;5;241;43m=\u001B[39;49m\u001B[43m_request_timeout\u001B[49m\u001B[43m,\u001B[49m\n\u001B[0;32m    353\u001B[0m \u001B[43m        \u001B[49m\u001B[43mbody\u001B[49m\u001B[38;5;241;43m=\u001B[39;49m\u001B[43mbody\u001B[49m\u001B[43m,\u001B[49m\n\u001B[0;32m    354\u001B[0m \u001B[43m    \u001B[49m\u001B[43m)\u001B[49m\n",
      "File \u001B[1;32m~\\anaconda3\\envs\\dl_nlp2_env\\Lib\\site-packages\\pinecone\\core\\openapi\\shared\\rest.py:279\u001B[0m, in \u001B[0;36mRESTClientObject.request\u001B[1;34m(self, method, url, query_params, headers, body, post_params, _preload_content, _request_timeout)\u001B[0m\n\u001B[0;32m    276\u001B[0m     \u001B[38;5;28;01mif\u001B[39;00m \u001B[38;5;241m500\u001B[39m \u001B[38;5;241m<\u001B[39m\u001B[38;5;241m=\u001B[39m r\u001B[38;5;241m.\u001B[39mstatus \u001B[38;5;241m<\u001B[39m\u001B[38;5;241m=\u001B[39m \u001B[38;5;241m599\u001B[39m:\n\u001B[0;32m    277\u001B[0m         \u001B[38;5;28;01mraise\u001B[39;00m ServiceException(http_resp\u001B[38;5;241m=\u001B[39mr)\n\u001B[1;32m--> 279\u001B[0m     \u001B[38;5;28;01mraise\u001B[39;00m PineconeApiException(http_resp\u001B[38;5;241m=\u001B[39mr)\n\u001B[0;32m    281\u001B[0m \u001B[38;5;28;01mreturn\u001B[39;00m r\n",
      "\u001B[1;31mPineconeApiException\u001B[0m: (429)\nReason: Too Many Requests\nHTTP response headers: HTTPHeaderDict({'Date': 'Wed, 18 Dec 2024 06:03:07 GMT', 'Content-Type': 'application/json', 'Content-Length': '166', 'Connection': 'keep-alive', 'x-pinecone-request-latency-ms': '1287', 'x-pinecone-request-id': '6339427293384721043', 'x-envoy-upstream-service-time': '3', 'server': 'envoy'})\nHTTP response body: {\"code\":8,\"message\":\"Request failed. You've reached your write unit limit for the current month (2000000). To continue writing data, upgrade your plan.\",\"details\":[]}\n"
     ]
    }
   ],
   "execution_count": 12
  },
  {
   "metadata": {
    "ExecuteTime": {
     "end_time": "2024-12-18T06:27:32.756067Z",
     "start_time": "2024-12-18T06:27:32.726547Z"
    }
   },
   "cell_type": "code",
   "source": [
    "import pinecone\n",
    "index = pinecone.Index(PINECONE_INDEX_NAME)\n",
    "\n",
    "# 네임스페이스 내 모든 데이터 삭제\n",
    "index.delete(delete_all=True, namespace=PINECONE_NAMESPACE)"
   ],
   "id": "ea3e51031f9f5fea",
   "outputs": [
    {
     "ename": "TypeError",
     "evalue": "Index.__init__() missing 1 required positional argument: 'host'",
     "output_type": "error",
     "traceback": [
      "\u001B[1;31m---------------------------------------------------------------------------\u001B[0m",
      "\u001B[1;31mTypeError\u001B[0m                                 Traceback (most recent call last)",
      "Cell \u001B[1;32mIn[13], line 2\u001B[0m\n\u001B[0;32m      1\u001B[0m \u001B[38;5;28;01mimport\u001B[39;00m \u001B[38;5;21;01mpinecone\u001B[39;00m\n\u001B[1;32m----> 2\u001B[0m index \u001B[38;5;241m=\u001B[39m \u001B[43mpinecone\u001B[49m\u001B[38;5;241;43m.\u001B[39;49m\u001B[43mIndex\u001B[49m\u001B[43m(\u001B[49m\u001B[43mPINECONE_INDEX_NAME\u001B[49m\u001B[43m)\u001B[49m\n\u001B[0;32m      4\u001B[0m \u001B[38;5;66;03m# 네임스페이스 내 모든 데이터 삭제\u001B[39;00m\n\u001B[0;32m      5\u001B[0m index\u001B[38;5;241m.\u001B[39mdelete(delete_all\u001B[38;5;241m=\u001B[39m\u001B[38;5;28;01mTrue\u001B[39;00m, namespace\u001B[38;5;241m=\u001B[39mPINECONE_NAMESPACE)\n",
      "\u001B[1;31mTypeError\u001B[0m: Index.__init__() missing 1 required positional argument: 'host'"
     ]
    }
   ],
   "execution_count": 13
  },
  {
   "metadata": {},
   "cell_type": "code",
   "outputs": [],
   "execution_count": null,
   "source": [
    "import pinecone\n",
    "import os\n",
    "\n",
    "# Pinecone 초기화\n",
    "pinecone.init(\n",
    "    api_key=os.getenv(\"PINECONE_API_KEY\"),        # 환경 변수에서 API 키 불러오기\n",
    "    environment=os.getenv(\"PINECONE_ENVIRONMENT\")  # 환경 변수에서 환경 설정 불러오기\n",
    ")\n",
    "\n",
    "# 인덱스 객체 생성\n",
    "index = pinecone.Index(os.getenv(\"PINECONE_INDEX_NAME\"))\n",
    "\n",
    "# 네임스페이스 내 모든 데이터 삭제\n",
    "index.delete(delete_all=True, namespace=os.getenv(\"PINECONE_NAMESPACE\"))\n",
    "\n",
    "print(\"네임스페이스 내 데이터가 성공적으로 삭제되었습니다.\")"
   ],
   "id": "9dc56f0ce162f4b7"
  },
  {
   "metadata": {
    "ExecuteTime": {
     "end_time": "2024-12-18T07:17:22.060745Z",
     "start_time": "2024-12-18T07:17:18.521046Z"
    }
   },
   "cell_type": "code",
   "source": [
    "# 클라이언트 객체\n",
    "from langchain_pinecone import PineconeVectorStore\n",
    "vector_db = PineconeVectorStore(\n",
    "    embedding=embeddings,\n",
    "    index_name=PINECONE_INDEX_NAME,\n",
    "    namespace=PINECONE_NAMESPACE,\n",
    "    pinecone_api_key=PINECONE_API_KEY)\n",
    "\n",
    "results = vector_db.similarity_search(\n",
    "    \"에이서캡슐(아세클로페낙)_(0.1g/1캡슐)\",\n",
    "    k=5,\n",
    "    namespace=PINECONE_NAMESPACE) # 검색의 논리적인 단위\n",
    "results"
   ],
   "id": "6476686845758f83",
   "outputs": [
    {
     "data": {
      "text/plain": [
       "[Document(id='48b37556-926d-4117-b1b7-d5d83a21e6d5', metadata={}, page_content=\"{'제품명': '아세틸란캡슐(아세틸시스테인)', '제품영문명': 'Acetylan Cap.', '업체명': '지엘파마(주)', '업체영문명': 'GL Pharma', '품목구분': '의약품', '주성분': '아세틸시스테인', '첨가제': '라우릴황산나트륨,스테아르산마그네슘,상,하부 흰색의 경질캡슐,옥수수전분', '전문의약품': '일반의약품', '완제/원료': '완제의약품', '마약구분': nan, '모양': '장방형', '색상': nan, '제형': nan, '장축': 18.8, '단축': 6.3, '묶음의약품정보': nan, 'e은약요': 201901857.0, '주성분영문': 'Acetylcysteine'}\"),\n",
       " Document(id='e2bffbd0-9a6c-461e-ba94-14ae21d7859f', metadata={}, page_content=\"{'제품명': '아제인캡슐(아세틸시스테인)', '제품영문명': 'Azein Cap.', '업체명': '알파제약(주)', '업체영문명': 'Alpha Pharm. Co., Ltd.', '품목구분': '의약품', '주성분': '아세틸시스테인', '첨가제': '유당수화물,(상ㆍ하)청색캡슐,스테아르산마그네슘,탤크,실리콘디옥시드,옥수수전분,(상부)백색(하부)청색캡슐', '전문의약품': '일반의약품', '완제/원료': '완제의약품', '마약구분': nan, '모양': '장방형', '색상': nan, '제형': nan, '장축': 19.1, '단축': 6.63, '묶음의약품정보': nan, 'e은약요': 198902058.0, '주성분영문': 'Acetylcysteine'}\"),\n",
       " Document(id='c5d3635f-123d-4c7b-b40b-2f36d925eb63', metadata={}, page_content=\"{'제품명': '아시틴캡슐(아세틸시스테인)', '제품영문명': 'ACYTIN CAPS.', '업체명': '(주)파마킹', '업체영문명': 'Pharmaking Co., Ltd.', '품목구분': '의약품', '주성분': '아세틸시스테인', '첨가제': '상하부 담청색의 경질캡슐,유당수화물,스테아르산마그네슘,탤크,옥수수전분,바닐린', '전문의약품': '일반의약품', '완제/원료': '완제의약품', '마약구분': nan, '모양': '장방형', '색상': nan, '제형': nan, '장축': 17.65, '단축': 6.0, '묶음의약품정보': nan, 'e은약요': 199601956.0, '주성분영문': 'Acetylcysteine'}\"),\n",
       " Document(id='8ae2db54-d8dc-4dde-9106-a37350d482e0', metadata={}, page_content=\"{'제품명': '뮤테인캡슐(아세틸시스테인)', '제품영문명': 'Mutein Cap.', '업체명': '한국코러스(주)', '업체영문명': 'Hankook Korus Pharm. Co., Ltd', '품목구분': '의약품', '주성분': '아세틸시스테인', '첨가제': '라우릴황산나트륨,스테아르산마그네슘,상,하부 흰색의 경질캡슐,옥수수전분', '전문의약품': '일반의약품', '완제/원료': '완제의약품', '마약구분': nan, '모양': '장방형', '색상': nan, '제형': nan, '장축': 19.1, '단축': 6.63, '묶음의약품정보': nan, 'e은약요': 201500723.0, '주성분영문': 'Acetylcysteine'}\"),\n",
       " Document(id='7948759a-3a9d-40f8-b1a5-8e808699fa2c', metadata={}, page_content=\"{'제품명': '시스타인캡슐(아세틸시스테인)', '제품영문명': 'Cystaine Cap.', '업체명': '동광제약(주)', '업체영문명': 'Dongkwang Pharm. Co., Ltd.', '품목구분': '의약품', '주성분': '아세틸시스테인', '첨가제': '전분 글리콘산나트륨,유당수화물,스테아르산마그네슘,콜로이드성이산화규소,바나나미크론,탤크,(상ㆍ하 녹색)캡슐', '전문의약품': '일반의약품', '완제/원료': '완제의약품', '마약구분': nan, '모양': '장방형', '색상': nan, '제형': nan, '장축': 17.6, '단축': 6.07, '묶음의약품정보': nan, 'e은약요': 199000139.0, '주성분영문': 'Acetylcysteine'}\")]"
      ]
     },
     "execution_count": 8,
     "metadata": {},
     "output_type": "execute_result"
    }
   ],
   "execution_count": 8
  },
  {
   "metadata": {},
   "cell_type": "code",
   "outputs": [],
   "execution_count": null,
   "source": "",
   "id": "4e97f31efd86f09a"
  }
 ],
 "metadata": {
  "kernelspec": {
   "display_name": "Python 3",
   "language": "python",
   "name": "python3"
  },
  "language_info": {
   "codemirror_mode": {
    "name": "ipython",
    "version": 2
   },
   "file_extension": ".py",
   "mimetype": "text/x-python",
   "name": "python",
   "nbconvert_exporter": "python",
   "pygments_lexer": "ipython2",
   "version": "2.7.6"
  }
 },
 "nbformat": 4,
 "nbformat_minor": 5
}
