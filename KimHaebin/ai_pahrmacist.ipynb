{
 "cells": [
  {
   "cell_type": "code",
   "id": "initial_id",
   "metadata": {
    "collapsed": true,
    "ExecuteTime": {
     "end_time": "2024-12-19T15:49:37.377165Z",
     "start_time": "2024-12-19T15:49:37.359187Z"
    }
   },
   "source": [
    "from dotenv import load_dotenv\n",
    "load_dotenv()\n",
    "\n",
    "load_dotenv(override=True)"
   ],
   "outputs": [
    {
     "data": {
      "text/plain": [
       "True"
      ]
     },
     "execution_count": 11,
     "metadata": {},
     "output_type": "execute_result"
    }
   ],
   "execution_count": 11
  },
  {
   "metadata": {
    "ExecuteTime": {
     "end_time": "2024-12-19T14:01:01.358962Z",
     "start_time": "2024-12-19T14:00:54.828588Z"
    }
   },
   "cell_type": "code",
   "source": [
    "from langchain_openai import ChatOpenAI\n",
    "\n",
    "llm = ChatOpenAI()\n",
    "llm.invoke(\"Hello, world!\")"
   ],
   "id": "fd1a4e749f2e6ac6",
   "outputs": [
    {
     "data": {
      "text/plain": [
       "AIMessage(content='Hello! How can I assist you today?', additional_kwargs={'refusal': None}, response_metadata={'token_usage': {'completion_tokens': 9, 'prompt_tokens': 11, 'total_tokens': 20, 'completion_tokens_details': {'accepted_prediction_tokens': 0, 'audio_tokens': 0, 'reasoning_tokens': 0, 'rejected_prediction_tokens': 0}, 'prompt_tokens_details': {'audio_tokens': 0, 'cached_tokens': 0}}, 'model_name': 'gpt-3.5-turbo-0125', 'system_fingerprint': None, 'finish_reason': 'stop', 'logprobs': None}, id='run-922cd1b8-ffad-4c01-ab10-fa7bb8d61c16-0', usage_metadata={'input_tokens': 11, 'output_tokens': 9, 'total_tokens': 20, 'input_token_details': {'audio': 0, 'cache_read': 0}, 'output_token_details': {'audio': 0, 'reasoning': 0}})"
      ]
     },
     "execution_count": 2,
     "metadata": {},
     "output_type": "execute_result"
    }
   ],
   "execution_count": 2
  },
  {
   "metadata": {
    "ExecuteTime": {
     "end_time": "2024-12-19T15:49:40.125496Z",
     "start_time": "2024-12-19T15:49:40.102506Z"
    }
   },
   "cell_type": "code",
   "source": [
    "import os\n",
    "PINECONE_API_KEY = os.getenv(\"PINECONE_API_KEY\")\n",
    "PINECONE_INDEX_NAME = os.getenv(\"PINECONE_INDEX_NAME\")\n",
    "PINECONE_NAMESPACE = os.getenv(\"PINECONE_NAMESPACE\")\n",
    "PINECONE_INDEX_NAME_2 = os.getenv(\"PINECONE_INDEX_NAME_2\")\n",
    "PINECONE_NAMESPACE_2 = os.getenv(\"PINECONE_NAMESPACE_2\")\n",
    "\n",
    "print(PINECONE_API_KEY, PINECONE_INDEX_NAME, PINECONE_NAMESPACE, PINECONE_INDEX_NAME_2, PINECONE_NAMESPACE_2)"
   ],
   "id": "8b04e34c36f2fc59",
   "outputs": [
    {
     "name": "stdout",
     "output_type": "stream",
     "text": [
      "pcsk_5TkRik_EzGTnXtpN1c26rjgbrhySAUqgAAHhR9QEmje4vwZkMoEKiADwUKrPjkEAQwfsTs dur-pregnancy dur-pregnancy-ns ai-drug-info ai-drug-info-ns\n"
     ]
    }
   ],
   "execution_count": 12
  },
  {
   "metadata": {},
   "cell_type": "markdown",
   "source": "# 1. 임산부 금기 여부 Retrieval",
   "id": "a728d0e6bdf1182c"
  },
  {
   "metadata": {
    "ExecuteTime": {
     "end_time": "2024-12-19T15:49:43.682894Z",
     "start_time": "2024-12-19T15:49:43.673992Z"
    }
   },
   "cell_type": "code",
   "source": [
    "from langchain_openai.embeddings import OpenAIEmbeddings\n",
    "from langchain_pinecone import PineconeVectorStore\n",
    "\n",
    "def dur_pregnacy_similarity(query):\n",
    "    embeddings = OpenAIEmbeddings(model=\"text-embedding-3-small\")\n",
    "\n",
    "    dur_vector_db = PineconeVectorStore(\n",
    "        embedding=embeddings,\n",
    "        index_name=PINECONE_INDEX_NAME,\n",
    "        namespace=PINECONE_NAMESPACE,\n",
    "        pinecone_api_key=PINECONE_API_KEY\n",
    "    )\n",
    "    \n",
    "    results = dur_vector_db.similarity_search(    \n",
    "    query=query,\n",
    "    k=5,\n",
    "    namespace=PINECONE_NAMESPACE)\n",
    "    \n",
    "    return {\n",
    "        \"medicine_name\":query,\n",
    "        \"dur_context\": \"\\n\".join([doc.page_content for doc in results])\n",
    "    }\n",
    "    "
   ],
   "id": "35dacaaf48d7f1a4",
   "outputs": [],
   "execution_count": 13
  },
  {
   "metadata": {
    "ExecuteTime": {
     "end_time": "2024-12-19T16:20:02.754712Z",
     "start_time": "2024-12-19T16:19:59.547578Z"
    }
   },
   "cell_type": "code",
   "source": "dur_pregnacy_similarity('에이서캡슐(아세클로페낙)')",
   "id": "f19e355e951cdc9e",
   "outputs": [
    {
     "data": {
      "text/plain": [
       "{'medicine_name': '에이서캡슐(아세클로페낙)',\n",
       " 'dur_context': '성분명: aceclofenac\\n제품명: 에이서캡슐(아세클로페낙)_(0.1g/1캡슐)\\n업체명: 경동제약(주)\\n금기등급: 2\\n상세정보: 임부에 대한 안전성 미확립.임신 말기에 투여시 태아의 동맥관조기폐쇄 가능성.동물실험에서 비스테로이드성 소염진통제는 난산발생빈도 증가, 분만지연, 태아 생존율 감소 보고.임신 약 20주 이후 비스테로이드성 소염제의 사용은 태아의 신기능 이상을 일으켜 양수 과소증 유발 가능 및 경우에 따라 신생아 신장애 발생 가능\\n성분명: cilostazol\\n제품명: 시타졸서방캡슐100mg(실로스타졸)_(0.1g/1캡슐)\\n업체명: 동광제약(주)\\n금기등급: 2\\n상세정보: 동물실험에서 이상태자의 증가 및 출생시의 저체중, 사망 증가 보고.\\n성분명: cilostazol\\n제품명: 시타졸서방캡슐200mg(실로스타졸)_(0.2g/1캡슐)\\n업체명: 동광제약(주)\\n금기등급: 2\\n상세정보: 동물실험에서 이상태자의 증가 및 출생시의 저체중, 사망 증가 보고.\\n성분명: ginkgo biloba leaf ext. + ginseng 30% ethanol ext.\\n제품명: 징코산캡슐_(1캡슐)\\n업체명: (주)한국파비스제약\\n금기등급: 2\\n상세정보: (정제, 액제, 캡슐제) 임신 중 투여에 대한 충분한 사용경험 적음 (주사제) -\\n성분명: Diacerein\\n제품명: 아세렌캡슐(디아세레인)_(50mg/1캡슐)\\n업체명: 대화제약(주)\\n금기등급: 2\\n상세정보: 동물실험에서 태자 골형성 지연 보고'}"
      ]
     },
     "execution_count": 27,
     "metadata": {},
     "output_type": "execute_result"
    }
   ],
   "execution_count": 27
  },
  {
   "metadata": {
    "ExecuteTime": {
     "end_time": "2024-12-19T16:00:21.079662Z",
     "start_time": "2024-12-19T16:00:18.011873Z"
    }
   },
   "cell_type": "code",
   "source": [
    "from langchain_core.runnables import RunnableLambda\n",
    "chain = RunnableLambda(dur_pregnacy_similarity)\n",
    "chain.invoke('에이서캡슐(아세클로페낙)')"
   ],
   "id": "a2078162f97e17bd",
   "outputs": [
    {
     "data": {
      "text/plain": [
       "{'medicine_name': '에이서캡슐(아세클로페낙)',\n",
       " 'dur_context': '성분명: aceclofenac\\n제품명: 에이서캡슐(아세클로페낙)_(0.1g/1캡슐)\\n업체명: 경동제약(주)\\n금기등급: 2\\n상세정보: 임부에 대한 안전성 미확립.임신 말기에 투여시 태아의 동맥관조기폐쇄 가능성.동물실험에서 비스테로이드성 소염진통제는 난산발생빈도 증가, 분만지연, 태아 생존율 감소 보고.임신 약 20주 이후 비스테로이드성 소염제의 사용은 태아의 신기능 이상을 일으켜 양수 과소증 유발 가능 및 경우에 따라 신생아 신장애 발생 가능\\n성분명: cilostazol\\n제품명: 시타졸서방캡슐100mg(실로스타졸)_(0.1g/1캡슐)\\n업체명: 동광제약(주)\\n금기등급: 2\\n상세정보: 동물실험에서 이상태자의 증가 및 출생시의 저체중, 사망 증가 보고.\\n성분명: cilostazol\\n제품명: 시타졸서방캡슐200mg(실로스타졸)_(0.2g/1캡슐)\\n업체명: 동광제약(주)\\n금기등급: 2\\n상세정보: 동물실험에서 이상태자의 증가 및 출생시의 저체중, 사망 증가 보고.\\n성분명: ginkgo biloba leaf ext. + ginseng 30% ethanol ext.\\n제품명: 징코산캡슐_(1캡슐)\\n업체명: (주)한국파비스제약\\n금기등급: 2\\n상세정보: (정제, 액제, 캡슐제) 임신 중 투여에 대한 충분한 사용경험 적음 (주사제) -\\n성분명: Diacerein\\n제품명: 아세렌캡슐(디아세레인)_(50mg/1캡슐)\\n업체명: 대화제약(주)\\n금기등급: 2\\n상세정보: 동물실험에서 태자 골형성 지연 보고'}"
      ]
     },
     "execution_count": 18,
     "metadata": {},
     "output_type": "execute_result"
    }
   ],
   "execution_count": 18
  },
  {
   "metadata": {},
   "cell_type": "markdown",
   "source": "# 2. 약 정보 Retrieval",
   "id": "a5fd67a6d4aa7650"
  },
  {
   "metadata": {
    "ExecuteTime": {
     "end_time": "2024-12-19T16:08:35.640296Z",
     "start_time": "2024-12-19T16:08:35.620830Z"
    }
   },
   "cell_type": "code",
   "source": [
    "from langchain_openai.embeddings import OpenAIEmbeddings\n",
    "from langchain_pinecone import PineconeVectorStore\n",
    "\n",
    "def drug_info_similarity(query):\n",
    "    embeddings = OpenAIEmbeddings(model=\"text-embedding-3-small\")\n",
    "\n",
    "    dur_vector_db = PineconeVectorStore(\n",
    "        embedding=embeddings,\n",
    "        index_name=PINECONE_INDEX_NAME_2,\n",
    "        namespace=PINECONE_NAMESPACE_2,\n",
    "        pinecone_api_key=PINECONE_API_KEY\n",
    "    )\n",
    "    \n",
    "    results = dur_vector_db.similarity_search(    \n",
    "    query=query,\n",
    "    k=5,\n",
    "    namespace=PINECONE_NAMESPACE_2)\n",
    "    \n",
    "    return {\n",
    "        \"medicine_context\": \"\\n\".join([doc.page_content for doc in results])\n",
    "    }"
   ],
   "id": "3164ef70d385b3bb",
   "outputs": [],
   "execution_count": 21
  },
  {
   "metadata": {
    "ExecuteTime": {
     "end_time": "2024-12-19T16:17:51.255154Z",
     "start_time": "2024-12-19T16:17:48.219254Z"
    }
   },
   "cell_type": "code",
   "source": "drug_info_similarity('에이서캡슐(아세클로페낙)')",
   "id": "c105eb88f0067bc2",
   "outputs": [
    {
     "data": {
      "text/plain": [
       "{'medicine_context': '\\ufeff업체명: (주)한국글로벌제약\\n제품명: 뮤코틸캡슐(아세틸시스테인)\\n품목기준코드: 201404707\\n효능: 이 약은 급ㆍ만성기관지염, 기관지천식, 후두염, 부비동염, 낭성섬유증의 질환에서\\xa0객담배출곤란에 사용합니다.\\n복용방법: 급성질환에 성인은 1회 1캡슐(200 mg)씩, 1일 3회, 6~14세는 1회 1캡슐(200 mg)씩, 1일 2회 식전에 소량의 물과 함께 복용합니다.만성질환에 성인은 1회 1캡슐(200 mg)씩, 1일 2회, 6~14세는 1회\\xa0\\xa01/2\\xa0캡슐(100 mg)씩, 1일 3회 식전에 소량의 물과 함께 복용합니다.낭성섬유증에 6세 이상은 1회 1캡슐(200 mg)씩, 1일 3회 식전에 소량의 물과 함께 복용합니다.\\n알아야할 점: \\n사용상 주의사항: 이 약에 과민증 환자,\\xa0위•십이지장궤양,\\xa02세 미만 영아, 갈락토오스 불내성, Lapp 유당분해효소 결핍증 또는 포도당-갈락토오스 흡수장애 등의 유전적인 문제가 있는 환자는 이 약을 복용하지 마십시오.이 약을 복용하기 전에\\xa0임부 또는 임신하고 있을 가능성이 있는 여성 및 수유부는 의사 또는 약사와 상담하십시오.\\n병용금지 약/음식: 경구용 항생제(아목시실린, 세푸록심, 독시사이클린, 에리트로마이신, 티암페니콜)와\\xa0함께 복용 시 적어도 2시간\\xa0간격을 두고 복용하십시오.\\n이상반응 가능성: 드물게 구역, 구토, 구내염, 가슴쓰림, 설사, 두드러기, 가려움, 발진, 두통, 이명, 기관지경련(특히 천식 환자), 빈맥, 고혈압 등이 나타나는 경우\\xa0즉각 복용을 중지하고\\xa0의사 또는 약사와 상담하십시오.\\n보관방법: 실온에서 보관하십시오.어린이의 손이 닿지 않는 곳에 보관하십시오.\\n\\ufeff업체명: 태극제약(주)\\n제품명: 아로마에프캡슐\\n품목기준코드: 200903224\\n효능: 이 약은 치주치료 후 치은염, 경·중등도 치주염의 보조치료에 사용합니다.\\n복용방법: 성인은 1회 1캡슐, 1일 3회 식후에 복용합니다.\\n알아야할 점: \\n사용상 주의사항: 15세 미만 소아는 이 약을 복용하지 마십시오.이 약에 과민증 환자, 화장품 또는 달걀에 과민증(발열, 발진, 관절통, 천식, 가려움 등) 경험자, 알레르기 체질인 사람, 황색5호에 과민증 환자는\\xa0의사 또는 약사와 상의하십시오.정해진 용법과 용량을 잘 지키십시오.\\n병용금지 약/음식: \\n이상반응 가능성: 발진, 발적, 설사, 식욕부진, 위부불쾌감, 구역, 구토, 구내염, 피부점막안증후군(스티븐스-존슨증후군), 독성표피괴사용해(발열, 홍반, 가려움, 안충혈, 구내염 등의 증상, 전신의 피부, 입과 목의 점막에 고열을 동반하는 발진·발적, 화상모양의 수종 등의 중증의 증상) 등이 나타나는 경우 복용을 즉각 중지하고 의사 또는 약사와 상의하십시오.\\n보관방법: 실온에서 보관하십시오.어린이의 손이 닿지 않는 곳에 보관하십시오.\\n\\ufeff업체명: 아이큐어(주)\\n제품명: 아세틴캡슐(아세틸시스테인)\\n품목기준코드: 201705483\\n효능: 이 약은 급ㆍ만성기관지염, 기관지천식, 후두염, 부비동염, 낭성섬유증의 질환에서\\xa0객담배출곤란에 사용합니다.\\n복용방법: 급성질환에 성인은 1회 1캡슐(200 mg)씩, 1일 3회, 6~14세는 1회 1캡슐(200 mg)씩, 1일 2회 식전에 소량의 물과 함께 복용합니다.만성질환에 성인은 1회 1캡슐(200 mg)씩, 1일 2회, 6~14세는 1회\\xa0\\xa01/2\\xa0캡슐(100 mg)씩, 1일 3회 식전에 소량의 물과 함께 복용합니다.낭성섬유증에 6세 이상은 1회 1캡슐(200 mg)씩, 1일 3회 식전에 소량의 물과 함께 복용합니다.\\n알아야할 점: \\n사용상 주의사항: 이 약에 과민증 환자,\\xa0위•십이지장궤양,\\xa02세 미만 영아, 갈락토오스 불내성, Lapp 유당분해효소 결핍증 또는 포도당-갈락토오스 흡수장애 등의 유전적인 문제가 있는 환자는 이 약을 복용하지 마십시오.이 약을 복용하기 전에\\xa0임부 또는 임신하고 있을 가능성이 있는 여성 및 수유부는 의사 또는 약사와 상담하십시오.\\n병용금지 약/음식: 경구용 항생제(아목시실린, 세푸록심, 독시사이클린, 에리트로마이신, 티암페니콜)와\\xa0함께 복용 시 적어도 2시간\\xa0간격을 두고 복용하십시오.\\n이상반응 가능성: 드물게 구역, 구토, 구내염, 가슴쓰림, 설사, 두드러기, 가려움, 발진, 두통, 이명, 기관지경련(특히 천식 환자), 빈맥, 고혈압 등이 나타나는 경우\\xa0즉각 복용을 중지하고\\xa0의사 또는 약사와 상담하십시오.\\n보관방법: 실온에서 보관하십시오.어린이의 손이 닿지 않는 곳에 보관하십시오.\\n\\ufeff업체명: 동성제약(주)\\n제품명: 티스란에프캡슐\\n품목기준코드: 200900674\\n효능: 이 약은 치주치료 후 치은염, 경·중등도 치주염의 보조치료에 사용합니다.\\n복용방법: 성인은 1회 1캡슐, 1일 3회 식후에 복용합니다.\\n알아야할 점: \\n사용상 주의사항: 15세 미만의 소아는\\xa0이 약을 복용하지 마십시오.이 약을 복용하기 전에 약, 화장품 또는 달걀에 과민증, 알레르기 증상(발열, 발진, 관절통, 천식, 가려움 등) 경험자, 알레르기 체질인 사람은\\xa0의사 또는 약사와 상의하십시오.정해진 용법과 용량을 잘 지키십시오.1개월 이상\\xa0복용하여도 증상의 개선이 없을 경우 복용을 즉각 중지하고 의사 또는 약사와 상의하십시오.\\n병용금지 약/음식: \\n이상반응 가능성: 발진, 발적, 설사, 식욕부진, 위부불쾌감, 구역, 구토, 구내염, 피부점막안증후군(스티븐스-존슨증후군), 독성표피괴사용해(발열, 홍반, 가려움, 안충혈, 구내염 등의 증상, 전신의 피부, 입과 목의 점막에 고열을 동반하는 발진·발적, 화상모양의 수종 등의 중증의 증상) 등이 나타나는 경우 복용을 즉각 중지하고 의사 또는 약사와 상의하십시오.\\n보관방법: 실온에서 보관하십시오.어린이의 손이 닿지 않는 곳에 보관하십시오.\\n\\ufeff업체명: (주)파마킹\\n제품명: 아시틴캡슐(아세틸시스테인)\\n품목기준코드: 199601956\\n효능: 이 약은 급ㆍ만성기관지염, 기관지천식, 후두염, 부비동염, 낭성섬유증의 질환에서\\xa0객담배출곤란에 사용합니다.\\n복용방법: 급성질환에 성인은 1회 1캡슐(200 mg)씩, 1일 3회, 6~14세는 1회 1캡슐(200 mg)씩, 1일 2회 식전에 소량의 물과 함께 복용합니다.만성질환에 성인은 1회 1캡슐(200 mg)씩, 1일 2회, 6~14세는 1회\\xa0\\xa01/2\\xa0캡슐(100 mg)씩, 1일 3회 식전에 소량의 물과 함께 복용합니다.낭성섬유증에 6세 이상은 1회 1캡슐(200 mg)씩, 1일 3회 식전에 소량의 물과 함께 복용합니다.\\n알아야할 점: \\n사용상 주의사항: 이 약에 과민증 환자,\\xa0위•십이지장궤양,\\xa02세 미만 영아, 갈락토오스 불내성, Lapp 유당분해효소 결핍증 또는 포도당-갈락토오스 흡수장애 등의 유전적인 문제가 있는 환자는 이 약을 복용하지 마십시오.이 약을 복용하기 전에\\xa0임부 또는 임신하고 있을 가능성이 있는 여성 및 수유부는 의사 또는 약사와 상담하십시오.\\n병용금지 약/음식: 경구용 항생제(아목시실린, 세푸록심, 독시사이클린, 에리트로마이신, 티암페니콜)와\\xa0함께 복용 시 적어도 2시간\\xa0간격을 두고 복용하십시오.\\n이상반응 가능성: 드물게 구역, 구토, 구내염, 가슴쓰림, 설사, 두드러기, 가려움, 발진, 두통, 이명, 기관지경련(특히 천식 환자), 빈맥, 고혈압 등이 나타나는 경우\\xa0즉각 복용을 중지하고\\xa0의사 또는 약사와 상담하십시오.\\n보관방법: 실온에서 보관하십시오.어린이의 손이 닿지 않는 곳에 보관하십시오.'}"
      ]
     },
     "execution_count": 25,
     "metadata": {},
     "output_type": "execute_result"
    }
   ],
   "execution_count": 25
  },
  {
   "metadata": {
    "ExecuteTime": {
     "end_time": "2024-12-19T16:08:40.889121Z",
     "start_time": "2024-12-19T16:08:37.937243Z"
    }
   },
   "cell_type": "code",
   "source": [
    "from langchain_core.runnables import RunnableLambda\n",
    "chain = RunnableLambda(drug_info_similarity)\n",
    "chain.invoke('에이서캡슐(아세클로페낙)')"
   ],
   "id": "e161553735b99142",
   "outputs": [
    {
     "data": {
      "text/plain": [
       "{'medicine_context': '\\ufeff업체명: (주)한국글로벌제약\\n제품명: 뮤코틸캡슐(아세틸시스테인)\\n품목기준코드: 201404707\\n효능: 이 약은 급ㆍ만성기관지염, 기관지천식, 후두염, 부비동염, 낭성섬유증의 질환에서\\xa0객담배출곤란에 사용합니다.\\n복용방법: 급성질환에 성인은 1회 1캡슐(200 mg)씩, 1일 3회, 6~14세는 1회 1캡슐(200 mg)씩, 1일 2회 식전에 소량의 물과 함께 복용합니다.만성질환에 성인은 1회 1캡슐(200 mg)씩, 1일 2회, 6~14세는 1회\\xa0\\xa01/2\\xa0캡슐(100 mg)씩, 1일 3회 식전에 소량의 물과 함께 복용합니다.낭성섬유증에 6세 이상은 1회 1캡슐(200 mg)씩, 1일 3회 식전에 소량의 물과 함께 복용합니다.\\n알아야할 점: \\n사용상 주의사항: 이 약에 과민증 환자,\\xa0위•십이지장궤양,\\xa02세 미만 영아, 갈락토오스 불내성, Lapp 유당분해효소 결핍증 또는 포도당-갈락토오스 흡수장애 등의 유전적인 문제가 있는 환자는 이 약을 복용하지 마십시오.이 약을 복용하기 전에\\xa0임부 또는 임신하고 있을 가능성이 있는 여성 및 수유부는 의사 또는 약사와 상담하십시오.\\n병용금지 약/음식: 경구용 항생제(아목시실린, 세푸록심, 독시사이클린, 에리트로마이신, 티암페니콜)와\\xa0함께 복용 시 적어도 2시간\\xa0간격을 두고 복용하십시오.\\n이상반응 가능성: 드물게 구역, 구토, 구내염, 가슴쓰림, 설사, 두드러기, 가려움, 발진, 두통, 이명, 기관지경련(특히 천식 환자), 빈맥, 고혈압 등이 나타나는 경우\\xa0즉각 복용을 중지하고\\xa0의사 또는 약사와 상담하십시오.\\n보관방법: 실온에서 보관하십시오.어린이의 손이 닿지 않는 곳에 보관하십시오.\\n\\ufeff업체명: 태극제약(주)\\n제품명: 아로마에프캡슐\\n품목기준코드: 200903224\\n효능: 이 약은 치주치료 후 치은염, 경·중등도 치주염의 보조치료에 사용합니다.\\n복용방법: 성인은 1회 1캡슐, 1일 3회 식후에 복용합니다.\\n알아야할 점: \\n사용상 주의사항: 15세 미만 소아는 이 약을 복용하지 마십시오.이 약에 과민증 환자, 화장품 또는 달걀에 과민증(발열, 발진, 관절통, 천식, 가려움 등) 경험자, 알레르기 체질인 사람, 황색5호에 과민증 환자는\\xa0의사 또는 약사와 상의하십시오.정해진 용법과 용량을 잘 지키십시오.\\n병용금지 약/음식: \\n이상반응 가능성: 발진, 발적, 설사, 식욕부진, 위부불쾌감, 구역, 구토, 구내염, 피부점막안증후군(스티븐스-존슨증후군), 독성표피괴사용해(발열, 홍반, 가려움, 안충혈, 구내염 등의 증상, 전신의 피부, 입과 목의 점막에 고열을 동반하는 발진·발적, 화상모양의 수종 등의 중증의 증상) 등이 나타나는 경우 복용을 즉각 중지하고 의사 또는 약사와 상의하십시오.\\n보관방법: 실온에서 보관하십시오.어린이의 손이 닿지 않는 곳에 보관하십시오.\\n\\ufeff업체명: 아이큐어(주)\\n제품명: 아세틴캡슐(아세틸시스테인)\\n품목기준코드: 201705483\\n효능: 이 약은 급ㆍ만성기관지염, 기관지천식, 후두염, 부비동염, 낭성섬유증의 질환에서\\xa0객담배출곤란에 사용합니다.\\n복용방법: 급성질환에 성인은 1회 1캡슐(200 mg)씩, 1일 3회, 6~14세는 1회 1캡슐(200 mg)씩, 1일 2회 식전에 소량의 물과 함께 복용합니다.만성질환에 성인은 1회 1캡슐(200 mg)씩, 1일 2회, 6~14세는 1회\\xa0\\xa01/2\\xa0캡슐(100 mg)씩, 1일 3회 식전에 소량의 물과 함께 복용합니다.낭성섬유증에 6세 이상은 1회 1캡슐(200 mg)씩, 1일 3회 식전에 소량의 물과 함께 복용합니다.\\n알아야할 점: \\n사용상 주의사항: 이 약에 과민증 환자,\\xa0위•십이지장궤양,\\xa02세 미만 영아, 갈락토오스 불내성, Lapp 유당분해효소 결핍증 또는 포도당-갈락토오스 흡수장애 등의 유전적인 문제가 있는 환자는 이 약을 복용하지 마십시오.이 약을 복용하기 전에\\xa0임부 또는 임신하고 있을 가능성이 있는 여성 및 수유부는 의사 또는 약사와 상담하십시오.\\n병용금지 약/음식: 경구용 항생제(아목시실린, 세푸록심, 독시사이클린, 에리트로마이신, 티암페니콜)와\\xa0함께 복용 시 적어도 2시간\\xa0간격을 두고 복용하십시오.\\n이상반응 가능성: 드물게 구역, 구토, 구내염, 가슴쓰림, 설사, 두드러기, 가려움, 발진, 두통, 이명, 기관지경련(특히 천식 환자), 빈맥, 고혈압 등이 나타나는 경우\\xa0즉각 복용을 중지하고\\xa0의사 또는 약사와 상담하십시오.\\n보관방법: 실온에서 보관하십시오.어린이의 손이 닿지 않는 곳에 보관하십시오.\\n\\ufeff업체명: 동성제약(주)\\n제품명: 티스란에프캡슐\\n품목기준코드: 200900674\\n효능: 이 약은 치주치료 후 치은염, 경·중등도 치주염의 보조치료에 사용합니다.\\n복용방법: 성인은 1회 1캡슐, 1일 3회 식후에 복용합니다.\\n알아야할 점: \\n사용상 주의사항: 15세 미만의 소아는\\xa0이 약을 복용하지 마십시오.이 약을 복용하기 전에 약, 화장품 또는 달걀에 과민증, 알레르기 증상(발열, 발진, 관절통, 천식, 가려움 등) 경험자, 알레르기 체질인 사람은\\xa0의사 또는 약사와 상의하십시오.정해진 용법과 용량을 잘 지키십시오.1개월 이상\\xa0복용하여도 증상의 개선이 없을 경우 복용을 즉각 중지하고 의사 또는 약사와 상의하십시오.\\n병용금지 약/음식: \\n이상반응 가능성: 발진, 발적, 설사, 식욕부진, 위부불쾌감, 구역, 구토, 구내염, 피부점막안증후군(스티븐스-존슨증후군), 독성표피괴사용해(발열, 홍반, 가려움, 안충혈, 구내염 등의 증상, 전신의 피부, 입과 목의 점막에 고열을 동반하는 발진·발적, 화상모양의 수종 등의 중증의 증상) 등이 나타나는 경우 복용을 즉각 중지하고 의사 또는 약사와 상의하십시오.\\n보관방법: 실온에서 보관하십시오.어린이의 손이 닿지 않는 곳에 보관하십시오.\\n\\ufeff업체명: (주)파마킹\\n제품명: 아시틴캡슐(아세틸시스테인)\\n품목기준코드: 199601956\\n효능: 이 약은 급ㆍ만성기관지염, 기관지천식, 후두염, 부비동염, 낭성섬유증의 질환에서\\xa0객담배출곤란에 사용합니다.\\n복용방법: 급성질환에 성인은 1회 1캡슐(200 mg)씩, 1일 3회, 6~14세는 1회 1캡슐(200 mg)씩, 1일 2회 식전에 소량의 물과 함께 복용합니다.만성질환에 성인은 1회 1캡슐(200 mg)씩, 1일 2회, 6~14세는 1회\\xa0\\xa01/2\\xa0캡슐(100 mg)씩, 1일 3회 식전에 소량의 물과 함께 복용합니다.낭성섬유증에 6세 이상은 1회 1캡슐(200 mg)씩, 1일 3회 식전에 소량의 물과 함께 복용합니다.\\n알아야할 점: \\n사용상 주의사항: 이 약에 과민증 환자,\\xa0위•십이지장궤양,\\xa02세 미만 영아, 갈락토오스 불내성, Lapp 유당분해효소 결핍증 또는 포도당-갈락토오스 흡수장애 등의 유전적인 문제가 있는 환자는 이 약을 복용하지 마십시오.이 약을 복용하기 전에\\xa0임부 또는 임신하고 있을 가능성이 있는 여성 및 수유부는 의사 또는 약사와 상담하십시오.\\n병용금지 약/음식: 경구용 항생제(아목시실린, 세푸록심, 독시사이클린, 에리트로마이신, 티암페니콜)와\\xa0함께 복용 시 적어도 2시간\\xa0간격을 두고 복용하십시오.\\n이상반응 가능성: 드물게 구역, 구토, 구내염, 가슴쓰림, 설사, 두드러기, 가려움, 발진, 두통, 이명, 기관지경련(특히 천식 환자), 빈맥, 고혈압 등이 나타나는 경우\\xa0즉각 복용을 중지하고\\xa0의사 또는 약사와 상담하십시오.\\n보관방법: 실온에서 보관하십시오.어린이의 손이 닿지 않는 곳에 보관하십시오.'}"
      ]
     },
     "execution_count": 22,
     "metadata": {},
     "output_type": "execute_result"
    }
   ],
   "execution_count": 22
  },
  {
   "metadata": {
    "ExecuteTime": {
     "end_time": "2024-12-19T16:20:34.277619Z",
     "start_time": "2024-12-19T16:20:34.261464Z"
    }
   },
   "cell_type": "code",
   "source": [
    "# 각 딕셔너리를 합쳐 하나의 딕셔너리 반환\n",
    "def merge_dict(query):\n",
    "    dict1 = dur_pregnacy_similarity(query)\n",
    "    dict2 = drug_info_similarity(query)\n",
    "    merged_dict = dict1 | dict2\n",
    "    return merged_dict"
   ],
   "id": "d86786717ed61588",
   "outputs": [],
   "execution_count": 28
  },
  {
   "metadata": {
    "ExecuteTime": {
     "end_time": "2024-12-19T22:09:42.032728Z",
     "start_time": "2024-12-19T22:09:36.789851Z"
    }
   },
   "cell_type": "code",
   "source": "example_dict = merge_dict('에이서캡슐(아세클로페낙)')",
   "id": "39708323cfa7aa8b",
   "outputs": [],
   "execution_count": 40
  },
  {
   "metadata": {
    "ExecuteTime": {
     "end_time": "2024-12-19T22:23:56.141427Z",
     "start_time": "2024-12-19T22:23:56.134346Z"
    }
   },
   "cell_type": "code",
   "source": [
    "def generate_prompt(medicine_name, medicine_context, dur_context):\n",
    "    return ChatPromptTemplate.from_messages([\n",
    "        ('system', \"\"\"\n",
    "        Persona: You are a knowledgeable and experienced pharmacist with a passion to help people. \n",
    "        \n",
    "        Role: As a pharmacist, your role is to provide simple and clear explanations about medicines for general people.\n",
    "        \n",
    "        Examples:\n",
    "        Your explanation should cover the following:\n",
    "        \n",
    "        1. A brief explanation of the medicine, its effectiveness, dosage, precautions, side effects, and storage information.\n",
    "        2. If the medicine is safe for pregnant women, including any contraindications, warning levels, and what they mean.\n",
    "        \n",
    "        Use the context provided below to answer the user's query.\n",
    "        \"\"\"),\n",
    "        ('user', f\"\"\"\n",
    "        Use the following pieces of retrieved context to answer the question. \n",
    "        If you don't know the answer, just say that you don't know. Use three sentences maximum and keep the answer concise.\n",
    "        \n",
    "        Context about the medicine:\n",
    "        {medicine_context}\n",
    "        \n",
    "        Context about the pregnancy-related contraindications:\n",
    "        {dur_context}\n",
    "        \n",
    "        Medicine name: {medicine_name}\n",
    "        \"\"\")\n",
    "    ])"
   ],
   "id": "62faede0ce3b2a27",
   "outputs": [],
   "execution_count": 48
  },
  {
   "metadata": {
    "ExecuteTime": {
     "end_time": "2024-12-19T22:31:33.048001Z",
     "start_time": "2024-12-19T22:31:33.023668Z"
    }
   },
   "cell_type": "code",
   "source": [
    "from langchain_core.prompts import ChatPromptTemplate, HumanMessagePromptTemplate\n",
    "from langchain_openai import ChatOpenAI\n",
    "from langchain_core.output_parsers import StrOutputParser\n",
    "from langchain.chains import RunnableLambda, RunnableMap\n",
    "\n",
    "\n",
    "def ai_pharmacist(question, merged_dict):\n",
    "    prompt = generate_prompt(\n",
    "    medicine_name=merged_dict['medicine_name'],\n",
    "    medicine_context=merged_dict['medicine_context'],\n",
    "    dur_context=merged_dict['dur_context']\n",
    "    )\n",
    "    \n",
    "    model = ChatOpenAI(model='gpt-4o',temperature=1)\n",
    "    \n",
    "    # RunnableLambda를 사용하여 모델 호출\n",
    "    pipeline = RunnableLambda(lambda x: model(prompt.format_messages({\"user\": x})))\n",
    "    \n",
    "    # 질문을 파이프라인에 전달\n",
    "    result = pipeline.invoke(question)\n",
    "    \n",
    "    # output_parser = StrOutputParser()\n",
    "    # chain = generate_prompt_runnable | model | output_parser\n",
    "    # result = chain.invoke(inputs)\n",
    "    # \n",
    "    return result\n",
    "    "
   ],
   "id": "6131b98a1afdfa3d",
   "outputs": [
    {
     "ename": "ImportError",
     "evalue": "cannot import name 'RunnableLambda' from 'langchain.chains' (C:\\Users\\playdata2\\anaconda3\\envs\\dl_nlp2_env\\Lib\\site-packages\\langchain\\chains\\__init__.py)",
     "output_type": "error",
     "traceback": [
      "\u001B[1;31m---------------------------------------------------------------------------\u001B[0m",
      "\u001B[1;31mImportError\u001B[0m                               Traceback (most recent call last)",
      "Cell \u001B[1;32mIn[54], line 4\u001B[0m\n\u001B[0;32m      2\u001B[0m \u001B[38;5;28;01mfrom\u001B[39;00m \u001B[38;5;21;01mlangchain_openai\u001B[39;00m \u001B[38;5;28;01mimport\u001B[39;00m ChatOpenAI\n\u001B[0;32m      3\u001B[0m \u001B[38;5;28;01mfrom\u001B[39;00m \u001B[38;5;21;01mlangchain_core\u001B[39;00m\u001B[38;5;21;01m.\u001B[39;00m\u001B[38;5;21;01moutput_parsers\u001B[39;00m \u001B[38;5;28;01mimport\u001B[39;00m StrOutputParser\n\u001B[1;32m----> 4\u001B[0m \u001B[38;5;28;01mfrom\u001B[39;00m \u001B[38;5;21;01mlangchain\u001B[39;00m\u001B[38;5;21;01m.\u001B[39;00m\u001B[38;5;21;01mchains\u001B[39;00m \u001B[38;5;28;01mimport\u001B[39;00m RunnableLambda, RunnableMap\n\u001B[0;32m      7\u001B[0m \u001B[38;5;28;01mdef\u001B[39;00m \u001B[38;5;21mai_pharmacist\u001B[39m(question, merged_dict):\n\u001B[0;32m      8\u001B[0m     prompt \u001B[38;5;241m=\u001B[39m generate_prompt(\n\u001B[0;32m      9\u001B[0m     medicine_name\u001B[38;5;241m=\u001B[39mmerged_dict[\u001B[38;5;124m'\u001B[39m\u001B[38;5;124mmedicine_name\u001B[39m\u001B[38;5;124m'\u001B[39m],\n\u001B[0;32m     10\u001B[0m     medicine_context\u001B[38;5;241m=\u001B[39mmerged_dict[\u001B[38;5;124m'\u001B[39m\u001B[38;5;124mmedicine_context\u001B[39m\u001B[38;5;124m'\u001B[39m],\n\u001B[0;32m     11\u001B[0m     dur_context\u001B[38;5;241m=\u001B[39mmerged_dict[\u001B[38;5;124m'\u001B[39m\u001B[38;5;124mdur_context\u001B[39m\u001B[38;5;124m'\u001B[39m]\n\u001B[0;32m     12\u001B[0m     )\n",
      "\u001B[1;31mImportError\u001B[0m: cannot import name 'RunnableLambda' from 'langchain.chains' (C:\\Users\\playdata2\\anaconda3\\envs\\dl_nlp2_env\\Lib\\site-packages\\langchain\\chains\\__init__.py)"
     ]
    }
   ],
   "execution_count": 54
  },
  {
   "metadata": {
    "ExecuteTime": {
     "end_time": "2024-12-19T22:10:18.792010Z",
     "start_time": "2024-12-19T22:10:18.782224Z"
    }
   },
   "cell_type": "code",
   "source": "example_question = '이 약 임산부가 먹어도 되는지와 복용 시 주의사항 알려줘'",
   "id": "6ac8c040fb774a66",
   "outputs": [],
   "execution_count": 41
  },
  {
   "metadata": {
    "ExecuteTime": {
     "end_time": "2024-12-19T22:30:34.590271Z",
     "start_time": "2024-12-19T22:30:34.533961Z"
    }
   },
   "cell_type": "code",
   "source": "ai_pharmacist(example_question, example_dict)",
   "id": "3bb30ece0c37d5a8",
   "outputs": [
    {
     "ename": "TypeError",
     "evalue": "'builtin_function_or_method' object is not subscriptable",
     "output_type": "error",
     "traceback": [
      "\u001B[1;31m---------------------------------------------------------------------------\u001B[0m",
      "\u001B[1;31mTypeError\u001B[0m                                 Traceback (most recent call last)",
      "Cell \u001B[1;32mIn[52], line 1\u001B[0m\n\u001B[1;32m----> 1\u001B[0m \u001B[43mai_pharmacist\u001B[49m\u001B[43m(\u001B[49m\u001B[43mexample_question\u001B[49m\u001B[43m,\u001B[49m\u001B[43m \u001B[49m\u001B[43mexample_dict\u001B[49m\u001B[43m)\u001B[49m\n",
      "Cell \u001B[1;32mIn[46], line 11\u001B[0m, in \u001B[0;36mai_pharmacist\u001B[1;34m(question, merged_dict)\u001B[0m\n\u001B[0;32m      9\u001B[0m medicine_name \u001B[38;5;241m=\u001B[39m merged_dict[\u001B[38;5;124m'\u001B[39m\u001B[38;5;124mmedicine_name\u001B[39m\u001B[38;5;124m'\u001B[39m]\n\u001B[0;32m     10\u001B[0m medicine_context \u001B[38;5;241m=\u001B[39m merged_dict[\u001B[38;5;124m'\u001B[39m\u001B[38;5;124mmedicine_context\u001B[39m\u001B[38;5;124m'\u001B[39m]\n\u001B[1;32m---> 11\u001B[0m dur_context \u001B[38;5;241m=\u001B[39m \u001B[43mmerged_dict\u001B[49m\u001B[38;5;241;43m.\u001B[39;49m\u001B[43mget\u001B[49m\u001B[43m[\u001B[49m\u001B[38;5;124;43m'\u001B[39;49m\u001B[38;5;124;43mdur_context\u001B[39;49m\u001B[38;5;124;43m'\u001B[39;49m\u001B[43m]\u001B[49m\n\u001B[0;32m     13\u001B[0m model \u001B[38;5;241m=\u001B[39m ChatOpenAI(model\u001B[38;5;241m=\u001B[39m\u001B[38;5;124m'\u001B[39m\u001B[38;5;124mgpt-4o\u001B[39m\u001B[38;5;124m'\u001B[39m,temperature\u001B[38;5;241m=\u001B[39m\u001B[38;5;241m1\u001B[39m)\n\u001B[0;32m     15\u001B[0m pipeline \u001B[38;5;241m=\u001B[39m generate_prompt_runnable \u001B[38;5;241m|\u001B[39m model\n",
      "\u001B[1;31mTypeError\u001B[0m: 'builtin_function_or_method' object is not subscriptable"
     ]
    }
   ],
   "execution_count": 52
  },
  {
   "metadata": {},
   "cell_type": "code",
   "outputs": [],
   "execution_count": null,
   "source": "",
   "id": "35792a63d9b1a8f7"
  },
  {
   "metadata": {
    "ExecuteTime": {
     "end_time": "2024-12-19T16:24:55.109164Z",
     "start_time": "2024-12-19T16:24:55.035702Z"
    }
   },
   "cell_type": "code",
   "source": [
    "from langchain_core.runnables import RunnablePassthrough\n",
    "query = '타이레놀'\n",
    "chain = {'question':RunnablePassthrough(), }"
   ],
   "id": "7992b90b60b1ea6e",
   "outputs": [
    {
     "ename": "AttributeError",
     "evalue": "'str' object has no attribute 'items'",
     "output_type": "error",
     "traceback": [
      "\u001B[1;31m---------------------------------------------------------------------------\u001B[0m",
      "\u001B[1;31mAttributeError\u001B[0m                            Traceback (most recent call last)",
      "Cell \u001B[1;32mIn[34], line 2\u001B[0m\n\u001B[0;32m      1\u001B[0m chain \u001B[38;5;241m=\u001B[39m RunnableLambda(ai_pharmacist)\n\u001B[1;32m----> 2\u001B[0m \u001B[43mchain\u001B[49m\u001B[38;5;241;43m.\u001B[39;49m\u001B[43minvoke\u001B[49m\u001B[43m(\u001B[49m\u001B[38;5;124;43m'\u001B[39;49m\u001B[38;5;124;43m타이레놀\u001B[39;49m\u001B[38;5;124;43m'\u001B[39;49m\u001B[43m,\u001B[49m\u001B[43m \u001B[49m\u001B[38;5;124;43m'\u001B[39;49m\u001B[38;5;124;43m이 약 임산부가 복용해도 돼? 복용 시 주의사항도 알려줘\u001B[39;49m\u001B[38;5;124;43m'\u001B[39;49m\u001B[43m)\u001B[49m\n",
      "File \u001B[1;32m~\\anaconda3\\envs\\dl_nlp2_env\\Lib\\site-packages\\langchain_core\\runnables\\base.py:4716\u001B[0m, in \u001B[0;36mRunnableLambda.invoke\u001B[1;34m(self, input, config, **kwargs)\u001B[0m\n\u001B[0;32m   4699\u001B[0m \u001B[38;5;250m\u001B[39m\u001B[38;5;124;03m\"\"\"Invoke this Runnable synchronously.\u001B[39;00m\n\u001B[0;32m   4700\u001B[0m \n\u001B[0;32m   4701\u001B[0m \u001B[38;5;124;03mArgs:\u001B[39;00m\n\u001B[1;32m   (...)\u001B[0m\n\u001B[0;32m   4710\u001B[0m \u001B[38;5;124;03m    TypeError: If the Runnable is a coroutine function.\u001B[39;00m\n\u001B[0;32m   4711\u001B[0m \u001B[38;5;124;03m\"\"\"\u001B[39;00m\n\u001B[0;32m   4712\u001B[0m \u001B[38;5;28;01mif\u001B[39;00m \u001B[38;5;28mhasattr\u001B[39m(\u001B[38;5;28mself\u001B[39m, \u001B[38;5;124m\"\u001B[39m\u001B[38;5;124mfunc\u001B[39m\u001B[38;5;124m\"\u001B[39m):\n\u001B[0;32m   4713\u001B[0m     \u001B[38;5;28;01mreturn\u001B[39;00m \u001B[38;5;28mself\u001B[39m\u001B[38;5;241m.\u001B[39m_call_with_config(\n\u001B[0;32m   4714\u001B[0m         \u001B[38;5;28mself\u001B[39m\u001B[38;5;241m.\u001B[39m_invoke,\n\u001B[0;32m   4715\u001B[0m         \u001B[38;5;28minput\u001B[39m,\n\u001B[1;32m-> 4716\u001B[0m         \u001B[38;5;28;43mself\u001B[39;49m\u001B[38;5;241;43m.\u001B[39;49m\u001B[43m_config\u001B[49m\u001B[43m(\u001B[49m\u001B[43mconfig\u001B[49m\u001B[43m,\u001B[49m\u001B[43m \u001B[49m\u001B[38;5;28;43mself\u001B[39;49m\u001B[38;5;241;43m.\u001B[39;49m\u001B[43mfunc\u001B[49m\u001B[43m)\u001B[49m,\n\u001B[0;32m   4717\u001B[0m         \u001B[38;5;241m*\u001B[39m\u001B[38;5;241m*\u001B[39mkwargs,\n\u001B[0;32m   4718\u001B[0m     )\n\u001B[0;32m   4719\u001B[0m \u001B[38;5;28;01melse\u001B[39;00m:\n\u001B[0;32m   4720\u001B[0m     msg \u001B[38;5;241m=\u001B[39m (\n\u001B[0;32m   4721\u001B[0m         \u001B[38;5;124m\"\u001B[39m\u001B[38;5;124mCannot invoke a coroutine function synchronously.\u001B[39m\u001B[38;5;124m\"\u001B[39m\n\u001B[0;32m   4722\u001B[0m         \u001B[38;5;124m\"\u001B[39m\u001B[38;5;124mUse `ainvoke` instead.\u001B[39m\u001B[38;5;124m\"\u001B[39m\n\u001B[0;32m   4723\u001B[0m     )\n",
      "File \u001B[1;32m~\\anaconda3\\envs\\dl_nlp2_env\\Lib\\site-packages\\langchain_core\\runnables\\base.py:4691\u001B[0m, in \u001B[0;36mRunnableLambda._config\u001B[1;34m(self, config, callable)\u001B[0m\n\u001B[0;32m   4688\u001B[0m \u001B[38;5;28;01mdef\u001B[39;00m \u001B[38;5;21m_config\u001B[39m(\n\u001B[0;32m   4689\u001B[0m     \u001B[38;5;28mself\u001B[39m, config: Optional[RunnableConfig], \u001B[38;5;28mcallable\u001B[39m: Callable[\u001B[38;5;241m.\u001B[39m\u001B[38;5;241m.\u001B[39m\u001B[38;5;241m.\u001B[39m, Any]\n\u001B[0;32m   4690\u001B[0m ) \u001B[38;5;241m-\u001B[39m\u001B[38;5;241m>\u001B[39m RunnableConfig:\n\u001B[1;32m-> 4691\u001B[0m     \u001B[38;5;28;01mreturn\u001B[39;00m \u001B[43mensure_config\u001B[49m\u001B[43m(\u001B[49m\u001B[43mconfig\u001B[49m\u001B[43m)\u001B[49m\n",
      "File \u001B[1;32m~\\anaconda3\\envs\\dl_nlp2_env\\Lib\\site-packages\\langchain_core\\runnables\\config.py:183\u001B[0m, in \u001B[0;36mensure_config\u001B[1;34m(config)\u001B[0m\n\u001B[0;32m    167\u001B[0m     empty\u001B[38;5;241m.\u001B[39mupdate(\n\u001B[0;32m    168\u001B[0m         cast(\n\u001B[0;32m    169\u001B[0m             RunnableConfig,\n\u001B[1;32m   (...)\u001B[0m\n\u001B[0;32m    175\u001B[0m         )\n\u001B[0;32m    176\u001B[0m     )\n\u001B[0;32m    177\u001B[0m \u001B[38;5;28;01mif\u001B[39;00m config \u001B[38;5;129;01mis\u001B[39;00m \u001B[38;5;129;01mnot\u001B[39;00m \u001B[38;5;28;01mNone\u001B[39;00m:\n\u001B[0;32m    178\u001B[0m     empty\u001B[38;5;241m.\u001B[39mupdate(\n\u001B[0;32m    179\u001B[0m         cast(\n\u001B[0;32m    180\u001B[0m             RunnableConfig,\n\u001B[0;32m    181\u001B[0m             {\n\u001B[0;32m    182\u001B[0m                 k: v\u001B[38;5;241m.\u001B[39mcopy() \u001B[38;5;28;01mif\u001B[39;00m k \u001B[38;5;129;01min\u001B[39;00m COPIABLE_KEYS \u001B[38;5;28;01melse\u001B[39;00m v  \u001B[38;5;66;03m# type: ignore[attr-defined]\u001B[39;00m\n\u001B[1;32m--> 183\u001B[0m                 \u001B[38;5;28;01mfor\u001B[39;00m k, v \u001B[38;5;129;01min\u001B[39;00m \u001B[43mconfig\u001B[49m\u001B[38;5;241;43m.\u001B[39;49m\u001B[43mitems\u001B[49m()\n\u001B[0;32m    184\u001B[0m                 \u001B[38;5;28;01mif\u001B[39;00m v \u001B[38;5;129;01mis\u001B[39;00m \u001B[38;5;129;01mnot\u001B[39;00m \u001B[38;5;28;01mNone\u001B[39;00m \u001B[38;5;129;01mand\u001B[39;00m k \u001B[38;5;129;01min\u001B[39;00m CONFIG_KEYS\n\u001B[0;32m    185\u001B[0m             },\n\u001B[0;32m    186\u001B[0m         )\n\u001B[0;32m    187\u001B[0m     )\n\u001B[0;32m    188\u001B[0m \u001B[38;5;28;01mif\u001B[39;00m config \u001B[38;5;129;01mis\u001B[39;00m \u001B[38;5;129;01mnot\u001B[39;00m \u001B[38;5;28;01mNone\u001B[39;00m:\n\u001B[0;32m    189\u001B[0m     \u001B[38;5;28;01mfor\u001B[39;00m k, v \u001B[38;5;129;01min\u001B[39;00m config\u001B[38;5;241m.\u001B[39mitems():\n",
      "\u001B[1;31mAttributeError\u001B[0m: 'str' object has no attribute 'items'"
     ]
    }
   ],
   "execution_count": 34
  }
 ],
 "metadata": {
  "kernelspec": {
   "display_name": "Python 3",
   "language": "python",
   "name": "python3"
  },
  "language_info": {
   "codemirror_mode": {
    "name": "ipython",
    "version": 2
   },
   "file_extension": ".py",
   "mimetype": "text/x-python",
   "name": "python",
   "nbconvert_exporter": "python",
   "pygments_lexer": "ipython2",
   "version": "2.7.6"
  }
 },
 "nbformat": 4,
 "nbformat_minor": 5
}
