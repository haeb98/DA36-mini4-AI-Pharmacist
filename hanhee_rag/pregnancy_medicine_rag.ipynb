{
 "cells": [
  {
   "metadata": {},
   "cell_type": "markdown",
   "source": "# AI Pharmacy - Pregnancy",
   "id": "25b81299f3aae335"
  },
  {
   "cell_type": "code",
   "id": "initial_id",
   "metadata": {
    "collapsed": true,
    "ExecuteTime": {
     "end_time": "2024-12-19T01:17:38.784817Z",
     "start_time": "2024-12-19T01:17:36.878470Z"
    }
   },
   "source": [
    "from dotenv import load_dotenv\n",
    "from langchain.chains.question_answering.map_rerank_prompt import output_parser\n",
    "from langchain_community.chains.pebblo_retrieval.enforcement_filters import PINECONE\n",
    "from langchain_core.messages import HumanMessage\n",
    "from langchain_core.prompts import ChatPromptTemplate\n",
    "from langchain_core.runnables import RunnableLambda\n",
    "from langchain_pinecone import PineconeVectorStore\n",
    "\n",
    "load_dotenv()"
   ],
   "outputs": [
    {
     "data": {
      "text/plain": [
       "True"
      ]
     },
     "execution_count": 1,
     "metadata": {},
     "output_type": "execute_result"
    }
   ],
   "execution_count": 1
  },
  {
   "metadata": {},
   "cell_type": "code",
   "outputs": [],
   "execution_count": null,
   "source": "!pip install pypdf",
   "id": "ae512af201d7c1bb"
  },
  {
   "metadata": {},
   "cell_type": "markdown",
   "source": "",
   "id": "9fb150afb11a8cd4"
  },
  {
   "metadata": {},
   "cell_type": "markdown",
   "source": "## 데이터 로드",
   "id": "31600b0259b30b37"
  },
  {
   "metadata": {},
   "cell_type": "markdown",
   "source": "### csv 파일",
   "id": "80f95108ba779d25"
  },
  {
   "metadata": {
    "ExecuteTime": {
     "end_time": "2024-12-19T01:30:15.363942Z",
     "start_time": "2024-12-19T01:30:15.179350Z"
    }
   },
   "cell_type": "code",
   "source": [
    "from langchain_community.document_loaders import CSVLoader\n",
    "dur_pregnant = CSVLoader('../data_pregnancy/DUR_pregnant.csv')\n",
    "pregnancy_csv_docs = dur_pregnant.load()"
   ],
   "id": "77240050b507e855",
   "outputs": [],
   "execution_count": 10
  },
  {
   "metadata": {},
   "cell_type": "markdown",
   "source": "### pdf 파일 -- TextSplitter\n",
   "id": "c45ec75c2971863e"
  },
  {
   "metadata": {
    "ExecuteTime": {
     "end_time": "2024-12-19T01:47:04.013660Z",
     "start_time": "2024-12-19T01:47:03.059731Z"
    }
   },
   "cell_type": "code",
   "source": [
    "from langchain_community.document_loaders import PyPDFLoader\n",
    "from langchain.text_splitter import RecursiveCharacterTextSplitter\n",
    "import os\n",
    "\n",
    "# 폴더 경로\n",
    "folder_path = '../data_pregnancy'\n",
    "\n",
    "# PDF 파일 경로 list\n",
    "pdf_paths = [\n",
    "    os.path.join(folder_path, file)\n",
    "    for file in os.listdir(folder_path)\n",
    "    if file.startswith('pregnancy_') and file.endswith('.pdf')\n",
    "]\n",
    "# print(pdf_paths)\n",
    "\n",
    "# pdf 문서 저장 list\n",
    "pregnancy_pdf_docs = []\n",
    "\n",
    "for path in pdf_paths:\n",
    "    loader = PyPDFLoader(path)\n",
    "    docs = loader.load() # PDF의 각 페이지를 문서로 로드\n",
    "\n",
    "    # 각 페이지의 개행 문자 제거\n",
    "    for doc in docs:\n",
    "        doc.page_content = doc.page_content.replace('\\n', ' ')\n",
    "    # 처리된 문서 >> pregnancy_pdf_docs에 추가\n",
    "    pregnancy_pdf_docs.extend(docs)\n",
    "\n",
    "# 텍스트 스플리터 설정\n",
    "splitter = RecursiveCharacterTextSplitter(\n",
    "    chunk_size=100,  # 청크 크기\n",
    "    chunk_overlap=20  # 청크 간의 겹침\n",
    ")\n",
    "pregnancy_text_docs = splitter.split_documents(pregnancy_pdf_docs)\n",
    "\n",
    "# 결과 확인\n",
    "print(f\"총 {len(pregnancy_pdf_docs)}개의 문서가 로드되었습니다.\")\n",
    "print(type(pregnancy_pdf_docs)) # list\n",
    "print(len(pregnancy_text_docs)) # 195"
   ],
   "id": "9aebe4ed3d7101dd",
   "outputs": [
    {
     "name": "stdout",
     "output_type": "stream",
     "text": [
      "총 14개의 문서가 로드되었습니다.\n",
      "<class 'list'>\n",
      "195\n"
     ]
    }
   ],
   "execution_count": 16
  },
  {
   "metadata": {
    "ExecuteTime": {
     "end_time": "2024-12-19T01:53:16.164037Z",
     "start_time": "2024-12-19T01:53:16.159852Z"
    }
   },
   "cell_type": "code",
   "source": "print(pregnancy_text_docs[10])",
   "id": "c41ee6cd685e1d9b",
   "outputs": [
    {
     "name": "stdout",
     "output_type": "stream",
     "text": [
      "page_content='약물치료가 꼭 필요한지 전문가와 다시 검토하고 대증요법  등의 다른 치료방법을 우선적으로 모색해야 합니다.  7. 임신 중 질환에 따라 약물을 꼭 복용해야 하는 경우도 있습니다' metadata={'source': '../data_pregnancy\\\\pregnancy_medication_rules.pdf', 'page': 0}\n"
     ]
    }
   ],
   "execution_count": 23
  },
  {
   "metadata": {},
   "cell_type": "markdown",
   "source": "### documents 합치기",
   "id": "4b344fb7c5ad916c"
  },
  {
   "metadata": {
    "ExecuteTime": {
     "end_time": "2024-12-19T01:53:18.453215Z",
     "start_time": "2024-12-19T01:53:18.449994Z"
    }
   },
   "cell_type": "code",
   "source": "documents = pregnancy_csv_docs + pregnancy_text_docs",
   "id": "497ccbbdaa632025",
   "outputs": [],
   "execution_count": 24
  },
  {
   "metadata": {
    "ExecuteTime": {
     "end_time": "2024-12-19T01:53:20.463030Z",
     "start_time": "2024-12-19T01:53:20.458563Z"
    }
   },
   "cell_type": "code",
   "source": [
    "print(type(documents))\n",
    "print(len(documents))"
   ],
   "id": "d5833401cd0fef6d",
   "outputs": [
    {
     "name": "stdout",
     "output_type": "stream",
     "text": [
      "<class 'list'>\n",
      "19209\n"
     ]
    }
   ],
   "execution_count": 25
  },
  {
   "metadata": {},
   "cell_type": "markdown",
   "source": "## 임베딩 모델 생성",
   "id": "593881a5c5644bdc"
  },
  {
   "metadata": {},
   "cell_type": "code",
   "outputs": [],
   "execution_count": null,
   "source": "",
   "id": "c35c31776fc62518"
  }
 ],
 "metadata": {
  "kernelspec": {
   "display_name": "Python 3",
   "language": "python",
   "name": "python3"
  },
  "language_info": {
   "codemirror_mode": {
    "name": "ipython",
    "version": 2
   },
   "file_extension": ".py",
   "mimetype": "text/x-python",
   "name": "python",
   "nbconvert_exporter": "python",
   "pygments_lexer": "ipython2",
   "version": "2.7.6"
  }
 },
 "nbformat": 4,
 "nbformat_minor": 5
}
