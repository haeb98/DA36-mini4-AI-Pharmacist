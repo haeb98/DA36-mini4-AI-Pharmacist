{
 "cells": [
  {
   "metadata": {},
   "cell_type": "markdown",
   "source": "# AI-medicine 연습",
   "id": "16ba646bc8a2fba0"
  },
  {
   "cell_type": "code",
   "id": "initial_id",
   "metadata": {
    "collapsed": true,
    "ExecuteTime": {
     "end_time": "2024-12-18T06:26:23.053495Z",
     "start_time": "2024-12-18T06:26:20.873904Z"
    }
   },
   "source": [
    "from dotenv import load_dotenv\n",
    "from langchain.chains.question_answering.map_rerank_prompt import output_parser\n",
    "from langchain_community.chains.pebblo_retrieval.enforcement_filters import PINECONE\n",
    "from langchain_core.messages import HumanMessage\n",
    "\n",
    "load_dotenv()"
   ],
   "outputs": [
    {
     "data": {
      "text/plain": [
       "True"
      ]
     },
     "execution_count": 1,
     "metadata": {},
     "output_type": "execute_result"
    }
   ],
   "execution_count": 1
  },
  {
   "metadata": {},
   "cell_type": "markdown",
   "source": [
    "## 데이터 로드 / 병합\n",
    "- 의약품  `medicine_docs`\n",
    "- 의약외품 `sanitary_aid_docs`\n",
    "- 총 Document 개수: 56786"
   ],
   "id": "9c6b78ae29a6fd70"
  },
  {
   "metadata": {
    "ExecuteTime": {
     "end_time": "2024-12-18T06:28:24.739153Z",
     "start_time": "2024-12-18T06:28:08.317604Z"
    }
   },
   "cell_type": "code",
   "source": [
    "from langchain.schema import Document\n",
    "import pandas as pd\n",
    "import os\n",
    "\n",
    "# !pip install openpyxl\n",
    "\n",
    "# 데이터를 저장할 리스트\n",
    "medicine_docs = []\n",
    "sanitary_aid_docs = []\n",
    "\n",
    "# 엑셀 파일 경로\n",
    "medicine_info_paths = ['../data/medicine_info_0.xlsx', '../data/medicine_info_1.xlsx', '../data/medicine_info_2.xlsx', '../data/medicine_info_3.xlsx']\n",
    "sanitary_aid_info_paths = ['../data/sanitary_aid_info_0.xlsx', '../data/sanitary_aid_info_1.xlsx']\n",
    "\n",
    "# 파일 경로 체크\n",
    "print(\"파일 리스트:\", medicine_info_paths, sanitary_aid_info_paths)\n",
    "for path in medicine_info_paths + sanitary_aid_info_paths:\n",
    "    print(f\"Checking path: {path}\")\n",
    "    print(f\"Exists: {os.path.exists(path)}\")\n",
    "\n",
    "\n",
    "# 엑셀 파일 리드 >> Document 변환\n",
    "for path in medicine_info_paths:\n",
    "    df = pd.read_excel(path) \n",
    "    # 각 행을 Document로 변환\n",
    "    for _, row in df.iterrows():\n",
    "        content = row.to_dict() # 행 데이터 >> dict\n",
    "        medicine_docs.append(Document(page_content=str(content)))\n",
    "\n",
    "for path in sanitary_aid_info_paths:\n",
    "    df = pd.read_excel(path)\n",
    "    for _, row in df.iterrows():\n",
    "        content = row.to_dict()\n",
    "        sanitary_aid_docs.append(Document(page_content=str(content)))\n",
    "\n",
    "# 결과 확인\n",
    "print(f\"의약품 Document 개수: {len(medicine_docs)}\")\n",
    "print(f\"의약외품 Document 개수: {len(sanitary_aid_docs)}\")\n",
    "print(f\"의약품 첫 번째 Document 내용: {medicine_docs[0].page_content}\")\n",
    "print(f\"의약외품 첫 번째 Document 내용: {sanitary_aid_docs[0].page_content}\")\n"
   ],
   "id": "42f5f001fbcdc24b",
   "outputs": [
    {
     "name": "stdout",
     "output_type": "stream",
     "text": [
      "파일 리스트: ['../data/medicine_info_0.xlsx', '../data/medicine_info_1.xlsx', '../data/medicine_info_2.xlsx', '../data/medicine_info_3.xlsx'] ['../data/sanitary_aid_info_0.xlsx', '../data/sanitary_aid_info_1.xlsx']\n",
      "Checking path: ../data/medicine_info_0.xlsx\n",
      "Exists: True\n",
      "Checking path: ../data/medicine_info_1.xlsx\n",
      "Exists: True\n",
      "Checking path: ../data/medicine_info_2.xlsx\n",
      "Exists: True\n",
      "Checking path: ../data/medicine_info_3.xlsx\n",
      "Exists: True\n",
      "Checking path: ../data/sanitary_aid_info_0.xlsx\n",
      "Exists: True\n",
      "Checking path: ../data/sanitary_aid_info_1.xlsx\n",
      "Exists: True\n",
      "의약품 Document 개수: 36983\n",
      "의약외품 Document 개수: 19803\n",
      "의약품 첫 번째 Document 내용: {'제품명': '(주)창신의료용산소', '제품영문명': 'Chang-Shin Medical Oxygen', '업체명': '(주)창신', '업체영문명': 'Chang-Shin Co.,LTD', '품목구분': '의약품', '주성분': '산소', '첨가제': nan, '전문의약품': '전문의약품', '완제/원료': '완제의약품', '마약구분': nan, '모양': nan, '색상': nan, '제형': nan, '장축': nan, '단축': nan, '주성분영문': 'Oxygen'}\n",
      "의약외품 첫 번째 Document 내용: {'제품명': '#4500제이라스틱', '업체명': '(주)곰스포츠', '업체영문명': nan, '품목구분': '의약외품', '주성분': nan, '첨가제': '합성고무,원단,산화티탄,천연고무,산화아연,송지,부틸화히드록시톨루엔', '품목분류': '반창고', '전문의약품': '의약외품', '완제/원료': nan, '주성분영문': nan}\n"
     ]
    }
   ],
   "execution_count": 2
  },
  {
   "metadata": {
    "ExecuteTime": {
     "end_time": "2024-12-18T06:28:31.006677Z",
     "start_time": "2024-12-18T06:28:30.998162Z"
    }
   },
   "cell_type": "code",
   "source": [
    "documents = medicine_docs + sanitary_aid_docs\n",
    "print(len(documents))"
   ],
   "id": "8c90790e5f9909cc",
   "outputs": [
    {
     "name": "stdout",
     "output_type": "stream",
     "text": [
      "56786\n"
     ]
    }
   ],
   "execution_count": 3
  },
  {
   "metadata": {},
   "cell_type": "markdown",
   "source": [
    "## 임베딩 모델 생성\n",
    "\n",
    ": RAG를 구축하기 위한 임베딩 모델 생성\n",
    "* 문서 내용을 벡터화하여 검색 및 검색된 정보를 바탕으로 답변 생성에 사용"
   ],
   "id": "244cf237b75c5bd1"
  },
  {
   "metadata": {
    "ExecuteTime": {
     "end_time": "2024-12-18T06:28:36.782703Z",
     "start_time": "2024-12-18T06:28:35.006254Z"
    }
   },
   "cell_type": "code",
   "source": [
    "from langchain_openai.embeddings import OpenAIEmbeddings\n",
    "\n",
    "# OpenAI 임베딩 모델 생성\n",
    "embeddings = OpenAIEmbeddings(model = 'text-embedding-3-small')"
   ],
   "id": "39fe174fb405c973",
   "outputs": [],
   "execution_count": 4
  },
  {
   "metadata": {},
   "cell_type": "markdown",
   "source": [
    "## Pinecone Vector DB 클라이언트 생성\n",
    "- 임베딩 벡터를 벡터 저장소에 저장하고, 이를 효율적으로 검색하기 위해 사용\n",
    "- Pinecone은 벡터 검색을 위한 클라우드 기반 서비스 / 매우 빠르고 효율적으로 벡터 저장 & 검색 시스템"
   ],
   "id": "b4bd32ecae2467e8"
  },
  {
   "metadata": {},
   "cell_type": "code",
   "outputs": [],
   "execution_count": null,
   "source": "!pip install langchain-pinecone",
   "id": "4b8c9b293108491a"
  },
  {
   "metadata": {
    "ExecuteTime": {
     "end_time": "2024-12-18T07:06:52.893412Z",
     "start_time": "2024-12-18T06:34:06.552938Z"
    }
   },
   "cell_type": "code",
   "source": [
    "# batch로 documents 밀어넣기\n",
    "from langchain_pinecone import PineconeVectorStore\n",
    "import os\n",
    "\n",
    "PINECONE_INDEX_NAME = os.getenv('PINECONE_INDEX_NAME')\n",
    "PINECONE_NAMESPACE = os.getenv('PINECONE_NAMESPACE')\n",
    "PINECONE_API_KEY = os.getenv('PINECONE_API_KEY')\n",
    "\n",
    "\n",
    "def batch_documents(documents, batch_size=5000):\n",
    "    for i in range(0, len(documents), batch_size):\n",
    "        yield documents[i:i+batch_size]\n",
    "        \n",
    "batch_size = 5000\n",
    "for batch in batch_documents(documents, batch_size):\n",
    "    PineconeVectorStore.from_documents(\n",
    "        batch,\n",
    "        embeddings,\n",
    "        index_name=PINECONE_INDEX_NAME,\n",
    "        namespace=PINECONE_NAMESPACE,\n",
    "        pinecone_api_key = PINECONE_API_KEY\n",
    "    )"
   ],
   "id": "1dd35d202e74c7a0",
   "outputs": [],
   "execution_count": 5
  },
  {
   "metadata": {
    "jupyter": {
     "is_executing": true
    },
    "ExecuteTime": {
     "start_time": "2024-12-18T04:53:47.061188Z"
    }
   },
   "cell_type": "code",
   "source": [
    "# # Pinecone 클라이언트\n",
    "# \n",
    "# from langchain_pinecone import PineconeVectorStore\n",
    "# import os\n",
    "# \n",
    "# PINECONE_INDEX_NAME = os.getenv('PINECONE_INDEX_NAME')\n",
    "# PINECONE_NAMESPACE = os.getenv('PINECONE_NAMESPACE')\n",
    "# PINECONE_API_KEY = os.getenv('PINECONE_API_KEY')\n",
    "# \n",
    "# # document 밀어넣기\n",
    "# vector_db = PineconeVectorStore.from_documents(\n",
    "#     documents,\n",
    "#     embeddings,\n",
    "#     index_name=PINECONE_INDEX_NAME,\n",
    "#     namespace=PINECONE_NAMESPACE,\n",
    "#     pinecone_api_key = PINECONE_API_KEY\n",
    "# )"
   ],
   "id": "c02d62e79c38b4a1",
   "outputs": [],
   "execution_count": null
  },
  {
   "metadata": {},
   "cell_type": "code",
   "outputs": [],
   "execution_count": null,
   "source": "os.getenv('PINECONE_INDEX_NAME')",
   "id": "1c34d6c229f30ee0"
  },
  {
   "metadata": {},
   "cell_type": "markdown",
   "source": "## Pinecone 유사도 검색",
   "id": "2f9b17b13c74341a"
  },
  {
   "metadata": {},
   "cell_type": "code",
   "outputs": [],
   "execution_count": null,
   "source": [
    "# # 클라이언트 객체\n",
    "# vector_db = PineconeVectorStore(\n",
    "#     embeddings=embeddings.\n",
    "#     index_name=PINECONE_INDEX_NAME,\n",
    "#     namespace=PINECONE_NAMESPACE,\n",
    "#     pinecone_api_key = PINECONE_API_KEY\n",
    "# )\n",
    "#"
   ],
   "id": "f7389a7f429f9352"
  },
  {
   "metadata": {},
   "cell_type": "markdown",
   "source": "",
   "id": "354e4266ff24290e"
  },
  {
   "metadata": {},
   "cell_type": "markdown",
   "source": "## 서비스 프롬프트",
   "id": "5f46ab65b87c4b08"
  },
  {
   "metadata": {},
   "cell_type": "code",
   "outputs": [],
   "execution_count": null,
   "source": [
    "from langchain_core.prompts import ChatPromptTemplate, HumanMessagePromptTemplate\n",
    "from langchain_openai import ChatOpenAI\n",
    "from langchain_core.output_parsers import StrOutputParser"
   ],
   "id": "7e0cd6d3e2efe584"
  },
  {
   "metadata": {},
   "cell_type": "markdown",
   "source": [
    "### 1. 약물 복용 가이드 서비스\n",
    "**목적**: 사용자가 현재 복용 중인 약물에 대한 **안전한 복용 가이드라인**을 제공.\n",
    "\n",
    "**주요 기능**:\n",
    "\n",
    "- **복용 중인 약물 안전성 검토**:\n",
    "    - 사용자가 입력한 약물 리스트의 성분 분석.\n",
    "    - 성분 간 **상호작용 경고** 및 **부작용 안내**.\n",
    "- **복용 가이드라인 제공**:\n",
    "    - 연령, 건강 상태(임신, 노인 등) 기반의 권장 용량.\n",
    "    - 복용 시간 간격 및 식사 여부 관련 주의사항.\n"
   ],
   "id": "2d8da86824942530"
  },
  {
   "metadata": {},
   "cell_type": "code",
   "outputs": [],
   "execution_count": null,
   "source": [
    "def guide_medicine(query):\n",
    "    prompt = ChatPromptTemplate.from_messages([\n",
    "        ('system', '''\n",
    "        \n",
    "        '''),\n",
    "        ('user', '제가 현재 감기약 A와 두통약 B를 복용 중인데, 제대로 먹고 있는지 확인하고 싶어요.')\n",
    "    ])\n",
    "    \n",
    "    prompt += HumanMessagePromptTemplate.from_messages([query])\n",
    "    model = ChatOpenAI(model='gpt-4o', temperature = 0)\n",
    "    output_parser = StrOutputParser()\n",
    "    chain = prompt | model | output_parser\n",
    "    \n",
    "    return chain"
   ],
   "id": "d3d135ad59675c8d"
  },
  {
   "metadata": {},
   "cell_type": "markdown",
   "source": [
    "### 2. 의약품 / 의약외품 추천 서비스 (made in korea)\n",
    "**목적**: 사용자의 **개인 맞춤형 의약품** 또는 의약외품을 추천.\n",
    "\n",
    "**주요 기능**:\n",
    "\n",
    "- **사용자 입력**: 증상, 선호 성분(포함/제외), 연령, 건강 상태.\n",
    "- **맞춤 추천**:\n",
    "    - 입력된 조건에 부합하는 **한국산 의약품/의약외품** 추천.\n",
    "    - 증상 완화에 적합한 **대체 의약품** 옵션 제시.\n",
    "- **제품 비교**:\n",
    "    - 추천 제품 간 주요 성분 및 가격 비교.\n",
    "    - 사용 후기 및 평판 기반의 제품 선택 지원."
   ],
   "id": "21b77e0e277ed769"
  },
  {
   "metadata": {},
   "cell_type": "code",
   "outputs": [],
   "execution_count": null,
   "source": [
    "def recommend_medicine(query):\n",
    "    prompt = ChatPromptTemplate.from_messages([\n",
    "        ('system', '''\n",
    "        \n",
    "        '''),\n",
    "        # ('user', '임산부인데, 감기에 걸렸어요. 안전하게 먹을 수 있는 약 추천해 주세요.')\n",
    "    ])"
   ],
   "id": "79dccb55ff7d4cfd"
  },
  {
   "metadata": {},
   "cell_type": "markdown",
   "source": [
    "### 3. 약물 안전성 검증 서비스\n",
    "**목적**: 새로운 약물 또는 의약외품 복용 전, 안전성을 확인.\n",
    "\n",
    "**주요 기능**:\n",
    "\n",
    "- **약물 입력 및 검증**:\n",
    "    - 새롭게 복용하려는 약물의 성분 분석.\n",
    "    - 현재 복용 중인 약물과의 **상호작용 위험** 평가.\n",
    "- **부작용 및 위험 경고**:\n",
    "    - 성분 간 부작용 가능성.\n",
    "    - 사용자 건강 상태(임신, 만성질환 등)에 따른 **주의사항**.\n",
    "- **안전 대체제 추천**:\n",
    "    - 위험성 경고 시, 더 안전한 대체 의약품 제안.\n"
   ],
   "id": "91c00f7a8bd6dd6a"
  },
  {
   "metadata": {},
   "cell_type": "code",
   "outputs": [],
   "execution_count": null,
   "source": [
    "def check_medicine(query):\n",
    "    prompt = ChatPromptTemplate.from_messages([\n",
    "        ('system', '''\n",
    "        \n",
    "        '''),\n",
    "        # ('user', '생리통 진통제 A를 복용 중인데, 두통약 E를 추가로 먹어도 될까요?')\n",
    "    ])"
   ],
   "id": "f99991d44054bdc"
  },
  {
   "metadata": {},
   "cell_type": "code",
   "outputs": [],
   "execution_count": null,
   "source": "",
   "id": "2b3f0fe02fa6134b"
  }
 ],
 "metadata": {
  "kernelspec": {
   "display_name": "Python 3",
   "language": "python",
   "name": "python3"
  },
  "language_info": {
   "codemirror_mode": {
    "name": "ipython",
    "version": 2
   },
   "file_extension": ".py",
   "mimetype": "text/x-python",
   "name": "python",
   "nbconvert_exporter": "python",
   "pygments_lexer": "ipython2",
   "version": "2.7.6"
  }
 },
 "nbformat": 4,
 "nbformat_minor": 5
}
