{
 "cells": [
  {
   "cell_type": "code",
   "id": "initial_id",
   "metadata": {
    "collapsed": true,
    "ExecuteTime": {
     "end_time": "2024-12-19T06:44:52.849451Z",
     "start_time": "2024-12-19T06:44:52.830380Z"
    }
   },
   "source": [
    "from dotenv import load_dotenv\n",
    "from hpack.hpack import INDEX_NEVER\n",
    "from langchain.chains.question_answering.map_rerank_prompt import output_parser\n",
    "from langchain_core.prompts import ChatPromptTemplate, HumanMessagePromptTemplate\n",
    "from langchain_core.runnables import RunnableLambda\n",
    "from langchain_pinecone import PineconeVectorStore\n",
    "\n",
    "load_dotenv()"
   ],
   "outputs": [
    {
     "data": {
      "text/plain": [
       "True"
      ]
     },
     "execution_count": 112,
     "metadata": {},
     "output_type": "execute_result"
    }
   ],
   "execution_count": 112
  },
  {
   "metadata": {},
   "cell_type": "markdown",
   "source": "## 파일로드",
   "id": "50c01bcbcf43c2ed"
  },
  {
   "metadata": {
    "ExecuteTime": {
     "end_time": "2024-12-19T03:37:15.601289Z",
     "start_time": "2024-12-19T03:37:14.217733Z"
    }
   },
   "cell_type": "code",
   "source": [
    "from langchain_community.document_loaders import CSVLoader\n",
    "from langchain_community.document_loaders import PyPDFLoader\n",
    "\n",
    "dur_pregnant = CSVLoader('./data/DUR_pregnant.csv')\n",
    "commandment_10 = PyPDFLoader('./data/command_10.pdf')\n",
    "docs = PyPDFLoader('./data/docs.pdf')\n",
    "drug_for = PyPDFLoader('./data/drug_for.pdf')\n",
    "\n",
    "dur_pregnant_docs = dur_pregnant.load()\n",
    "commandment_10_docs = commandment_10.load()\n",
    "docs_docs = docs.load()\n",
    "drug_for.docs = drug_for.load()"
   ],
   "id": "391987483aac1e66",
   "outputs": [],
   "execution_count": 21
  },
  {
   "metadata": {
    "ExecuteTime": {
     "end_time": "2024-12-19T03:37:26.386259Z",
     "start_time": "2024-12-19T03:37:26.383198Z"
    }
   },
   "cell_type": "code",
   "source": "documents = commandment_10_docs + docs_docs + drug_for.docs",
   "id": "45cf178c84dfb260",
   "outputs": [],
   "execution_count": 22
  },
  {
   "metadata": {
    "ExecuteTime": {
     "end_time": "2024-12-19T03:37:29.156685Z",
     "start_time": "2024-12-19T03:37:29.149619Z"
    }
   },
   "cell_type": "code",
   "source": [
    "# 개행 문자 제거\n",
    "for doc in documents:\n",
    "    doc.page_content = doc.page_content.replace('\\n', ' ')\n",
    "documents"
   ],
   "id": "cfd8a945b87d1d46",
   "outputs": [
    {
     "data": {
      "text/plain": [
       "[Document(metadata={'source': './data/command_10.pdf', 'page': 0}, page_content='■ 임산부의 안전하고, 효과적인 약 복용을 위한 약물 요법 10계명    1. 임신 가능한 여성의 경우 약물 복용 전 임신 여부 확인하십시오. 임신 가능한 여 성이 약물을 복용할 때는 임신 계획 및 임신 여부를 반드시 확인하여야 하며 전 문가와 상의 후 투여하는 것이 필요합니다.  2. 임신 중 약물 복용은 태아에게 영향을 줄 수 있습니다. 임산부가 약물 복용 시  주의해야 하는 까닭은 약물이 태반을 통과하여 태아에게 나쁜 영향을 미칠 수  있고 임산부에게도 독성을 일으킬 수 있기 때문입니다  3. 임신 중 약물 복용 방법은 일반 성인과는 다를 수 있습니다 임신 중에는 복용한  약물이 태반을 통과할 수 있다는 것을 항상 염두 해두셔야 하며 임신 중 약물의  체내 움직임은 일반 성인과는 다른 형태로 바뀌어 나타나므로 약물의 복용량과  복용법 변화에 유의하셔야 합니다.  4. 임신 3주에서 8주 사이 약물 복용 시 더욱 주의하셔야 합니다. 임신 주수에 따라  약물이 태아에게 미치는 영향이 다양합니다. 특히, 임신 3주에서 8주 사이 (임신  제 1 삼분기)에는 태아의 장기가 형성되는 결정적인 시기이므로 특별히 조심해야  합니다.  5. 약물마다 임신 시 미치는 영향에 따른 카테고리가 구분되어 있습니다. 미국 FDA  에서는 약물마다 태아에 미치는 영향을 가장 안전한 카테고리 A부터 가장 위험 한 카테고리 X까지 다섯 단계로 구분하여 표시하고 있으므로 그 위험성을 예측 할 수 있습니다.  6. 임신 중 약물 투여는 반드시 전문가 (의약사)와 상의 후 투여하십시오. 임신 중에  약물을 투여할 경우, 약물치료가 꼭 필요한지 전문가와 다시 검토하고 대증요법  등의 다른 치료방법을 우선적으로 모색해야 합니다.  7. 임신 중 질환에 따라 약물을 꼭 복용해야 하는 경우도 있습니다 임신 중 간질,  고혈압, 당뇨 등의 질환을 동반하는 경우 질병 자체가 태아에게 위험할 수 있으 므로 전문가와 상의 후 정해진 용량 용법에 맞추어 약물을 복용하는 것이 좋습 니다  8. 임신 중 약물 사용은 사용 경험이 풍부한 약물을 사용하는 것이 좋습니다. 임신  중 약물 사용 시에는 자료가 불충분한 최근 개발된 약물보다는 과거부터 임신  시에 흔히 사용된 약물을 사용하는 것이 안전합니다.  9. 임신 중 약물 사용은 투여 목적에 따라 최소한으로 투여합니다. 임신 시 약물을  복용해야만 할 경우 약물 투여의 목적에 따른 최소한의 유효용량을 최단 기간  동안 투여합니다. 또한 부작용 모니터링을 통한 가장 안전하다고 판단되는 약물 을 충분한 설명과 함께 투여해야 하며 동시에 발생될 수 있는 미세한 변화도 간 과해서는 안 됩니다 '),\n",
       " Document(metadata={'source': './data/command_10.pdf', 'page': 1}, page_content='10. 임신 중 약물 복용 시에는 태아와 산모의 건강을 모두 고려해야 합니다. 임산부 에 약물을 사용할 때에는 약물이 태아에게 기형을 일으킬 수 있다는 점과 함께  약물이 임산부에 미치는 독성을 함께 고려해야 합니다.    ■ 임신부를 위한 증상별 약물복용 안내서 임신부들은 감기나 두통과 같은 증상을 앓게  되기 쉬우나, 임신 중에는 약을 먹어서는 안 된다는 오해로 인해 통증을 참아내곤 합니 다. 혹은 임신 초기에 임신인 줄 모르고 약을 복용한 후 임신임을 알게 되었을 때 매우  큰 불안감을 겪게 됩니다. 그러나 임신 중에도 증상에 따른 적절한 약물치료 방법이 있 으며, 전문가의 도움을 받아 건강한 출산이 가능합니다.    ■ 임신 중 흔히 나타나는 증상에 따른 약물복용  1. 감기   Q: 감기에 걸렸어요. 임신 중에 감기약을 복용해도 되나요?   A: 감기는 대부분 바이러스에 의한 질환이기 때문에 특별한 치료보다는 충분한 수분섭취 와 휴식을 취하는 것이 바람직합니다. 그러나 심한 고열이나 두통이 동반된다면 아세트 아미노펜 같은 해열진통제를 복용하시는 것이 임신 중 고열로 인한 태아의 기형과 신경 계 손상을 예방할 수 있습니다.  - 증상 감기는 임신 중에 면역력이 떨어지면서 바이러스 및 세균에 의해서 걸리게 되며  나타나는 증상으로는 코의 충혈과 콧물, 기침, 후두염, 발열과 두통, 오한 등이 있습니다.  - 일반요법 충분한 휴식이 필요하며, 탈수를 예방할 수 있도록 충분한 음료를 섭취하고  실내공기를 가습하여야 합니다.    2. 입덧   Q: 입덧이 매우 심합니다. 입덧을 가라앉게 할 수 있는 처방약이 있나요?   A: 피리독신과 메토클로프라마이드는 비교적 안전하게 사용 가능합니다.  - 증상 임신 중 입덧의 증상인 오심과 구토는 정도의 차이가 있지만 임신한 여성의 80% 가 경험할 정도로 매우 흔한 증상입니다. 그러나 탈수가 심하고 전해질 불균형이 심해서  입원까지 필요한 경우는 약 1-3%정도 입니다. 대개는 시간이 지나면 입덧은 호전되지만,  이들 중 약 20%는 더 오랫동안 입덧이 지속되며, 일부는 임신말기까지도 지속됩니다. '),\n",
       " Document(metadata={'source': './data/command_10.pdf', 'page': 2}, page_content='- 일반요법 정서적인 안정이 중요하며, 입덧을 자극하는 음식물 섭취를 삼가고 양을 적 게 해서 자주 먹어야 합니다. 마른 토스트나 크래커를 먹는 것도 도움이 됩니다. 또한 많 은 물을 섭취하는 경우 구토를 동반하는 경우가 많으나 물은 조금씩 드셔야 합니다. 보 조적인 요법으로 침을 맞거나, 생강차 복용을 하면 입덧을 완화 시킬 수 있는 것으로 알 려져 있습니다.  3. 변비   Q: 임신 초기 변비가 너무 심한데요. 변비약을 복용해도 되나요?   A : 네, 대부분의 변비약은 장내흡수가 되지 않고 장내에서만 작용 후 변비를 해결하기  때문에 전신 흡수가 적어 안전한 편입니다.  - 증상 일반적으로는 배변 횟수가 주 2-3회 미만이면 변비라고 합니다. 변비의 원인은  저섬유질 식사, 스트레스, 장폐색과 같은 위장관 이상 등이 있습니다. 그러나 임신에 의 한 변비는 프로게스테론에 의한 위장의 평활근 활동 감소와 자궁이 커져 장을 눌러서 발 생하는 생리적인 것으로 알려져 있습니다.  - 일반요법 과일이나 야채를 포함하여 부피를 늘리는 방법으로 식이습관을 변화시키면  변비를 해결하는데 도움이 됩니다.    4. 두통   Q: 임신 중 두통이 심한데요, 통증을 완화시킬 수 있는 약이 있나요?  A: 일시적으로 아세트아미노펜과 같은 소염진통제를 복용하시면 증상이 완화될 수 있습 니다.  - 증상 두통은 임신 초기에 더 흔하게 나타납니다. 그 원인으로는 호르몬의 변화, 수면부 족, 혈액순환의 변화, 저혈당증, 탈수, 새로운 아기에 대한 불안감, 카페인 중단 등이 있 습니다. 유형으로는 긴장성 투통과 편두통이 있습니다.  - 일반요법 충분한 휴식을 하고 규칙적인 운동, 충분한 잠을 자면 두통은 완화되고 빈도 도 줄어듭니다. 어깨 마사지나 얼굴에 따뜻한 수건으로 덮고 있는 것도 도움이 됩니다.    5. 복통   Q: 임신중 소화성 궤양으로 가끔 상복부 통증이 심합니다. 이때 치료약이 있나요?   A: 네, 슈크랄페이트과 같은 위점막보호제, 제산효과를 내는 라니티딘은 임신 중 사용이 '),\n",
       " Document(metadata={'source': './data/command_10.pdf', 'page': 3}, page_content='가능합니다.    - 증상 복통(소화성 궤양)은 위액 중에 포함된 염산과 소화효소에 의해 위나 십이지장 조 직에 상처가 생기면서 발생합니다. 증상은 소화불량, 상복부 통증, 오심과 구토, 가슴앓 이,위장관 출혈 그리고 위장천공이 일어날 수 있습니다.    6. 가려움증   Q: 임신 중인데 전신 가려움증으로 잠을 설치기 일쑤입니다. 증상을 완화 시킬만한 치료 약이 있나요?   A: 네, 우선적으로 피부가 건조해지지 않도록 해야 합니다. 그리고 국소적으로 보습크림 이나 항소양증 로션 사용이 도움이 됩니다.    - 증상 가려움증은 임신 중에 가장 흔한 피부증상입니다. 임신에 기인한 경미한 9 가려 움증은 자주 있으며, 주로 복부 주위에서 일어나서 허벅지, 엉덩이, 유방, 그리고 팔로 확 장됩니다. 하지만, 소양증으로 정밀 검사가 필요한 경우는 약 1 2% 입니다.  - 일반용법 피부가 건조하지 않도록 실내 환경을 가습합니다. 그리고 정전기를 피하고  피부를 자극 하는 천을 가진 이불을 피해야 합니다. 또한 음식물로는 카페인, 알코올, 매 운 것 그리고 뜨거운 물을 피해야 합니다.    7. 요통과 골반통   Q: 임신 중기 이후 요통과 골반통이 있어서 걷기도 힘든데 통증을 완화할 수 있는 약이  있나요?   A: 네, 아세트아미노펜과 같은 소염진통제를 일시적으로 사용하는 것은 가능합니다. 만 약, 더욱 심해진다면 정형외과에서 보조기 착용이 필요할 수 있습니다.    - 증상 임신부의 80%는 요통 및 골반통을 경험하며 일부 임신부는 임신의 시작과 함께  이러한 통증을 경험합니다. 일반적으로 임신 중에 나타나는 요통 및 골반통은 호르몬의  증가로 골반 인대가 약해지고 출산을 위해 관절이 풀어지며, 자궁과 아기가 커지면서 무 게중심이 앞으로 쏠리면서 생깁니다. '),\n",
       " Document(metadata={'source': './data/command_10.pdf', 'page': 4}, page_content='- 일반요법 충분한 휴식을 취하고, 높은 굽 신발을 피하여 바른 자세를 유지하여야 합니 다. 등을 대고 바로 자지 않도록 하고 가급적 왼쪽 옆으로 눕도록 합니다. 발을 올린다거 나 복대를 하는 것도 좋은 방법입니다.    8. 빈뇨증   Q: 임신 초기부터 소변이 자주 마려운 빈뇨증으로 잠에서 자주 깹니다. 빈뇨증을 완화시 킬 방법은 없나요?   A: 네, 빈뇨증은 대부분 임신의 정상적인 과정입니다. 그러나 만약 방광염이 동반될 때는  암피실린과 세파드록실과 같은 항생제를 사용하여 치료가 가능합니다.  - 증상 임신 중에는 신장이 커지고 요관도 확장됩니다. 그리고 임신 시에 증가되는 프로 게스테론은 방광의 이완과 요관의 확장을 초래합니다. 또한, 임신이 진행됨에 따라 자궁 의 방광에 대한 압박이 증가하여 빈뇨증을 유발합니다. 한편, 당뇨병이나 방광염이 이러 한 증상의 원인이 되기도 합니다.  - 일반요법 요로계의 감염을 예방하기 위해 청결상태를 유지하고 박테리아에 의한 감염 이 되지 않도록 손을 잘 씻어야 합니다. 배뇨나 배변 시 휴지를 앞에서 뒤로 사용하고,  액체 비누를 사용하여 회음부 및 요도구를 깨끗하게 유지하도록 합니다. '),\n",
       " Document(metadata={'source': './data/docs.pdf', 'page': 0}, page_content='열린마루 2013 November + December 2322 건강한 정보* 의약백서 DO & DON’T | 임신 중 의약품 사용  깔끔하게 정리해드립니다~ 고민되는 임신 중 의약품 사용!  임신 중 산모가 의약품에 노출될 경우 태아에게 영향을 미치는 시기와 정도가 의약품에 따라 다르기 때문에  정확한 정보를 알고 대비하는 것이 중요하다. 이때 태아에 안전한 약물을 선택하고, 임신기간 중 질환관리 에 적극적으로 힘쓰면 산모와 아이의 건강을 모두 챙길 수 있다. 임신부들을 위한 올바른 의약품 사용법을  소개한다.   정리 편집실 아이를 가진 임신부의 기쁨 뒤에 찾아오는 가장  큰 걱정은 뱃속의 태아가 정상인지 아닌지에 대 한 불안한 마음일 것이다. 복용 중인 약물이 있 거나 임신 사실을 모른 채 약물을 복용한 임신 부의 경우, 기형아 출산을 걱정해 임신중절이 라는 돌이킬 수 없는 선택을 하기도 한다. 약물  복용으로 인한 기형아 발생률은 현저히 낮은 것 으로 알려져 있지만 대다수의 임신부들이 임신  중 약물 복용을 꺼리고 있다. 때문에 약효가 안 전하거나 위험성이 극히 적은 약물임에도 불구 하고 제때 약을 복용하지 않아 임신부의 증상을  완화시켜 주지 못하고, 오히려 태아에게 해로 운 영향을 끼치는 경우도 종종 있다.  시기별 조심할 약물 따로 있다    기기형유발 약물은 영구적으로 태아의 형태나  기능의 변형을 일으키는 약물이다. 이들 약물 은 특정시기에 특징적인 기형을 유발하기 때문 에 시기별로 복용 안전성 여부를 알아두는 것이  현명하다. 임신 4주 이전까지의 ‘착상 전기’에 는 기형유발 약물에 노출될 경우, 유산이 될 가 능성이 있기 때문에 어느 때보다 주의가 필요하 다. 태아의 기관이 형성되는 시기인 임신 4주 부터 10주까지는 약물 노출에 매우 민감한 시 기로 가급적 약물 사용을 최소화해야 한다.  임신 10주부터 출산 직전까지는 태아의 외부  생식기가 형성되고 발달하는 시기로 성호르몬 에 영향을 줄 수 있는 약물 노출에 더욱 유의해 야 한다. 엄마가 아프면 아이도 아파요 질병의 정도와 태아기형 발생 위험도를 고려해  전문의와 상담하면 임신 중에도 약물 사용이 가 능하다. 산모가 감기에 걸린 경우, 38도 이상 의 고열은 임신 초기 태아의 신경계 손상을 줄  수 있어 빠른 약물치료가 필요하다. ‘아세트아 미노펜’은 통상 용량 범위 내라면 임신 기간 중  안전하게 사용 가능한 해열제다.  당뇨로 인한 고혈당은 태아의 선천성 이상을 일 으키는 원인 중 하나로 알려져 있다. 임신 전부 터 당뇨를 앓고 있었거나 임신 후 임신성 당뇨 를 진단받은 경우에는 인슐린 주사제를 사용해  혈당을 조절하는 것이 바람직하다.  한편 의약품 사용 후 부작용이 생기면 즉시 의 사, 약사와 상담해야한다. 약물의 성분, 용량,  복용한 시기, 복용 기간, 방사능 노출 정도를 정 확하게 파악하고 필요한 경우, 기형아 검사를 한 다면 걱정 없이 건강한 아기를 낳을 수 있다. 무 엇보다 임신부의 불안과 초조, 걱정이 태아에게  해로운 영향을 미칠 수 있는 만큼 산모가 편안하 고 안정된 자세를 갖도록 노력하는 일이 무엇보 다 중요하다.  의약품 부작용 신고는 한국의약품안전관리원 1644-6223 또는  www.drugsafe.or.kr로 신고하면 된다.'),\n",
       " Document(metadata={'source': './data/docs.pdf', 'page': 1}, page_content='25 열린마루 2013 November + December 24 스테로이드 연고 사용은 무조건  NO?  |  가려움증은 임신 중에 나타나 는 흔한 피부 증상이다. 피부가 건조해지지 않도 록 로션으로 보습 관리를 하거나 가습기를 틀어놓 는 것이 좋다. 다만 증상이 심한 경우, 경구용 스 테로이드를 복용하기도 하는데 스테로이드 성분을  전신적 혹은 장기적으로 사용하면 태아에 나쁜 영 향을 미칠 수 있으니 주의해야 한다.   임신 초기, 생백신 접종은 꼭! 피하 세요  |  임신 중 적응 증상에 따라 접종 을 고려할 수 있는 것은 B형간염, Td, 수막구균,  광견병, 폴리오, 일본뇌염, 황열 등이 있다. 한편  생백신(MMR, 수두, 대상포진, 인플루엔자 생백 신) 접종은 하지 않는다. 가임기 여성이 생백신 접 종을 했다면 접종 후 4주간은 임신을 피하는 것이  좋다.  임신 중 변비 증상에는?  |  임신 중  분비되는 프로게스테론이라는 호르몬은  대장 내벽의 근육을 이완시켜 변비 증상을 일으키 는 경우가 많다. 이때 락툴로즈나 차전자피, 비사 코딜 등 약물을 복용하면 장의 연동운동을 촉진시 켜 배변을 도와준다. 또 수분과 지방을 잘 혼합하 여 변덩어리를 부드럽게 하는 도큐세이트소디움과  같은 완화성 하제도 복용이 가능하다.  01 02 03 임신 중 약물 복용 Do   임신 중 약물 복용 Don’t   주의해야할 임부금기 약물   복합 감기약은 위험해요  |  복합감 기약은 약제의 반응을 평가하기 어려우므 로 사용을 피하는 것이 좋다. 이외 기침 시에는 아 세틸시스테인, 브롬헥신 등의 약물을 복용 가능 하며, 두통 시에는 아세트아미노펜, 항생제를 사 용할 때는 페니실린 계열, 세팔로스포린 계열, 마 크로라이드 계열, 메트로니다졸 등의 약물이 복용  가능하다. 이들 약물의 경우에는 의사, 약사 등 전 문가와  상담후 사용하는 것이 바람직하다.  약효군 약물성분 여드름 치료제 (비타민A계 약물) 이소트레티노인 다발성골수종  치료제 탈리도마이드 레날리도마이드 안드로겐성  호르몬제 다나졸 위십이지장궤양  치료제 미소프로스톨 항용고제 와파린 지질저하제 (HMC-CoA 환원 효소 저해제) 아스토바스타틴 심바스타틴 단백동화  스테로이드제 옥시메틀론 ※ 외부 기고 및 인터뷰 내용은 식품의약품안전처의 공식입장과는 다를 수 있습니다. 01 02 section 02 열린마루 2013  11 + 12 열린 식약처'),\n",
       " Document(metadata={'source': './data/drug_for.pdf', 'page': 0}, page_content='ড ঌ ਸ ആઁ৬ э җ э\\u0a37 \\u0a44 ਵ ޛ \\u0a50न \\u05ee \\x0f \\x15\\t ੋೞৈ ੋҕ\\u0a50 \\u0a37 ח\\u05eeࠁ ઑѤ ਊ\\u0a49 ড ࣻؼ  ী \\x0f\\u05ee ਸ ੌ ޙٸ \\u0a49\\'PPE\\x01BOE\\x01%SVH\\x01\"ENJOJTUSBUJPO غ \\u05ee DMBTT\\x01$ী ژ\\x01\\x0f\\u05ee 440ޛ Continuing Education Column ޛ Drugs for Common Illnesses During Pregnancy ੋҗ ]\\x01Hai\\x0eJoong Kim, MD Department of Obstetrics and Gynecology, Korea University  College of Medicine EĔmail : haijkim@korea.ac.kr J Korean Med Assoc 2007; 50(5): 440 - 446 R ecently pregnant women take more drugs than before due to the trend of increasing maternal age. Though most drugs are safe, a small percentage of them may have unintended adverse consequences for either mother or child. So any unnecessary drug should not be given to pregnant women; however, when necessary, some medications cannot be withheld. Counseling for drugs during pregnancy is one of most important and difficult tasks of obstetricians. Most drugs are classified FDA category C, and there are many new drugs that have not been categorized yet. In addition, many drugs in category X are not absolutely contraindicated during pregnancy, and several drugs in category C or D are clear human teratogens. In this article, the author introduces drugs that we can use for common illnesses during pregnancy available in Korea. Keywords : Pregnancy; Drug ೨बਊয\\x1bޛ Abstract '),\n",
       " Document(metadata={'source': './data/drug_for.pdf', 'page': 1}, page_content='ഈഥ\\u0ad1 441 о\\u0ad1 ݆بٜ  ח ࢶ ә\\u0a49 ӝળ\\t\"VTUSBMJBO\\x01%SVH \\u0a49 ҃ ਸ ೧ঠ ೡ ࣻ \\u0a53ਵ ട ࠁ ਸ ѐѐ \\x0f\\u05eeػ \\u05eeفݽܳࠁ  ۽\\u0600 ী ܳ ਊ ӝഋ\\u0a37 ਬ \\u0ab1ਃ \\u0a62 ೠ द ࢿ ߊ ח ೞ\\u0ad1 ঋ ড ઁ\\r\\x01೦Ҋആ \\x01\\x01\\x0f\\u05ee ਤ\\u0a62ҙ\\u0ad5ജ ചઁ ࣗ \"%\\'ח  \\u0a49 ী য ژ ੋೞৈ \\u0a50न\\u0aba\\u0a7aਸ पदೡ \\u0cd9 Ѫ \\x01\\x0f\\u05ee  ౭\\u0bd1\\t\"\\x10$ \\r\\x01झ\\u0bcfನ \\x01\\x0f\\u05ee ೦ӆনઁ Ү\\u0a78 উ ࠂ ۽ \\u0a7f\\r\\x01֏झ౸ ࣗࢿ ఋ \\u0a44\\u0cdfъઝDrugs for Common Illnesses During Pregnancy Table 1. Categorisation of risk of drug use in pregnancy by FDA Category \" Controlled studies in women fail to demonstrate a risk to the fetus in the first trimester (and there is no evidence of a risk in later trimesters), and the pos- sibility of fetal harm appears remote. # Either animal\\x0ereproduction studies have not demon- strated a fetal risk but there are no controlled studies have shown an adverse effect (other than a decrease in fertility) that was not confirmed in controlled studies in women in the first trimester (and there is no evidence of a risk in later trimesters) $ Either studies in animals have revealed adverse ef- fects on the fetus (teratogenic or embryocidal, or other) and there are no controlled studies in women or studies in women and animals are not available. Drugs should be given only if the potential benefit justifies the potential risk to the fetus % There is positive evidence of human fetal risk, but the benefits from use in pregnant women may be ac- ceptable despite the risk (e.g., if the drug is needed in a life\\x0ethreatening situation or for a serious disease for which safer drugs cannot be used or are ineffective) 9 Studies in animals or human beings have demon- strated fetal abnormalities, or there is evidence of fetal risk based on human experience, or both, and the risk of the use of the drug in pregnant women clearly outweighs any possible benefit. The drug is contraindicated in women who are or may become pregnant.  '),\n",
       " Document(metadata={'source': './data/drug_for.pdf', 'page': 2}, page_content='\\x0f\\u05ee CZ \\u0a7f\\r\\x01TVDSBMGBUF\\t#\\x01CZ അ \\u0c5f ٥ CZ ਗ౯ \\u0a7f\\r\\x01\\u0a57 \\u0a37 \\u0ab1\\u0a44ೞৈ ࣗ ೞ \\x0f\\u05ee ച\\u0a62গ\\r\\x01ҳష\\r\\x01ҳ\\u09c9 ೠ \\u0a37 \\'%\" \\x0f\\u05ee \\u07b7 ಕ ܄ ઁੋ ই \\u0c75 ইઁ \\u0a7f\\r\\x01ാझఎ \\u0a7f\\r \\x01\\x0f\\u05ee \\rۆ ਊೡ \\x0f\\u05ee  ৮ചઁ р\\u0cf5\\u0a78 ٜח۽  \\x01\\x0f\\u05ee 442ޛ Kim HJ Table 2. Categorisation of risk of drug use in pregnancy by Australian Drug Evaluation Committee  Category A Drugs which have been taken by a large number of pregnant women and women of childbearing age without any proven increase in the frequency of malformations or other direct or indirect harmful effects on the fetus having been observed. B B1 Drugs which have been taken by a large number of pregnant women and women of childbearing age without any proven increase in the frequency of malformations or other direct or indirect harmful effects on the fetus having been observed. B2 Drugs which have been taken by only a limited number of pregnant women and women of childbearing age, without an increase in the frequency of malformation or other direct or indirect harmful effects on the human fetus having been observed.  Studies in animals are inadequate or may be lacking, but available data show no evidence of an increased occurrence of fetal damage. Studies in animals are inadequate or may be lacking, but available data show no evidence of an increased occurrence of fetal damage. B3 Drugs which have been taken by only a limited number of pregnant women and women of childbearing age, without an increase in the frequency of malformation or other direct or indirect harmful effects on the human fetus having been observed. Studies in animals have shown evidence of an increased occurrence of fetal damage, the significance of which is considered uncertain in humans. C Drugs which, owing to their pharmacological effects, have caused or may be suspected of causing, harmful effects on the human fetus or neonate without causing malformations. These effects may be reversible. Accompanying texts should be consulted for further details. D Drugs which have caused, are suspected to have caused or may be expected to cause, an increased incidence of human fetal malformations or irreversible damage. These drugs may also have adverse pharmacological effects. Accompanying texts should be consulted for further details. X Drugs which have such a high risk of causing permanent damage to the fetus that they should not be used in preg- nancy or when there is a possibility of pregnancy. '),\n",
       " Document(metadata={'source': './data/drug_for.pdf', 'page': 3}, page_content='ഈഥ\\u0ad1 443 ઁ \\u0ce4ઁ \\u0a49 \\u0c0d֎\\u0a49 \\u0a7f\\u0a37 \\x0f\\u05ee ഐ൚ӝ҅ \\u0ad5ജ \\x12\\x0f ୌध ܫ߽ ਊਸ ೖ \\u0a92 যঠ ೠ ೞ ఋ\\x0eܽ ড \\u0c5f \\u0a49 \\x01\\x0f\\u05ee \\u0a49\\u0a77\\r \\u0a50न\\u0aba উब \\x0f\\u05ee ઁ ਊী Ү\\u0a78 উ\\u0a79ೞ ա ীझ \\u0a44 ࢎ۽ޛ  ࢲ \\u0cfcन ಗ\\u0c5f \\x01\\x0f\\u05ee \\u0a37 \\u0a49 ٘ ह ١ۣ  \\u0a3dਸ ಣоೞӝ \\x01\\x0f\\u05ee \\u0a64\\u0b3bӝ \\u07b9 \\u0a50न\\u0aba \\x01\\x0f\\u05ee ܖ \\u0ad3 \\u0cd8 \\u0bd2 \\x0f\\u05ee Ѿ೨ ࠗ ب $\\t٘ \\x0f\\u05ee \\u0a44\\u0cdfъઝDrugs for Common Illnesses During Pregnancy Table 3. Drugs or substances suspected or proven to be human tera- togens Antihypertensive drug Hormone ACE inhibitors Androgen A\\x0eII antagonists Danazole Anticancer drug Diethylstilbestrol (DES) Aminopterin Anticoagulant Busulfan Coumarins MethotrexateDrugs for acne Cyclophosphamide Etretinate  Tamoxifen Isotretinoin  Anticonvulsants Tretinoin Carbamazepine Drugs for thyroid diseses Valproic acid Methimazole  Phenytoin Radioactive iodine Trimethadione Others Antibiotics Chlorbiphenyls Kanamycin Cocaine Streptomycin Ethanol Tetracycline Penicillamine Antidepressant Thalidomide Lithium Misoprostol  '),\n",
       " Document(metadata={'source': './data/drug_for.pdf', 'page': 4}, page_content='\\u0ad3ా\\r\\x01೧ৌઁ \\u0a78\\u0a37 ন \\u0a53 HBTUSPTDIJTJT\\r\\x01TNBMM\\x01JOUFTUJOF ೞ \\u0ad3ా\\r\\x01೧ৌઁ \\x0f\\u05ee \\u09cf\\u0ad3ాઁ חغ ҃\\u0a0b ೞա \\u0a50 \\u07b2 ਊ\\u0a49 о ࢿ ೞա ই \\x0f\\u05ee ఋ\\x0e \\u0ab1\\r \\u0ba5 \\u0bff ಕ ఌ \\u0ab1\\r\\x01అನੋ \\u0ab1 \\u0a7f \\u0a49 ಗ\\r\\x01ঌ \\rۣ ۣ ࣄ दத ٥ झ\\r ա ѳ\\r\\x01ாషಗ ѳ ૐ җ э\\u0a37 \\x0f\\u05ee ઁ न҃ \\u0a37 కই\\u0a44 Ҏ ઉ \\u0a53 \\u0bd2\\r \\x01\\x01\\x0f\\u05ee ҅ৌ\\t#\\x01CZ ҅\\t#\\x01CZ \\u05eeܽ न \\x0f\\u05ee \\u0ad3Ӑ \\u0ad5ജ ࢎ झ ઔਸ \\x0f\\u05ee  ֎౯\\r \\u0ad1բझ \\u0ad5\\u0a7f ী\\u0cd0 ളӝઓ ݃ ઔ \\u0ad5\\u0a7f\\r\\x01\\u0ba0֎झబ \\u0ad5\\u0a7f झઁ غ য\\u0a7f\\t# \\u0a37 ࢎ 444ޛ Kim HJ '),\n",
       " Document(metadata={'source': './data/drug_for.pdf', 'page': 5}, page_content='ഈഥ\\u0ad1 445 ਤ \\x0f\\u05ee \\u0ad5ജ QSVSJUJD\\x01VSUJDBSJBM\\x01QBQVMFT\\x01BOE\\x01QMB\\x0e RVFT\\x01PG\\x01QSFHOBODZ \\t16111 ա QSVSJHP\\x01PG\\x01QSFHOBODZ৬ \\u0a49 ҃\\u0a0bী \\u0a49 ࣻ \\x0f\\u05ee ܴ٘ \\u0600 CFO[PZM\\x01QFSPYJEF\\r\\x01DMJO\\x0e \\u0a78 Ҋ \\x0f\\u05ee ߮ ܿ ۨ য়न ֎ \\u0a84 ѳ ࢶ ਤо և\\u0ad1 ঋ \\u0a79न\\u0a78 67\\x0e\\u0a3d\\u0a49 হਵ \\x0f\\u05ee \\u0cd0 POOFDUJWF\\x015JTTVF\\x01%JTPSEFS ಹझ৬ э\\u0a37 Ѿ\\u0ce4ઑ\\u0ad2 \\x0f\\u05ee ҳ\\u0b7dઁ пೞ DMBTT\\x01#\\r\\x01$ী য\\u0a53\\u0ad1 ঋਵա पઁ \\x0f\\u05ee భ \\u0ad3\\t# \\r Ҋആ\\u0991 Ҋആ\\u0991 ࢎ ח ਸ \\x0f\\u05ee  അ\\u0a64 \\u0a0b ߬ ߬ۄ\\x01\\x0f\\u05ee ಕ ઁ ਊೡ \\x0f\\u05ee ַ߽\\u05fc ӝഋ\\u0a49ա ઑ \\x01\\x0f\\u05ee ࣘ \\u0a58ਊ ೠ োҳо হয \"NFSJDBM\\x01$PMMFHF\\x01PG ਊਸ ӂೞ\\u0ad1 ঋ ઑ\\u0a7aೡ Ѫਸ ӂ\\u0a62 \\x0f\\u05ee \\u0a44\\u0cdfъઝDrugs for Common Illnesses During Pregnancy '),\n",
       " Document(metadata={'source': './data/drug_for.pdf', 'page': 6}, page_content='446ޛ Kim HJ \\u0ad5ജ \\u0a44 ࣻ ݶ بࣻ ҃\\u0a0bী \\x01\\x0f\\u05ee ݮ ೦\\u0ad3ૐ \\u0a49 QSPQZMUIJ\\x0e \\x01\\x0f\\u05ee ޛ  $\\x01\\r#\\x01\\r\"\\t\\u07b9 ҃\\u0a0bী द\\u0aba \\u06dd \\x0f\\u05ee ಗ\\t9 ਊ ೠ ҃ ܳࠗ \\x0f\\u05ee ೖ\\u0a50ড \\x0f\\u05ee \\u0cf4 1. DW Bae. Drugs for pregnant and lactating women. Korea medical. 2005. 2. Cunningham FG, Hauth JC, Leveno KJ, Gilstrap L Ǐ, Bloom SL, Wenstrom KD. Hypertensive disorders in pregnancy. In: Cunningham FG, Hauth JC, Leveno KJ, Gilstrap L Ǐ, Brom SL, Wenstrom KD, eds. Williams Obstetrics, 22nd ed. New- York: McGraw\\x0eHill, 2005: 761-808 3. Griggs GG, Freeman FK, Yaffe SJ. Drugs in pregnancy and lactation 4th de. Williams & Wilkins, 1996. 4. Lacroix I, Damase \\x0eMichel C, Lapeyre \\x0eMestre M, Mon- tastruc JL. Prescription of drugs during pregnancy in France. Lancet 2000; 356: 1735-1736. 5. Weiner CP, Buhimschi C, eds. Drugs for pregnant and lacta- ting women, Philadelphia: Churchill Livingstone, 2004:1101. Peer Reviewer Commentary \\u0a44 \\u0ad5ജ ࠄ о അ ೠ \\u0a50न \\u0aba ઁ\\x12 ডઁ\\u0a44 ైৈ ࠺ \\x01\\x0f\\u05ee ੋҗ ')]"
      ]
     },
     "execution_count": 23,
     "metadata": {},
     "output_type": "execute_result"
    }
   ],
   "execution_count": 23
  },
  {
   "metadata": {},
   "cell_type": "markdown",
   "source": "## Text Spliter",
   "id": "63c8a00dd88fd695"
  },
  {
   "metadata": {
    "ExecuteTime": {
     "end_time": "2024-12-19T03:37:31.293479Z",
     "start_time": "2024-12-19T03:37:31.280628Z"
    }
   },
   "cell_type": "code",
   "source": [
    "from langchain.text_splitter import RecursiveCharacterTextSplitter\n",
    "\n",
    "spliter = RecursiveCharacterTextSplitter(\n",
    "    chunk_size=500,\n",
    "    chunk_overlap=100\n",
    ")\n",
    "\n",
    "docs = spliter.split_documents(documents)\n",
    "print(len(docs))\n",
    "docs"
   ],
   "id": "94fa0ad42ad8bd59",
   "outputs": [
    {
     "name": "stdout",
     "output_type": "stream",
     "text": [
      "41\n"
     ]
    },
    {
     "data": {
      "text/plain": [
       "[Document(metadata={'source': './data/command_10.pdf', 'page': 0}, page_content='■ 임산부의 안전하고, 효과적인 약 복용을 위한 약물 요법 10계명    1. 임신 가능한 여성의 경우 약물 복용 전 임신 여부 확인하십시오. 임신 가능한 여 성이 약물을 복용할 때는 임신 계획 및 임신 여부를 반드시 확인하여야 하며 전 문가와 상의 후 투여하는 것이 필요합니다.  2. 임신 중 약물 복용은 태아에게 영향을 줄 수 있습니다. 임산부가 약물 복용 시  주의해야 하는 까닭은 약물이 태반을 통과하여 태아에게 나쁜 영향을 미칠 수  있고 임산부에게도 독성을 일으킬 수 있기 때문입니다  3. 임신 중 약물 복용 방법은 일반 성인과는 다를 수 있습니다 임신 중에는 복용한  약물이 태반을 통과할 수 있다는 것을 항상 염두 해두셔야 하며 임신 중 약물의  체내 움직임은 일반 성인과는 다른 형태로 바뀌어 나타나므로 약물의 복용량과  복용법 변화에 유의하셔야 합니다.  4. 임신 3주에서 8주 사이 약물 복용 시 더욱 주의하셔야 합니다. 임신 주수에 따라  약물이 태아에게 미치는'),\n",
       " Document(metadata={'source': './data/command_10.pdf', 'page': 0}, page_content='나타나므로 약물의 복용량과  복용법 변화에 유의하셔야 합니다.  4. 임신 3주에서 8주 사이 약물 복용 시 더욱 주의하셔야 합니다. 임신 주수에 따라  약물이 태아에게 미치는 영향이 다양합니다. 특히, 임신 3주에서 8주 사이 (임신  제 1 삼분기)에는 태아의 장기가 형성되는 결정적인 시기이므로 특별히 조심해야  합니다.  5. 약물마다 임신 시 미치는 영향에 따른 카테고리가 구분되어 있습니다. 미국 FDA  에서는 약물마다 태아에 미치는 영향을 가장 안전한 카테고리 A부터 가장 위험 한 카테고리 X까지 다섯 단계로 구분하여 표시하고 있으므로 그 위험성을 예측 할 수 있습니다.  6. 임신 중 약물 투여는 반드시 전문가 (의약사)와 상의 후 투여하십시오. 임신 중에  약물을 투여할 경우, 약물치료가 꼭 필요한지 전문가와 다시 검토하고 대증요법  등의 다른 치료방법을 우선적으로 모색해야 합니다.  7. 임신 중 질환에 따라 약물을 꼭 복용해야 하는 경우도 있습니다 임신 중 간질,'),\n",
       " Document(metadata={'source': './data/command_10.pdf', 'page': 0}, page_content='필요한지 전문가와 다시 검토하고 대증요법  등의 다른 치료방법을 우선적으로 모색해야 합니다.  7. 임신 중 질환에 따라 약물을 꼭 복용해야 하는 경우도 있습니다 임신 중 간질,  고혈압, 당뇨 등의 질환을 동반하는 경우 질병 자체가 태아에게 위험할 수 있으 므로 전문가와 상의 후 정해진 용량 용법에 맞추어 약물을 복용하는 것이 좋습 니다  8. 임신 중 약물 사용은 사용 경험이 풍부한 약물을 사용하는 것이 좋습니다. 임신  중 약물 사용 시에는 자료가 불충분한 최근 개발된 약물보다는 과거부터 임신  시에 흔히 사용된 약물을 사용하는 것이 안전합니다.  9. 임신 중 약물 사용은 투여 목적에 따라 최소한으로 투여합니다. 임신 시 약물을  복용해야만 할 경우 약물 투여의 목적에 따른 최소한의 유효용량을 최단 기간  동안 투여합니다. 또한 부작용 모니터링을 통한 가장 안전하다고 판단되는 약물 을 충분한 설명과 함께 투여해야 하며 동시에 발생될 수 있는 미세한 변화도 간 과해서는 안'),\n",
       " Document(metadata={'source': './data/command_10.pdf', 'page': 0}, page_content='기간  동안 투여합니다. 또한 부작용 모니터링을 통한 가장 안전하다고 판단되는 약물 을 충분한 설명과 함께 투여해야 하며 동시에 발생될 수 있는 미세한 변화도 간 과해서는 안 됩니다'),\n",
       " Document(metadata={'source': './data/command_10.pdf', 'page': 1}, page_content='10. 임신 중 약물 복용 시에는 태아와 산모의 건강을 모두 고려해야 합니다. 임산부 에 약물을 사용할 때에는 약물이 태아에게 기형을 일으킬 수 있다는 점과 함께  약물이 임산부에 미치는 독성을 함께 고려해야 합니다.    ■ 임신부를 위한 증상별 약물복용 안내서 임신부들은 감기나 두통과 같은 증상을 앓게  되기 쉬우나, 임신 중에는 약을 먹어서는 안 된다는 오해로 인해 통증을 참아내곤 합니 다. 혹은 임신 초기에 임신인 줄 모르고 약을 복용한 후 임신임을 알게 되었을 때 매우  큰 불안감을 겪게 됩니다. 그러나 임신 중에도 증상에 따른 적절한 약물치료 방법이 있 으며, 전문가의 도움을 받아 건강한 출산이 가능합니다.    ■ 임신 중 흔히 나타나는 증상에 따른 약물복용  1. 감기   Q: 감기에 걸렸어요. 임신 중에 감기약을 복용해도 되나요?   A: 감기는 대부분 바이러스에 의한 질환이기 때문에 특별한 치료보다는 충분한 수분섭취 와 휴식을 취하는 것이 바람직합니다. 그러나 심한'),\n",
       " Document(metadata={'source': './data/command_10.pdf', 'page': 1}, page_content='임신 중에 감기약을 복용해도 되나요?   A: 감기는 대부분 바이러스에 의한 질환이기 때문에 특별한 치료보다는 충분한 수분섭취 와 휴식을 취하는 것이 바람직합니다. 그러나 심한 고열이나 두통이 동반된다면 아세트 아미노펜 같은 해열진통제를 복용하시는 것이 임신 중 고열로 인한 태아의 기형과 신경 계 손상을 예방할 수 있습니다.  - 증상 감기는 임신 중에 면역력이 떨어지면서 바이러스 및 세균에 의해서 걸리게 되며  나타나는 증상으로는 코의 충혈과 콧물, 기침, 후두염, 발열과 두통, 오한 등이 있습니다.  - 일반요법 충분한 휴식이 필요하며, 탈수를 예방할 수 있도록 충분한 음료를 섭취하고  실내공기를 가습하여야 합니다.    2. 입덧   Q: 입덧이 매우 심합니다. 입덧을 가라앉게 할 수 있는 처방약이 있나요?   A: 피리독신과 메토클로프라마이드는 비교적 안전하게 사용 가능합니다.  - 증상 임신 중 입덧의 증상인 오심과 구토는 정도의 차이가 있지만 임신한 여성의 80% 가'),\n",
       " Document(metadata={'source': './data/command_10.pdf', 'page': 1}, page_content='있나요?   A: 피리독신과 메토클로프라마이드는 비교적 안전하게 사용 가능합니다.  - 증상 임신 중 입덧의 증상인 오심과 구토는 정도의 차이가 있지만 임신한 여성의 80% 가 경험할 정도로 매우 흔한 증상입니다. 그러나 탈수가 심하고 전해질 불균형이 심해서  입원까지 필요한 경우는 약 1-3%정도 입니다. 대개는 시간이 지나면 입덧은 호전되지만,  이들 중 약 20%는 더 오랫동안 입덧이 지속되며, 일부는 임신말기까지도 지속됩니다.'),\n",
       " Document(metadata={'source': './data/command_10.pdf', 'page': 2}, page_content='- 일반요법 정서적인 안정이 중요하며, 입덧을 자극하는 음식물 섭취를 삼가고 양을 적 게 해서 자주 먹어야 합니다. 마른 토스트나 크래커를 먹는 것도 도움이 됩니다. 또한 많 은 물을 섭취하는 경우 구토를 동반하는 경우가 많으나 물은 조금씩 드셔야 합니다. 보 조적인 요법으로 침을 맞거나, 생강차 복용을 하면 입덧을 완화 시킬 수 있는 것으로 알 려져 있습니다.  3. 변비   Q: 임신 초기 변비가 너무 심한데요. 변비약을 복용해도 되나요?   A : 네, 대부분의 변비약은 장내흡수가 되지 않고 장내에서만 작용 후 변비를 해결하기  때문에 전신 흡수가 적어 안전한 편입니다.  - 증상 일반적으로는 배변 횟수가 주 2-3회 미만이면 변비라고 합니다. 변비의 원인은  저섬유질 식사, 스트레스, 장폐색과 같은 위장관 이상 등이 있습니다. 그러나 임신에 의 한 변비는 프로게스테론에 의한 위장의 평활근 활동 감소와 자궁이 커져 장을 눌러서 발 생하는 생리적인 것으로 알려져 있습니다.  -'),\n",
       " Document(metadata={'source': './data/command_10.pdf', 'page': 2}, page_content='위장관 이상 등이 있습니다. 그러나 임신에 의 한 변비는 프로게스테론에 의한 위장의 평활근 활동 감소와 자궁이 커져 장을 눌러서 발 생하는 생리적인 것으로 알려져 있습니다.  - 일반요법 과일이나 야채를 포함하여 부피를 늘리는 방법으로 식이습관을 변화시키면  변비를 해결하는데 도움이 됩니다.    4. 두통   Q: 임신 중 두통이 심한데요, 통증을 완화시킬 수 있는 약이 있나요?  A: 일시적으로 아세트아미노펜과 같은 소염진통제를 복용하시면 증상이 완화될 수 있습 니다.  - 증상 두통은 임신 초기에 더 흔하게 나타납니다. 그 원인으로는 호르몬의 변화, 수면부 족, 혈액순환의 변화, 저혈당증, 탈수, 새로운 아기에 대한 불안감, 카페인 중단 등이 있 습니다. 유형으로는 긴장성 투통과 편두통이 있습니다.  - 일반요법 충분한 휴식을 하고 규칙적인 운동, 충분한 잠을 자면 두통은 완화되고 빈도 도 줄어듭니다. 어깨 마사지나 얼굴에 따뜻한 수건으로 덮고 있는 것도 도움이 됩니다.'),\n",
       " Document(metadata={'source': './data/command_10.pdf', 'page': 2}, page_content='- 일반요법 충분한 휴식을 하고 규칙적인 운동, 충분한 잠을 자면 두통은 완화되고 빈도 도 줄어듭니다. 어깨 마사지나 얼굴에 따뜻한 수건으로 덮고 있는 것도 도움이 됩니다.    5. 복통   Q: 임신중 소화성 궤양으로 가끔 상복부 통증이 심합니다. 이때 치료약이 있나요?   A: 네, 슈크랄페이트과 같은 위점막보호제, 제산효과를 내는 라니티딘은 임신 중 사용이'),\n",
       " Document(metadata={'source': './data/command_10.pdf', 'page': 3}, page_content='가능합니다.    - 증상 복통(소화성 궤양)은 위액 중에 포함된 염산과 소화효소에 의해 위나 십이지장 조 직에 상처가 생기면서 발생합니다. 증상은 소화불량, 상복부 통증, 오심과 구토, 가슴앓 이,위장관 출혈 그리고 위장천공이 일어날 수 있습니다.    6. 가려움증   Q: 임신 중인데 전신 가려움증으로 잠을 설치기 일쑤입니다. 증상을 완화 시킬만한 치료 약이 있나요?   A: 네, 우선적으로 피부가 건조해지지 않도록 해야 합니다. 그리고 국소적으로 보습크림 이나 항소양증 로션 사용이 도움이 됩니다.    - 증상 가려움증은 임신 중에 가장 흔한 피부증상입니다. 임신에 기인한 경미한 9 가려 움증은 자주 있으며, 주로 복부 주위에서 일어나서 허벅지, 엉덩이, 유방, 그리고 팔로 확 장됩니다. 하지만, 소양증으로 정밀 검사가 필요한 경우는 약 1 2% 입니다.  - 일반용법 피부가 건조하지 않도록 실내 환경을 가습합니다. 그리고 정전기를 피하고  피부를 자극 하는 천을 가진 이불을'),\n",
       " Document(metadata={'source': './data/command_10.pdf', 'page': 3}, page_content='정밀 검사가 필요한 경우는 약 1 2% 입니다.  - 일반용법 피부가 건조하지 않도록 실내 환경을 가습합니다. 그리고 정전기를 피하고  피부를 자극 하는 천을 가진 이불을 피해야 합니다. 또한 음식물로는 카페인, 알코올, 매 운 것 그리고 뜨거운 물을 피해야 합니다.    7. 요통과 골반통   Q: 임신 중기 이후 요통과 골반통이 있어서 걷기도 힘든데 통증을 완화할 수 있는 약이  있나요?   A: 네, 아세트아미노펜과 같은 소염진통제를 일시적으로 사용하는 것은 가능합니다. 만 약, 더욱 심해진다면 정형외과에서 보조기 착용이 필요할 수 있습니다.    - 증상 임신부의 80%는 요통 및 골반통을 경험하며 일부 임신부는 임신의 시작과 함께  이러한 통증을 경험합니다. 일반적으로 임신 중에 나타나는 요통 및 골반통은 호르몬의  증가로 골반 인대가 약해지고 출산을 위해 관절이 풀어지며, 자궁과 아기가 커지면서 무 게중심이 앞으로 쏠리면서 생깁니다.'),\n",
       " Document(metadata={'source': './data/command_10.pdf', 'page': 4}, page_content='- 일반요법 충분한 휴식을 취하고, 높은 굽 신발을 피하여 바른 자세를 유지하여야 합니 다. 등을 대고 바로 자지 않도록 하고 가급적 왼쪽 옆으로 눕도록 합니다. 발을 올린다거 나 복대를 하는 것도 좋은 방법입니다.    8. 빈뇨증   Q: 임신 초기부터 소변이 자주 마려운 빈뇨증으로 잠에서 자주 깹니다. 빈뇨증을 완화시 킬 방법은 없나요?   A: 네, 빈뇨증은 대부분 임신의 정상적인 과정입니다. 그러나 만약 방광염이 동반될 때는  암피실린과 세파드록실과 같은 항생제를 사용하여 치료가 가능합니다.  - 증상 임신 중에는 신장이 커지고 요관도 확장됩니다. 그리고 임신 시에 증가되는 프로 게스테론은 방광의 이완과 요관의 확장을 초래합니다. 또한, 임신이 진행됨에 따라 자궁 의 방광에 대한 압박이 증가하여 빈뇨증을 유발합니다. 한편, 당뇨병이나 방광염이 이러 한 증상의 원인이 되기도 합니다.  - 일반요법 요로계의 감염을 예방하기 위해 청결상태를 유지하고 박테리아에 의한 감염 이 되지'),\n",
       " Document(metadata={'source': './data/command_10.pdf', 'page': 4}, page_content='유발합니다. 한편, 당뇨병이나 방광염이 이러 한 증상의 원인이 되기도 합니다.  - 일반요법 요로계의 감염을 예방하기 위해 청결상태를 유지하고 박테리아에 의한 감염 이 되지 않도록 손을 잘 씻어야 합니다. 배뇨나 배변 시 휴지를 앞에서 뒤로 사용하고,  액체 비누를 사용하여 회음부 및 요도구를 깨끗하게 유지하도록 합니다.'),\n",
       " Document(metadata={'source': './data/docs.pdf', 'page': 0}, page_content='열린마루 2013 November + December 2322 건강한 정보* 의약백서 DO & DON’T | 임신 중 의약품 사용  깔끔하게 정리해드립니다~ 고민되는 임신 중 의약품 사용!  임신 중 산모가 의약품에 노출될 경우 태아에게 영향을 미치는 시기와 정도가 의약품에 따라 다르기 때문에  정확한 정보를 알고 대비하는 것이 중요하다. 이때 태아에 안전한 약물을 선택하고, 임신기간 중 질환관리 에 적극적으로 힘쓰면 산모와 아이의 건강을 모두 챙길 수 있다. 임신부들을 위한 올바른 의약품 사용법을  소개한다.   정리 편집실 아이를 가진 임신부의 기쁨 뒤에 찾아오는 가장  큰 걱정은 뱃속의 태아가 정상인지 아닌지에 대 한 불안한 마음일 것이다. 복용 중인 약물이 있 거나 임신 사실을 모른 채 약물을 복용한 임신 부의 경우, 기형아 출산을 걱정해 임신중절이 라는 돌이킬 수 없는 선택을 하기도 한다. 약물  복용으로 인한 기형아 발생률은 현저히 낮은 것 으로 알려져 있지만 대다수의'),\n",
       " Document(metadata={'source': './data/docs.pdf', 'page': 0}, page_content='임신 부의 경우, 기형아 출산을 걱정해 임신중절이 라는 돌이킬 수 없는 선택을 하기도 한다. 약물  복용으로 인한 기형아 발생률은 현저히 낮은 것 으로 알려져 있지만 대다수의 임신부들이 임신  중 약물 복용을 꺼리고 있다. 때문에 약효가 안 전하거나 위험성이 극히 적은 약물임에도 불구 하고 제때 약을 복용하지 않아 임신부의 증상을  완화시켜 주지 못하고, 오히려 태아에게 해로 운 영향을 끼치는 경우도 종종 있다.  시기별 조심할 약물 따로 있다    기기형유발 약물은 영구적으로 태아의 형태나  기능의 변형을 일으키는 약물이다. 이들 약물 은 특정시기에 특징적인 기형을 유발하기 때문 에 시기별로 복용 안전성 여부를 알아두는 것이  현명하다. 임신 4주 이전까지의 ‘착상 전기’에 는 기형유발 약물에 노출될 경우, 유산이 될 가 능성이 있기 때문에 어느 때보다 주의가 필요하 다. 태아의 기관이 형성되는 시기인 임신 4주 부터 10주까지는 약물 노출에 매우 민감한 시 기로 가급적 약물'),\n",
       " Document(metadata={'source': './data/docs.pdf', 'page': 0}, page_content='경우, 유산이 될 가 능성이 있기 때문에 어느 때보다 주의가 필요하 다. 태아의 기관이 형성되는 시기인 임신 4주 부터 10주까지는 약물 노출에 매우 민감한 시 기로 가급적 약물 사용을 최소화해야 한다.  임신 10주부터 출산 직전까지는 태아의 외부  생식기가 형성되고 발달하는 시기로 성호르몬 에 영향을 줄 수 있는 약물 노출에 더욱 유의해 야 한다. 엄마가 아프면 아이도 아파요 질병의 정도와 태아기형 발생 위험도를 고려해  전문의와 상담하면 임신 중에도 약물 사용이 가 능하다. 산모가 감기에 걸린 경우, 38도 이상 의 고열은 임신 초기 태아의 신경계 손상을 줄  수 있어 빠른 약물치료가 필요하다. ‘아세트아 미노펜’은 통상 용량 범위 내라면 임신 기간 중  안전하게 사용 가능한 해열제다.  당뇨로 인한 고혈당은 태아의 선천성 이상을 일 으키는 원인 중 하나로 알려져 있다. 임신 전부 터 당뇨를 앓고 있었거나 임신 후 임신성 당뇨 를 진단받은 경우에는 인슐린 주사제를 사용해'),\n",
       " Document(metadata={'source': './data/docs.pdf', 'page': 0}, page_content='고혈당은 태아의 선천성 이상을 일 으키는 원인 중 하나로 알려져 있다. 임신 전부 터 당뇨를 앓고 있었거나 임신 후 임신성 당뇨 를 진단받은 경우에는 인슐린 주사제를 사용해  혈당을 조절하는 것이 바람직하다.  한편 의약품 사용 후 부작용이 생기면 즉시 의 사, 약사와 상담해야한다. 약물의 성분, 용량,  복용한 시기, 복용 기간, 방사능 노출 정도를 정 확하게 파악하고 필요한 경우, 기형아 검사를 한 다면 걱정 없이 건강한 아기를 낳을 수 있다. 무 엇보다 임신부의 불안과 초조, 걱정이 태아에게  해로운 영향을 미칠 수 있는 만큼 산모가 편안하 고 안정된 자세를 갖도록 노력하는 일이 무엇보 다 중요하다.  의약품 부작용 신고는 한국의약품안전관리원 1644-6223 또는  www.drugsafe.or.kr로 신고하면 된다.'),\n",
       " Document(metadata={'source': './data/docs.pdf', 'page': 1}, page_content='25 열린마루 2013 November + December 24 스테로이드 연고 사용은 무조건  NO?  |  가려움증은 임신 중에 나타나 는 흔한 피부 증상이다. 피부가 건조해지지 않도 록 로션으로 보습 관리를 하거나 가습기를 틀어놓 는 것이 좋다. 다만 증상이 심한 경우, 경구용 스 테로이드를 복용하기도 하는데 스테로이드 성분을  전신적 혹은 장기적으로 사용하면 태아에 나쁜 영 향을 미칠 수 있으니 주의해야 한다.   임신 초기, 생백신 접종은 꼭! 피하 세요  |  임신 중 적응 증상에 따라 접종 을 고려할 수 있는 것은 B형간염, Td, 수막구균,  광견병, 폴리오, 일본뇌염, 황열 등이 있다. 한편  생백신(MMR, 수두, 대상포진, 인플루엔자 생백 신) 접종은 하지 않는다. 가임기 여성이 생백신 접 종을 했다면 접종 후 4주간은 임신을 피하는 것이  좋다.  임신 중 변비 증상에는?  |  임신 중  분비되는 프로게스테론이라는 호르몬은  대장 내벽의 근육을 이완시켜 변비'),\n",
       " Document(metadata={'source': './data/docs.pdf', 'page': 1}, page_content='접 종을 했다면 접종 후 4주간은 임신을 피하는 것이  좋다.  임신 중 변비 증상에는?  |  임신 중  분비되는 프로게스테론이라는 호르몬은  대장 내벽의 근육을 이완시켜 변비 증상을 일으키 는 경우가 많다. 이때 락툴로즈나 차전자피, 비사 코딜 등 약물을 복용하면 장의 연동운동을 촉진시 켜 배변을 도와준다. 또 수분과 지방을 잘 혼합하 여 변덩어리를 부드럽게 하는 도큐세이트소디움과  같은 완화성 하제도 복용이 가능하다.  01 02 03 임신 중 약물 복용 Do   임신 중 약물 복용 Don’t   주의해야할 임부금기 약물   복합 감기약은 위험해요  |  복합감 기약은 약제의 반응을 평가하기 어려우므 로 사용을 피하는 것이 좋다. 이외 기침 시에는 아 세틸시스테인, 브롬헥신 등의 약물을 복용 가능 하며, 두통 시에는 아세트아미노펜, 항생제를 사 용할 때는 페니실린 계열, 세팔로스포린 계열, 마 크로라이드 계열, 메트로니다졸 등의 약물이 복용  가능하다. 이들 약물의 경우에는'),\n",
       " Document(metadata={'source': './data/docs.pdf', 'page': 1}, page_content='두통 시에는 아세트아미노펜, 항생제를 사 용할 때는 페니실린 계열, 세팔로스포린 계열, 마 크로라이드 계열, 메트로니다졸 등의 약물이 복용  가능하다. 이들 약물의 경우에는 의사, 약사 등 전 문가와  상담후 사용하는 것이 바람직하다.  약효군 약물성분 여드름 치료제 (비타민A계 약물) 이소트레티노인 다발성골수종  치료제 탈리도마이드 레날리도마이드 안드로겐성  호르몬제 다나졸 위십이지장궤양  치료제 미소프로스톨 항용고제 와파린 지질저하제 (HMC-CoA 환원 효소 저해제) 아스토바스타틴 심바스타틴 단백동화  스테로이드제 옥시메틀론 ※ 외부 기고 및 인터뷰 내용은 식품의약품안전처의 공식입장과는 다를 수 있습니다. 01 02 section 02 열린마루 2013  11 + 12 열린 식약처'),\n",
       " Document(metadata={'source': './data/drug_for.pdf', 'page': 0}, page_content='ড ঌ ਸ ആઁ৬ э җ э\\u0a37 \\u0a44 ਵ ޛ \\u0a50न \\u05ee \\x0f \\x15\\t ੋೞৈ ੋҕ\\u0a50 \\u0a37 ח\\u05eeࠁ ઑѤ ਊ\\u0a49 ড ࣻؼ  ী \\x0f\\u05ee ਸ ੌ ޙٸ \\u0a49\\'PPE\\x01BOE\\x01%SVH\\x01\"ENJOJTUSBUJPO غ \\u05ee DMBTT\\x01$ী ژ\\x01\\x0f\\u05ee 440ޛ Continuing Education Column ޛ Drugs for Common Illnesses During Pregnancy ੋҗ ]\\x01Hai\\x0eJoong Kim, MD Department of Obstetrics and Gynecology, Korea University  College of Medicine EĔmail : haijkim@korea.ac.kr J Korean Med Assoc 2007; 50(5): 440 - 446 R ecently pregnant women take more drugs than before due to the trend of increasing maternal age. Though most drugs are safe, a'),\n",
       " Document(metadata={'source': './data/drug_for.pdf', 'page': 0}, page_content='more drugs than before due to the trend of increasing maternal age. Though most drugs are safe, a small percentage of them may have unintended adverse consequences for either mother or child. So any unnecessary drug should not be given to pregnant women; however, when necessary, some medications cannot be withheld. Counseling for drugs during pregnancy is one of most important and difficult tasks of obstetricians. Most drugs are classified FDA category C, and there are many new drugs that have'),\n",
       " Document(metadata={'source': './data/drug_for.pdf', 'page': 0}, page_content='of obstetricians. Most drugs are classified FDA category C, and there are many new drugs that have not been categorized yet. In addition, many drugs in category X are not absolutely contraindicated during pregnancy, and several drugs in category C or D are clear human teratogens. In this article, the author introduces drugs that we can use for common illnesses during pregnancy available in Korea. Keywords : Pregnancy; Drug ೨बਊয\\x1bޛ Abstract'),\n",
       " Document(metadata={'source': './data/drug_for.pdf', 'page': 1}, page_content='ഈഥ\\u0ad1 441 о\\u0ad1 ݆بٜ  ח ࢶ ә\\u0a49 ӝળ\\t\"VTUSBMJBO\\x01%SVH \\u0a49 ҃ ਸ ೧ঠ ೡ ࣻ \\u0a53ਵ ട ࠁ ਸ ѐѐ \\x0f\\u05eeػ \\u05eeفݽܳࠁ  ۽\\u0600 ী ܳ ਊ ӝഋ\\u0a37 ਬ \\u0ab1ਃ \\u0a62 ೠ द ࢿ ߊ ח ೞ\\u0ad1 ঋ ড ઁ\\r\\x01೦Ҋആ \\x01\\x01\\x0f\\u05ee ਤ\\u0a62ҙ\\u0ad5ജ ചઁ ࣗ \"%\\'ח  \\u0a49 ী য ژ ੋೞৈ \\u0a50न\\u0aba\\u0a7aਸ पदೡ \\u0cd9 Ѫ \\x01\\x0f\\u05ee  ౭\\u0bd1\\t\"\\x10$ \\r\\x01झ\\u0bcfನ \\x01\\x0f\\u05ee ೦ӆনઁ Ү\\u0a78 উ ࠂ ۽ \\u0a7f\\r\\x01֏झ౸ ࣗࢿ ఋ \\u0a44\\u0cdfъઝDrugs for Common Illnesses During Pregnancy Table 1. Categorisation of risk of drug use in pregnancy by FDA Category \" Controlled studies in women fail to demonstrate a risk to the fetus in the first trimester (and there is no evidence of a risk in later trimesters), and the'),\n",
       " Document(metadata={'source': './data/drug_for.pdf', 'page': 1}, page_content='the fetus in the first trimester (and there is no evidence of a risk in later trimesters), and the pos- sibility of fetal harm appears remote. # Either animal\\x0ereproduction studies have not demon- strated a fetal risk but there are no controlled studies have shown an adverse effect (other than a decrease in fertility) that was not confirmed in controlled studies in women in the first trimester (and there is no evidence of a risk in later trimesters) $ Either studies in animals have revealed'),\n",
       " Document(metadata={'source': './data/drug_for.pdf', 'page': 1}, page_content='(and there is no evidence of a risk in later trimesters) $ Either studies in animals have revealed adverse ef- fects on the fetus (teratogenic or embryocidal, or other) and there are no controlled studies in women or studies in women and animals are not available. Drugs should be given only if the potential benefit justifies the potential risk to the fetus % There is positive evidence of human fetal risk, but the benefits from use in pregnant women may be ac- ceptable despite the risk (e.g., if'),\n",
       " Document(metadata={'source': './data/drug_for.pdf', 'page': 1}, page_content='risk, but the benefits from use in pregnant women may be ac- ceptable despite the risk (e.g., if the drug is needed in a life\\x0ethreatening situation or for a serious disease for which safer drugs cannot be used or are ineffective) 9 Studies in animals or human beings have demon- strated fetal abnormalities, or there is evidence of fetal risk based on human experience, or both, and the risk of the use of the drug in pregnant women clearly outweighs any possible benefit. The drug is'),\n",
       " Document(metadata={'source': './data/drug_for.pdf', 'page': 1}, page_content='risk of the use of the drug in pregnant women clearly outweighs any possible benefit. The drug is contraindicated in women who are or may become pregnant.'),\n",
       " Document(metadata={'source': './data/drug_for.pdf', 'page': 2}, page_content='\\x0f\\u05ee CZ \\u0a7f\\r\\x01TVDSBMGBUF\\t#\\x01CZ അ \\u0c5f ٥ CZ ਗ౯ \\u0a7f\\r\\x01\\u0a57 \\u0a37 \\u0ab1\\u0a44ೞৈ ࣗ ೞ \\x0f\\u05ee ച\\u0a62গ\\r\\x01ҳష\\r\\x01ҳ\\u09c9 ೠ \\u0a37 \\'%\" \\x0f\\u05ee \\u07b7 ಕ ܄ ઁੋ ই \\u0c75 ইઁ \\u0a7f\\r\\x01ാझఎ \\u0a7f\\r \\x01\\x0f\\u05ee \\rۆ ਊೡ \\x0f\\u05ee  ৮ചઁ р\\u0cf5\\u0a78 ٜח۽  \\x01\\x0f\\u05ee 442ޛ Kim HJ Table 2. Categorisation of risk of drug use in pregnancy by Australian Drug Evaluation Committee  Category A Drugs which have been taken by a large number of pregnant women and women of childbearing age without any proven increase in the frequency of malformations or other direct or indirect harmful effects on the fetus having been observed. B B1'),\n",
       " Document(metadata={'source': './data/drug_for.pdf', 'page': 2}, page_content='malformations or other direct or indirect harmful effects on the fetus having been observed. B B1 Drugs which have been taken by a large number of pregnant women and women of childbearing age without any proven increase in the frequency of malformations or other direct or indirect harmful effects on the fetus having been observed. B2 Drugs which have been taken by only a limited number of pregnant women and women of childbearing age, without an increase in the frequency of malformation or other'),\n",
       " Document(metadata={'source': './data/drug_for.pdf', 'page': 2}, page_content='women and women of childbearing age, without an increase in the frequency of malformation or other direct or indirect harmful effects on the human fetus having been observed.  Studies in animals are inadequate or may be lacking, but available data show no evidence of an increased occurrence of fetal damage. Studies in animals are inadequate or may be lacking, but available data show no evidence of an increased occurrence of fetal damage. B3 Drugs which have been taken by only a limited number'),\n",
       " Document(metadata={'source': './data/drug_for.pdf', 'page': 2}, page_content='of an increased occurrence of fetal damage. B3 Drugs which have been taken by only a limited number of pregnant women and women of childbearing age, without an increase in the frequency of malformation or other direct or indirect harmful effects on the human fetus having been observed. Studies in animals have shown evidence of an increased occurrence of fetal damage, the significance of which is considered uncertain in humans. C Drugs which, owing to their pharmacological effects, have caused'),\n",
       " Document(metadata={'source': './data/drug_for.pdf', 'page': 2}, page_content='considered uncertain in humans. C Drugs which, owing to their pharmacological effects, have caused or may be suspected of causing, harmful effects on the human fetus or neonate without causing malformations. These effects may be reversible. Accompanying texts should be consulted for further details. D Drugs which have caused, are suspected to have caused or may be expected to cause, an increased incidence of human fetal malformations or irreversible damage. These drugs may also have adverse'),\n",
       " Document(metadata={'source': './data/drug_for.pdf', 'page': 2}, page_content='incidence of human fetal malformations or irreversible damage. These drugs may also have adverse pharmacological effects. Accompanying texts should be consulted for further details. X Drugs which have such a high risk of causing permanent damage to the fetus that they should not be used in preg- nancy or when there is a possibility of pregnancy.'),\n",
       " Document(metadata={'source': './data/drug_for.pdf', 'page': 3}, page_content='ഈഥ\\u0ad1 443 ઁ \\u0ce4ઁ \\u0a49 \\u0c0d֎\\u0a49 \\u0a7f\\u0a37 \\x0f\\u05ee ഐ൚ӝ҅ \\u0ad5ജ \\x12\\x0f ୌध ܫ߽ ਊਸ ೖ \\u0a92 যঠ ೠ ೞ ఋ\\x0eܽ ড \\u0c5f \\u0a49 \\x01\\x0f\\u05ee \\u0a49\\u0a77\\r \\u0a50न\\u0aba উब \\x0f\\u05ee ઁ ਊী Ү\\u0a78 উ\\u0a79ೞ ա ীझ \\u0a44 ࢎ۽ޛ  ࢲ \\u0cfcन ಗ\\u0c5f \\x01\\x0f\\u05ee \\u0a37 \\u0a49 ٘ ह ١ۣ  \\u0a3dਸ ಣоೞӝ \\x01\\x0f\\u05ee \\u0a64\\u0b3bӝ \\u07b9 \\u0a50न\\u0aba \\x01\\x0f\\u05ee ܖ \\u0ad3 \\u0cd8 \\u0bd2 \\x0f\\u05ee Ѿ೨ ࠗ ب $\\t٘ \\x0f\\u05ee \\u0a44\\u0cdfъઝDrugs for Common Illnesses During Pregnancy Table 3. Drugs or substances suspected or proven to be human tera- togens Antihypertensive drug Hormone ACE inhibitors Androgen A\\x0eII antagonists Danazole Anticancer drug Diethylstilbestrol (DES) Aminopterin Anticoagulant Busulfan Coumarins MethotrexateDrugs for acne'),\n",
       " Document(metadata={'source': './data/drug_for.pdf', 'page': 3}, page_content='Diethylstilbestrol (DES) Aminopterin Anticoagulant Busulfan Coumarins MethotrexateDrugs for acne Cyclophosphamide Etretinate  Tamoxifen Isotretinoin  Anticonvulsants Tretinoin Carbamazepine Drugs for thyroid diseses Valproic acid Methimazole  Phenytoin Radioactive iodine Trimethadione Others Antibiotics Chlorbiphenyls Kanamycin Cocaine Streptomycin Ethanol Tetracycline Penicillamine Antidepressant Thalidomide Lithium Misoprostol'),\n",
       " Document(metadata={'source': './data/drug_for.pdf', 'page': 4}, page_content='\\u0ad3ా\\r\\x01೧ৌઁ \\u0a78\\u0a37 ন \\u0a53 HBTUSPTDIJTJT\\r\\x01TNBMM\\x01JOUFTUJOF ೞ \\u0ad3ా\\r\\x01೧ৌઁ \\x0f\\u05ee \\u09cf\\u0ad3ాઁ חغ ҃\\u0a0b ೞա \\u0a50 \\u07b2 ਊ\\u0a49 о ࢿ ೞա ই \\x0f\\u05ee ఋ\\x0e \\u0ab1\\r \\u0ba5 \\u0bff ಕ ఌ \\u0ab1\\r\\x01అನੋ \\u0ab1 \\u0a7f \\u0a49 ಗ\\r\\x01ঌ \\rۣ ۣ ࣄ दத ٥ झ\\r ա ѳ\\r\\x01ாషಗ ѳ ૐ җ э\\u0a37 \\x0f\\u05ee ઁ न҃ \\u0a37 కই\\u0a44 Ҏ ઉ \\u0a53 \\u0bd2\\r \\x01\\x01\\x0f\\u05ee ҅ৌ\\t#\\x01CZ ҅\\t#\\x01CZ \\u05eeܽ न \\x0f\\u05ee \\u0ad3Ӑ \\u0ad5ജ ࢎ झ ઔਸ \\x0f\\u05ee  ֎౯\\r \\u0ad1բझ \\u0ad5\\u0a7f ী\\u0cd0 ളӝઓ ݃ ઔ \\u0ad5\\u0a7f\\r\\x01\\u0ba0֎झబ \\u0ad5\\u0a7f झઁ غ য\\u0a7f\\t# \\u0a37 ࢎ 444ޛ Kim HJ'),\n",
       " Document(metadata={'source': './data/drug_for.pdf', 'page': 5}, page_content='ഈഥ\\u0ad1 445 ਤ \\x0f\\u05ee \\u0ad5ജ QSVSJUJD\\x01VSUJDBSJBM\\x01QBQVMFT\\x01BOE\\x01QMB\\x0e RVFT\\x01PG\\x01QSFHOBODZ \\t16111 ա QSVSJHP\\x01PG\\x01QSFHOBODZ৬ \\u0a49 ҃\\u0a0bী \\u0a49 ࣻ \\x0f\\u05ee ܴ٘ \\u0600 CFO[PZM\\x01QFSPYJEF\\r\\x01DMJO\\x0e \\u0a78 Ҋ \\x0f\\u05ee ߮ ܿ ۨ য়न ֎ \\u0a84 ѳ ࢶ ਤо և\\u0ad1 ঋ \\u0a79न\\u0a78 67\\x0e\\u0a3d\\u0a49 হਵ \\x0f\\u05ee \\u0cd0 POOFDUJWF\\x015JTTVF\\x01%JTPSEFS ಹझ৬ э\\u0a37 Ѿ\\u0ce4ઑ\\u0ad2 \\x0f\\u05ee ҳ\\u0b7dઁ пೞ DMBTT\\x01#\\r\\x01$ী য\\u0a53\\u0ad1 ঋਵա पઁ \\x0f\\u05ee భ \\u0ad3\\t# \\r Ҋആ\\u0991 Ҋആ\\u0991 ࢎ ח ਸ \\x0f\\u05ee  അ\\u0a64 \\u0a0b ߬ ߬ۄ\\x01\\x0f\\u05ee ಕ ઁ ਊೡ \\x0f\\u05ee ַ߽\\u05fc ӝഋ\\u0a49ա ઑ \\x01\\x0f\\u05ee ࣘ \\u0a58ਊ ೠ োҳо হয \"NFSJDBM\\x01$PMMFHF\\x01PG ਊਸ ӂೞ\\u0ad1 ঋ ઑ\\u0a7aೡ Ѫਸ ӂ\\u0a62 \\x0f\\u05ee \\u0a44\\u0cdfъઝDrugs for Common Illnesses During Pregnancy'),\n",
       " Document(metadata={'source': './data/drug_for.pdf', 'page': 6}, page_content='446ޛ Kim HJ \\u0ad5ജ \\u0a44 ࣻ ݶ بࣻ ҃\\u0a0bী \\x01\\x0f\\u05ee ݮ ೦\\u0ad3ૐ \\u0a49 QSPQZMUIJ\\x0e \\x01\\x0f\\u05ee ޛ  $\\x01\\r#\\x01\\r\"\\t\\u07b9 ҃\\u0a0bী द\\u0aba \\u06dd \\x0f\\u05ee ಗ\\t9 ਊ ೠ ҃ ܳࠗ \\x0f\\u05ee ೖ\\u0a50ড \\x0f\\u05ee \\u0cf4 1. DW Bae. Drugs for pregnant and lactating women. Korea medical. 2005. 2. Cunningham FG, Hauth JC, Leveno KJ, Gilstrap L Ǐ, Bloom SL, Wenstrom KD. Hypertensive disorders in pregnancy. In: Cunningham FG, Hauth JC, Leveno KJ, Gilstrap L Ǐ, Brom SL, Wenstrom KD, eds. Williams Obstetrics, 22nd ed. New- York: McGraw\\x0eHill, 2005: 761-808 3. Griggs GG, Freeman FK, Yaffe SJ. Drugs in pregnancy and'),\n",
       " Document(metadata={'source': './data/drug_for.pdf', 'page': 6}, page_content='New- York: McGraw\\x0eHill, 2005: 761-808 3. Griggs GG, Freeman FK, Yaffe SJ. Drugs in pregnancy and lactation 4th de. Williams & Wilkins, 1996. 4. Lacroix I, Damase \\x0eMichel C, Lapeyre \\x0eMestre M, Mon- tastruc JL. Prescription of drugs during pregnancy in France. Lancet 2000; 356: 1735-1736. 5. Weiner CP, Buhimschi C, eds. Drugs for pregnant and lacta- ting women, Philadelphia: Churchill Livingstone, 2004:1101. Peer Reviewer Commentary \\u0a44 \\u0ad5ജ ࠄ о അ ೠ \\u0a50न \\u0aba ઁ\\x12 ডઁ\\u0a44 ైৈ ࠺ \\x01\\x0f\\u05ee ੋҗ')]"
      ]
     },
     "execution_count": 24,
     "metadata": {},
     "output_type": "execute_result"
    }
   ],
   "execution_count": 24
  },
  {
   "metadata": {},
   "cell_type": "markdown",
   "source": [
    "\n",
    "# 임베딩 모델 & Pinecone"
   ],
   "id": "26a10fc467a3288d"
  },
  {
   "metadata": {
    "ExecuteTime": {
     "end_time": "2024-12-19T03:37:35.476413Z",
     "start_time": "2024-12-19T03:37:34.627090Z"
    }
   },
   "cell_type": "code",
   "source": [
    "from langchain_openai.embeddings import OpenAIEmbeddings\n",
    "\n",
    "embeddings = OpenAIEmbeddings(\n",
    "    model = 'text-embedding-3-small'\n",
    ")"
   ],
   "id": "e1c7e467b7c57db2",
   "outputs": [],
   "execution_count": 25
  },
  {
   "metadata": {
    "ExecuteTime": {
     "end_time": "2024-12-19T03:37:36.548681Z",
     "start_time": "2024-12-19T03:37:36.544359Z"
    }
   },
   "cell_type": "code",
   "source": [
    "import os\n",
    "\n",
    "PINECONE_INDEX_NAME1 = os.getenv('PINECONE_INDEX_NAME1')\n",
    "PINECONE_NAMESPACE1 = os.getenv('PINECONE_NAMESPACE1')\n",
    "PINECONE_API_KEY = os.getenv('PINECONE_API_KEY')"
   ],
   "id": "9f7a7bb26e6e8d1d",
   "outputs": [],
   "execution_count": 26
  },
  {
   "metadata": {
    "ExecuteTime": {
     "end_time": "2024-12-19T03:37:38.429253Z",
     "start_time": "2024-12-19T03:37:38.424587Z"
    }
   },
   "cell_type": "code",
   "source": [
    "print(PINECONE_INDEX_NAME1)\n",
    "print(PINECONE_NAMESPACE1)\n",
    "print(PINECONE_API_KEY)"
   ],
   "id": "6c9a43870ede58e",
   "outputs": [
    {
     "name": "stdout",
     "output_type": "stream",
     "text": [
      "ai-medicine-docs\n",
      "ai-medicine-docs-ns\n",
      "pcsk_4XyuMX_5f47dcAxtKB3mkLzQbc4EfucgVHPSkZ7pikmbjCRbviWzyUBGstWunj4XTVTmaj\n"
     ]
    }
   ],
   "execution_count": 27
  },
  {
   "metadata": {
    "ExecuteTime": {
     "end_time": "2024-12-19T03:37:55.940766Z",
     "start_time": "2024-12-19T03:37:40.126896Z"
    }
   },
   "cell_type": "code",
   "source": [
    "from langchain_pinecone import PineconeVectorStore\n",
    "vector_db1 = PineconeVectorStore.from_documents(\n",
    "    docs,\n",
    "    embeddings,\n",
    "    index_name=PINECONE_INDEX_NAME1,\n",
    "    namespace=PINECONE_NAMESPACE1,\n",
    "    pinecone_api_key=PINECONE_API_KEY\n",
    ")"
   ],
   "id": "2b5f58ace17beb77",
   "outputs": [],
   "execution_count": 28
  },
  {
   "metadata": {
    "ExecuteTime": {
     "end_time": "2024-12-19T03:39:26.087993Z",
     "start_time": "2024-12-19T03:39:24.426697Z"
    }
   },
   "cell_type": "code",
   "source": [
    "vector_db1 = PineconeVectorStore(\n",
    "    embedding=embeddings,\n",
    "    index_name=PINECONE_INDEX_NAME1,\n",
    "    namespace=PINECONE_NAMESPACE1,\n",
    "    pinecone_api_key=PINECONE_API_KEY\n",
    ")\n",
    "\n",
    "results = vector_db1.similarity_search(\n",
    "    \"임산부가 주의해야할 약물에 대해 말해줘\",\n",
    "    k=3, # 유사도 높은 순으로 5건\n",
    "    namespace=PINECONE_NAMESPACE1, # 검색의 논리적인 단위\n",
    ")"
   ],
   "id": "2d3623d8a448b9d0",
   "outputs": [],
   "execution_count": 35
  },
  {
   "metadata": {
    "ExecuteTime": {
     "end_time": "2024-12-19T05:42:50.602656Z",
     "start_time": "2024-12-19T05:42:50.578175Z"
    }
   },
   "cell_type": "code",
   "source": [
    "page_content = [doc.page_content for doc in results]\n",
    "page_content"
   ],
   "id": "41330400c1829e92",
   "outputs": [
    {
     "data": {
      "text/plain": [
       "['임산부의 약물 상담 지침 그림 1. 임신중 약물의 위험성. 약물들의 대부분은 대기형발생위험률이 기본위험률(1-3%)을 넘지 않는다. 단지 몇 가지 약물만이 20~30%의 위험률을 가짐. FDA 분류를 임신인지 모르고 약물에 노출된 임신부에게 약물의 안전성 및 위험성 평가를 위해 적용하는 것은 옳은가? 옳지 않다. 미국 FDA 분류는 1979년에 임신부의 치료지침을 제공하기 위해 개발되었지만, 이상적이지 않은 것으로 평가되고 있다. 대부분의 약물의 분류가 동물실험자료, 증례발표, 그리고 사람에 대한 자료가 제한되어 있거나 거의 없는 상태에 근거하고 있다. 그리고 최근 약물의 안전성과 위험성에 관한 증거가 있음에도 잘 반영되지 않고 있다. 또한, 같은 군에 속해 있는 경우 유사한 위험을 갖는 것으로 인식하게 한다거나, D군이나 X군 그리고 심지어 C군에 포함되는 약물들도 유사한 위험을 가질 수 있어서 의료인들이 약물을 해석하는데 혼 란을 가져올 수 있다. 따라서, FDA는 이러한',\n",
       " '임산부의 약물 상담 지침 그림 1. 임신중 약물의 위험성. 약물들의 대부분은 대기형발생위험률이 기본위험률(1-3%)을 넘지 않는다. 단지 몇 가지 약물만이 20~30%의 위험률을 가짐. FDA 분류를 임신인지 모르고 약물에 노출된 임신부에게 약물의 안전성 및 위험성 평가를 위해 적용하는 것은 옳은가? 옳지 않다. 미국 FDA 분류는 1979년에 임신부의 치료지침을 제공하기 위해 개발되었지만, 이상적이지 않은 것으로 평가되고 있다. 대부분의 약물의 분류가 동물실험자료, 증례발표, 그리고 사람에 대한 자료가 제한되어 있거나 거의 없는 상태에 근거하고 있다. 그리고 최근 약물의 안전성과 위험성에 관한 증거가 있음에도 잘 반영되지 않고 있다. 또한, 같은 군에 속해 있는 경우 유사한 위험을 갖는 것으로 인식하게 한다거나, D군이나 X군 그리고 심지어 C군에 포함되는 약물들도 유사한 위험을 가질 수 있어서 의료인들이 약물을 해석하는데 혼 란을 가져올 수 있다. 따라서, FDA는 이러한',\n",
       " '임산부의 약물 상담 지침 8 감기, 근육통 등으로 약물복용 시 모유수유 중단해야 하나요? 모유는 영양적, 면역학적 그리고 정서적으로 아기에게 가장 적합한 영양소이다. 따라서, 비록 여러 가지 질병으로 치료를 위해 약물을 복용해야 하는 경우도 모유수유를 중단하는 것은 신중하게 결정해야 한다. 알려진 바로는 아기에게 전달되는 약물의 양은 엄마가 복용하는 양의 1-2% 뿐으로 임상적으로 아기에게 미치는 영향이 거의 없어서 감기, 근육통에 처방하는 약물을 포함해 대부분의 약물들은 모유수유에 적합한 것으로 알려져 있다. 현재까지 알려진 바로는 메토트렉세이트는 주요기형유발물질로 임신 초기에 사용시 5% 정도에서 무뇌아, 두개골형성장애, 두개결합증 등을 유발할 수 있다. 이 약의 경우 얼마나 중단 후 임신 할 수 있는지에 대하여 일치된 의견이 있지는 않지만 체내에서 이 약물이 제거되는 시간을 고려하면 3개월 정도 지난 후에는 임신이 가능해 보인다. 그리고 나머지 소염진통제, 코르티코스테로이드,']"
      ]
     },
     "execution_count": 87,
     "metadata": {},
     "output_type": "execute_result"
    }
   ],
   "execution_count": 87
  },
  {
   "metadata": {},
   "cell_type": "markdown",
   "source": "## prompt",
   "id": "e78288f7ffc5c7a4"
  },
  {
   "metadata": {
    "ExecuteTime": {
     "end_time": "2024-12-19T07:14:07.196368Z",
     "start_time": "2024-12-19T07:14:07.189450Z"
    }
   },
   "cell_type": "code",
   "source": [
    "prompt = ChatPromptTemplate.from_messages([\n",
    "        ('system', '''\n",
    "Persona: 당신은 전문적인 약사입니다. 약에 대해 복용 방법, 주의 사항, 금기 여부를 알고 있으며 일반인을 대상으로 설명이 가능합니다.\n",
    "\n",
    "Role: 임산부에게 의약품의 복용 가능 여부 및 금기 등급, 금기 등급의 의미를 정확히 이해할 수 있도록 돕습니다. context를 기반으로 약품에 대해 아무것도 모르는 임산부가 이해할 수 있도록 주의 사항을 도출해서 5줄 이내로 알려줍니다.\n",
    "\n",
    "Examples: 만약 해당 성분이 임산부에게 해로우면, 해당 의약품이 어떤 성분으로 인해 어느 금기 등급에 속하며 어떤 위험성이 있는지 알려준다. 만약 해당 성분이 임산부에게 해롭지 않으면, DUR 임부금기에 해당되지 않으므로 복용해도 된다고 알려준다.\n",
    "        '''),\n",
    "        ('user', '''\n",
    "        query 임산부가 복용해도 되는 약물에 대해 context만 참조해서 알려줘\n",
    "        \n",
    "        question: {query}\n",
    "        context: {context}\n",
    "        ''')\n",
    "        \n",
    "    ]) \n",
    "prompt"
   ],
   "id": "39f15af2de3b0587",
   "outputs": [
    {
     "data": {
      "text/plain": [
       "ChatPromptTemplate(input_variables=['context', 'query'], input_types={}, partial_variables={}, messages=[SystemMessagePromptTemplate(prompt=PromptTemplate(input_variables=[], input_types={}, partial_variables={}, template='\\nPersona: 당신은 전문적인 약사입니다. 약에 대해 복용 방법, 주의 사항, 금기 여부를 알고 있으며 일반인을 대상으로 설명이 가능합니다.\\n\\nRole: 임산부에게 의약품의 복용 가능 여부 및 금기 등급, 금기 등급의 의미를 정확히 이해할 수 있도록 돕습니다. context를 기반으로 약품에 대해 아무것도 모르는 임산부가 이해할 수 있도록 주의 사항을 도출해서 5줄 이내로 알려줍니다.\\n\\nExamples: 만약 해당 성분이 임산부에게 해로우면, 해당 의약품이 어떤 성분으로 인해 어느 금기 등급에 속하며 어떤 위험성이 있는지 알려준다. 만약 해당 성분이 임산부에게 해롭지 않으면, DUR 임부금기에 해당되지 않으므로 복용해도 된다고 알려준다.\\n        '), additional_kwargs={}), HumanMessagePromptTemplate(prompt=PromptTemplate(input_variables=['context', 'query'], input_types={}, partial_variables={}, template='\\n        query 임산부가 복용해도 되는 약물에 대해 context만 참조해서 알려줘\\n        \\n        question: {query}\\n        context: {context}\\n        '), additional_kwargs={})])"
      ]
     },
     "execution_count": 138,
     "metadata": {},
     "output_type": "execute_result"
    }
   ],
   "execution_count": 138
  },
  {
   "metadata": {},
   "cell_type": "markdown",
   "source": "## PDF_retriever_vector_store",
   "id": "7e420767a3f69b9c"
  },
  {
   "metadata": {
    "ExecuteTime": {
     "end_time": "2024-12-19T07:14:14.814188Z",
     "start_time": "2024-12-19T07:14:12.571650Z"
    }
   },
   "cell_type": "code",
   "source": [
    "retriever = vector_db1.as_retriever(\n",
    "    search_type='similarity',\n",
    "    search_kwargs = {'k':3}\n",
    ")\n",
    "query ='임산부에 약물 복용'\n",
    "\n",
    "retrievals = retriever.batch([query])"
   ],
   "id": "86087af0cc9cbcf3",
   "outputs": [],
   "execution_count": 139
  },
  {
   "metadata": {
    "ExecuteTime": {
     "end_time": "2024-12-19T06:13:07.883475Z",
     "start_time": "2024-12-19T06:13:07.878068Z"
    }
   },
   "cell_type": "code",
   "source": "retrievals",
   "id": "aa82bbbc95614dfc",
   "outputs": [
    {
     "data": {
      "text/plain": [
       "[[Document(id='b3ea4e13-6fe3-47d3-99cc-6b514994a964', metadata={'page': 9.0, 'source': './data/korean_mothersafe.pdf'}, page_content='임산부의 약물 상담 지침 8 감기, 근육통 등으로 약물복용 시 모유수유 중단해야 하나요? 모유는 영양적, 면역학적 그리고 정서적으로 아기에게 가장 적합한 영양소이다. 따라서, 비록 여러 가지 질병으로 치료를 위해 약물을 복용해야 하는 경우도 모유수유를 중단하는 것은 신중하게 결정해야 한다. 알려진 바로는 아기에게 전달되는 약물의 양은 엄마가 복용하는 양의 1-2% 뿐으로 임상적으로 아기에게 미치는 영향이 거의 없어서 감기, 근육통에 처방하는 약물을 포함해 대부분의 약물들은 모유수유에 적합한 것으로 알려져 있다. 현재까지 알려진 바로는 메토트렉세이트는 주요기형유발물질로 임신 초기에 사용시 5% 정도에서 무뇌아, 두개골형성장애, 두개결합증 등을 유발할 수 있다. 이 약의 경우 얼마나 중단 후 임신 할 수 있는지에 대하여 일치된 의견이 있지는 않지만 체내에서 이 약물이 제거되는 시간을 고려하면 3개월 정도 지난 후에는 임신이 가능해 보인다. 그리고 나머지 소염진통제, 코르티코스테로이드,'),\n",
       "  Document(id='5e6414a1-7c5d-4e75-88d8-06eb75ede309', metadata={'page': 9.0, 'source': './data/korean_mothersafe.pdf'}, page_content='임산부의 약물 상담 지침 8 감기, 근육통 등으로 약물복용 시 모유수유 중단해야 하나요? 모유는 영양적, 면역학적 그리고 정서적으로 아기에게 가장 적합한 영양소이다. 따라서, 비록 여러 가지 질병으로 치료를 위해 약물을 복용해야 하는 경우도 모유수유를 중단하는 것은 신중하게 결정해야 한다. 알려진 바로는 아기에게 전달되는 약물의 양은 엄마가 복용하는 양의 1-2% 뿐으로 임상적으로 아기에게 미치는 영향이 거의 없어서 감기, 근육통에 처방하는 약물을 포함해 대부분의 약물들은 모유수유에 적합한 것으로 알려져 있다. 현재까지 알려진 바로는 메토트렉세이트는 주요기형유발물질로 임신 초기에 사용시 5% 정도에서 무뇌아, 두개골형성장애, 두개결합증 등을 유발할 수 있다. 이 약의 경우 얼마나 중단 후 임신 할 수 있는지에 대하여 일치된 의견이 있지는 않지만 체내에서 이 약물이 제거되는 시간을 고려하면 3개월 정도 지난 후에는 임신이 가능해 보인다. 그리고 나머지 소염진통제, 코르티코스테로이드,'),\n",
       "  Document(id='bee61482-e8e9-4384-9cfd-eecaa4e31736', metadata={'page': 0.0, 'source': './data/command_10.pdf'}, page_content='■ 임산부의 안전하고, 효과적인 약 복용을 위한 약물 요법 10계명    1. 임신 가능한 여성의 경우 약물 복용 전 임신 여부 확인하십시오. 임신 가능한 여 성이 약물을 복용할 때는 임신 계획 및 임신 여부를 반드시 확인하여야 하며 전 문가와 상의 후 투여하는 것이 필요합니다.  2. 임신 중 약물 복용은 태아에게 영향을 줄 수 있습니다. 임산부가 약물 복용 시  주의해야 하는 까닭은 약물이 태반을 통과하여 태아에게 나쁜 영향을 미칠 수  있고 임산부에게도 독성을 일으킬 수 있기 때문입니다  3. 임신 중 약물 복용 방법은 일반 성인과는 다를 수 있습니다 임신 중에는 복용한  약물이 태반을 통과할 수 있다는 것을 항상 염두 해두셔야 하며 임신 중 약물의  체내 움직임은 일반 성인과는 다른 형태로 바뀌어 나타나므로 약물의 복용량과  복용법 변화에 유의하셔야 합니다.  4. 임신 3주에서 8주 사이 약물 복용 시 더욱 주의하셔야 합니다. 임신 주수에 따라  약물이 태아에게 미치는')]]"
      ]
     },
     "execution_count": 102,
     "metadata": {},
     "output_type": "execute_result"
    }
   ],
   "execution_count": 102
  },
  {
   "metadata": {
    "ExecuteTime": {
     "end_time": "2024-12-19T07:14:17.661723Z",
     "start_time": "2024-12-19T07:14:17.653834Z"
    }
   },
   "cell_type": "code",
   "source": "prompt.invoke({'query':query, 'context':retriever})",
   "id": "19d27602d97a2e74",
   "outputs": [
    {
     "data": {
      "text/plain": [
       "ChatPromptValue(messages=[SystemMessage(content='\\nPersona: 당신은 전문적인 약사입니다. 약에 대해 복용 방법, 주의 사항, 금기 여부를 알고 있으며 일반인을 대상으로 설명이 가능합니다.\\n\\nRole: 임산부에게 의약품의 복용 가능 여부 및 금기 등급, 금기 등급의 의미를 정확히 이해할 수 있도록 돕습니다. context를 기반으로 약품에 대해 아무것도 모르는 임산부가 이해할 수 있도록 주의 사항을 도출해서 5줄 이내로 알려줍니다.\\n\\nExamples: 만약 해당 성분이 임산부에게 해로우면, 해당 의약품이 어떤 성분으로 인해 어느 금기 등급에 속하며 어떤 위험성이 있는지 알려준다. 만약 해당 성분이 임산부에게 해롭지 않으면, DUR 임부금기에 해당되지 않으므로 복용해도 된다고 알려준다.\\n        ', additional_kwargs={}, response_metadata={}), HumanMessage(content=\"\\n        query 임산부가 복용해도 되는 약물에 대해 context만 참조해서 알려줘\\n        \\n        question: 임산부에 약물 복용\\n        context: tags=['PineconeVectorStore', 'OpenAIEmbeddings'] vectorstore=<langchain_pinecone.vectorstores.PineconeVectorStore object at 0x0000020DA4836D80> search_kwargs={'k': 3}\\n        \", additional_kwargs={}, response_metadata={})])"
      ]
     },
     "execution_count": 140,
     "metadata": {},
     "output_type": "execute_result"
    }
   ],
   "execution_count": 140
  },
  {
   "metadata": {
    "ExecuteTime": {
     "end_time": "2024-12-19T07:14:20.876418Z",
     "start_time": "2024-12-19T07:14:19.940610Z"
    }
   },
   "cell_type": "code",
   "source": [
    "from langchain_openai import ChatOpenAI\n",
    "\n",
    "model = ChatOpenAI(\n",
    "    model='gpt-4o',\n",
    "    temperature=0.5\n",
    ")"
   ],
   "id": "2794719aedfa19f6",
   "outputs": [],
   "execution_count": 141
  },
  {
   "metadata": {
    "ExecuteTime": {
     "end_time": "2024-12-19T07:14:27.221627Z",
     "start_time": "2024-12-19T07:14:22.258248Z"
    }
   },
   "cell_type": "code",
   "source": [
    "from langchain_core.output_parsers import StrOutputParser\n",
    "from langchain_core.runnables import RunnablePassthrough\n",
    "\n",
    "re_chain = {'query': RunnablePassthrough(), 'context':retriever} | prompt | model | StrOutputParser()\n",
    "\n",
    "re_chain.invoke('query')"
   ],
   "id": "3a757728dc216c87",
   "outputs": [
    {
     "data": {
      "text/plain": [
       "'임산부가 복용하면 안 되는 약물로는 Diethylstilbestrol (DES), Aminopterin, Methotrexate, Isotretinoin, Thalidomide, Misoprostol 등이 있습니다. 이러한 약물들은 임신 중 복용 시 태아에게 해로운 영향을 미칠 수 있으며, 기형을 유발할 수 있는 위험이 있습니다. 특히 이 약물들은 태아에게 직접적인 손상을 줄 수 있는 테라토겐으로 분류되며, 임산부에게 금기입니다. 임신 중에는 반드시 의사나 약사와 상담하여 약물 복용 여부를 결정하는 것이 중요합니다. DUR 임부금기에 해당되지 않는 약물은 의사의 지시에 따라 복용할 수 있습니다.'"
      ]
     },
     "execution_count": 142,
     "metadata": {},
     "output_type": "execute_result"
    }
   ],
   "execution_count": 142
  },
  {
   "metadata": {
    "ExecuteTime": {
     "end_time": "2024-12-19T07:14:31.013556Z",
     "start_time": "2024-12-19T07:14:27.311521Z"
    }
   },
   "cell_type": "code",
   "source": "re_chain.invoke('씨앤유캡슐')",
   "id": "962544f5aa5a119",
   "outputs": [
    {
     "data": {
      "text/plain": [
       "'씨앤유캡슐에 대한 정보는 주어진 context에 명시되어 있지 않습니다. 그러나, 임산부가 복용 가능한 약물로는 아세트아미노펜, 페니실린 계열, 세팔로스포린 계열, 마크로라이드 계열, 메트로니다졸 등이 있습니다. 이 약물들은 일반적으로 임산부에게 안전하게 사용될 수 있지만, 의사나 약사와 상담 후 사용하는 것이 좋습니다. 씨앤유캡슐이 어떤 성분으로 구성되어 있는지를 확인하고, 그 성분이 임산부에게 안전한지를 전문가와 상담하는 것이 필요합니다.'"
      ]
     },
     "execution_count": 143,
     "metadata": {},
     "output_type": "execute_result"
    }
   ],
   "execution_count": 143
  },
  {
   "metadata": {},
   "cell_type": "markdown",
   "source": "## simirality_search",
   "id": "2688553a7cb68f4d"
  },
  {
   "metadata": {
    "ExecuteTime": {
     "end_time": "2024-12-19T06:44:57.798411Z",
     "start_time": "2024-12-19T06:44:57.793692Z"
    }
   },
   "cell_type": "code",
   "source": [
    "import os\n",
    "PINECONE_INDEX_NAME2 = os.getenv('PINECONE_INDEX_NAME2')\n",
    "PINECONE_NAMESPACE2 = os.getenv('PINECONE_NAMESPACE2')\n",
    "PINECONE_API_KEY = os.getenv('PINECONE_API_KEY')\n",
    "\n",
    "print(PINECONE_INDEX_NAME2)\n",
    "print(PINECONE_NAMESPACE2)\n",
    "print(PINECONE_API_KEY)"
   ],
   "id": "fb19ced378786288",
   "outputs": [
    {
     "name": "stdout",
     "output_type": "stream",
     "text": [
      "ai-pregnant\n",
      "ai-pregnant-ns\n",
      "pcsk_4XyuMX_5f47dcAxtKB3mkLzQbc4EfucgVHPSkZ7pikmbjCRbviWzyUBGstWunj4XTVTmaj\n"
     ]
    }
   ],
   "execution_count": 114
  },
  {
   "metadata": {
    "ExecuteTime": {
     "end_time": "2024-12-19T06:47:40.331507Z",
     "start_time": "2024-12-19T06:47:40.326466Z"
    }
   },
   "cell_type": "code",
   "source": [
    "def similarity_search_pregnant(query):\n",
    "    embeddings = OpenAIEmbeddings(model='text-embedding-3-small')\n",
    "    vector_db = PineconeVectorStore(\n",
    "        embedding=embeddings,\n",
    "        index_name=PINECONE_INDEX_NAME2,\n",
    "        namespace=PINECONE_NAMESPACE2,\n",
    "        pinecone_api_key=PINECONE_API_KEY\n",
    "    )\n",
    "    \n",
    "    result = vector_db.similarity_search(\n",
    "        query,\n",
    "        k=3,\n",
    "        namespace=PINECONE_NAMESPACE2,\n",
    "    )\n",
    "    \n",
    "    return{\n",
    "        \"query\": query,\n",
    "        \"content\" : '\\n'.join([doc.page_content for doc in result]),\n",
    "    }"
   ],
   "id": "22a2117121005ffb",
   "outputs": [],
   "execution_count": 116
  },
  {
   "metadata": {
    "ExecuteTime": {
     "end_time": "2024-12-19T06:51:37.675820Z",
     "start_time": "2024-12-19T06:51:35.239655Z"
    }
   },
   "cell_type": "code",
   "source": [
    "simi_chain = RunnableLambda(similarity_search_pregnant)\n",
    "\n",
    "print(simi_chain.invoke('씨앤유캡슐'))"
   ],
   "id": "e89f36cb72562c8e",
   "outputs": [
    {
     "name": "stdout",
     "output_type": "stream",
     "text": [
      "{'query': '씨앤유캡슐', 'content': '성분명: Chenodeoxycholic acid + Ursodeoxycholic acid\\n제품명: 씨앤유캡슐(케노데속시콜산-우르소데속시콜산삼수화물마그네슘염)_(0.25g/1캡슐)\\n업체명: 명문제약(주)\\n금기등급: 1\\n상세정보: 임부 투여금기, 동물실험에서 간독성의 증거 나타남\\n성분명: calcium phosphate + ascorbic acid + calcium pantothenate + cholecalciferol + cupric oxide + cyanocobalamin + ferrous sulfate + magnesium oxide + manganese + nicotinamide + pyridoxine + retinol palmitate + riboflavin   + thiamine + tocopherol +zinc oxide\\n제품명: 비타헬스에이연질캡슐_(1캡슐)\\n업체명: (주)알피바이오\\n금기등급: 1\\n상세정보: (retinol)임신초기 3개월간 고용량 투여시 최기형 가능성. (단, VitA(레티놀)로서 5000 I.U/1일 이상)\\n성분명: dutasteride\\n제품명: 유로다트연질캡슐0.5mg(두타스테리드)_(0.5mg/1캡슐)\\n업체명: (주)씨티씨바이오\\n금기등급: 1\\n상세정보: 전임상시험에서 남성 태아의 외부 생식기 발달 저해 가능성.'}\n"
     ]
    }
   ],
   "execution_count": 124
  },
  {
   "metadata": {
    "ExecuteTime": {
     "end_time": "2024-12-19T06:53:58.524696Z",
     "start_time": "2024-12-19T06:53:58.520744Z"
    }
   },
   "cell_type": "code",
   "source": "chain =re_chain | simi_chain",
   "id": "bf55b98dfca277bb",
   "outputs": [],
   "execution_count": 132
  },
  {
   "metadata": {
    "ExecuteTime": {
     "end_time": "2024-12-19T07:14:50.227620Z",
     "start_time": "2024-12-19T07:14:44.472732Z"
    }
   },
   "cell_type": "code",
   "source": "print(chain.invoke('임신 계획중인데 씨앤유캡슐 복용 가능해?'))",
   "id": "84656ab2a0ee0dc7",
   "outputs": [
    {
     "name": "stdout",
     "output_type": "stream",
     "text": [
      "{'query': '씨앤유캡슐에 대한 정보는 주어진 context에 포함되어 있지 않습니다. 일반적으로 임신 계획 중이거나 임신 중인 경우 어떤 약물이든 복용하기 전에 반드시 의사와 상의하는 것이 중요합니다. 임신 초기에는 특히 약물 복용에 주의가 필요하며, 기형 유발 가능성이 있는 약물은 피하는 것이 좋습니다. 씨앤유캡슐에 대한 구체적인 정보는 의사나 약사와 상담하여 안전성을 확인하시기 바랍니다.', 'content': '성분명: fluconazole\\n제품명: 프리졸캡슐(플루코나졸)_(50mg/1캡슐)\\n업체명: 주식회사 더유제약\\n금기등급: 2\\n상세정보: 임신 첫 3개월 안에 150mg을 단회 또는 반복 투여한 임부에서 자연유산 및 영아의 선천성이상 보고. 임신 첫 3개월의 모든 또는 대부분의 기간동안 고용량(1일 400-800mg) 투여 시 영아에서 출생기형(납작머리증, 비정상적 얼굴, 비정상정 머리덮개뼈 발달, 구개열, 대퇴부 휨, 얇은 갈비뼈, 긴뼈, 관절굽음증, 선천적 심장질환)이 나타남. 콕시디오이데스진균증에 대해 3개월 이상 고용량(1일 400-800mg) 투여 시 영아에서 다발성 선천성 기형 보고. 동물실험에서 고용량 투여 시 태자의 해부학적인 변형(과잉늑골, 신우확장) 증가 및 골화 지연, 배자치사 증가, 태아 기형(파형늑골, 구개열, 비정상적인 두개안면부 골화) 확인.\\n성분명: fluconazole\\n제품명: 푸가졸캡슐(플루코나졸)_(50mg/1캡슐)\\n업체명: 신풍제약(주)\\n금기등급: 2\\n상세정보: 임신 첫 3개월 안에 150mg을 단회 또는 반복 투여한 임부에서 자연유산 및 영아의 선천성이상 보고. 임신 첫 3개월의 모든 또는 대부분의 기간동안 고용량(1일 400-800mg) 투여 시 영아에서 출생기형(납작머리증, 비정상적 얼굴, 비정상정 머리덮개뼈 발달, 구개열, 대퇴부 휨, 얇은 갈비뼈, 긴뼈, 관절굽음증, 선천적 심장질환)이 나타남. 콕시디오이데스진균증에 대해 3개월 이상 고용량(1일 400-800mg) 투여 시 영아에서 다발성 선천성 기형 보고. 동물실험에서 고용량 투여 시 태자의 해부학적인 변형(과잉늑골, 신우확장) 증가 및 골화 지연, 배자치사 증가, 태아 기형(파형늑골, 구개열, 비정상적인 두개안면부 골화) 확인.\\n성분명: fluconazole\\n제품명: 푸로날캡슐(플루코나졸)_(50mg/1캡슐)\\n업체명: 삼성제약(주)\\n금기등급: 2\\n상세정보: 임신 첫 3개월 안에 150mg을 단회 또는 반복 투여한 임부에서 자연유산 및 영아의 선천성이상 보고. 임신 첫 3개월의 모든 또는 대부분의 기간동안 고용량(1일 400-800mg) 투여 시 영아에서 출생기형(납작머리증, 비정상적 얼굴, 비정상정 머리덮개뼈 발달, 구개열, 대퇴부 휨, 얇은 갈비뼈, 긴뼈, 관절굽음증, 선천적 심장질환)이 나타남. 콕시디오이데스진균증에 대해 3개월 이상 고용량(1일 400-800mg) 투여 시 영아에서 다발성 선천성 기형 보고. 동물실험에서 고용량 투여 시 태자의 해부학적인 변형(과잉늑골, 신우확장) 증가 및 골화 지연, 배자치사 증가, 태아 기형(파형늑골, 구개열, 비정상적인 두개안면부 골화) 확인.'}\n"
     ]
    }
   ],
   "execution_count": 144
  }
 ],
 "metadata": {
  "kernelspec": {
   "display_name": "Python 3",
   "language": "python",
   "name": "python3"
  },
  "language_info": {
   "codemirror_mode": {
    "name": "ipython",
    "version": 2
   },
   "file_extension": ".py",
   "mimetype": "text/x-python",
   "name": "python",
   "nbconvert_exporter": "python",
   "pygments_lexer": "ipython2",
   "version": "2.7.6"
  }
 },
 "nbformat": 4,
 "nbformat_minor": 5
}
