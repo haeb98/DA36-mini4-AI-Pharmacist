{
 "cells": [
  {
   "cell_type": "code",
   "id": "initial_id",
   "metadata": {
    "collapsed": true,
    "ExecuteTime": {
     "end_time": "2024-12-19T00:58:45.272995Z",
     "start_time": "2024-12-19T00:58:42.298735Z"
    }
   },
   "source": [
    "from dotenv import load_dotenv\n",
    "from langchain.chains.question_answering.map_rerank_prompt import output_parser\n",
    "from langchain_core.prompts import ChatPromptTemplate\n",
    "from langchain_core.runnables import RunnableLambda\n",
    "from langchain_pinecone import PineconeVectorStore\n",
    "\n",
    "load_dotenv()"
   ],
   "outputs": [
    {
     "data": {
      "text/plain": [
       "True"
      ]
     },
     "execution_count": 1,
     "metadata": {},
     "output_type": "execute_result"
    }
   ],
   "execution_count": 1
  },
  {
   "metadata": {},
   "cell_type": "markdown",
   "source": "## 파일로드",
   "id": "50c01bcbcf43c2ed"
  },
  {
   "metadata": {
    "ExecuteTime": {
     "end_time": "2024-12-19T01:18:01.846309Z",
     "start_time": "2024-12-19T01:18:00.119101Z"
    }
   },
   "cell_type": "code",
   "source": [
    "from langchain_community.document_loaders import CSVLoader\n",
    "from langchain_community.document_loaders import PyPDFLoader\n",
    "\n",
    "dur_pregnant = CSVLoader('./data/DUR_pregnant.csv')\n",
    "commandment_10 = PyPDFLoader('./data/commandment_10.pdf')\n",
    "docs = PyPDFLoader('./data/docs.pdf')\n",
    "drug_for = PyPDFLoader('./data/drug_for.pdf')\n",
    "korean_mothersafe = PyPDFLoader('./data/korean_mothersafe.pdf')\n",
    "\n",
    "dur_pregnant_docs = dur_pregnant.load()\n",
    "commandment_10_docs = commandment_10.load()\n",
    "docs_docs = docs.load()\n",
    "drug_for.docs = docs_docs\n",
    "korean_mothersafe.docs = korean_mothersafe.load()"
   ],
   "id": "391987483aac1e66",
   "outputs": [],
   "execution_count": 8
  },
  {
   "metadata": {
    "ExecuteTime": {
     "end_time": "2024-12-19T01:33:33.440776Z",
     "start_time": "2024-12-19T01:33:33.435330Z"
    }
   },
   "cell_type": "code",
   "source": "documents = commandment_10_docs + docs_docs + drug_for.docs + korean_mothersafe.docs",
   "id": "45cf178c84dfb260",
   "outputs": [
    {
     "data": {
      "text/plain": [
       "33"
      ]
     },
     "execution_count": 29,
     "metadata": {},
     "output_type": "execute_result"
    }
   ],
   "execution_count": 29
  },
  {
   "metadata": {
    "ExecuteTime": {
     "end_time": "2024-12-19T01:22:28.540142Z",
     "start_time": "2024-12-19T01:22:28.532677Z"
    }
   },
   "cell_type": "code",
   "source": [
    "# 개행 문자 제거\n",
    "for doc in documents:\n",
    "    doc.page_content = doc.page_content.replace('\\n', ' ')\n",
    "documents"
   ],
   "id": "cfd8a945b87d1d46",
   "outputs": [
    {
     "data": {
      "text/plain": [
       "[Document(metadata={'source': './data/commandment_10.pdf', 'page': 0}, page_content='1    ■ 임산부의 안전하고, 효과적인 약 복용을 위한 약물 요법 10계명  ■ 10 Mga Gabay para sa Ligtas at Epektibong Medikasyon  ng mga Babaeng  Nagbubuntis    1. 임신 가능한 여성의 경우 약물 복용 전 임신 여부 확인하십시오.  임신 가능한 여성이 약물을 복용할 때는 임신 계획 및 임신 여부를 반드시  확인하여야 하며 전문가와 상의 후 투여하는 것이 필요합니다.   1. Alamin kung nagdadalantao o hindi bago uminom ng anumang gamot.  Kailangang siguruhin ng isang babaeng ma y kakayanang magkaanak kung nagbubuntis o  hindi at kung makakapagsilang ng sanggol, at kumunsulta sa isang espesyalista sa panahon  ng medikasyon.    2. 임신 중 약물 복용은 태아에게 영향을 줄 수 있습니다.  임산부가 약물 복용 시 주의해야 하는 까닭은 약물이 태반을 통과하여 태아에게  나쁜 영향을 미칠 수 있고 임산부에게도 독성을 일으킬 수 있기 때문입니다  2. Ang medikasyon sa panahon ng pagbubuntis ay maaring makaapekto sa sanggol.  Ang mga babaeng nagdadalantaong sumasailalim sa anumang medikasyon ay kailangan ng  matinding p ag-iingat sa dahilang ang mga gamot ay maaring makaapekto sa sanggol sa  pamamagitan ng  ‘placental barrier’. Sa ilang mga kaso, maaring maapektuhan mismo.ang  babaeng nagdadalantao.    3. 임신 중 약물 복용 방법은 일반 성인과는 다를 수 있습니다  임신 중에는 복용한 약물이 태반을 통과할 수 있다는 것을 항상 염두 해두셔야  하며 임신 중 약물의 체내 움직임은 일반 성인과는 다른 형태로 바뀌어  나타나므로 약물의 복용량과 복용법 변화에 유의하셔야 합니다.  3. Magkaiba ang mga gabay sa medikasyon para sa mga nagdadalantaong mga  kababaihan sa mga hindi-nagdadalantao.   Ang mga nagdadalantaong mga kababaihan ay kailangang  isaalang -alang ang posibilidad  na maaring tumagos ang gamot sa placental barrier. Kailangang sundin a ng mga dosis at  pagbabago sa mga gabay sa medikasyon , sa dahilang ang mga gamot ay maaring  makaapekto sa mga babaeng nagdadalantao.   '),\n",
       " Document(metadata={'source': './data/commandment_10.pdf', 'page': 1}, page_content='2    4. 임신 3주에서 8주 사이 약물 복용 시 더욱 주의하셔야 합니다.  임신 주수에 따라 약물이 태아에게 미치는 영향이 다양합니다. 특히, 임신  3주에서 8 주 사이 (임신 제 1 삼분기)에는 태아의 장기가 형성되는 결정적인  시기이므로 특별히 조심해야 합니다.  4. Kailangan ng karagdagang pag-iingat sa pagsasailalim ng medikasyon kapag nasa  ika-3 linggo hanggang 8 linggo ng pagbubuntis.  Ang epekto ng mga gamot sa sanggol ay maaring magkakaiba ayon sa  yugto  ng  pagbubuntis. Karagdagang pag-iingat ang kailangan mula sa ika -3 linggo hanggang ika-8  linggo (ang unang estado ng pagbubunti s) sa dahilang nabubuo ang mga organ ng sanggol  sa estadong ito.    5. 약물마다 임신 시 미치는 영향에 따른 카테고리가 구분되어 있습니다.  미국 FDA 에서는 약물마다 태아에 미치는 영향을 가장 안전한 카테고리 A 부터  가장 위험한 카테고리 X 까지 다섯 단계로 구분하여 표시하고 있으므로 그  위험성을 예측할 수 있습니다.  5. Ang mga gamot ay inuuri ayon sa epekto nito sa pagbubuntis.  Hinati ng FDA sa limang kategorya ang mga gamot, mula Kategorya A, ang pinakaligtas n a  gamot para sa sanggol at Kategorya X para sa mga pinakapeligro. Nakakatulong ito sa mga  kababaihang magkar oon ng eksaktong  kaalaman sa potensyal na peligro n g anumang  gamot.    6. 임신 중 약물 투여는 반드시 전문가 (의약사)와 상의 후 투여하십시오.  임신 중에 약물을 투여할 경우, 약물치료가 꼭 필요한지 전문가와 다시 검토하고  대증요법 등의 다른 치료방법을 우선적으로 모색해야 합니다.  6. Bago sumailalim sa anumang medikasyon sa panahon ng pagbubuntis, kailangang  kumunsulta sa isang espesyalista.  Kailangang kumunsulta a ng mga babaeng nagdadalantao sa isang e spesyalista upang  malaman kung kailangan ang medikasyon at mga posibleng alternatibong panggagamot.    7. 임신 중 질환에 따라 약물을 꼭 복용해야 하는 경우도 있습니다  임신 중 간질, 고혈압, 당뇨 등의 질환을 동반하는 경우 질병 자체가 태아에게 '),\n",
       " Document(metadata={'source': './data/commandment_10.pdf', 'page': 2}, page_content='3    위험할 수 있으므로 전문가와 상의 후 정해진 용량 용법에 맞추어 약물을  복용하는 것이 좋습니다  7. Ang mga kababaihang may karamdaman ay kailangan ang medikasyon sa panahon  ng pagbubuntis.  Ang kalusugan ng sanggol ay maaring malagay sa peligro kung ang ina ay may epilepsy,  high blood pressure o diabetes. Ang mga kababaihang may mga ganitong kondisyon ay  kailangang uminom ng naayong dosis ng kanilang gamot makaraang kumunsulta sa isang   espesyalista.    8. 임신 중 약물 사용은 사용 경험이 풍부한 약물을 사용하는 것이 좋습니다.  임신 중 약물 사용 시에는 자료가 불충분한 최근 개발된 약물보다는 과거부터  임신 시에 흔히 사용된 약물을 사용하는 것이 안전합니다.  8. Kailangang ang mga karaniwang gamot  ang gamitin sa  medikasyon ng isang  nagbubuntis.   Sa panahon ng pagbubuntis, iminumungkahing gamitin lamang ang mga  karaniwang gamot  para sa medikasyon. Iwasan ang paggamit ng mga bagong likhang gamot na hindi pa  napapatunayan.    9. 임신 중 약물 사용은 투여 목적에 따라 최소한으로 투여합니다.  임신 시 약물을 복용해야만 할 경우 약물 투여의 목적에 따른 최소한의  유효용량을 최단 기간 동안 투여합니다. 또한 부작용 모니터링을 통한 가장  안전하다고 판단되는 약물을 충분한 설명과 함께 투여해야 하며 동시에 발생될  수 있는 미세한 변화도 간과해서는 안 됩니다  9. Sa panahon ng pagbubuntis, kailangang in umin ang minimum na dosis ng  kailangang gamot upang maabot ang layunin ng medikasyon.  Kailangang inumin ng isang nagdadalantao ang minimum na dosis ng gamot upang matamo  ang layunin ng medikasyon. Ang mga gamot na itinuturing na pinakaligtas makaraang  masuri ang ‘side effect’ ng mga ito ay kailangang inumin ng may sapat na eksplanasyon, at  walang anumang bahagyang pagbabago ang kakaligtaan sa panahon ng medikasyon.    10. 임신 중 약물 복용 시에는 태아와 산모의 건강을 모두 고려해야 합니다.  임산부에 약물을 사용할 때에는 약물이 태아에게 기형을 일으킬 수 있다는 점과 '),\n",
       " Document(metadata={'source': './data/commandment_10.pdf', 'page': 3}, page_content='4    함께 약물이 임산부에 미치는 독성을 함께 고려해야 합니다.  10. Kailangang isaalang-alang ang kalusugan ng nagdadalantaong ina at ng sanggol  sa sinapupunan nito sa panahon ng medikasyon.   Ang katotohanang ang gamot ay maaring magdulot ng malpormasyon sa sanggol at peligro  sa kalusugan ng nagdadalantaong ina ay kailangang isaalang-alang.    ■ 임신부를 위한 증상별 약물복용 안내서  임신부들은 감기나 두통과 같은 증상을 앓게 되기 쉬우나, 임신 중에는 약을  먹어서는 안 된다는 오해로 인해 통증을 참아내곤 합니다. 혹은 임신 초기에  임신인 줄 모르고 약을 복용한 후 임신임을 알게 되었을 때 매우 큰 불안감을  겪게 됩니다. 그러나 임신 중에도 증상에 따른 적절한 약물치료 방법이 있으며,  전문가의 도움을 받아 건강한 출산이 가능합니다.  ■ Mga Gabay sa Medikasyon ng mga Nagbubuntis ayon sa Sintomas  Ilang mga kababaihang nagdadalantao ng madaling nagkakasipon o sumasakit ang ulo ang  nagtitiis sa karamdaman dahil  sa maling aakalang kailangan nilang iwasan ang mga gamot  sa panahon ng pagbubuntis. Sa kabilang dako, ang ilang mga nagdadalantaong kababaihan  ay matinding nababahala dahil sa gamot na kanilang nainom bago pa malamang sila ay  nagdadalantao. May mga naayong medikasyon na maaring gamitin ng isang nagdadalantao  sa bawat sintomas, at maari  sila ng sumailalim sa ligtas na medikasyon sa pagkonsulta sa  isang espesyalista.    ■ 임신 중 흔히 나타나는 증상에 따른 약물복용  ■ Medikasyon para sa mga Sintomas ng Pagbubuntis    1. 감기  Q: 감기에 걸렸어요. 임신 중에 감기약을 복용해도 되나요?  A: 감기는 대부분 바이러스에 의한 질환이기 때문에 특별한 치료보다는 충분한  수분섭취와 휴식을 취하는 것이 바람직합니다. 그러나 심한 고열이나 두통이  동반된다면 아세트아미노펜 같은 해열진통제를 복용하시는 것이 임신 중 고열로  인한 태아의 기형과 신경계 손상을 예방할 수 있습니다.  1. Sipon  '),\n",
       " Document(metadata={'source': './data/commandment_10.pdf', 'page': 4}, page_content='5    T: Ako’y may sipon. Maari ba akong uminom ng gamot para sa sipon sa panahong  ako’y nagbubuntis?  S: Sa dahilang karamihan sa mga sipon ay dulot ng virus , mas mainam ang pag -inom ng  maraming tubig at magpahinga sa halip na sumailalim sa espesyal na panggagamot. Kung  may mataas na lagnat a sakit sa ulo, kailangang uminom ng antip yretic at analgesic , tulad  ng acetaminophen upang maiwasan ang anumang malpormasyon at pinsala sa neural  system ng inyong sanggol na maaring dulot ng mataas n a lagnat sa panahon ng  pagbubuntis.    - 증상  감기는 임신 중에 면역력이 떨어지면서 바이러스 및 세균에 의해서 걸리게 되며  나타나는 증상으로는 코의 충혈과 콧물, 기침, 후두염, 발열과 두통, 오한 등이  있습니다.  - Mga Sintomas  Ang mga nagdadalantaong nagkakasipon dahil sa impeskyong dulot virus dahil sa  panghihina ng imunidad sa panahon ng pagbubuntis. Kabilang sa mga sintomas ang  nahihirapang huminga, paglabas ng uhog, pag -ubo, laryngitis, lagnat , sakit sa ulo at  panginginig.    - 일반요법  충분한 휴식이 필요하며, 탈수를 예방할 수 있도록 충분한 음료를 섭취하고  실내공기를 가습하여야 합니다.  - Natural na Medikasyon  Kailangang magpahinga ang mga pasyente, uminom ng sapat na tubig upang maiwasan  ang dehaydrasyon at manatili sa isang lugar na mahalumigmig.    2. 입덧  Q: 입덧이 매우 심합니다. 입덧을 가라앉게 할 수 있는 처방약이 있나요?  A: 피리독신과 메토클로프라마이드는 비교적 안전하게 사용 가능합니다.  2. Morning Sickness  T: Ako’y nakakaranas ng ‘morning sickness’. Ano ang naaayong medikasyon para sa  sintomas na ito? '),\n",
       " Document(metadata={'source': './data/commandment_10.pdf', 'page': 5}, page_content='6    S: Ang pyridoxine at metoclopramide ay mga gamot para sa morning sickness.    - 증상   임신 중 입덧의 증상인 오심과 구토는 정도의 차이가 있지만 임신한 여성의  80%가 경험할 정도로 매우 흔한 증상입니다. 그러나 탈수가 심하고 전해질  불균형이 심해서 입원까지 필요한 경우는 약 1 -3%정도 입니다. 대개는 시간이  지나면 입덧은 호전되지만, 이들 중 약 20% 는 더 오랫동안 입덧이 지속되며,  일부는 임신말기까지도 지속됩니다.  - Mga sintomas  Sa kabila ng pagduduwal at pagkahilo , maaring magkakaiba ang karaniwang sintomas ng  morning sickness sa panahon ng pagdadalantao, humigit -kumulang sa 80% ng mga  nagdadalantaong kababaihan ay maaring makaranas ng morning sickness, kung saan 1%   hanggang 3% ang nangangailangan ng hospitalisasyon  dahil sa matinding dehaydrasyon at  hindi balanseng electrolyte. Karamihan sa mga pasyenteng may morning sickness ay  napapabuti sa huling yugto ng pagbubuntis subalit humigit kumulang sa 20% ng mga  pasyente ang nakakaranas mula dito sa mas mahabang panahon , kung saan ang ilang sa  kanila ay nakakaranas nito hanggang sa huling yugto ng kanilang pagbubuntis.    - 일반요법  정서적인 안정이 중요하며, 입덧을 자극하는 음식물 섭취를 삼가고 양을 적게  해서 자주 먹어야 합니다. 마른 토스트나 크래커를 먹는 것도 도움이 됩니다.  또한 많은 물을 섭취하는 경우 구토를 동반하는 경우가 많으나 물은 조금씩  드셔야 합니다. 보조적인 요법으로 침을 맞거나, 생강차 복용을 하면 입덧을  완화 시킬 수 있는 것으로 알려져 있습니다.  - Natural na Medikasyon  Kailangang subukan ng pasyenteng maging panatag, iwasan ang mga pagkaing nagdudulot  ng morning sickness at madalas na pagkain ng ma liliit na dami ng pagkain. Maaring  makatulong ang mga toast o crackers. Ilang mga pasyente ang nagsusuka kung umiinom ng  maraming tubig, kaya iminumungkahi  a ng kaunting pag-inom ng tubig. Ang acupuncture at  ginger tea ay kilalang mainam sa natural na panggagamot para sa morning sickness.    3. 변비 '),\n",
       " Document(metadata={'source': './data/commandment_10.pdf', 'page': 6}, page_content='7    Q: 임신 초기 변비가 너무 심한데요. 변비약을 복용해도 되나요?  A : 네, 대부분의 변비약은 장내흡수가 되지 않고 장내에서만 작용 후 변비를  해결하기 때문에 전신 흡수가 적어 안전한 편입니다.  3. Konstipasyon  T: Ako’y nasa  simulang bahagi ng aking pagbubuntis at matinding nakakaranas ng  konstipasyon. Maari ba akong uminom ng gamot?  S: Oo, karamihan ng mga gamot para sa konstipasyon ay sa dumi lamang ang epekto. Sa  dahilang mababa ang antas ng absorpsyon , mas ligtas ito.    - 증상  일반적으로는 배변 횟수가 주 2 -3회 미만이면 변비라고 합니다. 변비의 원인은  저섬유질 식사, 스트레스, 장폐색과 같은 위장관 이상 등이 있습니다. 그러나  임신에 의한 변비는 프로게스테론에 의한 위장의 평활근 활동 감소와 자궁이  커져 장을 눌러서 발생하는 생리적인 것으로 알려져 있습니다.  - Mga sintomas  Sa pangkalahatan, ang konstipasyon ay ang dalawa o tatlong beses lamang na  pagbabawas sa loob ng isang linggo, o mababa pa dito. Ilan sa mga dulot nito ay ang  kakulangan sa fiber sa mga pagkain, at suliranin sa gastro -intestinal tract tulad ng  pagbabara sa bituka. Ang konstipasyon sa  panahon ng pagbubuntis ay kilalang dulot ng  pagbaba ng paggalaw ng ‘smooth gastro -intestinal muscles ’ na dulot ng progesterone at  presyon sa mga bituka sa paglawak ng uterus.    - 일반요법  과일이나 야채를 포함하여 부피를 늘리는 방법으로 식이습관을 변화시키면  변비를 해결하는데 도움이 됩니다.  - Natural na Medikasyon  Pagkonsumo ng mas maraming prutas at gulay upang maiwasan ang konstipasyon.    4. 두통  Q: 임신 중 두통이 심한데요, 통증을 완화시킬 수 있는 약이 있나요?  A: 일시적으로 아세트아미노펜과 같은 소염진통제를 복용하시면 증상이 완화될 '),\n",
       " Document(metadata={'source': './data/commandment_10.pdf', 'page': 7}, page_content='8    수 있습니다.  4. Pananakit ng ulo  T: Ako’y nakakaranas ng matinding pa nanakit ng ulo sa panahon ng aking  pagbubuntis. Mayroon bang maaring gamot para sa mga nagdadalan taong  kababaihan?  S: Ang iyong mga sintomas ay maaring pansamantalang mawawala sa pag -inom ng  antiphlogistic at analgesic, tulad ng acetaminophen.    - 증상  두통은 임신 초기에 더 흔하게 나타납니다. 그 원인으로는 호르몬의 변화,  수면부족, 혈액순환의 변화, 저혈당증, 탈수, 새로운 아기에 대한 불안감, 카페인  중단 등이 있습니다. 유형으로는 긴장성 투통과 편두통이 있습니다.  - Mga Sintomas   Ang mga nagdadalantao ay madalas nakakaranas ng pananakit sa ulo sa unang bahagi ng  kanilang pagbubuntis. Kabilang sa mga dulot nito ay ang mga pagbabago sa hormone,  kulangan sa tulog, pagbabago sa sirkulasyon ng dugo, hypoglycermia, dehaydrasyon, mga  pagkabahala sa bagong sanggol at pag -iwas sa caffeine. Ang pananakit sa ulo sa panah on  ng pagbubuntis ay maaring ‘tension-type headache o migraine’.    - 일반요법  충분한 휴식을 하고 규칙적인 운동, 충분한 잠을 자면 두통은 완화되고 빈도도  줄어듭니다. 어깨 마사지나 얼굴에 따뜻한 수건으로 덮고 있는 것도 도움이  됩니다.  - Natural na Panggagamot  Maaring mawala ang sakit sa ulo at bawasan ang dalas ng pagkakaroon nito kung  magpapahinga ang mga pasyente, mag -eehersisyo ng regular at matutulog ng sapat. Ang  pagmamasahe sa mga likod at pagtatakip sa mukha ng mainit na tuwalya ay maaring  makatulong din.    5. 복통  Q: 임신중 소화성 궤양으로 가끔 상복부 통증이 심합니다. 이때 치료약이 있나요?  A: 네, 슈크랄페이트과 같은 위점막보호제, 제산효과를 내는 라니티딘은 임신 중 '),\n",
       " Document(metadata={'source': './data/commandment_10.pdf', 'page': 8}, page_content='9    사용이 가능합니다.  5. Pananakit ng Tiyan  T:Nakakaranas ako ng matinding pananakit ng tiyan dahil sa aking gastric ulcer.  Mayroon bang anumang maaring gamot para sa mga nagdadalantao?  S: Oo, ang mga babaeng nagdadalantao ay maaring umino m ng mga gamot sa  pangangalaga ng gastriko tulad ng sucralfate, o ranitidine, at gastric antiacids.    - 증상  복통(소화성 궤양)은 위액 중에 포함된 염산과 소화효소에 의해 위나 십이지장  조직에 상처가 생기면서 발생합니다. 증상은 소화불량, 상복부 통증, 오심과  구토, 가슴앓이,위장관 출혈 그리고 위장천공이 일어날 수 있습니다.  - Mga sintomas  Ang pananakit ng tiyan (gastric ulcer) ay dulot ng pagtamo ng gutli sa duodenum o tiyan  sa  pamamagitan ng gastric juice na naglalaman ng gastric acid at digestive enzyme. Kabilang  sa mga sintomas ang indihestyon, pananakit ng tiyan, pagduduwal, pagkahilo, pangangasim  ng sikmura, pagdudugo at pagkakabutas ng bituka.    6. 가려움증  Q: 임신 중인데 전신 가려움증으로 잠을 설치기 일쑤입니다. 증상을 완화  시킬만한 치료약이 있나요?  A: 네, 우선적으로 피부가 건조해지지 않도록 해야 합니다.  그리고 국소적으로 보습크림이나 항소양증 로션 사용이 도움이 됩니다.  6. Pruritus (Matinding Pangangati)  T: Ako ay nagdadalantao at nahihirapang matulog sa gabi dahil sa pruritus o  matinding pangangati ng aking buong katawan. Mayroon bang maaring gamot para  dito na maaring inumin ng isang nagdadalantao?  S: Oo, pinakamahusay na solusyon ang pagpapanatili ng moisture ng balat. Ang paglalagay  ng mga moisturizing cream at losyon na naglalaman ng antipruritic agent na maaring  makatulong.    - 증상  가려움증은 임신 중에 가장 흔한 피부증상입니다. 임신에 기인한 경미한 '),\n",
       " Document(metadata={'source': './data/commandment_10.pdf', 'page': 9}, page_content='10    가려움증은 자주 있으며, 주로 복부 주위에서 일어나서 허벅지, 엉덩이, 유방,  그리고 팔로 확장됩니다. 하지만, 소양증으로 정밀 검사가 필요한 경우는 약 1 - 2% 입니다.  - Mga sintomas  Ang pruritus ay ang pinakamadalas na nabubuong sintomas sa balat sa panahon ng  pagbubuntis. Ang mga nagdadalantao ay madalas nakakaranas ng banayad na pangangati  sa katawan sa panahon ng pagbubuntis at ang bahaging apektado ay maaring kumalat mula  sa tiyan hanggang sa hita, balakang, dibdib at mga braso.  1% hanggang 2% ng mga babaeng nagdadalantao ang kailangang magpatingin dahil sa  pruritus.    - 일반용법  피부가 건조하지 않도록 실내 환경을 가습합니다. 그리고 정전기를 피하고  피부를 자극 하는 천을 가진 이불을 피해야 합니다. 또한 음식물로는 카페인,  알코올, 매운 것 그리고 뜨거운 물을 피해야 합니다.  - Natural na Panggagamot  Ang mga babaeng nagdadalantao ay kailangang manatali sa mga lugar na mahalumigmig  upang maiwasan ang panunuyo ng balat. Umiwas sa mga elektrostatiko at huwag gumamit  ng mga kasuotang pantulog na maaring magdulot ng iritasyon sa balat. Huwag uminom ng  kape o alkohol at kumain ng mga pagkaing maanghang. Iwasan din ang pagbabad sa mainit  na tubig.      7. 요통과 골반통  Q: 임신 중기 이후 요통과 골반통이 있어서 걷기도 힘든데 통증을 완화할 수 있는  약이 있나요?  A: 네, 아세트아미노펜과 같은 소염진통제를 일시적으로 사용하는 것은  가능합니다. 만약, 더욱 심해진다면 정형외과에서 보조기 착용이 필요할 수  있습니다.  7. Pananakit sa likod at balakang  T:Hindi ako nakakapaglakad ng maayos dahil sa pananakit sa aking likod at balakang  sa kalagitnaang yugto ng aking pagbubuntis. Mayroon bang gamot para dito? '),\n",
       " Document(metadata={'source': './data/commandment_10.pdf', 'page': 10}, page_content='11    S: Oo. Ang inyong sintomas ay maaring pansamantalang mawawala sa pamamagitan ng  pag-inom ng  antiphlogistic at analgesic,  tulad ng  acetaminophen.  Iminumungkahi ang  pagpapatingin sa isang ortopediko kapag lumubha ang sintomas.    - 증상  임신부의 80% 는 요통 및 골반통을 경험하며 일부 임신부는 임신의 시작과 함께  이러한 통증을 경험합니다. 일반적으로 임신 중에 나타나는 요통 및 골반통은  호르몬의 증가로 골반 인대가 약해지고 출산을 위해 관절이 풀어지며, 자궁과  아기가 커지면서 무게중심이 앞으로 쏠리면서 생깁니다.  - Mga sintomas     80% ng mga babaeng nagbubuntis ang nakakaranas ng pananakit sa likod at balakang  at ang ilan ay nakakaranas ng pananakit sa simula ng pagbubuntis. Ang pananakit sa likod  at balakang sa  panahon ng pagbubuntis ay madalas nagdudulot ng panghihina ng mga  ligamento ng balakang at ang pagluwag ng kasu -kasuan na nagdudulot ng pagbabago sa  homone sa katawan bilang paghahanda sa panganganak, gayun din ang pagbabago ng  sentro ng grabida pasulong dahil sa paglaki ng utero at ng sanggol.    - 일반요법  충분한 휴식을 취하고, 높은 굽 신발을 피하여 바른 자세를 유지하여야 합니다.  등을 대고 바로 자지 않도록 하고 가급적 왼쪽 옆으로 눕도록 합니다. 발을  올린다거나 복대를 하는 것도 좋은 방법입니다.  - Natural na Medikasyon  Ang babaeng nagbubuntis ay kailangang magpahinga at panatilihin ang wastong postura sa  pag-iwas ng pagsusuot ng mga sapatos na may mataas na taking. Huwag matulog ng  nakahilata at matulog sa kaliwa ng patagilid kung maari. Ipatong ang paa ng pataas at  magsuot ng pansuporta sa baywang.    8. 빈뇨증  Q: 임신 초기부터 소변이 자주 마려운 빈뇨증으로 잠에서 자주 깹니다. 빈뇨증을  완화시킬 방법은 없나요?  A: 네, 빈뇨증은 대부분 임신의 정상적인 과정입니다. '),\n",
       " Document(metadata={'source': './data/commandment_10.pdf', 'page': 11}, page_content='12    그러나 만약 방광염이 동반될 때는 암피실린과 세파드록실과 같은 항생제를  사용하여 치료가 가능합니다.  8. Sychnuria   T: Sa simulang bahagi ng aking pagbubuntis. Madalas akong nagigising dahil sa  sychnuria. Mayroon bang gamot na nakalaan para sa mga nagbubuntis?  S: Ang sychnuria ay normal na sintomas para sa mga babaeng nagbubuntis.  Kung ang  babaeng nagbubuntis ay mayroong impeksyon sa pantog at sychnuria, kailangang uminom  ng antiobiotic tulad ng ampilin at cefadroxil.    - 증상  임신 중에는 신장이 커지고 요관도 확장됩니다. 그리고 임신 시에 증가되는  프로게스테론은 방광의 이완과 요관의 확장을 초래합니다. 또한, 임신이  진행됨에 따라 자궁의 방광에 대한 압박이 증가하여 빈뇨증을 유발합니다. 한편,  당뇨병이나 방광염이 이러한 증상의 원인이 되기도 합니다.  - Mga sintomas  Lumalaki ang mga kidney at lumalapad ang  ureter sa panahon ng pagbubuntis. Ang mas  mataas na antas ng progesterone sa panahon ng pagbubuntis ay maaring magdulot ng  pagluwag ng pantog at ang paglapad ng ureter. Sa huling bahagi ng pagbubuntis, ang  lumalaking uterus ay maaring magdulot ng mas matinding presyon sa pantog na magdudulot  ng sychnuria. Ang pagkakaroon ng diabetes o impeksyon sa pantog ay maaring magdulot ng  mga itong sintomas.    - 일반요법  요로계의 감염을 예방하기 위해 청결상태를 유지하고 박테리아에 의한 감염이  되지 않도록 손을 잘 씻어야 합니다. 배뇨나 배변 시 휴지를 앞에서 뒤로  사용하고, 액체 비누를 사용하여 회음부 및 요도구를 깨끗하게 유지하도록  합니다.  - Natural na Medikasyon  Ang mga babaeng nagbubuntis ay kailangang panatilihin ang kalinisan upang maiwasan ang  urinary tract infection at madalas na paghugas ng mga kamay upang maiwasan ang  anumang impeksyon dulot ng virus. Punasan an g mga ito ng paper towel matapos umihi at  tumae, panatilihin malinis ang inyong perineyum at urethral meatus sa paggamit ng wastong '),\n",
       " Document(metadata={'source': './data/commandment_10.pdf', 'page': 12}, page_content='13    sabon para dito. '),\n",
       " Document(metadata={'source': './data/docs.pdf', 'page': 0}, page_content='열린마루 2013 November + December 2322 건강한 정보* 의약백서 DO & DON’T | 임신 중 의약품 사용  깔끔하게 정리해드립니다~ 고민되는 임신 중 의약품 사용!  임신 중 산모가 의약품에 노출될 경우 태아에게 영향을 미치는 시기와 정도가 의약품에 따라 다르기 때문에  정확한 정보를 알고 대비하는 것이 중요하다. 이때 태아에 안전한 약물을 선택하고, 임신기간 중 질환관리 에 적극적으로 힘쓰면 산모와 아이의 건강을 모두 챙길 수 있다. 임신부들을 위한 올바른 의약품 사용법을  소개한다.   정리 편집실 아이를 가진 임신부의 기쁨 뒤에 찾아오는 가장  큰 걱정은 뱃속의 태아가 정상인지 아닌지에 대 한 불안한 마음일 것이다. 복용 중인 약물이 있 거나 임신 사실을 모른 채 약물을 복용한 임신 부의 경우, 기형아 출산을 걱정해 임신중절이 라는 돌이킬 수 없는 선택을 하기도 한다. 약물  복용으로 인한 기형아 발생률은 현저히 낮은 것 으로 알려져 있지만 대다수의 임신부들이 임신  중 약물 복용을 꺼리고 있다. 때문에 약효가 안 전하거나 위험성이 극히 적은 약물임에도 불구 하고 제때 약을 복용하지 않아 임신부의 증상을  완화시켜 주지 못하고, 오히려 태아에게 해로 운 영향을 끼치는 경우도 종종 있다.  시기별 조심할 약물 따로 있다    기기형유발 약물은 영구적으로 태아의 형태나  기능의 변형을 일으키는 약물이다. 이들 약물 은 특정시기에 특징적인 기형을 유발하기 때문 에 시기별로 복용 안전성 여부를 알아두는 것이  현명하다. 임신 4주 이전까지의 ‘착상 전기’에 는 기형유발 약물에 노출될 경우, 유산이 될 가 능성이 있기 때문에 어느 때보다 주의가 필요하 다. 태아의 기관이 형성되는 시기인 임신 4주 부터 10주까지는 약물 노출에 매우 민감한 시 기로 가급적 약물 사용을 최소화해야 한다.  임신 10주부터 출산 직전까지는 태아의 외부  생식기가 형성되고 발달하는 시기로 성호르몬 에 영향을 줄 수 있는 약물 노출에 더욱 유의해 야 한다. 엄마가 아프면 아이도 아파요 질병의 정도와 태아기형 발생 위험도를 고려해  전문의와 상담하면 임신 중에도 약물 사용이 가 능하다. 산모가 감기에 걸린 경우, 38도 이상 의 고열은 임신 초기 태아의 신경계 손상을 줄  수 있어 빠른 약물치료가 필요하다. ‘아세트아 미노펜’은 통상 용량 범위 내라면 임신 기간 중  안전하게 사용 가능한 해열제다.  당뇨로 인한 고혈당은 태아의 선천성 이상을 일 으키는 원인 중 하나로 알려져 있다. 임신 전부 터 당뇨를 앓고 있었거나 임신 후 임신성 당뇨 를 진단받은 경우에는 인슐린 주사제를 사용해  혈당을 조절하는 것이 바람직하다.  한편 의약품 사용 후 부작용이 생기면 즉시 의 사, 약사와 상담해야한다. 약물의 성분, 용량,  복용한 시기, 복용 기간, 방사능 노출 정도를 정 확하게 파악하고 필요한 경우, 기형아 검사를 한 다면 걱정 없이 건강한 아기를 낳을 수 있다. 무 엇보다 임신부의 불안과 초조, 걱정이 태아에게  해로운 영향을 미칠 수 있는 만큼 산모가 편안하 고 안정된 자세를 갖도록 노력하는 일이 무엇보 다 중요하다.  의약품 부작용 신고는 한국의약품안전관리원 1644-6223 또는  www.drugsafe.or.kr로 신고하면 된다.'),\n",
       " Document(metadata={'source': './data/docs.pdf', 'page': 1}, page_content='25 열린마루 2013 November + December 24 스테로이드 연고 사용은 무조건  NO?  |  가려움증은 임신 중에 나타나 는 흔한 피부 증상이다. 피부가 건조해지지 않도 록 로션으로 보습 관리를 하거나 가습기를 틀어놓 는 것이 좋다. 다만 증상이 심한 경우, 경구용 스 테로이드를 복용하기도 하는데 스테로이드 성분을  전신적 혹은 장기적으로 사용하면 태아에 나쁜 영 향을 미칠 수 있으니 주의해야 한다.   임신 초기, 생백신 접종은 꼭! 피하 세요  |  임신 중 적응 증상에 따라 접종 을 고려할 수 있는 것은 B형간염, Td, 수막구균,  광견병, 폴리오, 일본뇌염, 황열 등이 있다. 한편  생백신(MMR, 수두, 대상포진, 인플루엔자 생백 신) 접종은 하지 않는다. 가임기 여성이 생백신 접 종을 했다면 접종 후 4주간은 임신을 피하는 것이  좋다.  임신 중 변비 증상에는?  |  임신 중  분비되는 프로게스테론이라는 호르몬은  대장 내벽의 근육을 이완시켜 변비 증상을 일으키 는 경우가 많다. 이때 락툴로즈나 차전자피, 비사 코딜 등 약물을 복용하면 장의 연동운동을 촉진시 켜 배변을 도와준다. 또 수분과 지방을 잘 혼합하 여 변덩어리를 부드럽게 하는 도큐세이트소디움과  같은 완화성 하제도 복용이 가능하다.  01 02 03 임신 중 약물 복용 Do   임신 중 약물 복용 Don’t   주의해야할 임부금기 약물   복합 감기약은 위험해요  |  복합감 기약은 약제의 반응을 평가하기 어려우므 로 사용을 피하는 것이 좋다. 이외 기침 시에는 아 세틸시스테인, 브롬헥신 등의 약물을 복용 가능 하며, 두통 시에는 아세트아미노펜, 항생제를 사 용할 때는 페니실린 계열, 세팔로스포린 계열, 마 크로라이드 계열, 메트로니다졸 등의 약물이 복용  가능하다. 이들 약물의 경우에는 의사, 약사 등 전 문가와  상담후 사용하는 것이 바람직하다.  약효군 약물성분 여드름 치료제 (비타민A계 약물) 이소트레티노인 다발성골수종  치료제 탈리도마이드 레날리도마이드 안드로겐성  호르몬제 다나졸 위십이지장궤양  치료제 미소프로스톨 항용고제 와파린 지질저하제 (HMC-CoA 환원 효소 저해제) 아스토바스타틴 심바스타틴 단백동화  스테로이드제 옥시메틀론 ※ 외부 기고 및 인터뷰 내용은 식품의약품안전처의 공식입장과는 다를 수 있습니다. 01 02 section 02 열린마루 2013  11 + 12 열린 식약처'),\n",
       " Document(metadata={'source': './data/docs.pdf', 'page': 0}, page_content='열린마루 2013 November + December 2322 건강한 정보* 의약백서 DO & DON’T | 임신 중 의약품 사용  깔끔하게 정리해드립니다~ 고민되는 임신 중 의약품 사용!  임신 중 산모가 의약품에 노출될 경우 태아에게 영향을 미치는 시기와 정도가 의약품에 따라 다르기 때문에  정확한 정보를 알고 대비하는 것이 중요하다. 이때 태아에 안전한 약물을 선택하고, 임신기간 중 질환관리 에 적극적으로 힘쓰면 산모와 아이의 건강을 모두 챙길 수 있다. 임신부들을 위한 올바른 의약품 사용법을  소개한다.   정리 편집실 아이를 가진 임신부의 기쁨 뒤에 찾아오는 가장  큰 걱정은 뱃속의 태아가 정상인지 아닌지에 대 한 불안한 마음일 것이다. 복용 중인 약물이 있 거나 임신 사실을 모른 채 약물을 복용한 임신 부의 경우, 기형아 출산을 걱정해 임신중절이 라는 돌이킬 수 없는 선택을 하기도 한다. 약물  복용으로 인한 기형아 발생률은 현저히 낮은 것 으로 알려져 있지만 대다수의 임신부들이 임신  중 약물 복용을 꺼리고 있다. 때문에 약효가 안 전하거나 위험성이 극히 적은 약물임에도 불구 하고 제때 약을 복용하지 않아 임신부의 증상을  완화시켜 주지 못하고, 오히려 태아에게 해로 운 영향을 끼치는 경우도 종종 있다.  시기별 조심할 약물 따로 있다    기기형유발 약물은 영구적으로 태아의 형태나  기능의 변형을 일으키는 약물이다. 이들 약물 은 특정시기에 특징적인 기형을 유발하기 때문 에 시기별로 복용 안전성 여부를 알아두는 것이  현명하다. 임신 4주 이전까지의 ‘착상 전기’에 는 기형유발 약물에 노출될 경우, 유산이 될 가 능성이 있기 때문에 어느 때보다 주의가 필요하 다. 태아의 기관이 형성되는 시기인 임신 4주 부터 10주까지는 약물 노출에 매우 민감한 시 기로 가급적 약물 사용을 최소화해야 한다.  임신 10주부터 출산 직전까지는 태아의 외부  생식기가 형성되고 발달하는 시기로 성호르몬 에 영향을 줄 수 있는 약물 노출에 더욱 유의해 야 한다. 엄마가 아프면 아이도 아파요 질병의 정도와 태아기형 발생 위험도를 고려해  전문의와 상담하면 임신 중에도 약물 사용이 가 능하다. 산모가 감기에 걸린 경우, 38도 이상 의 고열은 임신 초기 태아의 신경계 손상을 줄  수 있어 빠른 약물치료가 필요하다. ‘아세트아 미노펜’은 통상 용량 범위 내라면 임신 기간 중  안전하게 사용 가능한 해열제다.  당뇨로 인한 고혈당은 태아의 선천성 이상을 일 으키는 원인 중 하나로 알려져 있다. 임신 전부 터 당뇨를 앓고 있었거나 임신 후 임신성 당뇨 를 진단받은 경우에는 인슐린 주사제를 사용해  혈당을 조절하는 것이 바람직하다.  한편 의약품 사용 후 부작용이 생기면 즉시 의 사, 약사와 상담해야한다. 약물의 성분, 용량,  복용한 시기, 복용 기간, 방사능 노출 정도를 정 확하게 파악하고 필요한 경우, 기형아 검사를 한 다면 걱정 없이 건강한 아기를 낳을 수 있다. 무 엇보다 임신부의 불안과 초조, 걱정이 태아에게  해로운 영향을 미칠 수 있는 만큼 산모가 편안하 고 안정된 자세를 갖도록 노력하는 일이 무엇보 다 중요하다.  의약품 부작용 신고는 한국의약품안전관리원 1644-6223 또는  www.drugsafe.or.kr로 신고하면 된다.'),\n",
       " Document(metadata={'source': './data/docs.pdf', 'page': 1}, page_content='25 열린마루 2013 November + December 24 스테로이드 연고 사용은 무조건  NO?  |  가려움증은 임신 중에 나타나 는 흔한 피부 증상이다. 피부가 건조해지지 않도 록 로션으로 보습 관리를 하거나 가습기를 틀어놓 는 것이 좋다. 다만 증상이 심한 경우, 경구용 스 테로이드를 복용하기도 하는데 스테로이드 성분을  전신적 혹은 장기적으로 사용하면 태아에 나쁜 영 향을 미칠 수 있으니 주의해야 한다.   임신 초기, 생백신 접종은 꼭! 피하 세요  |  임신 중 적응 증상에 따라 접종 을 고려할 수 있는 것은 B형간염, Td, 수막구균,  광견병, 폴리오, 일본뇌염, 황열 등이 있다. 한편  생백신(MMR, 수두, 대상포진, 인플루엔자 생백 신) 접종은 하지 않는다. 가임기 여성이 생백신 접 종을 했다면 접종 후 4주간은 임신을 피하는 것이  좋다.  임신 중 변비 증상에는?  |  임신 중  분비되는 프로게스테론이라는 호르몬은  대장 내벽의 근육을 이완시켜 변비 증상을 일으키 는 경우가 많다. 이때 락툴로즈나 차전자피, 비사 코딜 등 약물을 복용하면 장의 연동운동을 촉진시 켜 배변을 도와준다. 또 수분과 지방을 잘 혼합하 여 변덩어리를 부드럽게 하는 도큐세이트소디움과  같은 완화성 하제도 복용이 가능하다.  01 02 03 임신 중 약물 복용 Do   임신 중 약물 복용 Don’t   주의해야할 임부금기 약물   복합 감기약은 위험해요  |  복합감 기약은 약제의 반응을 평가하기 어려우므 로 사용을 피하는 것이 좋다. 이외 기침 시에는 아 세틸시스테인, 브롬헥신 등의 약물을 복용 가능 하며, 두통 시에는 아세트아미노펜, 항생제를 사 용할 때는 페니실린 계열, 세팔로스포린 계열, 마 크로라이드 계열, 메트로니다졸 등의 약물이 복용  가능하다. 이들 약물의 경우에는 의사, 약사 등 전 문가와  상담후 사용하는 것이 바람직하다.  약효군 약물성분 여드름 치료제 (비타민A계 약물) 이소트레티노인 다발성골수종  치료제 탈리도마이드 레날리도마이드 안드로겐성  호르몬제 다나졸 위십이지장궤양  치료제 미소프로스톨 항용고제 와파린 지질저하제 (HMC-CoA 환원 효소 저해제) 아스토바스타틴 심바스타틴 단백동화  스테로이드제 옥시메틀론 ※ 외부 기고 및 인터뷰 내용은 식품의약품안전처의 공식입장과는 다를 수 있습니다. 01 02 section 02 열린마루 2013  11 + 12 열린 식약처'),\n",
       " Document(metadata={'source': './data/korean_mothersafe.pdf', 'page': 0}, page_content='한국마더세이프전문상담센터 보건복지부가족건강과'),\n",
       " Document(metadata={'source': './data/korean_mothersafe.pdf', 'page': 1}, page_content=''),\n",
       " Document(metadata={'source': './data/korean_mothersafe.pdf', 'page': 2}, page_content='임산부의 약물 상담 지침 임신부의 약물노출은 당사자뿐만 아니라 가족모두에게 기형에 대한 우려로 심하게 불안감을 일으 키고 심한 경우 노출된 대부분의 약물이 기형과 상관없음에도 임신중절을 선택하게 한다. 그리고 수유부의 경우 약물에 노출되는 경우 일시적으로 약물에 대한 우려로 수유를 중단하지만 결과적으 로는 영원히 수유를 못하게 한다. 따라서, 이들 임산부에게 의료인들의 적절한 정보 제공은 절실하 다. 선천성기형은 무엇인가? 선천성기형은 태아의 구조나 기능에 영구적인 손상이 오는 경우로, 구조적 기형은 대기형과 소기형으로 분류될 수 있다. 대기형은 기관의 기능 변화 및 사회 적응에 영향을 미치는 기형을 뜻하며, 소기형은 의학적 및 미용적인 문제를 일으키지 않는 기형을 의미한다. 선천성 기형아 발생률은 얼마나 될까? 일반적으로 출생 시 동반되는 구조적 결함은 약 1-3% 정도이며, 5세 경에는 6%에서 기형이 발견되며, 18세 경에는 기능적 혹은 발달 장애를 포함하는 경우 약 14-16%로 증가한다. 임신부의 약물노출은 얼마나 될까? 계획 임신률이 50%를 넘지 못하고 있어서 임신 중 임신부의 약물 노출 빈도는 13회 이상을 보고한 경우도 있다. 그러나 시중에 시판되는 약물 대부분은 임신 중 안전성에 관한 정보가 부족하며, 국내에서 유통되는 약물의 50%정도는 FDA에 의해서 분류조차 되어 있지 않은 실정이다. 따라서 이러한 약제에 노출된 임신부는 불안해 할 수 밖에 없으며, 이 들에게 정보를 제공해야 하는 진료실의 의료인들도 적절한 정보를 제공할 수 없어서 당혹할 수 밖에 없다. 임신시기에 따라 약물이 미치는 영향은 어떻게 다른가? 흔히 “All or None period”라고 말하는 착상전시기는 수정 후 대략 3주 이전으로 이 시기에는 배아가 분화되기 전이므로 손상이 있다해도 치명적이지 않다면 회복이 가능한 시기이다. 하지만, 기관형성기로 알려져 있는 수정 후 3~8주에는 조직의 분화가 빠른 시기여서 기형유발물질에 가장 취약하다. 이 시기의 기형유발물질은 영구적인 기형을 유발 할 수 있다. 태아기는 수정 후 8주이후 부터 출생 때까지이며, 이 시기의 기형유발물질은 구조적인 기형유발보다는 성장 및 기능에 영향을 미쳐 정신지체나 행동장애를 일으킬 수 있다. 1 임신부 '),\n",
       " Document(metadata={'source': './data/korean_mothersafe.pdf', 'page': 3}, page_content='임산부의 약물 상담 지침 기형유발물질(teratogen)이란? 기형유발물질은 기관의 형태나 기능에 영구적인 변화를 일으키는 물질로 정의하며, 기관의 정상적인 기능에 영향을 미치는 것을 하데젠(hadegen), 성장에 영향을 미치는 것은 트로포 젠(trophogen)이라 세분하나, 일반적으로는 이들을 통합하여 테라토젠(teratogen), 즉 기형 유발물질이라 한다. 알코올(Alcohol) 메치마졸(Methimazole) 안지오텐신전환효소억제제(Angiotensin-converting  enzyme   inhibitors) 메틸수은(Methyl mercury) 안지오텐신수용체차단제(Angiotensin-receptor blockers) 메토트렉세이트(Methotrexate) 아미노프테린(Aminopterin) 미소프로스톨(Misoprostol) 안드로겐(Androgens) 마이코페놀레이트(Mycophenolate) 벡사로텐(Bexarotene) 파록세틴(Paroxetine) 보센탄(Bosentan) 페니실라민(Penicillamine) 카르바마제핀(Carbamazepine) 페노바비탈(Phenobarbital ) 클로람페니콜(Chloramphenicol) 페니토인(Phenytoin) 클로르바이페닐(Chlorbiphenyls) 방사성 아이오딘(Radioactive iodine) 코카인(Cocaine) 리바비린(Rivavirin) 코르티코스테로이드(Corticosteroids) 스트렙토마이신(Streptomycin) 시클로포스파미드(Cyclophosphamide) 타목시펜(Tamoxifen) 다나졸(Danazol) 테트라사이클린(Tetracycline) 디에틸스틸베스테롤(Diethylstilbesterol(DES)) 탈리도마이드(Thalidomide) 에파비렌즈(Efavirenz) 담배(Tobaco) 에트레티네이트(Etretinate) 톨루엔(Toluene) 이소트레티노인(Isotretinoin) 트레티노인(Tretinoin) 레프루노미드(Leflunomide) 발프로산(Valproic acid) 리튬(Lithium) 와파린(Warfarin) 표 1  기형유발물질로 의심되거나 확인된 물질들 위에 언급된 대부분의 약물은 혈압약, 항암제, 항전간제, 혈전치료제 및 여드름 치료제 등으로 일부 질환에 국한되어 사용되는 약물이다. 하지만, 대부분의 약물은 임신 중에 노출되었을 때 기형발생의 기본위험률의 범위를 넘지 않는다. (그림 1). 특히 임신 제 1 삼분기를 지나서는 항암제를 사용하는 경우라도 태아기형발생 기본위험률을 벗어나지 않는다. 실제로 약물에 의한 기형발생률은 전체 원인 중 1% 정도에 불과한 것으로 알려져 있다. 2'),\n",
       " Document(metadata={'source': './data/korean_mothersafe.pdf', 'page': 4}, page_content='임산부의 약물 상담 지침 그림 1. 임신중 약물의 위험성. 약물들의 대부분은 대기형발생위험률이 기본위험률(1-3%)을 넘지 않는다. 단지 몇 가지 약물만이 20~30%의 위험률을 가짐. FDA 분류를 임신인지 모르고 약물에 노출된 임신부에게 약물의 안전성 및 위험성 평가를 위해 적용하는 것은 옳은가? 옳지 않다. 미국 FDA 분류는 1979년에 임신부의 치료지침을 제공하기 위해 개발되었지만, 이상적이지 않은 것으로 평가되고 있다. 대부분의 약물의 분류가 동물실험자료, 증례발표, 그리고 사람에 대한 자료가 제한되어 있거나 거의 없는 상태에 근거하고 있다. 그리고 최근 약물의 안전성과 위험성에 관한 증거가 있음에도 잘 반영되지 않고 있다. 또한, 같은 군에 속해 있는 경우 유사한 위험을 갖는 것으로 인식하게 한다거나, D군이나 X군 그리고 심지어 C군에 포함되는 약물들도 유사한 위험을 가질 수 있어서 의료인들이 약물을 해석하는데 혼 란을 가져올 수 있다. 따라서, FDA는 이러한 분류방식을 폐기하고 약물 각각 임신중 수유중 안전성 및 위험성에 대하여 서술적 형태로 기술할 예정으로 알려져 있다. 3 0 5 10 15 20 25 30 기본위험률 1% - 3% 발프로산 4% - 12% 대부분 약물; 기본위험률 범위이내 탈리도마이드; 이소트레티노인; 항암제+엽산길항제 20% - 30% 선천성 기형발생률%'),\n",
       " Document(metadata={'source': './data/korean_mothersafe.pdf', 'page': 5}, page_content='임산부의 약물 상담 지침 그림 2. Paroxetine의 생식발생독성에 관한 정보 (Reprotox) 4 의료인은 임신부들을 위해 약물의 안전성에 관한 적절한 정보를 어디에서 얻을 수 있는가? 산과 교과서라 할 수 있는 William’s Obstetrics에서도 가장 정확하고 최근의 자료를 제공하는 온라인 데이터베이스인 TERIS 및 Reprotox(www.thomsonhc.com)의 자료를 이용하여 상담할 것을 권고하고 있다. 위의 두 데이터베이스는 약물 및 물질에 관하여 서술적인 방법으로 기술하고 있으며 새로운 정보에 대한 업데이트로 빠르게 이루어 지고 있다. 그러나 이 데이터 베이스는 유료로 정보를 제공하고 있으므로 개개인이 접속하기에는 어려움이 있을 수 있다. 그러나 유료 회원이 되는 경우에는 소액의 추가로 스마트폰에서도 정보를 확인할 수 있는 장점이 있다. 그림 2.는 Reprotox의 paroxetine에 관한 정보이다. 먼저 Quick take라는 부분이 있어서 약물에 관한 전반적인 정보를 제공하며, 이후 동물 실험, 인간에서의 자료, 모유수유에 관한 정보 및 남편의 노출에 관한 정보를 제공한다. 모든 약제에 대한 정보가 다 있는 것은 아니나, 전문가에게 비교적 자세하고 정확한 정보를 제공하는 데이터베이스라 할 수 있다.'),\n",
       " Document(metadata={'source': './data/korean_mothersafe.pdf', 'page': 6}, page_content='임산부의 약물 상담 지침 이외에 무료로 정보를 얻을 수 있는 대표적인 곳으로 OTIS(Organization of Teratology Information Specialists)의 홈페이지(www .otispregnancy.org)가 있다 . 이 홈페이지의 factsheet라는 곳을 접속하면 약물 및 위험물질에 관한 정보를 한 약물당 두 페이지로 구성된 자료를 접할 수 있다. 이 곳의 자료는 Q & A 형태로 구성되어 있으므로 비교적 쉽게 접근할 수 있다(그림 3). 그림 3. Paroxetine에 관한 factsheet (OTIS) 이외에도 캐나다 마더리스크 홈페이지 (http://www.motherisk.org) 및 한국마더세이프 전문상담센터 홈페이지(http://mothersafe.or.kr)(그림 4)에서도 약물 및 위험물질의 임신 중 노출에 대한 자료를 무료로 접할 수 있다. 또한 책자를 통하여서도 정보를 얻을 수 있는데, 제일병원 한정열 교수팀이 출간한 모태독성학 (2009)에는 식품의약품안전청과 공동 연구했던 국내 다빈도 약물 100여가지의 임신중 노출에 따른 임신결과가 수록되어 있으며, 또한, 캐나다 마더리스크 프로그램의 Koren교수의 Materna-Fetal Toxicology(2001) 등을 통하여서도 임신 중 위험물질에 노출된 임신부에게 제공할 수 있는 자료를 얻을 수 있다. 5 '),\n",
       " Document(metadata={'source': './data/korean_mothersafe.pdf', 'page': 7}, page_content='임산부의 약물 상담 지침 그림 4. 마더세이프전문상담센터 홈페이지 마더세이프전문상담센터에서 구체적으로 상담이 어떻게 이루어지나요? 그림 5. 마더세이프전문상담센터에서 임신부의 약물상담과정 6 '),\n",
       " Document(metadata={'source': './data/korean_mothersafe.pdf', 'page': 8}, page_content='임산부의 약물 상담 지침 임신을 계획하고 있는데요, 경련성질환이 있어서 데파킨, 페니토인, 테그레톨 같은 항전간제를 복용하고 있습니다. 건강한 아이를 출산할 수 있을까요? 데파킨이나 페니토인은 대표적 항전간제로 임신중 복용시 척추이분증 같은 신경관 결손증, 심장기형, 언청이 등을 일으킬 뿐만 아니라 지능저하를 일으키기도 합니다. 그리고 이러한 기형발생 위험률은 복용하는 약물의 종류가 많은 수록 발생 빈도가 높습니다. 특히 데파킨의 성분인 발프로익산(valproic acid)은 다른항전간제와 함께 사용시 기형 발생위험률이 10%정도까지 증가되는 반면 이 약을 한가지만 사용하는 경우는 기형발생위험률이 1-2%정도만 추가되는 것으로 알려져 있습니다. 따라서, 가능한 단일제제로 항전간제를 복용하는 것이 항전간제 복용으로 인한 기형발생위험률을 줄일 수 있습니다. 그리고 발프로익산의 경우 아기의 지능저하와 관련될 수 있습니다. 하지만 테그레톨(카바마제핀)은 기형발생위험률의 추가가 1-2%뿐이고 태아의 지능에 미치는 영향도 적은 것으로 많은 연구들이 밝히고 있습니다. 따라서, 가능하다면 테그레톨 같이 태아에 미치는 영향이 적은 약물의 단일 제제를 복용하는 것이 바람직합니다. 7 류마티스관절염, 베쳇질환 등으로 수년 동안 면역억제제 등을 복용하고 있는 가임 여성의 경우에도 임신해도 괜찮나요? 여성들의 면역질환은 남성보다 50배 많은 것으로 알려져 있다. 따라서, 당연히 임신을 계획 하고 있는 가임 여성들이 류마티스관절염이나 베쳇질환 등으로 많이 고생하고 있다. 이들 여성들은 면역질환의 치료 및 관리를 위해서 소염진통제, 코르티코스테로이드, 다양한 면역 억제제 그리고 메토트렉세이트 같은 항암제를 사용한다.   그리고 대부분의 항전간제는 엽산을 길항하여 체내 엽산을 고갈시킴으로써 기형을 발생하는 것으로 알려져 있습니다. 따라서, 항전간제를 복용하는 여성들은 반드시 임신 3개월 전부터는 엽산제 4mg이상을 복용하여 신경관결손증 등의 기형발생 위험을 낮출 수 있도록 하여야 합니다 . 그리고 , 과거에는 항전간제로 인한 태아 뇌 출혈예방을 위해서 임신말기에 임신부에게 비타민 K 를 복용하도록 처방했지만, 최근 연구들에 의하면 항전간제를 복용하는 임신부라도 만삭 임신의 경우는 비타민 K를 복용하지 않는다 하더라도 뇌출혈을 증가시키지 않는 것으로 밝혀져 있다. 계획임신부 '),\n",
       " Document(metadata={'source': './data/korean_mothersafe.pdf', 'page': 9}, page_content='임산부의 약물 상담 지침 8 감기, 근육통 등으로 약물복용 시 모유수유 중단해야 하나요? 모유는 영양적, 면역학적 그리고 정서적으로 아기에게 가장 적합한 영양소이다. 따라서, 비록 여러 가지 질병으로 치료를 위해 약물을 복용해야 하는 경우도 모유수유를 중단하는 것은 신중하게 결정해야 한다. 알려진 바로는 아기에게 전달되는 약물의 양은 엄마가 복용하는 양의 1-2% 뿐으로 임상적으로 아기에게 미치는 영향이 거의 없어서 감기, 근육통에 처방하는 약물을 포함해 대부분의 약물들은 모유수유에 적합한 것으로 알려져 있다. 현재까지 알려진 바로는 메토트렉세이트는 주요기형유발물질로 임신 초기에 사용시 5% 정도에서 무뇌아, 두개골형성장애, 두개결합증 등을 유발할 수 있다. 이 약의 경우 얼마나 중단 후 임신 할 수 있는지에 대하여 일치된 의견이 있지는 않지만 체내에서 이 약물이 제거되는 시간을 고려하면 3개월 정도 지난 후에는 임신이 가능해 보인다. 그리고 나머지 소염진통제, 코르티코스테로이드, 그리고 면역억제제의 경우는 태아기형발생과 관련하여 1- 3% 정도의 위험만을 추가할 수 있는 기형발생 위험이 상대적으로 높지 않은 약물들이다. 그리고 이 면역질환자체는 임신중 1/3정도만이 임신전보다 악화되고 2/3는 호전되거나 변화가 없다. 따라서, 임신중, 임신전에 사용하는 약물들의 사용여부는 임신 시 질병상태에 따라 달라질 수 있다. 그리고 약물이 아기에게 미치는 영향은 임신시기에 따라 달라진다. 따라서, 이 질환이 만성질환이고 당장에 임신부에게 큰 위협이 되지 않는 다면 임신시기에 따라 약물의 종류를 조절할 수 있을 것 같다. 따라서, 이런 질환이 있다고 해서 무조건 임신을 금지할 필요는 없는 것 같다. 이런 질환으로 약물을 복용하고 있지만 임신을 원하는 여성이라면 약물과 질환에 대한 위험을 충분히 평가 받은 후에 임신에 따른 위험을 받아 들 일 수 있다면 임신을 시도해 볼만하다. 왜냐하면, 이미 이와 같은 면역질환을 가지고도 많은 여성들이 성공적으로 건강한 아이를 출산했다는 보고가 많이 있기 때문이다. 따라서, 약물을 복용한다고 해서 모유수유를 중단하게 하는 것 보다는 처방된 약물의 모유수유에 적합성을 따져 보는 것이 좋다. 단적으로 모유수유에 적합하지 않은 것으로 알려진 약물은 항암제가 대표적이다. 이는 항암제가 아기에게 나타낼 수 있는 2차성 발암성 때문에 금기시하고 있을 뿐이다 . 하지만, 암 진단이나 치료를 위한 방사성동위 원소들 조차도 일정 반감기가 지나면 모유수유가 가능하다. 모유수유부 '),\n",
       " Document(metadata={'source': './data/korean_mothersafe.pdf', 'page': 10}, page_content='임산부의 약물 상담 지침  9 한국마더세이프전문상담센터에서는 어떤 일을 하고 있는가? 한국마더리스크프로그램은 국제적으로 국제기형학회인 OTIS(www.otispregnancy.org)와 함께하고 있으며, 캐나다 마더리스크프로그램의 적극지원을 받고 있다. 또한, 2010년 4월 보건복지부의 사업지원을 받아 마더세이프전문상담센터를 오픈하여 임신중 수유중 약물의 위험성 및 안전성에 관한 정보를 무료로 제공 및 상담하고 있다. 그림 6. 전재희 전보건복지부장관이 참여한 가운데 마더세이프전문상담센터 오픈 (2010.4.22)  모유수유중 약물요법 안내 1. 가능하면 약 없이 증상을 해소하도록 시도해 봅시다.  예) 근육통 : 맛사지 2. 국소적으로 약물을 사용하면 모유로 가는량을 최소화 할 수 있습니다.  3. 주의가 필요한 약물의 경우 부작용이 적은 약이나 아기에게 문제가 없다고 알려진 약물 로 대체 합시다.  4. 반감기가 짧은 약물은 모유로 적게 넘어가서 아기에게 더 안전합니다.  5. 약물을 복용 시는 수유 직후에 복용하거나 긴 잠을 자기 전에 복용하면 아기에게 더욱 안 전합니다. 한국마더세이프전문상담센터 '),\n",
       " Document(metadata={'source': './data/korean_mothersafe.pdf', 'page': 11}, page_content='임산부의 약물 상담 지침 10 2010년 4월 본 상담센터가 오픈한 이후 전국적으로 콜센터 상담실적은 총 1,798건이었다. 전화를 통해서 상담했던 여성들의 평균 나이와 범위는 32(17~47)세이었다. 지역별로는 서울 607건(33.8%), 경기ㆍ인천 473건(26.3%), 영남 311건(17.3%), 그리고 호서 116건(6.5%) 순이었다.(그림 7) 상담유형별로는 임신중 상담 1,486건(82.6%), 모유수유중 상담 171건(9.5%) 그리고 계획임신 141건(7.9%) 순이었다.(그림 8) 주 상담 이유로는 약물 1,610건(89.5%), 화학물 54건(3.0%), 방사선 44건(2.4%) 그리고 음주만은 27건(1.5%) 순이었다.(그림 9) 그림 7. 마더세이프전문상담콜센터 : 지역별 상담건수 (2010.4-2010.9) 0 100 200 300 400 500 600 700 서울 경기도 경상도 충청도 전라도 외국 강원도 제주도 기타'),\n",
       " Document(metadata={'source': './data/korean_mothersafe.pdf', 'page': 12}, page_content='임산부의 약물 상담 지침  11 그림 8. 마더세이프전문상담콜센터: 상담종류별 분류 (2010.4-2010.9) 그림 9. 마더세이프전문상담콜센터: 노출종류별 분류 (2010.4-2010.9) 임신부 83% 계획임신부 8% 모유수유부 9% 90% 3% 2% 1% 1% 1% 0% 0% 2% 약물 유해물질 방사선 음주 고열 감염 흡연 유전관련 기타 N=1,798'),\n",
       " Document(metadata={'source': './data/korean_mothersafe.pdf', 'page': 13}, page_content='임산부의 약물 상담 지침 12 [참고문헌 및 웹사이트] 1. Cunningham, Leveno, Bloom, Hauth, Rouse, and Spong, Williams Obstetrics. 23rd Edition, 2010. 2. Gideon Koren, Maternal-Fetal Toxicology. 3rd Edition, 2001. 3. 한정열 등, 모태독성학. 2010. 4. www.thomsonhc.com 5. www.otispregnancy.org 6. www.motherisk.org 7. www.mothersafe.or.kr 그림 10. 고운맘카드 : 한국마더세이프전문상담센터 안내 문구 (2010년 9월 이후 카드부터) 현재 본 상담센터를 임산부들이 보다 효율적으로 활용하여 건강한 임신과 건강한 수유를 할 수 있도록 하기 위해 정부지원의 고운맘카드에 한국마더세이프 전문상담센터의 문구를 넣어 널리 홍보하고 있다. 전면 후면 '),\n",
       " Document(metadata={'source': './data/korean_mothersafe.pdf', 'page': 14}, page_content='상담전화 : 1588-7309 상담비용 : 무료 상 담 내 용 : 임신부 및 수유부 그리고 계획임신부를 위한 약물 및 기형유발물질 상담가능시간 : 평일 오전 9시부터 오후 5시 '),\n",
       " Document(metadata={'source': './data/korean_mothersafe.pdf', 'page': 15}, page_content='100-380 서울특별시 중구 묵정동 1-19  관동의대 제일병원 모아센터 5층 한국마더세이프상담센터 전화 : 1588-7309  팩스: 02-2000-4376 홈페이지 : http://www.mothersafe.or.kr/ 블로그 : http://blog.mothersafe.or.kr/  메일 : mom@gmail.com ')]"
      ]
     },
     "execution_count": 19,
     "metadata": {},
     "output_type": "execute_result"
    }
   ],
   "execution_count": 19
  },
  {
   "metadata": {},
   "cell_type": "markdown",
   "source": "## Text Spliter",
   "id": "63c8a00dd88fd695"
  },
  {
   "metadata": {
    "ExecuteTime": {
     "end_time": "2024-12-19T01:24:36.670560Z",
     "start_time": "2024-12-19T01:24:36.637877Z"
    }
   },
   "cell_type": "code",
   "source": [
    "from langchain.text_splitter import RecursiveCharacterTextSplitter\n",
    "\n",
    "spliter = RecursiveCharacterTextSplitter(\n",
    "    chunk_size=1000,\n",
    "    chunk_overlap=200\n",
    ")\n",
    "\n",
    "docs = spliter.split_documents(documents)\n",
    "print(len(docs))\n",
    "docs"
   ],
   "id": "94fa0ad42ad8bd59",
   "outputs": [
    {
     "name": "stdout",
     "output_type": "stream",
     "text": [
      "52\n"
     ]
    },
    {
     "data": {
      "text/plain": [
       "[Document(metadata={'source': './data/commandment_10.pdf', 'page': 0}, page_content='1    ■ 임산부의 안전하고, 효과적인 약 복용을 위한 약물 요법 10계명  ■ 10 Mga Gabay para sa Ligtas at Epektibong Medikasyon  ng mga Babaeng  Nagbubuntis    1. 임신 가능한 여성의 경우 약물 복용 전 임신 여부 확인하십시오.  임신 가능한 여성이 약물을 복용할 때는 임신 계획 및 임신 여부를 반드시  확인하여야 하며 전문가와 상의 후 투여하는 것이 필요합니다.   1. Alamin kung nagdadalantao o hindi bago uminom ng anumang gamot.  Kailangang siguruhin ng isang babaeng ma y kakayanang magkaanak kung nagbubuntis o  hindi at kung makakapagsilang ng sanggol, at kumunsulta sa isang espesyalista sa panahon  ng medikasyon.    2. 임신 중 약물 복용은 태아에게 영향을 줄 수 있습니다.  임산부가 약물 복용 시 주의해야 하는 까닭은 약물이 태반을 통과하여 태아에게  나쁜 영향을 미칠 수 있고 임산부에게도 독성을 일으킬 수 있기 때문입니다  2. Ang medikasyon sa panahon ng pagbubuntis ay maaring makaapekto sa sanggol.  Ang mga babaeng nagdadalantaong sumasailalim sa anumang medikasyon ay kailangan ng  matinding p ag-iingat sa dahilang ang mga gamot ay maaring makaapekto sa sanggol sa  pamamagitan ng  ‘placental barrier’. Sa ilang mga kaso, maaring maapektuhan mismo.ang  babaeng nagdadalantao.    3. 임신 중'),\n",
       " Document(metadata={'source': './data/commandment_10.pdf', 'page': 0}, page_content='p ag-iingat sa dahilang ang mga gamot ay maaring makaapekto sa sanggol sa  pamamagitan ng  ‘placental barrier’. Sa ilang mga kaso, maaring maapektuhan mismo.ang  babaeng nagdadalantao.    3. 임신 중 약물 복용 방법은 일반 성인과는 다를 수 있습니다  임신 중에는 복용한 약물이 태반을 통과할 수 있다는 것을 항상 염두 해두셔야  하며 임신 중 약물의 체내 움직임은 일반 성인과는 다른 형태로 바뀌어  나타나므로 약물의 복용량과 복용법 변화에 유의하셔야 합니다.  3. Magkaiba ang mga gabay sa medikasyon para sa mga nagdadalantaong mga  kababaihan sa mga hindi-nagdadalantao.   Ang mga nagdadalantaong mga kababaihan ay kailangang  isaalang -alang ang posibilidad  na maaring tumagos ang gamot sa placental barrier. Kailangang sundin a ng mga dosis at  pagbabago sa mga gabay sa medikasyon , sa dahilang ang mga gamot ay maaring  makaapekto sa mga babaeng nagdadalantao.'),\n",
       " Document(metadata={'source': './data/commandment_10.pdf', 'page': 1}, page_content='2    4. 임신 3주에서 8주 사이 약물 복용 시 더욱 주의하셔야 합니다.  임신 주수에 따라 약물이 태아에게 미치는 영향이 다양합니다. 특히, 임신  3주에서 8 주 사이 (임신 제 1 삼분기)에는 태아의 장기가 형성되는 결정적인  시기이므로 특별히 조심해야 합니다.  4. Kailangan ng karagdagang pag-iingat sa pagsasailalim ng medikasyon kapag nasa  ika-3 linggo hanggang 8 linggo ng pagbubuntis.  Ang epekto ng mga gamot sa sanggol ay maaring magkakaiba ayon sa  yugto  ng  pagbubuntis. Karagdagang pag-iingat ang kailangan mula sa ika -3 linggo hanggang ika-8  linggo (ang unang estado ng pagbubunti s) sa dahilang nabubuo ang mga organ ng sanggol  sa estadong ito.    5. 약물마다 임신 시 미치는 영향에 따른 카테고리가 구분되어 있습니다.  미국 FDA 에서는 약물마다 태아에 미치는 영향을 가장 안전한 카테고리 A 부터  가장 위험한 카테고리 X 까지 다섯 단계로 구분하여 표시하고 있으므로 그  위험성을 예측할 수 있습니다.  5. Ang mga gamot ay inuuri ayon sa epekto nito sa pagbubuntis.  Hinati ng FDA sa limang kategorya ang mga gamot, mula Kategorya A, ang pinakaligtas n a  gamot para sa sanggol at Kategorya X para sa mga pinakapeligro. Nakakatulong ito sa mga  kababaihang magkar oon ng eksaktong  kaalaman sa'),\n",
       " Document(metadata={'source': './data/commandment_10.pdf', 'page': 1}, page_content='ang mga gamot, mula Kategorya A, ang pinakaligtas n a  gamot para sa sanggol at Kategorya X para sa mga pinakapeligro. Nakakatulong ito sa mga  kababaihang magkar oon ng eksaktong  kaalaman sa potensyal na peligro n g anumang  gamot.    6. 임신 중 약물 투여는 반드시 전문가 (의약사)와 상의 후 투여하십시오.  임신 중에 약물을 투여할 경우, 약물치료가 꼭 필요한지 전문가와 다시 검토하고  대증요법 등의 다른 치료방법을 우선적으로 모색해야 합니다.  6. Bago sumailalim sa anumang medikasyon sa panahon ng pagbubuntis, kailangang  kumunsulta sa isang espesyalista.  Kailangang kumunsulta a ng mga babaeng nagdadalantao sa isang e spesyalista upang  malaman kung kailangan ang medikasyon at mga posibleng alternatibong panggagamot.    7. 임신 중 질환에 따라 약물을 꼭 복용해야 하는 경우도 있습니다  임신 중 간질, 고혈압, 당뇨 등의 질환을 동반하는 경우 질병 자체가 태아에게'),\n",
       " Document(metadata={'source': './data/commandment_10.pdf', 'page': 2}, page_content='3    위험할 수 있으므로 전문가와 상의 후 정해진 용량 용법에 맞추어 약물을  복용하는 것이 좋습니다  7. Ang mga kababaihang may karamdaman ay kailangan ang medikasyon sa panahon  ng pagbubuntis.  Ang kalusugan ng sanggol ay maaring malagay sa peligro kung ang ina ay may epilepsy,  high blood pressure o diabetes. Ang mga kababaihang may mga ganitong kondisyon ay  kailangang uminom ng naayong dosis ng kanilang gamot makaraang kumunsulta sa isang   espesyalista.    8. 임신 중 약물 사용은 사용 경험이 풍부한 약물을 사용하는 것이 좋습니다.  임신 중 약물 사용 시에는 자료가 불충분한 최근 개발된 약물보다는 과거부터  임신 시에 흔히 사용된 약물을 사용하는 것이 안전합니다.  8. Kailangang ang mga karaniwang gamot  ang gamitin sa  medikasyon ng isang  nagbubuntis.   Sa panahon ng pagbubuntis, iminumungkahing gamitin lamang ang mga  karaniwang gamot  para sa medikasyon. Iwasan ang paggamit ng mga bagong likhang gamot na hindi pa  napapatunayan.    9. 임신 중 약물 사용은 투여 목적에 따라 최소한으로 투여합니다.  임신 시 약물을 복용해야만 할 경우 약물 투여의 목적에 따른 최소한의  유효용량을 최단 기간 동안 투여합니다. 또한 부작용 모니터링을 통한 가장  안전하다고 판단되는 약물을 충분한 설명과 함께 투여해야 하며 동시에 발생될  수 있는 미세한 변화도'),\n",
       " Document(metadata={'source': './data/commandment_10.pdf', 'page': 2}, page_content='pa  napapatunayan.    9. 임신 중 약물 사용은 투여 목적에 따라 최소한으로 투여합니다.  임신 시 약물을 복용해야만 할 경우 약물 투여의 목적에 따른 최소한의  유효용량을 최단 기간 동안 투여합니다. 또한 부작용 모니터링을 통한 가장  안전하다고 판단되는 약물을 충분한 설명과 함께 투여해야 하며 동시에 발생될  수 있는 미세한 변화도 간과해서는 안 됩니다  9. Sa panahon ng pagbubuntis, kailangang in umin ang minimum na dosis ng  kailangang gamot upang maabot ang layunin ng medikasyon.  Kailangang inumin ng isang nagdadalantao ang minimum na dosis ng gamot upang matamo  ang layunin ng medikasyon. Ang mga gamot na itinuturing na pinakaligtas makaraang  masuri ang ‘side effect’ ng mga ito ay kailangang inumin ng may sapat na eksplanasyon, at  walang anumang bahagyang pagbabago ang kakaligtaan sa panahon ng medikasyon.    10. 임신 중 약물 복용 시에는 태아와 산모의 건강을 모두 고려해야 합니다.  임산부에 약물을 사용할 때에는 약물이 태아에게 기형을 일으킬 수 있다는 점과'),\n",
       " Document(metadata={'source': './data/commandment_10.pdf', 'page': 3}, page_content='4    함께 약물이 임산부에 미치는 독성을 함께 고려해야 합니다.  10. Kailangang isaalang-alang ang kalusugan ng nagdadalantaong ina at ng sanggol  sa sinapupunan nito sa panahon ng medikasyon.   Ang katotohanang ang gamot ay maaring magdulot ng malpormasyon sa sanggol at peligro  sa kalusugan ng nagdadalantaong ina ay kailangang isaalang-alang.    ■ 임신부를 위한 증상별 약물복용 안내서  임신부들은 감기나 두통과 같은 증상을 앓게 되기 쉬우나, 임신 중에는 약을  먹어서는 안 된다는 오해로 인해 통증을 참아내곤 합니다. 혹은 임신 초기에  임신인 줄 모르고 약을 복용한 후 임신임을 알게 되었을 때 매우 큰 불안감을  겪게 됩니다. 그러나 임신 중에도 증상에 따른 적절한 약물치료 방법이 있으며,  전문가의 도움을 받아 건강한 출산이 가능합니다.  ■ Mga Gabay sa Medikasyon ng mga Nagbubuntis ayon sa Sintomas  Ilang mga kababaihang nagdadalantao ng madaling nagkakasipon o sumasakit ang ulo ang  nagtitiis sa karamdaman dahil  sa maling aakalang kailangan nilang iwasan ang mga gamot  sa panahon ng pagbubuntis. Sa kabilang dako, ang ilang mga nagdadalantaong kababaihan  ay matinding nababahala dahil sa gamot na kanilang nainom bago pa malamang sila ay  nagdadalantao. May mga naayong'),\n",
       " Document(metadata={'source': './data/commandment_10.pdf', 'page': 3}, page_content='panahon ng pagbubuntis. Sa kabilang dako, ang ilang mga nagdadalantaong kababaihan  ay matinding nababahala dahil sa gamot na kanilang nainom bago pa malamang sila ay  nagdadalantao. May mga naayong medikasyon na maaring gamitin ng isang nagdadalantao  sa bawat sintomas, at maari  sila ng sumailalim sa ligtas na medikasyon sa pagkonsulta sa  isang espesyalista.    ■ 임신 중 흔히 나타나는 증상에 따른 약물복용  ■ Medikasyon para sa mga Sintomas ng Pagbubuntis    1. 감기  Q: 감기에 걸렸어요. 임신 중에 감기약을 복용해도 되나요?  A: 감기는 대부분 바이러스에 의한 질환이기 때문에 특별한 치료보다는 충분한  수분섭취와 휴식을 취하는 것이 바람직합니다. 그러나 심한 고열이나 두통이  동반된다면 아세트아미노펜 같은 해열진통제를 복용하시는 것이 임신 중 고열로  인한 태아의 기형과 신경계 손상을 예방할 수 있습니다.  1. Sipon'),\n",
       " Document(metadata={'source': './data/commandment_10.pdf', 'page': 4}, page_content='5    T: Ako’y may sipon. Maari ba akong uminom ng gamot para sa sipon sa panahong  ako’y nagbubuntis?  S: Sa dahilang karamihan sa mga sipon ay dulot ng virus , mas mainam ang pag -inom ng  maraming tubig at magpahinga sa halip na sumailalim sa espesyal na panggagamot. Kung  may mataas na lagnat a sakit sa ulo, kailangang uminom ng antip yretic at analgesic , tulad  ng acetaminophen upang maiwasan ang anumang malpormasyon at pinsala sa neural  system ng inyong sanggol na maaring dulot ng mataas n a lagnat sa panahon ng  pagbubuntis.    - 증상  감기는 임신 중에 면역력이 떨어지면서 바이러스 및 세균에 의해서 걸리게 되며  나타나는 증상으로는 코의 충혈과 콧물, 기침, 후두염, 발열과 두통, 오한 등이  있습니다.  - Mga Sintomas  Ang mga nagdadalantaong nagkakasipon dahil sa impeskyong dulot virus dahil sa  panghihina ng imunidad sa panahon ng pagbubuntis. Kabilang sa mga sintomas ang  nahihirapang huminga, paglabas ng uhog, pag -ubo, laryngitis, lagnat , sakit sa ulo at  panginginig.    - 일반요법  충분한 휴식이 필요하며, 탈수를 예방할 수 있도록 충분한 음료를 섭취하고  실내공기를 가습하여야 합니다.  -'),\n",
       " Document(metadata={'source': './data/commandment_10.pdf', 'page': 4}, page_content='sa mga sintomas ang  nahihirapang huminga, paglabas ng uhog, pag -ubo, laryngitis, lagnat , sakit sa ulo at  panginginig.    - 일반요법  충분한 휴식이 필요하며, 탈수를 예방할 수 있도록 충분한 음료를 섭취하고  실내공기를 가습하여야 합니다.  - Natural na Medikasyon  Kailangang magpahinga ang mga pasyente, uminom ng sapat na tubig upang maiwasan  ang dehaydrasyon at manatili sa isang lugar na mahalumigmig.    2. 입덧  Q: 입덧이 매우 심합니다. 입덧을 가라앉게 할 수 있는 처방약이 있나요?  A: 피리독신과 메토클로프라마이드는 비교적 안전하게 사용 가능합니다.  2. Morning Sickness  T: Ako’y nakakaranas ng ‘morning sickness’. Ano ang naaayong medikasyon para sa  sintomas na ito?'),\n",
       " Document(metadata={'source': './data/commandment_10.pdf', 'page': 5}, page_content='6    S: Ang pyridoxine at metoclopramide ay mga gamot para sa morning sickness.    - 증상   임신 중 입덧의 증상인 오심과 구토는 정도의 차이가 있지만 임신한 여성의  80%가 경험할 정도로 매우 흔한 증상입니다. 그러나 탈수가 심하고 전해질  불균형이 심해서 입원까지 필요한 경우는 약 1 -3%정도 입니다. 대개는 시간이  지나면 입덧은 호전되지만, 이들 중 약 20% 는 더 오랫동안 입덧이 지속되며,  일부는 임신말기까지도 지속됩니다.  - Mga sintomas  Sa kabila ng pagduduwal at pagkahilo , maaring magkakaiba ang karaniwang sintomas ng  morning sickness sa panahon ng pagdadalantao, humigit -kumulang sa 80% ng mga  nagdadalantaong kababaihan ay maaring makaranas ng morning sickness, kung saan 1%   hanggang 3% ang nangangailangan ng hospitalisasyon  dahil sa matinding dehaydrasyon at  hindi balanseng electrolyte. Karamihan sa mga pasyenteng may morning sickness ay  napapabuti sa huling yugto ng pagbubuntis subalit humigit kumulang sa 20% ng mga  pasyente ang nakakaranas mula dito sa mas mahabang panahon , kung saan ang ilang sa  kanila ay nakakaranas nito hanggang sa huling yugto ng kanilang pagbubuntis.    - 일반요법  정서적인 안정이 중요하며, 입덧을 자극하는'),\n",
       " Document(metadata={'source': './data/commandment_10.pdf', 'page': 5}, page_content='pasyente ang nakakaranas mula dito sa mas mahabang panahon , kung saan ang ilang sa  kanila ay nakakaranas nito hanggang sa huling yugto ng kanilang pagbubuntis.    - 일반요법  정서적인 안정이 중요하며, 입덧을 자극하는 음식물 섭취를 삼가고 양을 적게  해서 자주 먹어야 합니다. 마른 토스트나 크래커를 먹는 것도 도움이 됩니다.  또한 많은 물을 섭취하는 경우 구토를 동반하는 경우가 많으나 물은 조금씩  드셔야 합니다. 보조적인 요법으로 침을 맞거나, 생강차 복용을 하면 입덧을  완화 시킬 수 있는 것으로 알려져 있습니다.  - Natural na Medikasyon  Kailangang subukan ng pasyenteng maging panatag, iwasan ang mga pagkaing nagdudulot  ng morning sickness at madalas na pagkain ng ma liliit na dami ng pagkain. Maaring  makatulong ang mga toast o crackers. Ilang mga pasyente ang nagsusuka kung umiinom ng  maraming tubig, kaya iminumungkahi  a ng kaunting pag-inom ng tubig. Ang acupuncture at  ginger tea ay kilalang mainam sa natural na panggagamot para sa morning sickness.    3. 변비'),\n",
       " Document(metadata={'source': './data/commandment_10.pdf', 'page': 6}, page_content='7    Q: 임신 초기 변비가 너무 심한데요. 변비약을 복용해도 되나요?  A : 네, 대부분의 변비약은 장내흡수가 되지 않고 장내에서만 작용 후 변비를  해결하기 때문에 전신 흡수가 적어 안전한 편입니다.  3. Konstipasyon  T: Ako’y nasa  simulang bahagi ng aking pagbubuntis at matinding nakakaranas ng  konstipasyon. Maari ba akong uminom ng gamot?  S: Oo, karamihan ng mga gamot para sa konstipasyon ay sa dumi lamang ang epekto. Sa  dahilang mababa ang antas ng absorpsyon , mas ligtas ito.    - 증상  일반적으로는 배변 횟수가 주 2 -3회 미만이면 변비라고 합니다. 변비의 원인은  저섬유질 식사, 스트레스, 장폐색과 같은 위장관 이상 등이 있습니다. 그러나  임신에 의한 변비는 프로게스테론에 의한 위장의 평활근 활동 감소와 자궁이  커져 장을 눌러서 발생하는 생리적인 것으로 알려져 있습니다.  - Mga sintomas  Sa pangkalahatan, ang konstipasyon ay ang dalawa o tatlong beses lamang na  pagbabawas sa loob ng isang linggo, o mababa pa dito. Ilan sa mga dulot nito ay ang  kakulangan sa fiber sa mga pagkain, at suliranin sa gastro -intestinal tract tulad ng  pagbabara sa bituka. Ang konstipasyon sa  panahon ng pagbubuntis ay kilalang dulot ng  pagbaba ng paggalaw ng ‘smooth gastro -intestinal muscles ’ na'),\n",
       " Document(metadata={'source': './data/commandment_10.pdf', 'page': 6}, page_content='suliranin sa gastro -intestinal tract tulad ng  pagbabara sa bituka. Ang konstipasyon sa  panahon ng pagbubuntis ay kilalang dulot ng  pagbaba ng paggalaw ng ‘smooth gastro -intestinal muscles ’ na dulot ng progesterone at  presyon sa mga bituka sa paglawak ng uterus.    - 일반요법  과일이나 야채를 포함하여 부피를 늘리는 방법으로 식이습관을 변화시키면  변비를 해결하는데 도움이 됩니다.  - Natural na Medikasyon  Pagkonsumo ng mas maraming prutas at gulay upang maiwasan ang konstipasyon.    4. 두통  Q: 임신 중 두통이 심한데요, 통증을 완화시킬 수 있는 약이 있나요?  A: 일시적으로 아세트아미노펜과 같은 소염진통제를 복용하시면 증상이 완화될'),\n",
       " Document(metadata={'source': './data/commandment_10.pdf', 'page': 7}, page_content='8    수 있습니다.  4. Pananakit ng ulo  T: Ako’y nakakaranas ng matinding pa nanakit ng ulo sa panahon ng aking  pagbubuntis. Mayroon bang maaring gamot para sa mga nagdadalan taong  kababaihan?  S: Ang iyong mga sintomas ay maaring pansamantalang mawawala sa pag -inom ng  antiphlogistic at analgesic, tulad ng acetaminophen.    - 증상  두통은 임신 초기에 더 흔하게 나타납니다. 그 원인으로는 호르몬의 변화,  수면부족, 혈액순환의 변화, 저혈당증, 탈수, 새로운 아기에 대한 불안감, 카페인  중단 등이 있습니다. 유형으로는 긴장성 투통과 편두통이 있습니다.  - Mga Sintomas   Ang mga nagdadalantao ay madalas nakakaranas ng pananakit sa ulo sa unang bahagi ng  kanilang pagbubuntis. Kabilang sa mga dulot nito ay ang mga pagbabago sa hormone,  kulangan sa tulog, pagbabago sa sirkulasyon ng dugo, hypoglycermia, dehaydrasyon, mga  pagkabahala sa bagong sanggol at pag -iwas sa caffeine. Ang pananakit sa ulo sa panah on  ng pagbubuntis ay maaring ‘tension-type headache o migraine’.    - 일반요법  충분한 휴식을 하고 규칙적인 운동, 충분한 잠을 자면 두통은 완화되고 빈도도  줄어듭니다. 어깨 마사지나 얼굴에 따뜻한 수건으로 덮고 있는 것도 도움이  됩니다.  - Natural na'),\n",
       " Document(metadata={'source': './data/commandment_10.pdf', 'page': 7}, page_content='sa ulo sa panah on  ng pagbubuntis ay maaring ‘tension-type headache o migraine’.    - 일반요법  충분한 휴식을 하고 규칙적인 운동, 충분한 잠을 자면 두통은 완화되고 빈도도  줄어듭니다. 어깨 마사지나 얼굴에 따뜻한 수건으로 덮고 있는 것도 도움이  됩니다.  - Natural na Panggagamot  Maaring mawala ang sakit sa ulo at bawasan ang dalas ng pagkakaroon nito kung  magpapahinga ang mga pasyente, mag -eehersisyo ng regular at matutulog ng sapat. Ang  pagmamasahe sa mga likod at pagtatakip sa mukha ng mainit na tuwalya ay maaring  makatulong din.    5. 복통  Q: 임신중 소화성 궤양으로 가끔 상복부 통증이 심합니다. 이때 치료약이 있나요?  A: 네, 슈크랄페이트과 같은 위점막보호제, 제산효과를 내는 라니티딘은 임신 중'),\n",
       " Document(metadata={'source': './data/commandment_10.pdf', 'page': 8}, page_content='9    사용이 가능합니다.  5. Pananakit ng Tiyan  T:Nakakaranas ako ng matinding pananakit ng tiyan dahil sa aking gastric ulcer.  Mayroon bang anumang maaring gamot para sa mga nagdadalantao?  S: Oo, ang mga babaeng nagdadalantao ay maaring umino m ng mga gamot sa  pangangalaga ng gastriko tulad ng sucralfate, o ranitidine, at gastric antiacids.    - 증상  복통(소화성 궤양)은 위액 중에 포함된 염산과 소화효소에 의해 위나 십이지장  조직에 상처가 생기면서 발생합니다. 증상은 소화불량, 상복부 통증, 오심과  구토, 가슴앓이,위장관 출혈 그리고 위장천공이 일어날 수 있습니다.  - Mga sintomas  Ang pananakit ng tiyan (gastric ulcer) ay dulot ng pagtamo ng gutli sa duodenum o tiyan  sa  pamamagitan ng gastric juice na naglalaman ng gastric acid at digestive enzyme. Kabilang  sa mga sintomas ang indihestyon, pananakit ng tiyan, pagduduwal, pagkahilo, pangangasim  ng sikmura, pagdudugo at pagkakabutas ng bituka.    6. 가려움증  Q: 임신 중인데 전신 가려움증으로 잠을 설치기 일쑤입니다. 증상을 완화  시킬만한 치료약이 있나요?  A: 네, 우선적으로 피부가 건조해지지 않도록 해야 합니다.  그리고 국소적으로 보습크림이나 항소양증 로션 사용이 도움이 됩니다.  6. Pruritus (Matinding Pangangati)  T: Ako ay'),\n",
       " Document(metadata={'source': './data/commandment_10.pdf', 'page': 8}, page_content='bituka.    6. 가려움증  Q: 임신 중인데 전신 가려움증으로 잠을 설치기 일쑤입니다. 증상을 완화  시킬만한 치료약이 있나요?  A: 네, 우선적으로 피부가 건조해지지 않도록 해야 합니다.  그리고 국소적으로 보습크림이나 항소양증 로션 사용이 도움이 됩니다.  6. Pruritus (Matinding Pangangati)  T: Ako ay nagdadalantao at nahihirapang matulog sa gabi dahil sa pruritus o  matinding pangangati ng aking buong katawan. Mayroon bang maaring gamot para  dito na maaring inumin ng isang nagdadalantao?  S: Oo, pinakamahusay na solusyon ang pagpapanatili ng moisture ng balat. Ang paglalagay  ng mga moisturizing cream at losyon na naglalaman ng antipruritic agent na maaring  makatulong.    - 증상  가려움증은 임신 중에 가장 흔한 피부증상입니다. 임신에 기인한 경미한'),\n",
       " Document(metadata={'source': './data/commandment_10.pdf', 'page': 9}, page_content='10    가려움증은 자주 있으며, 주로 복부 주위에서 일어나서 허벅지, 엉덩이, 유방,  그리고 팔로 확장됩니다. 하지만, 소양증으로 정밀 검사가 필요한 경우는 약 1 - 2% 입니다.  - Mga sintomas  Ang pruritus ay ang pinakamadalas na nabubuong sintomas sa balat sa panahon ng  pagbubuntis. Ang mga nagdadalantao ay madalas nakakaranas ng banayad na pangangati  sa katawan sa panahon ng pagbubuntis at ang bahaging apektado ay maaring kumalat mula  sa tiyan hanggang sa hita, balakang, dibdib at mga braso.  1% hanggang 2% ng mga babaeng nagdadalantao ang kailangang magpatingin dahil sa  pruritus.    - 일반용법  피부가 건조하지 않도록 실내 환경을 가습합니다. 그리고 정전기를 피하고  피부를 자극 하는 천을 가진 이불을 피해야 합니다. 또한 음식물로는 카페인,  알코올, 매운 것 그리고 뜨거운 물을 피해야 합니다.  - Natural na Panggagamot  Ang mga babaeng nagdadalantao ay kailangang manatali sa mga lugar na mahalumigmig  upang maiwasan ang panunuyo ng balat. Umiwas sa mga elektrostatiko at huwag gumamit  ng mga kasuotang pantulog na maaring magdulot ng iritasyon sa balat. Huwag uminom ng  kape o alkohol at kumain ng mga pagkaing maanghang. Iwasan din ang'),\n",
       " Document(metadata={'source': './data/commandment_10.pdf', 'page': 9}, page_content='Umiwas sa mga elektrostatiko at huwag gumamit  ng mga kasuotang pantulog na maaring magdulot ng iritasyon sa balat. Huwag uminom ng  kape o alkohol at kumain ng mga pagkaing maanghang. Iwasan din ang pagbabad sa mainit  na tubig.      7. 요통과 골반통  Q: 임신 중기 이후 요통과 골반통이 있어서 걷기도 힘든데 통증을 완화할 수 있는  약이 있나요?  A: 네, 아세트아미노펜과 같은 소염진통제를 일시적으로 사용하는 것은  가능합니다. 만약, 더욱 심해진다면 정형외과에서 보조기 착용이 필요할 수  있습니다.  7. Pananakit sa likod at balakang  T:Hindi ako nakakapaglakad ng maayos dahil sa pananakit sa aking likod at balakang  sa kalagitnaang yugto ng aking pagbubuntis. Mayroon bang gamot para dito?'),\n",
       " Document(metadata={'source': './data/commandment_10.pdf', 'page': 10}, page_content='11    S: Oo. Ang inyong sintomas ay maaring pansamantalang mawawala sa pamamagitan ng  pag-inom ng  antiphlogistic at analgesic,  tulad ng  acetaminophen.  Iminumungkahi ang  pagpapatingin sa isang ortopediko kapag lumubha ang sintomas.    - 증상  임신부의 80% 는 요통 및 골반통을 경험하며 일부 임신부는 임신의 시작과 함께  이러한 통증을 경험합니다. 일반적으로 임신 중에 나타나는 요통 및 골반통은  호르몬의 증가로 골반 인대가 약해지고 출산을 위해 관절이 풀어지며, 자궁과  아기가 커지면서 무게중심이 앞으로 쏠리면서 생깁니다.  - Mga sintomas     80% ng mga babaeng nagbubuntis ang nakakaranas ng pananakit sa likod at balakang  at ang ilan ay nakakaranas ng pananakit sa simula ng pagbubuntis. Ang pananakit sa likod  at balakang sa  panahon ng pagbubuntis ay madalas nagdudulot ng panghihina ng mga  ligamento ng balakang at ang pagluwag ng kasu -kasuan na nagdudulot ng pagbabago sa  homone sa katawan bilang paghahanda sa panganganak, gayun din ang pagbabago ng  sentro ng grabida pasulong dahil sa paglaki ng utero at ng sanggol.    - 일반요법  충분한 휴식을 취하고, 높은 굽 신발을 피하여 바른 자세를 유지하여야 합니다.  등을 대고 바로 자지 않도록 하고 가급적 왼쪽'),\n",
       " Document(metadata={'source': './data/commandment_10.pdf', 'page': 10}, page_content='sa panganganak, gayun din ang pagbabago ng  sentro ng grabida pasulong dahil sa paglaki ng utero at ng sanggol.    - 일반요법  충분한 휴식을 취하고, 높은 굽 신발을 피하여 바른 자세를 유지하여야 합니다.  등을 대고 바로 자지 않도록 하고 가급적 왼쪽 옆으로 눕도록 합니다. 발을  올린다거나 복대를 하는 것도 좋은 방법입니다.  - Natural na Medikasyon  Ang babaeng nagbubuntis ay kailangang magpahinga at panatilihin ang wastong postura sa  pag-iwas ng pagsusuot ng mga sapatos na may mataas na taking. Huwag matulog ng  nakahilata at matulog sa kaliwa ng patagilid kung maari. Ipatong ang paa ng pataas at  magsuot ng pansuporta sa baywang.    8. 빈뇨증  Q: 임신 초기부터 소변이 자주 마려운 빈뇨증으로 잠에서 자주 깹니다. 빈뇨증을  완화시킬 방법은 없나요?  A: 네, 빈뇨증은 대부분 임신의 정상적인 과정입니다.'),\n",
       " Document(metadata={'source': './data/commandment_10.pdf', 'page': 11}, page_content='12    그러나 만약 방광염이 동반될 때는 암피실린과 세파드록실과 같은 항생제를  사용하여 치료가 가능합니다.  8. Sychnuria   T: Sa simulang bahagi ng aking pagbubuntis. Madalas akong nagigising dahil sa  sychnuria. Mayroon bang gamot na nakalaan para sa mga nagbubuntis?  S: Ang sychnuria ay normal na sintomas para sa mga babaeng nagbubuntis.  Kung ang  babaeng nagbubuntis ay mayroong impeksyon sa pantog at sychnuria, kailangang uminom  ng antiobiotic tulad ng ampilin at cefadroxil.    - 증상  임신 중에는 신장이 커지고 요관도 확장됩니다. 그리고 임신 시에 증가되는  프로게스테론은 방광의 이완과 요관의 확장을 초래합니다. 또한, 임신이  진행됨에 따라 자궁의 방광에 대한 압박이 증가하여 빈뇨증을 유발합니다. 한편,  당뇨병이나 방광염이 이러한 증상의 원인이 되기도 합니다.  - Mga sintomas  Lumalaki ang mga kidney at lumalapad ang  ureter sa panahon ng pagbubuntis. Ang mas  mataas na antas ng progesterone sa panahon ng pagbubuntis ay maaring magdulot ng  pagluwag ng pantog at ang paglapad ng ureter. Sa huling bahagi ng pagbubuntis, ang  lumalaking uterus ay maaring magdulot ng mas matinding presyon sa pantog na magdudulot  ng sychnuria. Ang pagkakaroon ng'),\n",
       " Document(metadata={'source': './data/commandment_10.pdf', 'page': 11}, page_content='ng pantog at ang paglapad ng ureter. Sa huling bahagi ng pagbubuntis, ang  lumalaking uterus ay maaring magdulot ng mas matinding presyon sa pantog na magdudulot  ng sychnuria. Ang pagkakaroon ng diabetes o impeksyon sa pantog ay maaring magdulot ng  mga itong sintomas.    - 일반요법  요로계의 감염을 예방하기 위해 청결상태를 유지하고 박테리아에 의한 감염이  되지 않도록 손을 잘 씻어야 합니다. 배뇨나 배변 시 휴지를 앞에서 뒤로  사용하고, 액체 비누를 사용하여 회음부 및 요도구를 깨끗하게 유지하도록  합니다.  - Natural na Medikasyon  Ang mga babaeng nagbubuntis ay kailangang panatilihin ang kalinisan upang maiwasan ang  urinary tract infection at madalas na paghugas ng mga kamay upang maiwasan ang  anumang impeksyon dulot ng virus. Punasan an g mga ito ng paper towel matapos umihi at  tumae, panatilihin malinis ang inyong perineyum at urethral meatus sa paggamit ng wastong'),\n",
       " Document(metadata={'source': './data/commandment_10.pdf', 'page': 12}, page_content='13    sabon para dito.'),\n",
       " Document(metadata={'source': './data/docs.pdf', 'page': 0}, page_content='열린마루 2013 November + December 2322 건강한 정보* 의약백서 DO & DON’T | 임신 중 의약품 사용  깔끔하게 정리해드립니다~ 고민되는 임신 중 의약품 사용!  임신 중 산모가 의약품에 노출될 경우 태아에게 영향을 미치는 시기와 정도가 의약품에 따라 다르기 때문에  정확한 정보를 알고 대비하는 것이 중요하다. 이때 태아에 안전한 약물을 선택하고, 임신기간 중 질환관리 에 적극적으로 힘쓰면 산모와 아이의 건강을 모두 챙길 수 있다. 임신부들을 위한 올바른 의약품 사용법을  소개한다.   정리 편집실 아이를 가진 임신부의 기쁨 뒤에 찾아오는 가장  큰 걱정은 뱃속의 태아가 정상인지 아닌지에 대 한 불안한 마음일 것이다. 복용 중인 약물이 있 거나 임신 사실을 모른 채 약물을 복용한 임신 부의 경우, 기형아 출산을 걱정해 임신중절이 라는 돌이킬 수 없는 선택을 하기도 한다. 약물  복용으로 인한 기형아 발생률은 현저히 낮은 것 으로 알려져 있지만 대다수의 임신부들이 임신  중 약물 복용을 꺼리고 있다. 때문에 약효가 안 전하거나 위험성이 극히 적은 약물임에도 불구 하고 제때 약을 복용하지 않아 임신부의 증상을  완화시켜 주지 못하고, 오히려 태아에게 해로 운 영향을 끼치는 경우도 종종 있다.  시기별 조심할 약물 따로 있다    기기형유발 약물은 영구적으로 태아의 형태나  기능의 변형을 일으키는 약물이다. 이들 약물 은 특정시기에 특징적인 기형을 유발하기 때문 에 시기별로 복용 안전성 여부를 알아두는 것이  현명하다. 임신 4주 이전까지의 ‘착상 전기’에 는 기형유발 약물에 노출될 경우, 유산이 될 가 능성이 있기 때문에 어느 때보다 주의가 필요하 다. 태아의 기관이 형성되는 시기인 임신 4주 부터 10주까지는 약물 노출에 매우 민감한 시 기로 가급적 약물 사용을 최소화해야 한다.  임신 10주부터 출산 직전까지는 태아의 외부  생식기가 형성되고 발달하는 시기로 성호르몬 에 영향을 줄 수 있는 약물 노출에 더욱 유의해 야 한다. 엄마가'),\n",
       " Document(metadata={'source': './data/docs.pdf', 'page': 0}, page_content='유산이 될 가 능성이 있기 때문에 어느 때보다 주의가 필요하 다. 태아의 기관이 형성되는 시기인 임신 4주 부터 10주까지는 약물 노출에 매우 민감한 시 기로 가급적 약물 사용을 최소화해야 한다.  임신 10주부터 출산 직전까지는 태아의 외부  생식기가 형성되고 발달하는 시기로 성호르몬 에 영향을 줄 수 있는 약물 노출에 더욱 유의해 야 한다. 엄마가 아프면 아이도 아파요 질병의 정도와 태아기형 발생 위험도를 고려해  전문의와 상담하면 임신 중에도 약물 사용이 가 능하다. 산모가 감기에 걸린 경우, 38도 이상 의 고열은 임신 초기 태아의 신경계 손상을 줄  수 있어 빠른 약물치료가 필요하다. ‘아세트아 미노펜’은 통상 용량 범위 내라면 임신 기간 중  안전하게 사용 가능한 해열제다.  당뇨로 인한 고혈당은 태아의 선천성 이상을 일 으키는 원인 중 하나로 알려져 있다. 임신 전부 터 당뇨를 앓고 있었거나 임신 후 임신성 당뇨 를 진단받은 경우에는 인슐린 주사제를 사용해  혈당을 조절하는 것이 바람직하다.  한편 의약품 사용 후 부작용이 생기면 즉시 의 사, 약사와 상담해야한다. 약물의 성분, 용량,  복용한 시기, 복용 기간, 방사능 노출 정도를 정 확하게 파악하고 필요한 경우, 기형아 검사를 한 다면 걱정 없이 건강한 아기를 낳을 수 있다. 무 엇보다 임신부의 불안과 초조, 걱정이 태아에게  해로운 영향을 미칠 수 있는 만큼 산모가 편안하 고 안정된 자세를 갖도록 노력하는 일이 무엇보 다 중요하다.  의약품 부작용 신고는 한국의약품안전관리원 1644-6223 또는  www.drugsafe.or.kr로 신고하면 된다.'),\n",
       " Document(metadata={'source': './data/docs.pdf', 'page': 1}, page_content='25 열린마루 2013 November + December 24 스테로이드 연고 사용은 무조건  NO?  |  가려움증은 임신 중에 나타나 는 흔한 피부 증상이다. 피부가 건조해지지 않도 록 로션으로 보습 관리를 하거나 가습기를 틀어놓 는 것이 좋다. 다만 증상이 심한 경우, 경구용 스 테로이드를 복용하기도 하는데 스테로이드 성분을  전신적 혹은 장기적으로 사용하면 태아에 나쁜 영 향을 미칠 수 있으니 주의해야 한다.   임신 초기, 생백신 접종은 꼭! 피하 세요  |  임신 중 적응 증상에 따라 접종 을 고려할 수 있는 것은 B형간염, Td, 수막구균,  광견병, 폴리오, 일본뇌염, 황열 등이 있다. 한편  생백신(MMR, 수두, 대상포진, 인플루엔자 생백 신) 접종은 하지 않는다. 가임기 여성이 생백신 접 종을 했다면 접종 후 4주간은 임신을 피하는 것이  좋다.  임신 중 변비 증상에는?  |  임신 중  분비되는 프로게스테론이라는 호르몬은  대장 내벽의 근육을 이완시켜 변비 증상을 일으키 는 경우가 많다. 이때 락툴로즈나 차전자피, 비사 코딜 등 약물을 복용하면 장의 연동운동을 촉진시 켜 배변을 도와준다. 또 수분과 지방을 잘 혼합하 여 변덩어리를 부드럽게 하는 도큐세이트소디움과  같은 완화성 하제도 복용이 가능하다.  01 02 03 임신 중 약물 복용 Do   임신 중 약물 복용 Don’t   주의해야할 임부금기 약물   복합 감기약은 위험해요  |  복합감 기약은 약제의 반응을 평가하기 어려우므 로 사용을 피하는 것이 좋다. 이외 기침 시에는 아 세틸시스테인, 브롬헥신 등의 약물을 복용 가능 하며, 두통 시에는 아세트아미노펜, 항생제를 사 용할 때는 페니실린 계열, 세팔로스포린 계열, 마 크로라이드 계열, 메트로니다졸 등의 약물이 복용  가능하다. 이들 약물의 경우에는 의사, 약사 등 전 문가와  상담후 사용하는 것이 바람직하다.  약효군 약물성분 여드름 치료제 (비타민A계 약물) 이소트레티노인 다발성골수종  치료제 탈리도마이드 레날리도마이드'),\n",
       " Document(metadata={'source': './data/docs.pdf', 'page': 1}, page_content='하며, 두통 시에는 아세트아미노펜, 항생제를 사 용할 때는 페니실린 계열, 세팔로스포린 계열, 마 크로라이드 계열, 메트로니다졸 등의 약물이 복용  가능하다. 이들 약물의 경우에는 의사, 약사 등 전 문가와  상담후 사용하는 것이 바람직하다.  약효군 약물성분 여드름 치료제 (비타민A계 약물) 이소트레티노인 다발성골수종  치료제 탈리도마이드 레날리도마이드 안드로겐성  호르몬제 다나졸 위십이지장궤양  치료제 미소프로스톨 항용고제 와파린 지질저하제 (HMC-CoA 환원 효소 저해제) 아스토바스타틴 심바스타틴 단백동화  스테로이드제 옥시메틀론 ※ 외부 기고 및 인터뷰 내용은 식품의약품안전처의 공식입장과는 다를 수 있습니다. 01 02 section 02 열린마루 2013  11 + 12 열린 식약처'),\n",
       " Document(metadata={'source': './data/docs.pdf', 'page': 0}, page_content='열린마루 2013 November + December 2322 건강한 정보* 의약백서 DO & DON’T | 임신 중 의약품 사용  깔끔하게 정리해드립니다~ 고민되는 임신 중 의약품 사용!  임신 중 산모가 의약품에 노출될 경우 태아에게 영향을 미치는 시기와 정도가 의약품에 따라 다르기 때문에  정확한 정보를 알고 대비하는 것이 중요하다. 이때 태아에 안전한 약물을 선택하고, 임신기간 중 질환관리 에 적극적으로 힘쓰면 산모와 아이의 건강을 모두 챙길 수 있다. 임신부들을 위한 올바른 의약품 사용법을  소개한다.   정리 편집실 아이를 가진 임신부의 기쁨 뒤에 찾아오는 가장  큰 걱정은 뱃속의 태아가 정상인지 아닌지에 대 한 불안한 마음일 것이다. 복용 중인 약물이 있 거나 임신 사실을 모른 채 약물을 복용한 임신 부의 경우, 기형아 출산을 걱정해 임신중절이 라는 돌이킬 수 없는 선택을 하기도 한다. 약물  복용으로 인한 기형아 발생률은 현저히 낮은 것 으로 알려져 있지만 대다수의 임신부들이 임신  중 약물 복용을 꺼리고 있다. 때문에 약효가 안 전하거나 위험성이 극히 적은 약물임에도 불구 하고 제때 약을 복용하지 않아 임신부의 증상을  완화시켜 주지 못하고, 오히려 태아에게 해로 운 영향을 끼치는 경우도 종종 있다.  시기별 조심할 약물 따로 있다    기기형유발 약물은 영구적으로 태아의 형태나  기능의 변형을 일으키는 약물이다. 이들 약물 은 특정시기에 특징적인 기형을 유발하기 때문 에 시기별로 복용 안전성 여부를 알아두는 것이  현명하다. 임신 4주 이전까지의 ‘착상 전기’에 는 기형유발 약물에 노출될 경우, 유산이 될 가 능성이 있기 때문에 어느 때보다 주의가 필요하 다. 태아의 기관이 형성되는 시기인 임신 4주 부터 10주까지는 약물 노출에 매우 민감한 시 기로 가급적 약물 사용을 최소화해야 한다.  임신 10주부터 출산 직전까지는 태아의 외부  생식기가 형성되고 발달하는 시기로 성호르몬 에 영향을 줄 수 있는 약물 노출에 더욱 유의해 야 한다. 엄마가'),\n",
       " Document(metadata={'source': './data/docs.pdf', 'page': 0}, page_content='유산이 될 가 능성이 있기 때문에 어느 때보다 주의가 필요하 다. 태아의 기관이 형성되는 시기인 임신 4주 부터 10주까지는 약물 노출에 매우 민감한 시 기로 가급적 약물 사용을 최소화해야 한다.  임신 10주부터 출산 직전까지는 태아의 외부  생식기가 형성되고 발달하는 시기로 성호르몬 에 영향을 줄 수 있는 약물 노출에 더욱 유의해 야 한다. 엄마가 아프면 아이도 아파요 질병의 정도와 태아기형 발생 위험도를 고려해  전문의와 상담하면 임신 중에도 약물 사용이 가 능하다. 산모가 감기에 걸린 경우, 38도 이상 의 고열은 임신 초기 태아의 신경계 손상을 줄  수 있어 빠른 약물치료가 필요하다. ‘아세트아 미노펜’은 통상 용량 범위 내라면 임신 기간 중  안전하게 사용 가능한 해열제다.  당뇨로 인한 고혈당은 태아의 선천성 이상을 일 으키는 원인 중 하나로 알려져 있다. 임신 전부 터 당뇨를 앓고 있었거나 임신 후 임신성 당뇨 를 진단받은 경우에는 인슐린 주사제를 사용해  혈당을 조절하는 것이 바람직하다.  한편 의약품 사용 후 부작용이 생기면 즉시 의 사, 약사와 상담해야한다. 약물의 성분, 용량,  복용한 시기, 복용 기간, 방사능 노출 정도를 정 확하게 파악하고 필요한 경우, 기형아 검사를 한 다면 걱정 없이 건강한 아기를 낳을 수 있다. 무 엇보다 임신부의 불안과 초조, 걱정이 태아에게  해로운 영향을 미칠 수 있는 만큼 산모가 편안하 고 안정된 자세를 갖도록 노력하는 일이 무엇보 다 중요하다.  의약품 부작용 신고는 한국의약품안전관리원 1644-6223 또는  www.drugsafe.or.kr로 신고하면 된다.'),\n",
       " Document(metadata={'source': './data/docs.pdf', 'page': 1}, page_content='25 열린마루 2013 November + December 24 스테로이드 연고 사용은 무조건  NO?  |  가려움증은 임신 중에 나타나 는 흔한 피부 증상이다. 피부가 건조해지지 않도 록 로션으로 보습 관리를 하거나 가습기를 틀어놓 는 것이 좋다. 다만 증상이 심한 경우, 경구용 스 테로이드를 복용하기도 하는데 스테로이드 성분을  전신적 혹은 장기적으로 사용하면 태아에 나쁜 영 향을 미칠 수 있으니 주의해야 한다.   임신 초기, 생백신 접종은 꼭! 피하 세요  |  임신 중 적응 증상에 따라 접종 을 고려할 수 있는 것은 B형간염, Td, 수막구균,  광견병, 폴리오, 일본뇌염, 황열 등이 있다. 한편  생백신(MMR, 수두, 대상포진, 인플루엔자 생백 신) 접종은 하지 않는다. 가임기 여성이 생백신 접 종을 했다면 접종 후 4주간은 임신을 피하는 것이  좋다.  임신 중 변비 증상에는?  |  임신 중  분비되는 프로게스테론이라는 호르몬은  대장 내벽의 근육을 이완시켜 변비 증상을 일으키 는 경우가 많다. 이때 락툴로즈나 차전자피, 비사 코딜 등 약물을 복용하면 장의 연동운동을 촉진시 켜 배변을 도와준다. 또 수분과 지방을 잘 혼합하 여 변덩어리를 부드럽게 하는 도큐세이트소디움과  같은 완화성 하제도 복용이 가능하다.  01 02 03 임신 중 약물 복용 Do   임신 중 약물 복용 Don’t   주의해야할 임부금기 약물   복합 감기약은 위험해요  |  복합감 기약은 약제의 반응을 평가하기 어려우므 로 사용을 피하는 것이 좋다. 이외 기침 시에는 아 세틸시스테인, 브롬헥신 등의 약물을 복용 가능 하며, 두통 시에는 아세트아미노펜, 항생제를 사 용할 때는 페니실린 계열, 세팔로스포린 계열, 마 크로라이드 계열, 메트로니다졸 등의 약물이 복용  가능하다. 이들 약물의 경우에는 의사, 약사 등 전 문가와  상담후 사용하는 것이 바람직하다.  약효군 약물성분 여드름 치료제 (비타민A계 약물) 이소트레티노인 다발성골수종  치료제 탈리도마이드 레날리도마이드'),\n",
       " Document(metadata={'source': './data/docs.pdf', 'page': 1}, page_content='하며, 두통 시에는 아세트아미노펜, 항생제를 사 용할 때는 페니실린 계열, 세팔로스포린 계열, 마 크로라이드 계열, 메트로니다졸 등의 약물이 복용  가능하다. 이들 약물의 경우에는 의사, 약사 등 전 문가와  상담후 사용하는 것이 바람직하다.  약효군 약물성분 여드름 치료제 (비타민A계 약물) 이소트레티노인 다발성골수종  치료제 탈리도마이드 레날리도마이드 안드로겐성  호르몬제 다나졸 위십이지장궤양  치료제 미소프로스톨 항용고제 와파린 지질저하제 (HMC-CoA 환원 효소 저해제) 아스토바스타틴 심바스타틴 단백동화  스테로이드제 옥시메틀론 ※ 외부 기고 및 인터뷰 내용은 식품의약품안전처의 공식입장과는 다를 수 있습니다. 01 02 section 02 열린마루 2013  11 + 12 열린 식약처'),\n",
       " Document(metadata={'source': './data/korean_mothersafe.pdf', 'page': 0}, page_content='한국마더세이프전문상담센터 보건복지부가족건강과'),\n",
       " Document(metadata={'source': './data/korean_mothersafe.pdf', 'page': 2}, page_content='임산부의 약물 상담 지침 임신부의 약물노출은 당사자뿐만 아니라 가족모두에게 기형에 대한 우려로 심하게 불안감을 일으 키고 심한 경우 노출된 대부분의 약물이 기형과 상관없음에도 임신중절을 선택하게 한다. 그리고 수유부의 경우 약물에 노출되는 경우 일시적으로 약물에 대한 우려로 수유를 중단하지만 결과적으 로는 영원히 수유를 못하게 한다. 따라서, 이들 임산부에게 의료인들의 적절한 정보 제공은 절실하 다. 선천성기형은 무엇인가? 선천성기형은 태아의 구조나 기능에 영구적인 손상이 오는 경우로, 구조적 기형은 대기형과 소기형으로 분류될 수 있다. 대기형은 기관의 기능 변화 및 사회 적응에 영향을 미치는 기형을 뜻하며, 소기형은 의학적 및 미용적인 문제를 일으키지 않는 기형을 의미한다. 선천성 기형아 발생률은 얼마나 될까? 일반적으로 출생 시 동반되는 구조적 결함은 약 1-3% 정도이며, 5세 경에는 6%에서 기형이 발견되며, 18세 경에는 기능적 혹은 발달 장애를 포함하는 경우 약 14-16%로 증가한다. 임신부의 약물노출은 얼마나 될까? 계획 임신률이 50%를 넘지 못하고 있어서 임신 중 임신부의 약물 노출 빈도는 13회 이상을 보고한 경우도 있다. 그러나 시중에 시판되는 약물 대부분은 임신 중 안전성에 관한 정보가 부족하며, 국내에서 유통되는 약물의 50%정도는 FDA에 의해서 분류조차 되어 있지 않은 실정이다. 따라서 이러한 약제에 노출된 임신부는 불안해 할 수 밖에 없으며, 이 들에게 정보를 제공해야 하는 진료실의 의료인들도 적절한 정보를 제공할 수 없어서 당혹할 수 밖에 없다. 임신시기에 따라 약물이 미치는 영향은 어떻게 다른가? 흔히 “All or None period”라고 말하는 착상전시기는 수정 후 대략 3주 이전으로 이 시기에는 배아가 분화되기 전이므로 손상이 있다해도 치명적이지 않다면 회복이 가능한 시기이다. 하지만, 기관형성기로 알려져 있는 수정 후 3~8주에는 조직의 분화가 빠른 시기여서 기형유발물질에 가장 취약하다. 이 시기의 기형유발물질은'),\n",
       " Document(metadata={'source': './data/korean_mothersafe.pdf', 'page': 2}, page_content='영향은 어떻게 다른가? 흔히 “All or None period”라고 말하는 착상전시기는 수정 후 대략 3주 이전으로 이 시기에는 배아가 분화되기 전이므로 손상이 있다해도 치명적이지 않다면 회복이 가능한 시기이다. 하지만, 기관형성기로 알려져 있는 수정 후 3~8주에는 조직의 분화가 빠른 시기여서 기형유발물질에 가장 취약하다. 이 시기의 기형유발물질은 영구적인 기형을 유발 할 수 있다. 태아기는 수정 후 8주이후 부터 출생 때까지이며, 이 시기의 기형유발물질은 구조적인 기형유발보다는 성장 및 기능에 영향을 미쳐 정신지체나 행동장애를 일으킬 수 있다. 1 임신부'),\n",
       " Document(metadata={'source': './data/korean_mothersafe.pdf', 'page': 3}, page_content='임산부의 약물 상담 지침 기형유발물질(teratogen)이란? 기형유발물질은 기관의 형태나 기능에 영구적인 변화를 일으키는 물질로 정의하며, 기관의 정상적인 기능에 영향을 미치는 것을 하데젠(hadegen), 성장에 영향을 미치는 것은 트로포 젠(trophogen)이라 세분하나, 일반적으로는 이들을 통합하여 테라토젠(teratogen), 즉 기형 유발물질이라 한다. 알코올(Alcohol) 메치마졸(Methimazole) 안지오텐신전환효소억제제(Angiotensin-converting  enzyme   inhibitors) 메틸수은(Methyl mercury) 안지오텐신수용체차단제(Angiotensin-receptor blockers) 메토트렉세이트(Methotrexate) 아미노프테린(Aminopterin) 미소프로스톨(Misoprostol) 안드로겐(Androgens) 마이코페놀레이트(Mycophenolate) 벡사로텐(Bexarotene) 파록세틴(Paroxetine) 보센탄(Bosentan) 페니실라민(Penicillamine) 카르바마제핀(Carbamazepine) 페노바비탈(Phenobarbital ) 클로람페니콜(Chloramphenicol) 페니토인(Phenytoin) 클로르바이페닐(Chlorbiphenyls) 방사성 아이오딘(Radioactive iodine) 코카인(Cocaine) 리바비린(Rivavirin) 코르티코스테로이드(Corticosteroids) 스트렙토마이신(Streptomycin) 시클로포스파미드(Cyclophosphamide) 타목시펜(Tamoxifen) 다나졸(Danazol) 테트라사이클린(Tetracycline) 디에틸스틸베스테롤(Diethylstilbesterol(DES)) 탈리도마이드(Thalidomide) 에파비렌즈(Efavirenz) 담배(Tobaco) 에트레티네이트(Etretinate) 톨루엔(Toluene) 이소트레티노인(Isotretinoin) 트레티노인(Tretinoin) 레프루노미드(Leflunomide)'),\n",
       " Document(metadata={'source': './data/korean_mothersafe.pdf', 'page': 3}, page_content='테트라사이클린(Tetracycline) 디에틸스틸베스테롤(Diethylstilbesterol(DES)) 탈리도마이드(Thalidomide) 에파비렌즈(Efavirenz) 담배(Tobaco) 에트레티네이트(Etretinate) 톨루엔(Toluene) 이소트레티노인(Isotretinoin) 트레티노인(Tretinoin) 레프루노미드(Leflunomide) 발프로산(Valproic acid) 리튬(Lithium) 와파린(Warfarin) 표 1  기형유발물질로 의심되거나 확인된 물질들 위에 언급된 대부분의 약물은 혈압약, 항암제, 항전간제, 혈전치료제 및 여드름 치료제 등으로 일부 질환에 국한되어 사용되는 약물이다. 하지만, 대부분의 약물은 임신 중에 노출되었을 때 기형발생의 기본위험률의 범위를 넘지 않는다. (그림 1). 특히 임신 제 1 삼분기를 지나서는 항암제를 사용하는 경우라도 태아기형발생 기본위험률을 벗어나지 않는다. 실제로 약물에 의한 기형발생률은 전체 원인 중 1% 정도에 불과한 것으로 알려져 있다. 2'),\n",
       " Document(metadata={'source': './data/korean_mothersafe.pdf', 'page': 4}, page_content='임산부의 약물 상담 지침 그림 1. 임신중 약물의 위험성. 약물들의 대부분은 대기형발생위험률이 기본위험률(1-3%)을 넘지 않는다. 단지 몇 가지 약물만이 20~30%의 위험률을 가짐. FDA 분류를 임신인지 모르고 약물에 노출된 임신부에게 약물의 안전성 및 위험성 평가를 위해 적용하는 것은 옳은가? 옳지 않다. 미국 FDA 분류는 1979년에 임신부의 치료지침을 제공하기 위해 개발되었지만, 이상적이지 않은 것으로 평가되고 있다. 대부분의 약물의 분류가 동물실험자료, 증례발표, 그리고 사람에 대한 자료가 제한되어 있거나 거의 없는 상태에 근거하고 있다. 그리고 최근 약물의 안전성과 위험성에 관한 증거가 있음에도 잘 반영되지 않고 있다. 또한, 같은 군에 속해 있는 경우 유사한 위험을 갖는 것으로 인식하게 한다거나, D군이나 X군 그리고 심지어 C군에 포함되는 약물들도 유사한 위험을 가질 수 있어서 의료인들이 약물을 해석하는데 혼 란을 가져올 수 있다. 따라서, FDA는 이러한 분류방식을 폐기하고 약물 각각 임신중 수유중 안전성 및 위험성에 대하여 서술적 형태로 기술할 예정으로 알려져 있다. 3 0 5 10 15 20 25 30 기본위험률 1% - 3% 발프로산 4% - 12% 대부분 약물; 기본위험률 범위이내 탈리도마이드; 이소트레티노인; 항암제+엽산길항제 20% - 30% 선천성 기형발생률%'),\n",
       " Document(metadata={'source': './data/korean_mothersafe.pdf', 'page': 5}, page_content='임산부의 약물 상담 지침 그림 2. Paroxetine의 생식발생독성에 관한 정보 (Reprotox) 4 의료인은 임신부들을 위해 약물의 안전성에 관한 적절한 정보를 어디에서 얻을 수 있는가? 산과 교과서라 할 수 있는 William’s Obstetrics에서도 가장 정확하고 최근의 자료를 제공하는 온라인 데이터베이스인 TERIS 및 Reprotox(www.thomsonhc.com)의 자료를 이용하여 상담할 것을 권고하고 있다. 위의 두 데이터베이스는 약물 및 물질에 관하여 서술적인 방법으로 기술하고 있으며 새로운 정보에 대한 업데이트로 빠르게 이루어 지고 있다. 그러나 이 데이터 베이스는 유료로 정보를 제공하고 있으므로 개개인이 접속하기에는 어려움이 있을 수 있다. 그러나 유료 회원이 되는 경우에는 소액의 추가로 스마트폰에서도 정보를 확인할 수 있는 장점이 있다. 그림 2.는 Reprotox의 paroxetine에 관한 정보이다. 먼저 Quick take라는 부분이 있어서 약물에 관한 전반적인 정보를 제공하며, 이후 동물 실험, 인간에서의 자료, 모유수유에 관한 정보 및 남편의 노출에 관한 정보를 제공한다. 모든 약제에 대한 정보가 다 있는 것은 아니나, 전문가에게 비교적 자세하고 정확한 정보를 제공하는 데이터베이스라 할 수 있다.'),\n",
       " Document(metadata={'source': './data/korean_mothersafe.pdf', 'page': 6}, page_content='임산부의 약물 상담 지침 이외에 무료로 정보를 얻을 수 있는 대표적인 곳으로 OTIS(Organization of Teratology Information Specialists)의 홈페이지(www .otispregnancy.org)가 있다 . 이 홈페이지의 factsheet라는 곳을 접속하면 약물 및 위험물질에 관한 정보를 한 약물당 두 페이지로 구성된 자료를 접할 수 있다. 이 곳의 자료는 Q & A 형태로 구성되어 있으므로 비교적 쉽게 접근할 수 있다(그림 3). 그림 3. Paroxetine에 관한 factsheet (OTIS) 이외에도 캐나다 마더리스크 홈페이지 (http://www.motherisk.org) 및 한국마더세이프 전문상담센터 홈페이지(http://mothersafe.or.kr)(그림 4)에서도 약물 및 위험물질의 임신 중 노출에 대한 자료를 무료로 접할 수 있다. 또한 책자를 통하여서도 정보를 얻을 수 있는데, 제일병원 한정열 교수팀이 출간한 모태독성학 (2009)에는 식품의약품안전청과 공동 연구했던 국내 다빈도 약물 100여가지의 임신중 노출에 따른 임신결과가 수록되어 있으며, 또한, 캐나다 마더리스크 프로그램의 Koren교수의 Materna-Fetal Toxicology(2001) 등을 통하여서도 임신 중 위험물질에 노출된 임신부에게 제공할 수 있는 자료를 얻을 수 있다. 5'),\n",
       " Document(metadata={'source': './data/korean_mothersafe.pdf', 'page': 7}, page_content='임산부의 약물 상담 지침 그림 4. 마더세이프전문상담센터 홈페이지 마더세이프전문상담센터에서 구체적으로 상담이 어떻게 이루어지나요? 그림 5. 마더세이프전문상담센터에서 임신부의 약물상담과정 6'),\n",
       " Document(metadata={'source': './data/korean_mothersafe.pdf', 'page': 8}, page_content='임산부의 약물 상담 지침 임신을 계획하고 있는데요, 경련성질환이 있어서 데파킨, 페니토인, 테그레톨 같은 항전간제를 복용하고 있습니다. 건강한 아이를 출산할 수 있을까요? 데파킨이나 페니토인은 대표적 항전간제로 임신중 복용시 척추이분증 같은 신경관 결손증, 심장기형, 언청이 등을 일으킬 뿐만 아니라 지능저하를 일으키기도 합니다. 그리고 이러한 기형발생 위험률은 복용하는 약물의 종류가 많은 수록 발생 빈도가 높습니다. 특히 데파킨의 성분인 발프로익산(valproic acid)은 다른항전간제와 함께 사용시 기형 발생위험률이 10%정도까지 증가되는 반면 이 약을 한가지만 사용하는 경우는 기형발생위험률이 1-2%정도만 추가되는 것으로 알려져 있습니다. 따라서, 가능한 단일제제로 항전간제를 복용하는 것이 항전간제 복용으로 인한 기형발생위험률을 줄일 수 있습니다. 그리고 발프로익산의 경우 아기의 지능저하와 관련될 수 있습니다. 하지만 테그레톨(카바마제핀)은 기형발생위험률의 추가가 1-2%뿐이고 태아의 지능에 미치는 영향도 적은 것으로 많은 연구들이 밝히고 있습니다. 따라서, 가능하다면 테그레톨 같이 태아에 미치는 영향이 적은 약물의 단일 제제를 복용하는 것이 바람직합니다. 7 류마티스관절염, 베쳇질환 등으로 수년 동안 면역억제제 등을 복용하고 있는 가임 여성의 경우에도 임신해도 괜찮나요? 여성들의 면역질환은 남성보다 50배 많은 것으로 알려져 있다. 따라서, 당연히 임신을 계획 하고 있는 가임 여성들이 류마티스관절염이나 베쳇질환 등으로 많이 고생하고 있다. 이들 여성들은 면역질환의 치료 및 관리를 위해서 소염진통제, 코르티코스테로이드, 다양한 면역 억제제 그리고 메토트렉세이트 같은 항암제를 사용한다.   그리고 대부분의 항전간제는 엽산을 길항하여 체내 엽산을 고갈시킴으로써 기형을 발생하는 것으로 알려져 있습니다. 따라서, 항전간제를 복용하는 여성들은 반드시 임신 3개월 전부터는 엽산제 4mg이상을 복용하여 신경관결손증 등의 기형발생 위험을 낮출 수 있도록 하여야 합니다'),\n",
       " Document(metadata={'source': './data/korean_mothersafe.pdf', 'page': 8}, page_content='다양한 면역 억제제 그리고 메토트렉세이트 같은 항암제를 사용한다.   그리고 대부분의 항전간제는 엽산을 길항하여 체내 엽산을 고갈시킴으로써 기형을 발생하는 것으로 알려져 있습니다. 따라서, 항전간제를 복용하는 여성들은 반드시 임신 3개월 전부터는 엽산제 4mg이상을 복용하여 신경관결손증 등의 기형발생 위험을 낮출 수 있도록 하여야 합니다 . 그리고 , 과거에는 항전간제로 인한 태아 뇌 출혈예방을 위해서 임신말기에 임신부에게 비타민 K 를 복용하도록 처방했지만, 최근 연구들에 의하면 항전간제를 복용하는 임신부라도 만삭 임신의 경우는 비타민 K를 복용하지 않는다 하더라도 뇌출혈을 증가시키지 않는 것으로 밝혀져 있다. 계획임신부'),\n",
       " Document(metadata={'source': './data/korean_mothersafe.pdf', 'page': 9}, page_content='임산부의 약물 상담 지침 8 감기, 근육통 등으로 약물복용 시 모유수유 중단해야 하나요? 모유는 영양적, 면역학적 그리고 정서적으로 아기에게 가장 적합한 영양소이다. 따라서, 비록 여러 가지 질병으로 치료를 위해 약물을 복용해야 하는 경우도 모유수유를 중단하는 것은 신중하게 결정해야 한다. 알려진 바로는 아기에게 전달되는 약물의 양은 엄마가 복용하는 양의 1-2% 뿐으로 임상적으로 아기에게 미치는 영향이 거의 없어서 감기, 근육통에 처방하는 약물을 포함해 대부분의 약물들은 모유수유에 적합한 것으로 알려져 있다. 현재까지 알려진 바로는 메토트렉세이트는 주요기형유발물질로 임신 초기에 사용시 5% 정도에서 무뇌아, 두개골형성장애, 두개결합증 등을 유발할 수 있다. 이 약의 경우 얼마나 중단 후 임신 할 수 있는지에 대하여 일치된 의견이 있지는 않지만 체내에서 이 약물이 제거되는 시간을 고려하면 3개월 정도 지난 후에는 임신이 가능해 보인다. 그리고 나머지 소염진통제, 코르티코스테로이드, 그리고 면역억제제의 경우는 태아기형발생과 관련하여 1- 3% 정도의 위험만을 추가할 수 있는 기형발생 위험이 상대적으로 높지 않은 약물들이다. 그리고 이 면역질환자체는 임신중 1/3정도만이 임신전보다 악화되고 2/3는 호전되거나 변화가 없다. 따라서, 임신중, 임신전에 사용하는 약물들의 사용여부는 임신 시 질병상태에 따라 달라질 수 있다. 그리고 약물이 아기에게 미치는 영향은 임신시기에 따라 달라진다. 따라서, 이 질환이 만성질환이고 당장에 임신부에게 큰 위협이 되지 않는 다면 임신시기에 따라 약물의 종류를 조절할 수 있을 것 같다. 따라서, 이런 질환이 있다고 해서 무조건 임신을 금지할 필요는 없는 것 같다. 이런 질환으로 약물을 복용하고 있지만 임신을 원하는 여성이라면 약물과 질환에 대한 위험을 충분히 평가 받은 후에 임신에 따른 위험을 받아 들 일 수 있다면 임신을 시도해 볼만하다. 왜냐하면, 이미 이와 같은 면역질환을 가지고도 많은 여성들이 성공적으로 건강한 아이를 출산했다는'),\n",
       " Document(metadata={'source': './data/korean_mothersafe.pdf', 'page': 9}, page_content='따라서, 이런 질환이 있다고 해서 무조건 임신을 금지할 필요는 없는 것 같다. 이런 질환으로 약물을 복용하고 있지만 임신을 원하는 여성이라면 약물과 질환에 대한 위험을 충분히 평가 받은 후에 임신에 따른 위험을 받아 들 일 수 있다면 임신을 시도해 볼만하다. 왜냐하면, 이미 이와 같은 면역질환을 가지고도 많은 여성들이 성공적으로 건강한 아이를 출산했다는 보고가 많이 있기 때문이다. 따라서, 약물을 복용한다고 해서 모유수유를 중단하게 하는 것 보다는 처방된 약물의 모유수유에 적합성을 따져 보는 것이 좋다. 단적으로 모유수유에 적합하지 않은 것으로 알려진 약물은 항암제가 대표적이다. 이는 항암제가 아기에게 나타낼 수 있는 2차성 발암성 때문에 금기시하고 있을 뿐이다 . 하지만, 암 진단이나 치료를 위한 방사성동위 원소들 조차도 일정 반감기가 지나면 모유수유가 가능하다. 모유수유부'),\n",
       " Document(metadata={'source': './data/korean_mothersafe.pdf', 'page': 10}, page_content='임산부의 약물 상담 지침  9 한국마더세이프전문상담센터에서는 어떤 일을 하고 있는가? 한국마더리스크프로그램은 국제적으로 국제기형학회인 OTIS(www.otispregnancy.org)와 함께하고 있으며, 캐나다 마더리스크프로그램의 적극지원을 받고 있다. 또한, 2010년 4월 보건복지부의 사업지원을 받아 마더세이프전문상담센터를 오픈하여 임신중 수유중 약물의 위험성 및 안전성에 관한 정보를 무료로 제공 및 상담하고 있다. 그림 6. 전재희 전보건복지부장관이 참여한 가운데 마더세이프전문상담센터 오픈 (2010.4.22)  모유수유중 약물요법 안내 1. 가능하면 약 없이 증상을 해소하도록 시도해 봅시다.  예) 근육통 : 맛사지 2. 국소적으로 약물을 사용하면 모유로 가는량을 최소화 할 수 있습니다.  3. 주의가 필요한 약물의 경우 부작용이 적은 약이나 아기에게 문제가 없다고 알려진 약물 로 대체 합시다.  4. 반감기가 짧은 약물은 모유로 적게 넘어가서 아기에게 더 안전합니다.  5. 약물을 복용 시는 수유 직후에 복용하거나 긴 잠을 자기 전에 복용하면 아기에게 더욱 안 전합니다. 한국마더세이프전문상담센터'),\n",
       " Document(metadata={'source': './data/korean_mothersafe.pdf', 'page': 11}, page_content='임산부의 약물 상담 지침 10 2010년 4월 본 상담센터가 오픈한 이후 전국적으로 콜센터 상담실적은 총 1,798건이었다. 전화를 통해서 상담했던 여성들의 평균 나이와 범위는 32(17~47)세이었다. 지역별로는 서울 607건(33.8%), 경기ㆍ인천 473건(26.3%), 영남 311건(17.3%), 그리고 호서 116건(6.5%) 순이었다.(그림 7) 상담유형별로는 임신중 상담 1,486건(82.6%), 모유수유중 상담 171건(9.5%) 그리고 계획임신 141건(7.9%) 순이었다.(그림 8) 주 상담 이유로는 약물 1,610건(89.5%), 화학물 54건(3.0%), 방사선 44건(2.4%) 그리고 음주만은 27건(1.5%) 순이었다.(그림 9) 그림 7. 마더세이프전문상담콜센터 : 지역별 상담건수 (2010.4-2010.9) 0 100 200 300 400 500 600 700 서울 경기도 경상도 충청도 전라도 외국 강원도 제주도 기타'),\n",
       " Document(metadata={'source': './data/korean_mothersafe.pdf', 'page': 12}, page_content='임산부의 약물 상담 지침  11 그림 8. 마더세이프전문상담콜센터: 상담종류별 분류 (2010.4-2010.9) 그림 9. 마더세이프전문상담콜센터: 노출종류별 분류 (2010.4-2010.9) 임신부 83% 계획임신부 8% 모유수유부 9% 90% 3% 2% 1% 1% 1% 0% 0% 2% 약물 유해물질 방사선 음주 고열 감염 흡연 유전관련 기타 N=1,798'),\n",
       " Document(metadata={'source': './data/korean_mothersafe.pdf', 'page': 13}, page_content='임산부의 약물 상담 지침 12 [참고문헌 및 웹사이트] 1. Cunningham, Leveno, Bloom, Hauth, Rouse, and Spong, Williams Obstetrics. 23rd Edition, 2010. 2. Gideon Koren, Maternal-Fetal Toxicology. 3rd Edition, 2001. 3. 한정열 등, 모태독성학. 2010. 4. www.thomsonhc.com 5. www.otispregnancy.org 6. www.motherisk.org 7. www.mothersafe.or.kr 그림 10. 고운맘카드 : 한국마더세이프전문상담센터 안내 문구 (2010년 9월 이후 카드부터) 현재 본 상담센터를 임산부들이 보다 효율적으로 활용하여 건강한 임신과 건강한 수유를 할 수 있도록 하기 위해 정부지원의 고운맘카드에 한국마더세이프 전문상담센터의 문구를 넣어 널리 홍보하고 있다. 전면 후면'),\n",
       " Document(metadata={'source': './data/korean_mothersafe.pdf', 'page': 14}, page_content='상담전화 : 1588-7309 상담비용 : 무료 상 담 내 용 : 임신부 및 수유부 그리고 계획임신부를 위한 약물 및 기형유발물질 상담가능시간 : 평일 오전 9시부터 오후 5시'),\n",
       " Document(metadata={'source': './data/korean_mothersafe.pdf', 'page': 15}, page_content='100-380 서울특별시 중구 묵정동 1-19  관동의대 제일병원 모아센터 5층 한국마더세이프상담센터 전화 : 1588-7309  팩스: 02-2000-4376 홈페이지 : http://www.mothersafe.or.kr/ 블로그 : http://blog.mothersafe.or.kr/  메일 : mom@gmail.com')]"
      ]
     },
     "execution_count": 22,
     "metadata": {},
     "output_type": "execute_result"
    }
   ],
   "execution_count": 22
  },
  {
   "metadata": {},
   "cell_type": "markdown",
   "source": "## 임베딩 모델",
   "id": "5baebb9db78ce85b"
  },
  {
   "metadata": {
    "ExecuteTime": {
     "end_time": "2024-12-19T01:26:21.151223Z",
     "start_time": "2024-12-19T01:26:19.328181Z"
    }
   },
   "cell_type": "code",
   "source": [
    "from langchain_openai.embeddings import OpenAIEmbeddings\n",
    "\n",
    "embeddings = OpenAIEmbeddings(\n",
    "    model = 'text-embedding-3-small'\n",
    ")"
   ],
   "id": "63d45f69fcbd8d3b",
   "outputs": [],
   "execution_count": 23
  },
  {
   "metadata": {
    "ExecuteTime": {
     "end_time": "2024-12-19T01:37:07.766743Z",
     "start_time": "2024-12-19T01:37:06.374158Z"
    }
   },
   "cell_type": "code",
   "source": [
    "from langchain_chroma.vectorstores import Chroma\n",
    "\n",
    "vector_store = Chroma.from_documents(docs, embeddings)"
   ],
   "id": "3646ac445255509c",
   "outputs": [],
   "execution_count": 30
  },
  {
   "metadata": {
    "ExecuteTime": {
     "end_time": "2024-12-19T01:39:26.002160Z",
     "start_time": "2024-12-19T01:39:25.539189Z"
    }
   },
   "cell_type": "code",
   "source": [
    "retriever = vector_store.as_retriever(\n",
    "    search_type = 'similarity',\n",
    "    search_kwargs = {'k':3}\n",
    ")\n",
    "\n",
    "query = '임산부에게 해로운 성분은?'\n",
    "\n",
    "retrievals = retriever.batch([query])\n",
    "retrievals"
   ],
   "id": "621d1acc2968b75a",
   "outputs": [
    {
     "data": {
      "text/plain": [
       "[[Document(metadata={'page': 12, 'source': './data/korean_mothersafe.pdf'}, page_content='임산부의 약물 상담 지침  11 그림 8. 마더세이프전문상담콜센터: 상담종류별 분류 (2010.4-2010.9) 그림 9. 마더세이프전문상담콜센터: 노출종류별 분류 (2010.4-2010.9) 임신부 83% 계획임신부 8% 모유수유부 9% 90% 3% 2% 1% 1% 1% 0% 0% 2% 약물 유해물질 방사선 음주 고열 감염 흡연 유전관련 기타 N=1,798'),\n",
       "  Document(metadata={'page': 12, 'source': './data/korean_mothersafe.pdf'}, page_content='임산부의 약물 상담 지침  11 그림 8. 마더세이프전문상담콜센터: 상담종류별 분류 (2010.4-2010.9) 그림 9. 마더세이프전문상담콜센터: 노출종류별 분류 (2010.4-2010.9) 임신부 83% 계획임신부 8% 모유수유부 9% 90% 3% 2% 1% 1% 1% 0% 0% 2% 약물 유해물질 방사선 음주 고열 감염 흡연 유전관련 기타 N=1,798'),\n",
       "  Document(metadata={'page': 4, 'source': './data/korean_mothersafe.pdf'}, page_content='임산부의 약물 상담 지침 그림 1. 임신중 약물의 위험성. 약물들의 대부분은 대기형발생위험률이 기본위험률(1-3%)을 넘지 않는다. 단지 몇 가지 약물만이 20~30%의 위험률을 가짐. FDA 분류를 임신인지 모르고 약물에 노출된 임신부에게 약물의 안전성 및 위험성 평가를 위해 적용하는 것은 옳은가? 옳지 않다. 미국 FDA 분류는 1979년에 임신부의 치료지침을 제공하기 위해 개발되었지만, 이상적이지 않은 것으로 평가되고 있다. 대부분의 약물의 분류가 동물실험자료, 증례발표, 그리고 사람에 대한 자료가 제한되어 있거나 거의 없는 상태에 근거하고 있다. 그리고 최근 약물의 안전성과 위험성에 관한 증거가 있음에도 잘 반영되지 않고 있다. 또한, 같은 군에 속해 있는 경우 유사한 위험을 갖는 것으로 인식하게 한다거나, D군이나 X군 그리고 심지어 C군에 포함되는 약물들도 유사한 위험을 가질 수 있어서 의료인들이 약물을 해석하는데 혼 란을 가져올 수 있다. 따라서, FDA는 이러한 분류방식을 폐기하고 약물 각각 임신중 수유중 안전성 및 위험성에 대하여 서술적 형태로 기술할 예정으로 알려져 있다. 3 0 5 10 15 20 25 30 기본위험률 1% - 3% 발프로산 4% - 12% 대부분 약물; 기본위험률 범위이내 탈리도마이드; 이소트레티노인; 항암제+엽산길항제 20% - 30% 선천성 기형발생률%')]]"
      ]
     },
     "execution_count": 35,
     "metadata": {},
     "output_type": "execute_result"
    }
   ],
   "execution_count": 35
  },
  {
   "metadata": {},
   "cell_type": "markdown",
   "source": "# Prompt 생성",
   "id": "b52096e43d6f427a"
  },
  {
   "metadata": {
    "ExecuteTime": {
     "end_time": "2024-12-19T01:53:08.857353Z",
     "start_time": "2024-12-19T01:53:08.852388Z"
    }
   },
   "cell_type": "code",
   "source": [
    "from langchain_core.prompts import ChatPromptTemplate\n",
    "\n",
    "prompt = ChatPromptTemplate([\n",
    "    ('system', '''\n",
    "너는 산모(임산부)와 태아의 건강과 안전을 최우선으로 고려하는 의료 전문가다.\n",
    "예시1:\n",
    "산모에게 의약품을 설명할 때 다음 사항을 반드시 포함하라\n",
    "1. 약물의 이름과 주요 성분\n",
    "2. 약물이 사용되는 주요 목적과 효과\n",
    "3. 임산부에게 약물이 권장되거나 제한되는 이유\n",
    "4. 가능한 부작용 및 태아에 미칠 수 있는 영향\n",
    "5. 약물을 사용하는 동안 주의해야 할 사항\n",
    "6. 약물 사용을 대체할 수 있는 안전한 대안\n",
    "\n",
    "정보를 제공할 때는 산모가 이해하기 쉽게 쉬운 용어를 사용하고, 불필요한 걱정을 피하면서도 반드시 중요한 위험 요소는 명확히 전달하라.\n",
    "예시 응답: [약물 이름], 이 약물은 [효능 설명]을 위해 사용되며, 임산부에게는 [권장/주의/금지]됩니다. 이유는 [상세 설명]입니다. 만약 사용해야 한다면, 반드시 [의료진과 상의/정확한 복용 지침]을 따라야 합니다. 부작용으로는 [부작용 예시]가 있을 수 있습니다.\n",
    "\n",
    "예시2:\n",
    "너는 임산부를 대상으로 하는 약물 상담 전문가로, 특정 의약품에 대해 다음 질문에 답변해야 한다\n",
    "1. 약물은 무엇이고 어떤 용도로 사용되는가?\n",
    "2. 임신 중 이 약물의 사용이 권장되는가? (안전성 등급 포함)\n",
    "3. 임신 중 이 약물 복용 시 주의해야 할 사항은 무엇인가?\n",
    "4. 약물 복용 시 태아에게 미칠 수 있는 위험은 무엇인가?\n",
    "5. 이 약물 대신 임산부가 사용할 수 있는 대체 방법은 무엇인가?\n",
    "\n",
    "예시 출력:\n",
    "파라세타몰(아세트아미노펜)은 일반적으로 통증 완화와 발열을 낮추기 위해 사용되는 약물입니다.\n",
    "임신 중에는 비교적 안전하다고 간주되며, 필요한 경우 짧은 기간 동안 사용이 가능합니다.\n",
    "그러나 권장 복용량을 초과하지 않도록 주의해야 하며, 사용 전에 반드시 의사와 상의하세요.\n",
    "부작용으로는 간에 부담을 줄 수 있으며, 드물게 태아에 영향을 미칠 가능성도 보고된 바 있습니다.\n",
    "통증 관리의 대안으로는 충분한 휴식, 온찜질, 또는 가벼운 운동이 추천될 수 있습니다.\n",
    "더 자세한 정보는 담당 의사와 상의하시기 바랍니다\n",
    "    '''),\n",
    "    ('user', '''사용자의 질문에 context만을 이용해 답변해주세요.\n",
    "    \n",
    "    question = {query}\n",
    "    \n",
    "    context = {context}\n",
    "    ''')\n",
    "    \n",
    "])"
   ],
   "id": "b6011f297cee9744",
   "outputs": [],
   "execution_count": 37
  },
  {
   "metadata": {
    "ExecuteTime": {
     "end_time": "2024-12-19T01:53:17.874892Z",
     "start_time": "2024-12-19T01:53:17.867768Z"
    }
   },
   "cell_type": "code",
   "source": "prompt.invoke({'query' : query, 'context':retriever})\n",
   "id": "22c9c05391380f48",
   "outputs": [
    {
     "data": {
      "text/plain": [
       "ChatPromptValue(messages=[SystemMessage(content='\\n너는 산모(임산부)와 태아의 건강과 안전을 최우선으로 고려하는 의료 전문가다.\\n예시1:\\n산모에게 의약품을 설명할 때 다음 사항을 반드시 포함하라\\n1. 약물의 이름과 주요 성분\\n2. 약물이 사용되는 주요 목적과 효과\\n3. 임산부에게 약물이 권장되거나 제한되는 이유\\n4. 가능한 부작용 및 태아에 미칠 수 있는 영향\\n5. 약물을 사용하는 동안 주의해야 할 사항\\n6. 약물 사용을 대체할 수 있는 안전한 대안\\n\\n정보를 제공할 때는 산모가 이해하기 쉽게 쉬운 용어를 사용하고, 불필요한 걱정을 피하면서도 반드시 중요한 위험 요소는 명확히 전달하라.\\n예시 응답: [약물 이름], 이 약물은 [효능 설명]을 위해 사용되며, 임산부에게는 [권장/주의/금지]됩니다. 이유는 [상세 설명]입니다. 만약 사용해야 한다면, 반드시 [의료진과 상의/정확한 복용 지침]을 따라야 합니다. 부작용으로는 [부작용 예시]가 있을 수 있습니다.\\n\\n예시2:\\n너는 임산부를 대상으로 하는 약물 상담 전문가로, 특정 의약품에 대해 다음 질문에 답변해야 한다\\n1. 약물은 무엇이고 어떤 용도로 사용되는가?\\n2. 임신 중 이 약물의 사용이 권장되는가? (안전성 등급 포함)\\n3. 임신 중 이 약물 복용 시 주의해야 할 사항은 무엇인가?\\n4. 약물 복용 시 태아에게 미칠 수 있는 위험은 무엇인가?\\n5. 이 약물 대신 임산부가 사용할 수 있는 대체 방법은 무엇인가?\\n\\n예시 출력:\\n파라세타몰(아세트아미노펜)은 일반적으로 통증 완화와 발열을 낮추기 위해 사용되는 약물입니다.\\n임신 중에는 비교적 안전하다고 간주되며, 필요한 경우 짧은 기간 동안 사용이 가능합니다.\\n그러나 권장 복용량을 초과하지 않도록 주의해야 하며, 사용 전에 반드시 의사와 상의하세요.\\n부작용으로는 간에 부담을 줄 수 있으며, 드물게 태아에 영향을 미칠 가능성도 보고된 바 있습니다.\\n통증 관리의 대안으로는 충분한 휴식, 온찜질, 또는 가벼운 운동이 추천될 수 있습니다.\\n더 자세한 정보는 담당 의사와 상의하시기 바랍니다\\n    ', additional_kwargs={}, response_metadata={}), HumanMessage(content=\"사용자의 질문에 context만을 이용해 답변해주세요.\\n    \\n    question = 임산부에게 해로운 성분은?\\n    \\n    context = tags=['Chroma', 'OpenAIEmbeddings'] vectorstore=<langchain_chroma.vectorstores.Chroma object at 0x000001A77B4C46B0> search_kwargs={'k': 3}\\n    \", additional_kwargs={}, response_metadata={})])"
      ]
     },
     "execution_count": 38,
     "metadata": {},
     "output_type": "execute_result"
    }
   ],
   "execution_count": 38
  },
  {
   "metadata": {},
   "cell_type": "markdown",
   "source": "## 모델 생성",
   "id": "ba304be4102f3e3d"
  },
  {
   "metadata": {
    "ExecuteTime": {
     "end_time": "2024-12-19T01:54:34.129691Z",
     "start_time": "2024-12-19T01:54:33.199991Z"
    }
   },
   "cell_type": "code",
   "source": [
    "from langchain_openai import ChatOpenAI\n",
    "\n",
    "model = ChatOpenAI(\n",
    "    model = 'gpt-4o',\n",
    "    temperature=0.5\n",
    ")"
   ],
   "id": "98dba262b049340a",
   "outputs": [],
   "execution_count": 39
  },
  {
   "metadata": {},
   "cell_type": "markdown",
   "source": "## chain 생성",
   "id": "fcc840bb9337df21"
  },
  {
   "metadata": {
    "ExecuteTime": {
     "end_time": "2024-12-19T02:03:33.985361Z",
     "start_time": "2024-12-19T02:03:30.683633Z"
    }
   },
   "cell_type": "code",
   "source": [
    "from langchain_core.output_parsers import StrOutputParser\n",
    "from langchain_core.runnables import RunnablePassthrough\n",
    "\n",
    "chain = {'query' : RunnablePassthrough(), 'context':retriever} | prompt | model | StrOutputParser()\n",
    "\n",
    "chain.invoke('임신 계획 중에 복용하면 안되는 약에 대해 설명해줘')"
   ],
   "id": "8d8a73954ba4ad04",
   "outputs": [
    {
     "data": {
      "text/plain": [
       "'임신 계획 중에 복용하면 안 되는 약물로는 메토트렉세이트가 있으며, 이는 주요 기형 유발 물질로 임신 초기에 사용 시 무뇌아, 두개골형성장애 등을 유발할 수 있습니다. 따라서 임신을 계획하고 있는 경우 이 약물의 사용을 피해야 합니다. 만약 이미 복용 중이라면, 약물이 체내에서 제거되는 시간을 고려하여 약 3개월 후에 임신을 시도하는 것이 좋습니다. 이 외에도 소염진통제, 코르티코스테로이드, 면역억제제는 상대적으로 낮은 위험을 가지고 있으나, 임신 시 사용 여부는 질병 상태에 따라 달라질 수 있습니다. 임신을 계획 중이라면 반드시 전문가와 상의하여 안전한 약물 사용 계획을 세우는 것이 중요합니다.'"
      ]
     },
     "execution_count": 45,
     "metadata": {},
     "output_type": "execute_result"
    }
   ],
   "execution_count": 45
  }
 ],
 "metadata": {
  "kernelspec": {
   "display_name": "Python 3",
   "language": "python",
   "name": "python3"
  },
  "language_info": {
   "codemirror_mode": {
    "name": "ipython",
    "version": 2
   },
   "file_extension": ".py",
   "mimetype": "text/x-python",
   "name": "python",
   "nbconvert_exporter": "python",
   "pygments_lexer": "ipython2",
   "version": "2.7.6"
  }
 },
 "nbformat": 4,
 "nbformat_minor": 5
}
