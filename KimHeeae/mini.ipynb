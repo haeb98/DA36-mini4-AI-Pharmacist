{
 "cells": [
  {
   "metadata": {
    "collapsed": true,
    "ExecuteTime": {
     "end_time": "2024-12-18T06:43:55.687554Z",
     "start_time": "2024-12-18T06:43:54.854854Z"
    }
   },
   "cell_type": "code",
   "outputs": [
    {
     "data": {
      "text/plain": [
       "True"
      ]
     },
     "execution_count": 3,
     "metadata": {},
     "output_type": "execute_result"
    }
   ],
   "execution_count": 3,
   "source": [
    "from dotenv import load_dotenv\n",
    "from langchain.chains.question_answering.map_rerank_prompt import output_parser\n",
    "from langchain_core.prompts import ChatPromptTemplate\n",
    "from langchain_core.runnables import RunnableLambda\n",
    "from langchain_pinecone import PineconeVectorStore\n",
    "\n",
    "load_dotenv()"
   ],
   "id": "df698809f5328d0e"
  },
  {
   "metadata": {},
   "cell_type": "markdown",
   "source": "",
   "id": "94e43e95eeeff0df"
  },
  {
   "metadata": {},
   "cell_type": "markdown",
   "source": "## 파일로드",
   "id": "5374fce9262b3180"
  },
  {
   "metadata": {
    "ExecuteTime": {
     "end_time": "2024-12-18T06:43:58.952584Z",
     "start_time": "2024-12-18T06:43:58.948399Z"
    }
   },
   "cell_type": "code",
   "outputs": [],
   "execution_count": 5,
   "source": [
    "from langchain_community.document_loaders import CSVLoader\n",
    "\n",
    "dur_con_med = CSVLoader('./DUR_con_med.csv')\n",
    "dur_age = CSVLoader('./DUR_age.csv')\n",
    "dur_old = CSVLoader('./DUR_older.csv')\n",
    "dur_pregnant = CSVLoader('./DUR_pregnant.csv')"
   ],
   "id": "bbddd7c0d82bf128"
  },
  {
   "metadata": {
    "ExecuteTime": {
     "end_time": "2024-12-18T06:44:23.059044Z",
     "start_time": "2024-12-18T06:44:02.717485Z"
    }
   },
   "cell_type": "code",
   "outputs": [],
   "execution_count": 6,
   "source": [
    "con_med_docs = dur_con_med.load()\n",
    "age_docs = dur_age.load()\n",
    "old_docs = dur_old.load()\n",
    "pregnant_docs = dur_pregnant.load()"
   ],
   "id": "49c7e2448153c68d"
  },
  {
   "metadata": {
    "ExecuteTime": {
     "end_time": "2024-12-18T06:45:10.935781Z",
     "start_time": "2024-12-18T06:45:10.890708Z"
    }
   },
   "cell_type": "code",
   "outputs": [],
   "execution_count": 12,
   "source": [
    "import random\n",
    "con_med_docs = random.sample(con_med_docs, 100)\n",
    "age_docs = random.sample(age_docs, 100)\n",
    "old_docs = random.sample(old_docs, 100)\n",
    "pregnant_docs = random.sample(pregnant_docs, 100)"
   ],
   "id": "91db3ba182d1d205"
  },
  {
   "metadata": {
    "ExecuteTime": {
     "end_time": "2024-12-18T06:45:40.675240Z",
     "start_time": "2024-12-18T06:45:40.671668Z"
    }
   },
   "cell_type": "code",
   "outputs": [],
   "execution_count": 14,
   "source": "documents = con_med_docs + age_docs + old_docs + pregnant_docs",
   "id": "5ab554b43bf0e722"
  },
  {
   "metadata": {
    "ExecuteTime": {
     "end_time": "2024-12-18T06:45:42.301025Z",
     "start_time": "2024-12-18T06:45:42.296652Z"
    }
   },
   "cell_type": "code",
   "outputs": [
    {
     "name": "stdout",
     "output_type": "stream",
     "text": [
      "<class 'list'>\n",
      "400\n"
     ]
    }
   ],
   "execution_count": 15,
   "source": [
    "print(type(documents))\n",
    "print(len(documents))"
   ],
   "id": "2e8c5f936426e959"
  },
  {
   "metadata": {},
   "cell_type": "markdown",
   "source": "## 임베딩 모델 생성",
   "id": "1eaf14228445b87"
  },
  {
   "metadata": {
    "ExecuteTime": {
     "end_time": "2024-12-18T06:45:49.579601Z",
     "start_time": "2024-12-18T06:45:48.030298Z"
    }
   },
   "cell_type": "code",
   "outputs": [],
   "execution_count": 16,
   "source": [
    "from langchain_openai.embeddings import OpenAIEmbeddings\n",
    "\n",
    "embeddings = OpenAIEmbeddings(model='text-embedding-3-small')"
   ],
   "id": "27f153237909d3be"
  },
  {
   "metadata": {
    "ExecuteTime": {
     "end_time": "2024-12-18T06:45:50.386778Z",
     "start_time": "2024-12-18T06:45:50.382830Z"
    }
   },
   "cell_type": "code",
   "outputs": [],
   "execution_count": 17,
   "source": [
    "import os\n",
    "from langchain_pinecone import PineconeVectorStore\n",
    "\n",
    "PINECONE_INDEX_NAME = os.getenv('PINECONE_INDEX_NAME')\n",
    "PINECONE_NAMESPACE = os.getenv('PINECONE_NAMESPACE')\n",
    "PINECONE_API_KEY = os.getenv('PINECONE_API_KEY')"
   ],
   "id": "584ce19d265cf07e"
  },
  {
   "metadata": {
    "ExecuteTime": {
     "end_time": "2024-12-18T06:16:11.331728Z",
     "start_time": "2024-12-18T06:16:11.326594Z"
    }
   },
   "cell_type": "code",
   "outputs": [
    {
     "name": "stdout",
     "output_type": "stream",
     "text": [
      "ai-medicine-rag\n",
      "ai-medicine-rag-ns\n",
      "pcsk_4XyuMX_5f47dcAxtKB3mkLzQbc4EfucgVHPSkZ7pikmbjCRbviWzyUBGstWunj4XTVTmaj\n"
     ]
    }
   ],
   "execution_count": 29,
   "source": [
    "print(PINECONE_INDEX_NAME)\n",
    "print(PINECONE_NAMESPACE)\n",
    "print(PINECONE_API_KEY)"
   ],
   "id": "7cc1c7d52ab47297"
  },
  {
   "metadata": {},
   "cell_type": "markdown",
   "source": "## 의약품 설명(Prompt)",
   "id": "d9797f72f79c9ea2"
  },
  {
   "metadata": {
    "ExecuteTime": {
     "end_time": "2024-12-18T09:08:34.725938Z",
     "start_time": "2024-12-18T09:08:34.720051Z"
    }
   },
   "cell_type": "code",
   "outputs": [],
   "execution_count": 133,
   "source": [
    "from langchain_core.prompts import ChatPromptTemplate, HumanMessagePromptTemplate\n",
    "from langchain_openai import ChatOpenAI\n",
    "from langchain_core.output_parsers import StrOutputParser\n",
    "\n",
    "def medicine_info(query):\n",
    "    prompt = ChatPromptTemplate.from_messages([\n",
    "        ('system', '''당신은 전문 약사입니다. 사용자가 약물 성분에 대해 질문하면, 아래의 기준에 따라 친절하고 신뢰성 있는 답변을 제공합니다. 질문에 따라 적절한 세부 정보를 포함하되, 지나치게 복잡한 전문 용어는 쉽게 풀어서 설명합니다. 필요한 경우 사용자에게 추가로 주의 사항을 알려줍니다.\n",
    "\n",
    "    1. 성분명 및 기본 정보:\n",
    "    - 해당 성분의 이름(화학명 및 일반명)을 정확히 설명하세요.\n",
    "    - 이 성분이 포함된 대표적인 약물을 예로 들어 설명합니다.\n",
    "\n",
    "    2. 효능/효과:\n",
    "    - 이 성분이 치료 또는 완화에 사용되는 질환/증상을 설명합니다.\n",
    "    - 일반적인 용도를 간결하게 안내합니다.\n",
    "\n",
    "    3. 작용 기전:\n",
    "    - 이 성분이 신체에서 어떻게 작용하는지 간단히 설명합니다.\n",
    "    - 너무 복잡한 메커니즘 대신, 쉽게 이해할 수 있는 표현을 사용하세요.\n",
    "\n",
    "    4. 부작용:\n",
    "    - 일반적인 부작용(발생 가능성이 높은 증상)을 명시하세요.\n",
    "    - 드물지만 심각한 부작용도 언급하며, 발생 시 대처 방법을 알려줍니다.\n",
    "\n",
    "    5. 복용 및 주의사항:\n",
    "    - 올바른 복용 방법(용량, 시간 등)을 안내합니다.\n",
    "    - 음식, 다른 약물, 알코올 등과의 상호작용 여부를 명확히 설명합니다.\n",
    "    - 임신, 수유 중 복용 가능 여부를 포함합니다.\n",
    "\n",
    "    6. 상호작용:\n",
    "    - 이 성분이 특정 약물이나 음식과 상호작용할 가능성이 있는 경우를 설명합니다.\n",
    "\n",
    "    7. 금기 사항:\n",
    "    - 이 성분을 복용해서는 안 되는 특정 조건(알레르기, 특정 질환 등)을 명시합니다.\n",
    "\n",
    "    8. 추가 권장 사항:\n",
    "    - 사용자가 혼란스러울 수 있는 부분에 대해 명확히 하고, 필요시 의사나 약사와 상담을 권합니다.\n",
    "\n",
    "\n",
    "    예시 프롬프트\n",
    "    질문: \"이부프로펜 성분에 대해 알려주세요.\"\n",
    "\n",
    "    답변:  \n",
    "    \"안녕하세요, 저는 약사입니다. 이부프로펜에 대해 설명드릴게요.  \n",
    "    1. 성분명: 이부프로펜은 비스테로이드성 소염진통제(NSAID)로, 흔히 사용하는 진통제 및 소염제입니다.  \n",
    "    2. 효능/효과: 주로 통증 완화(두통, 치통, 생리통), 염증 완화, 발열 감소에 사용됩니다.  \n",
    "    3. 작용 기전: 이부프로펜은 체내 염증 매개 물질인 프로스타글란딘의 생성을 억제하여 통증과 염증을 줄입니다.  \n",
    "    4. 부작용 위장 장애(속 쓰림, 위염), 드물게 위궤양, 피부 발진 등이 발생할 수 있습니다.  \n",
    "    5. 복용 및 주의사항 식사 후에 복용하는 것이 좋으며, 공복에 복용하면 위장 장애를 유발할 수 있습니다.  \n",
    "    6. 상호작용: 아스피린, 와파린 같은 항응고제와 함께 복용하면 출혈 위험이 증가할 수 있으니 주의하세요.  \n",
    "    7. 금기 사항: 소화성 궤양이 있거나 NSAID에 과민반응을 보인 적이 있는 분은 복용하지 마세요.  \n",
    "    8. 추가 권장 사항: 복용 중 이상 증상이 나타나면 즉시 의사나 약사와 상담하세요.\"\n",
    "\n",
    "    유의사항\n",
    "        - 약물 성분 정보는 최신 지침을 바탕으로 작성되어야 하며, 신뢰할 수 있는 데이터베이스(예: Micromedex, UpToDate, 약학정보원 등)를 활용해 근거를 제공해야 합니다.\n",
    "        - 사용자의 질문을 명확히 파악하여, 필요 이상으로 과도한 정보는 생략하고 핵심만 전달합니다.\n",
    "\n",
    "        '''),\n",
    "        ('user', '이미지의 약에 대해 설명해줘'),\n",
    "    ])\n",
    "    prompt += HumanMessagePromptTemplate.from_template([query])\n",
    "    model = ChatOpenAI(\n",
    "        model='gpt-4o',\n",
    "        temperature=1\n",
    "    )\n",
    "    \n",
    "    output_parser = StrOutputParser()\n",
    "    \n",
    "    chain = prompt | model | output_parser\n",
    "    return chain"
   ],
   "id": "3231c261aeff2617"
  },
  {
   "metadata": {
    "ExecuteTime": {
     "end_time": "2024-12-18T09:10:21.195506Z",
     "start_time": "2024-12-18T09:10:08.089470Z"
    }
   },
   "cell_type": "code",
   "outputs": [
    {
     "data": {
      "text/plain": [
       "'안녕하세요, 이 약은 아세클로페낙 성분을 포함하고 있습니다. 아세클로페낙에 대해 설명드릴게요.\\n\\n1. 성분명: 아세클로페낙은 비스테로이드성 소염진통제(NSAID)입니다. 염증과 통증을 줄이기 위해 사용됩니다.\\n\\n2. 효능/효과: 주로 류마티스 관절염, 골관절염, 강직성 척추염 등의 염증성 질환에 사용됩니다.\\n\\n3. 작용 기전: 아세클로페낙은 염증을 유발하는 물질인 프로스타글란딘의 생성을 억제하여 통증과 염증을 감소시킵니다.\\n\\n4. 부작용: 위장 장애(속 쓰림, 소화불량), 드물게 간 기능 이상, 피부 발진 등이 발생할 수 있습니다.\\n\\n5. 복용 및 주의사항: 보통 식사 후에 복용하는 것이 좋습니다. 공복에 복용 시 위장 장애를 유발할 수 있습니다.\\n\\n6. 상호작용: 아스피린 등의 다른 NSAID, 와파린 같은 항응고제와 함께 복용 시 주의가 필요합니다. 출혈 위험이 증가할 수 있습니다.\\n\\n7. 금기 사항: 소화성 궤양, 심한 심혈관 질환, 아세클로페낙에 과민반응 이력이 있는 분은 복용하지 않는 것이 좋습니다.\\n\\n8. 추가 권장 사항: 이상 증상이 나타날 경우 즉시 의사나 약사와 상담하시기 바랍니다.\\n\\n기타 궁금한 사항이 있으면 언제든지 질문해주세요.'"
      ]
     },
     "execution_count": 134,
     "metadata": {},
     "output_type": "execute_result"
    }
   ],
   "execution_count": 134,
   "source": [
    "# prompt 확인\n",
    "chain = RunnableLambda(medicine_info)\n",
    "chain.invoke({'image_url': 'https://kdpharma.co.kr/uploaded/shop_good/143/0bdcbaa6376b40dbe9c5e10c0e3b26010.jpg'})"
   ],
   "id": "a2a4597ca5259993"
  },
  {
   "metadata": {},
   "cell_type": "markdown",
   "source": "## VectorDB",
   "id": "fe3e18b0eecc951a"
  },
  {
   "metadata": {
    "ExecuteTime": {
     "end_time": "2024-12-18T09:03:46.407976Z",
     "start_time": "2024-12-18T09:03:46.389302Z"
    }
   },
   "cell_type": "code",
   "outputs": [],
   "execution_count": 132,
   "source": [
    "from langchain_core.runnables import RunnableLambda\n",
    "from langchain_openai.embeddings import OpenAIEmbeddings\n",
    "from langchain_pinecone import PineconeVectorStore\n",
    "import os\n",
    "\n",
    "\n",
    "PINECONE_INDEX_NAME = os.getenv('PINECONE_INDEX_NAME')\n",
    "PINECONE_NAMESPACE = os.getenv('PINECONE_NAMESPACE')\n",
    "PINECONE_API_KEY = os.getenv('PINECONE_API_KEY')\n",
    "\n",
    "def similarity_search_medicine(query):\n",
    "\n",
    "    embeddings = OpenAIEmbeddings(model='text-embedding-3-small')\n",
    "    vector_db = PineconeVectorStore(\n",
    "        embedding=embeddings,\n",
    "        index_name=PINECONE_INDEX_NAME,\n",
    "        namespace=PINECONE_NAMESPACE,   \n",
    "        pinecone_api_key=PINECONE_API_KEY\n",
    ")\n",
    "    \n",
    "    result = vector_db.similarity_search(\n",
    "        query,\n",
    "        k=1,\n",
    "        namespace=PINECONE_NAMESPACE\n",
    "    )\n",
    "    return{\n",
    "        \"medicine_name\": query,\n",
    "        \"medicine_content\" : '\\n'.join([doc.page_content for doc in result])\n",
    "    }\n",
    "\n",
    "    "
   ],
   "id": "33e1d1716a0aab0d"
  },
  {
   "metadata": {
    "ExecuteTime": {
     "end_time": "2024-12-18T08:58:03.623403Z",
     "start_time": "2024-12-18T08:57:53.462377Z"
    }
   },
   "cell_type": "code",
   "outputs": [
    {
     "name": "stdout",
     "output_type": "stream",
     "text": [
      "{'medicine_name': '에이서캡슐', 'medicine_ingredients': '성분명: tegafur+gimeracil+oteracil\\n성분코드: 452400ACH\\n제품코드: 649807210\\n제품명: 테고캡슐20_(1캡슐)\\n업체명: 명문제약(주)\\n고시일자: 2016-12-30\\n고시번호: 20160155\\n금기등급: 2\\n상세정보: 기형아 출산 보고.동물실험에서 태아의 내장이상, 골격이상, 화골지연 등 보고.'}\n"
     ]
    }
   ],
   "execution_count": 129,
   "source": [
    "# vectordb 결과 확인\n",
    "chain = RunnableLambda(similarity_search_medicine)\n",
    "\n",
    "print(chain.invoke('에이서캡슐'))"
   ],
   "id": "c71f9b515f8e21c5"
  },
  {
   "metadata": {},
   "cell_type": "code",
   "outputs": [],
   "execution_count": null,
   "source": [
    "# 이미지 url\n",
    "# https://kdpharma.co.kr/uploaded/shop_good/143/0bdcbaa6376b40dbe9c5e10c0e3b26010.jpg"
   ],
   "id": "ef7f41f9d4abda8c"
  },
  {
   "metadata": {
    "ExecuteTime": {
     "end_time": "2024-12-18T09:11:10.093664Z",
     "start_time": "2024-12-18T09:11:10.089440Z"
    }
   },
   "cell_type": "code",
   "outputs": [],
   "execution_count": 135,
   "source": [
    "from langchain_core.runnables import RunnableLambda\n",
    "\n",
    "chain = RunnableLambda(medicine_info) | RunnableLambda(similarity_search_medicine)"
   ],
   "id": "df7d2baa481fe1af"
  },
  {
   "metadata": {
    "ExecuteTime": {
     "end_time": "2024-12-18T09:11:57.676269Z",
     "start_time": "2024-12-18T09:11:44.663339Z"
    }
   },
   "cell_type": "code",
   "outputs": [
    {
     "name": "stdout",
     "output_type": "stream",
     "text": [
      "{'medicine_name': '안녕하세요, 저는 약사입니다. 이 캡슐에 대해 설명드릴게요.\\n\\n이 약은 \"에이서 캡슐\"로 \"아세클로페낙\" 성분이 포함된 약입니다.\\n\\n1. **성분명**: 아세클로페낙은 비스테로이드성 소염진통제(NSAID)입니다. \\n\\n2. **효능/효과**: 주로 관절염이나 근육 통증과 같은 염증성 질환의 통증 완화에 사용됩니다.\\n\\n3. **작용 기전**: 이 약물은 체내 염증 물질인 프로스타글란딘의 생성을 억제하여 통증과 염증을 줄입니다.\\n\\n4. **부작용**: 위장 장애(속 쓰림, 위염), 드물게 위궤양, 피부 발진 등의 부작용이 발생할 수 있습니다.\\n\\n5. **복용 및 주의사항**: 식사 후에 복용하는 것이 좋습니다. 공복에 복용하면 위장 장애가 생길 수 있습니다.\\n\\n6. **상호작용**: 다른 NSAID나 항응고제와 함께 복용 시 출혈 위험이 증가할 수 있으니 주의해야 합니다.\\n\\n7. **금기 사항**: 아세클로페낙에 과민반응이 있거나 소화성 궤양 환자는 복용하지 않는 것이 좋습니다.\\n\\n8. **추가 권장 사항**: 이상 반응이 나타나면 즉시 의사나 약사와 상담하시기 바랍니다.\\n\\n더 궁금한 점이 있으시면 알려주세요.', 'medicine_content': '성분명: aceclofenac\\n성분코드: 100901ACH\\n제품코드: 648101510\\n제품명: 에이서캡슐(아세클로페낙)_(0.1g/1캡슐)\\n업체명: 경동제약(주)\\n고시일자: 2016-12-30\\n고시번호: 20160155\\n금기등급: 2\\n상세정보: 임부에 대한 안전성 미확립.임신 말기에 투여시 태아의 동맥관조기폐쇄 가능성.동물실험에서 비스테로이드성 소염진통제는 난산발생빈도 증가, 분만지연, 태아 생존율 감소 보고.임신 약 20주 이후 비스테로이드성 소염제의 사용은 태아의 신기능 이상을 일으켜 양수 과소증 유발 가능 및 경우에 따라 신생아 신장애 발생 가능'}\n"
     ]
    }
   ],
   "execution_count": 137,
   "source": [
    "# 최종 결과 확인\n",
    "print(chain.invoke({'image_url': 'https://kdpharma.co.kr/uploaded/shop_good/143/0bdcbaa6376b40dbe9c5e10c0e3b26010.jpg'}))"
   ],
   "id": "966faae3c5fda2b8"
  }
 ],
 "metadata": {
  "kernelspec": {
   "display_name": "Python 3",
   "language": "python",
   "name": "python3"
  },
  "language_info": {
   "codemirror_mode": {
    "name": "ipython",
    "version": 2
   },
   "file_extension": ".py",
   "mimetype": "text/x-python",
   "name": "python",
   "nbconvert_exporter": "python",
   "pygments_lexer": "ipython2",
   "version": "2.7.6"
  }
 },
 "nbformat": 4,
 "nbformat_minor": 5
}
