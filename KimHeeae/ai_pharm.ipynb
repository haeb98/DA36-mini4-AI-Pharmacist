{
 "cells": [
  {
   "metadata": {},
   "cell_type": "code",
   "outputs": [],
   "execution_count": null,
   "source": [
    "from dotenv import load_dotenv\n",
    "load_dotenv()\n"
   ],
   "id": "d8413c1bfd205dfe"
  },
  {
   "metadata": {
    "ExecuteTime": {
     "end_time": "2024-12-20T00:49:14.457867Z",
     "start_time": "2024-12-20T00:49:08.104783Z"
    }
   },
   "cell_type": "code",
   "source": [
    "from langchain_openai import ChatOpenAI\n",
    "\n",
    "llm = ChatOpenAI()\n",
    "llm.invoke(\"Hello, world!\")"
   ],
   "id": "42f76b2bbe37752d",
   "outputs": [
    {
     "data": {
      "text/plain": [
       "AIMessage(content='Hello! How can I assist you today?', additional_kwargs={'refusal': None}, response_metadata={'token_usage': {'completion_tokens': 9, 'prompt_tokens': 11, 'total_tokens': 20, 'completion_tokens_details': {'accepted_prediction_tokens': 0, 'audio_tokens': 0, 'reasoning_tokens': 0, 'rejected_prediction_tokens': 0}, 'prompt_tokens_details': {'audio_tokens': 0, 'cached_tokens': 0}}, 'model_name': 'gpt-3.5-turbo-0125', 'system_fingerprint': None, 'finish_reason': 'stop', 'logprobs': None}, id='run-40f3c1e1-2fc1-4bb1-9b49-3a5adcdffaad-0', usage_metadata={'input_tokens': 11, 'output_tokens': 9, 'total_tokens': 20, 'input_token_details': {'audio': 0, 'cache_read': 0}, 'output_token_details': {'audio': 0, 'reasoning': 0}})"
      ]
     },
     "execution_count": 2,
     "metadata": {},
     "output_type": "execute_result"
    }
   ],
   "execution_count": 2
  },
  {
   "metadata": {
    "ExecuteTime": {
     "end_time": "2024-12-20T00:49:14.562619Z",
     "start_time": "2024-12-20T00:49:14.553492Z"
    }
   },
   "cell_type": "code",
   "source": [
    "import os\n",
    "PINECONE_API_KEY = os.getenv(\"PINECONE_API_KEY\")\n",
    "PINECONE_INDEX_NAME = os.getenv(\"PINECONE_INDEX_NAME\")\n",
    "PINECONE_NAMESPACE = os.getenv(\"PINECONE_NAMESPACE\")\n",
    "PINECONE_INDEX_NAME_2 = os.getenv(\"PINECONE_INDEX_NAME_2\")\n",
    "PINECONE_NAMESPACE_2 = os.getenv(\"PINECONE_NAMESPACE_2\")\n",
    "\n",
    "print(PINECONE_API_KEY, PINECONE_INDEX_NAME, PINECONE_NAMESPACE, PINECONE_INDEX_NAME_2, PINECONE_NAMESPACE_2)"
   ],
   "id": "eb859fa463cc534",
   "outputs": [
    {
     "name": "stdout",
     "output_type": "stream",
     "text": [
      "pcsk_5TkRik_EzGTnXtpN1c26rjgbrhySAUqgAAHhR9QEmje4vwZkMoEKiADwUKrPjkEAQwfsTs dur-pregnancy dur-pregnancy-ns ai-drug-info ai-drug-info-ns\n"
     ]
    }
   ],
   "execution_count": 3
  },
  {
   "metadata": {},
   "cell_type": "markdown",
   "source": "# 1. 임산부 금기 여부 Retrieval",
   "id": "b5bf61178652f0bc"
  },
  {
   "metadata": {
    "ExecuteTime": {
     "end_time": "2024-12-20T00:52:21.794594Z",
     "start_time": "2024-12-20T00:52:21.787259Z"
    }
   },
   "cell_type": "code",
   "source": [
    "from langchain_openai.embeddings import OpenAIEmbeddings\n",
    "from langchain_pinecone import PineconeVectorStore\n",
    "\n",
    "def dur_pregnacy_similarity(query):\n",
    "    embeddings = OpenAIEmbeddings(model=\"text-embedding-3-small\")\n",
    "\n",
    "    dur_vector_db = PineconeVectorStore(\n",
    "        embedding=embeddings,\n",
    "        index_name=PINECONE_INDEX_NAME,\n",
    "        namespace=PINECONE_NAMESPACE,\n",
    "        pinecone_api_key=PINECONE_API_KEY\n",
    "    )\n",
    "    \n",
    "    results = dur_vector_db.similarity_search(    \n",
    "    query=query,\n",
    "    k=5,\n",
    "    namespace=PINECONE_NAMESPACE)\n",
    "    \n",
    "    return {\n",
    "        \"medicine_name\":query,\n",
    "        \"dur_context\": \"\\n\".join([doc.page_content for doc in results])\n",
    "    }\n",
    "    "
   ],
   "id": "ad692c66ea08e4aa",
   "outputs": [],
   "execution_count": 7
  },
  {
   "metadata": {
    "ExecuteTime": {
     "end_time": "2024-12-20T00:58:56.513028Z",
     "start_time": "2024-12-20T00:58:56.507539Z"
    }
   },
   "cell_type": "code",
   "source": [
    "from langchain_core.runnables import RunnableLambda\n",
    "\n",
    "dur_sim = RunnableLambda(dur_pregnacy_similarity)"
   ],
   "id": "b99048601ded9c22",
   "outputs": [],
   "execution_count": 17
  },
  {
   "metadata": {},
   "cell_type": "markdown",
   "source": "# 2. 약 정보 Retrieval",
   "id": "1538b14b788b56e3"
  },
  {
   "metadata": {
    "ExecuteTime": {
     "end_time": "2024-12-20T01:11:09.614353Z",
     "start_time": "2024-12-20T01:11:09.607388Z"
    }
   },
   "cell_type": "code",
   "source": [
    "from langchain_openai.embeddings import OpenAIEmbeddings\n",
    "from langchain_pinecone import PineconeVectorStore\n",
    "\n",
    "def drug_info_similarity(query):\n",
    "    embeddings = OpenAIEmbeddings(model=\"text-embedding-3-small\")\n",
    "\n",
    "    dur_vector_db = PineconeVectorStore(\n",
    "        embedding=embeddings,\n",
    "        index_name=PINECONE_INDEX_NAME_2,\n",
    "        namespace=PINECONE_NAMESPACE_2,\n",
    "        pinecone_api_key=PINECONE_API_KEY\n",
    "    )\n",
    "    \n",
    "    results = dur_vector_db.similarity_search(    \n",
    "    query=query,\n",
    "    k=5,\n",
    "    namespace=PINECONE_NAMESPACE_2)\n",
    "    \n",
    "    return {\n",
    "        \"medicine_context\": \"\\n\".join([doc.page_content for doc in results])\n",
    "    }"
   ],
   "id": "bd7299df3476c191",
   "outputs": [],
   "execution_count": 22
  },
  {
   "metadata": {
    "ExecuteTime": {
     "end_time": "2024-12-20T00:58:53.147394Z",
     "start_time": "2024-12-20T00:58:53.142848Z"
    }
   },
   "cell_type": "code",
   "source": [
    "from langchain_core.runnables import RunnableLambda\n",
    "\n",
    "drug_simi = RunnableLambda(drug_info_similarity)"
   ],
   "id": "a6c487d81d8de133",
   "outputs": [],
   "execution_count": 16
  },
  {
   "metadata": {
    "ExecuteTime": {
     "end_time": "2024-12-20T00:58:59.508417Z",
     "start_time": "2024-12-20T00:58:59.502490Z"
    }
   },
   "cell_type": "code",
   "source": "chain = dur_sim | drug_simi",
   "id": "9df5f55744bfb0dc",
   "outputs": [],
   "execution_count": 18
  },
  {
   "metadata": {
    "ExecuteTime": {
     "end_time": "2024-12-20T01:26:12.101905Z",
     "start_time": "2024-12-20T01:26:12.097492Z"
    }
   },
   "cell_type": "code",
   "source": [
    "from langchain_core.prompts import ChatPromptTemplate\n",
    "\n",
    "def medicine_info(query):\n",
    "    prompt = ChatPromptTemplate.from_messages([\n",
    "            ('system', \"\"\"\n",
    "            Persona: You are a knowledgeable and experienced pharmacist with a passion to help people. \n",
    "            \n",
    "            Role: As a pharmacist, your role is to provide simple and clear explanations about medicines for general people.\n",
    "            \n",
    "            Examples:\n",
    "            Your explanation should cover the following:\n",
    "            \n",
    "            1. A brief explanation of the medicine, its effectiveness, dosage, precautions, side effects, and storage information.\n",
    "            2. If the medicine is safe for pregnant women, including any contraindications, warning levels, and what they mean.\n",
    "            \n",
    "            Use the context provided below to answer the user's query.\n",
    "            \"\"\"),\n",
    "            ('user', \"\"\"\n",
    "            Use the following pieces of retrieved context to answer the question. \n",
    "            If you don't know the answer, just say that you don't know. Use three sentences maximum and keep the answer concise.\n",
    "            \n",
    "            question : {query}            \n",
    "            \"\"\")\n",
    "        ]) \n"
   ],
   "id": "c4e0eb37b4ed64a2",
   "outputs": [],
   "execution_count": 33
  },
  {
   "metadata": {
    "ExecuteTime": {
     "end_time": "2024-12-20T01:24:43.300820Z",
     "start_time": "2024-12-20T01:24:43.275576Z"
    }
   },
   "cell_type": "code",
   "source": [
    "retriever = drug_info_similarity.as_retriever(\n",
    "    search_type='similarity',\n",
    "    search_kwargs = {'k':3}\n",
    ")\n",
    "query = '복'\n",
    "\n",
    "retrievals = retriever.batch([query])"
   ],
   "id": "a6c5e77e0363e2fc",
   "outputs": [
    {
     "ename": "AttributeError",
     "evalue": "'function' object has no attribute 'as_retriever'",
     "output_type": "error",
     "traceback": [
      "\u001B[1;31m---------------------------------------------------------------------------\u001B[0m",
      "\u001B[1;31mAttributeError\u001B[0m                            Traceback (most recent call last)",
      "Cell \u001B[1;32mIn[30], line 1\u001B[0m\n\u001B[1;32m----> 1\u001B[0m retriever \u001B[38;5;241m=\u001B[39m \u001B[43mdrug_info_similarity\u001B[49m\u001B[38;5;241;43m.\u001B[39;49m\u001B[43mas_retriever\u001B[49m(\n\u001B[0;32m      2\u001B[0m     search_type\u001B[38;5;241m=\u001B[39m\u001B[38;5;124m'\u001B[39m\u001B[38;5;124msimilarity\u001B[39m\u001B[38;5;124m'\u001B[39m,\n\u001B[0;32m      3\u001B[0m     search_kwargs \u001B[38;5;241m=\u001B[39m {\u001B[38;5;124m'\u001B[39m\u001B[38;5;124mk\u001B[39m\u001B[38;5;124m'\u001B[39m:\u001B[38;5;241m3\u001B[39m}\n\u001B[0;32m      4\u001B[0m )\n\u001B[0;32m      5\u001B[0m query \u001B[38;5;241m=\u001B[39m \u001B[38;5;124m'\u001B[39m\u001B[38;5;124m복용 시 유의사항\u001B[39m\u001B[38;5;124m'\u001B[39m\n\u001B[0;32m      7\u001B[0m retrievals \u001B[38;5;241m=\u001B[39m retriever\u001B[38;5;241m.\u001B[39mbatch([query])\n",
      "\u001B[1;31mAttributeError\u001B[0m: 'function' object has no attribute 'as_retriever'"
     ]
    }
   ],
   "execution_count": 30
  }
 ],
 "metadata": {
  "kernelspec": {
   "display_name": "Python 3",
   "language": "python",
   "name": "python3"
  },
  "language_info": {
   "codemirror_mode": {
    "name": "ipython",
    "version": 2
   },
   "file_extension": ".py",
   "mimetype": "text/x-python",
   "name": "python",
   "nbconvert_exporter": "python",
   "pygments_lexer": "ipython2",
   "version": "2.7.6"
  }
 },
 "nbformat": 4,
 "nbformat_minor": 5
}
