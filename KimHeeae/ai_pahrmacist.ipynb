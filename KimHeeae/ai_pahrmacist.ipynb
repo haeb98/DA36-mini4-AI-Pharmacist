{
 "cells": [
  {
   "cell_type": "code",
   "id": "initial_id",
   "metadata": {
    "collapsed": true,
    "ExecuteTime": {
     "end_time": "2024-12-20T00:27:46.360063Z",
     "start_time": "2024-12-20T00:27:46.322756Z"
    }
   },
   "source": [
    "from dotenv import load_dotenv\n",
    "load_dotenv()\n",
    "\n",
    "load_dotenv(override=True)"
   ],
   "outputs": [
    {
     "data": {
      "text/plain": [
       "True"
      ]
     },
     "execution_count": 4,
     "metadata": {},
     "output_type": "execute_result"
    }
   ],
   "execution_count": 4
  },
  {
   "metadata": {
    "ExecuteTime": {
     "end_time": "2024-12-20T00:27:49.014980Z",
     "start_time": "2024-12-20T00:27:46.395677Z"
    }
   },
   "cell_type": "code",
   "source": [
    "from langchain_openai import ChatOpenAI\n",
    "\n",
    "llm = ChatOpenAI()\n",
    "llm.invoke(\"Hello, world!\")"
   ],
   "id": "fd1a4e749f2e6ac6",
   "outputs": [
    {
     "data": {
      "text/plain": [
       "AIMessage(content='Hello! How can I assist you today?', additional_kwargs={'refusal': None}, response_metadata={'token_usage': {'completion_tokens': 9, 'prompt_tokens': 11, 'total_tokens': 20, 'completion_tokens_details': {'accepted_prediction_tokens': 0, 'audio_tokens': 0, 'reasoning_tokens': 0, 'rejected_prediction_tokens': 0}, 'prompt_tokens_details': {'audio_tokens': 0, 'cached_tokens': 0}}, 'model_name': 'gpt-3.5-turbo-0125', 'system_fingerprint': None, 'finish_reason': 'stop', 'logprobs': None}, id='run-5b398b5b-ef44-4fa4-88af-0d17657e7309-0', usage_metadata={'input_tokens': 11, 'output_tokens': 9, 'total_tokens': 20, 'input_token_details': {'audio': 0, 'cache_read': 0}, 'output_token_details': {'audio': 0, 'reasoning': 0}})"
      ]
     },
     "execution_count": 5,
     "metadata": {},
     "output_type": "execute_result"
    }
   ],
   "execution_count": 5
  },
  {
   "metadata": {
    "ExecuteTime": {
     "end_time": "2024-12-20T00:27:49.072546Z",
     "start_time": "2024-12-20T00:27:49.066673Z"
    }
   },
   "cell_type": "code",
   "source": [
    "import os\n",
    "PINECONE_API_KEY = os.getenv(\"PINECONE_API_KEY\")\n",
    "PINECONE_INDEX_NAME = os.getenv(\"PINECONE_INDEX_NAME\")\n",
    "PINECONE_NAMESPACE = os.getenv(\"PINECONE_NAMESPACE\")\n",
    "PINECONE_INDEX_NAME_2 = os.getenv(\"PINECONE_INDEX_NAME_2\")\n",
    "PINECONE_NAMESPACE_2 = os.getenv(\"PINECONE_NAMESPACE_2\")\n",
    "\n",
    "print(PINECONE_API_KEY, PINECONE_INDEX_NAME, PINECONE_NAMESPACE, PINECONE_INDEX_NAME_2, PINECONE_NAMESPACE_2)"
   ],
   "id": "8b04e34c36f2fc59",
   "outputs": [
    {
     "name": "stdout",
     "output_type": "stream",
     "text": [
      "pcsk_5TkRik_EzGTnXtpN1c26rjgbrhySAUqgAAHhR9QEmje4vwZkMoEKiADwUKrPjkEAQwfsTs dur-pregnancy dur-pregnancy-ns ai-drug-info ai-drug-info-ns\n"
     ]
    }
   ],
   "execution_count": 6
  },
  {
   "metadata": {},
   "cell_type": "markdown",
   "source": "# 1. 임산부 금기 여부 Retrieval",
   "id": "a728d0e6bdf1182c"
  },
  {
   "metadata": {
    "ExecuteTime": {
     "end_time": "2024-12-20T00:27:50.094787Z",
     "start_time": "2024-12-20T00:27:49.126856Z"
    }
   },
   "cell_type": "code",
   "source": [
    "from langchain_openai.embeddings import OpenAIEmbeddings\n",
    "from langchain_pinecone import PineconeVectorStore\n",
    "\n",
    "def dur_pregnacy_similarity(query):\n",
    "    embeddings = OpenAIEmbeddings(model=\"text-embedding-3-small\")\n",
    "\n",
    "    dur_vector_db = PineconeVectorStore(\n",
    "        embedding=embeddings,\n",
    "        index_name=PINECONE_INDEX_NAME,\n",
    "        namespace=PINECONE_NAMESPACE,\n",
    "        pinecone_api_key=PINECONE_API_KEY\n",
    "    )\n",
    "    \n",
    "    results = dur_vector_db.similarity_search(    \n",
    "    query=query,\n",
    "    k=5,\n",
    "    namespace=PINECONE_NAMESPACE)\n",
    "    \n",
    "    return {\n",
    "        \"medicine_name\":query,\n",
    "        \"dur_context\": \"\\n\".join([doc.page_content for doc in results])\n",
    "    }\n",
    "    "
   ],
   "id": "35dacaaf48d7f1a4",
   "outputs": [],
   "execution_count": 7
  },
  {
   "metadata": {
    "ExecuteTime": {
     "end_time": "2024-12-20T00:27:55.871555Z",
     "start_time": "2024-12-20T00:27:50.117900Z"
    }
   },
   "cell_type": "code",
   "source": "dur_pregnacy_similarity('에이서캡슐(아세클로페낙)')",
   "id": "f19e355e951cdc9e",
   "outputs": [
    {
     "data": {
      "text/plain": [
       "{'medicine_name': '에이서캡슐(아세클로페낙)',\n",
       " 'dur_context': '성분명: aceclofenac\\n제품명: 에이서캡슐(아세클로페낙)_(0.1g/1캡슐)\\n업체명: 경동제약(주)\\n금기등급: 2\\n상세정보: 임부에 대한 안전성 미확립.임신 말기에 투여시 태아의 동맥관조기폐쇄 가능성.동물실험에서 비스테로이드성 소염진통제는 난산발생빈도 증가, 분만지연, 태아 생존율 감소 보고.임신 약 20주 이후 비스테로이드성 소염제의 사용은 태아의 신기능 이상을 일으켜 양수 과소증 유발 가능 및 경우에 따라 신생아 신장애 발생 가능\\n성분명: cilostazol\\n제품명: 시타졸서방캡슐100mg(실로스타졸)_(0.1g/1캡슐)\\n업체명: 동광제약(주)\\n금기등급: 2\\n상세정보: 동물실험에서 이상태자의 증가 및 출생시의 저체중, 사망 증가 보고.\\n성분명: cilostazol\\n제품명: 시타졸서방캡슐200mg(실로스타졸)_(0.2g/1캡슐)\\n업체명: 동광제약(주)\\n금기등급: 2\\n상세정보: 동물실험에서 이상태자의 증가 및 출생시의 저체중, 사망 증가 보고.\\n성분명: ginkgo biloba leaf ext. + ginseng 30% ethanol ext.\\n제품명: 징코산캡슐_(1캡슐)\\n업체명: (주)한국파비스제약\\n금기등급: 2\\n상세정보: (정제, 액제, 캡슐제) 임신 중 투여에 대한 충분한 사용경험 적음 (주사제) -\\n성분명: Diacerein\\n제품명: 아세렌캡슐(디아세레인)_(50mg/1캡슐)\\n업체명: 대화제약(주)\\n금기등급: 2\\n상세정보: 동물실험에서 태자 골형성 지연 보고'}"
      ]
     },
     "execution_count": 8,
     "metadata": {},
     "output_type": "execute_result"
    }
   ],
   "execution_count": 8
  },
  {
   "metadata": {
    "ExecuteTime": {
     "end_time": "2024-12-20T00:27:58.698461Z",
     "start_time": "2024-12-20T00:27:55.941957Z"
    }
   },
   "cell_type": "code",
   "source": [
    "from langchain_core.runnables import RunnableLambda\n",
    "chain = RunnableLambda(dur_pregnacy_similarity)\n",
    "chain.invoke('에이서캡슐(아세클로페낙)')"
   ],
   "id": "a2078162f97e17bd",
   "outputs": [
    {
     "data": {
      "text/plain": [
       "{'medicine_name': '에이서캡슐(아세클로페낙)',\n",
       " 'dur_context': '성분명: aceclofenac\\n제품명: 에이서캡슐(아세클로페낙)_(0.1g/1캡슐)\\n업체명: 경동제약(주)\\n금기등급: 2\\n상세정보: 임부에 대한 안전성 미확립.임신 말기에 투여시 태아의 동맥관조기폐쇄 가능성.동물실험에서 비스테로이드성 소염진통제는 난산발생빈도 증가, 분만지연, 태아 생존율 감소 보고.임신 약 20주 이후 비스테로이드성 소염제의 사용은 태아의 신기능 이상을 일으켜 양수 과소증 유발 가능 및 경우에 따라 신생아 신장애 발생 가능\\n성분명: cilostazol\\n제품명: 시타졸서방캡슐100mg(실로스타졸)_(0.1g/1캡슐)\\n업체명: 동광제약(주)\\n금기등급: 2\\n상세정보: 동물실험에서 이상태자의 증가 및 출생시의 저체중, 사망 증가 보고.\\n성분명: cilostazol\\n제품명: 시타졸서방캡슐200mg(실로스타졸)_(0.2g/1캡슐)\\n업체명: 동광제약(주)\\n금기등급: 2\\n상세정보: 동물실험에서 이상태자의 증가 및 출생시의 저체중, 사망 증가 보고.\\n성분명: ginkgo biloba leaf ext. + ginseng 30% ethanol ext.\\n제품명: 징코산캡슐_(1캡슐)\\n업체명: (주)한국파비스제약\\n금기등급: 2\\n상세정보: (정제, 액제, 캡슐제) 임신 중 투여에 대한 충분한 사용경험 적음 (주사제) -\\n성분명: Diacerein\\n제품명: 아세렌캡슐(디아세레인)_(50mg/1캡슐)\\n업체명: 대화제약(주)\\n금기등급: 2\\n상세정보: 동물실험에서 태자 골형성 지연 보고'}"
      ]
     },
     "execution_count": 9,
     "metadata": {},
     "output_type": "execute_result"
    }
   ],
   "execution_count": 9
  },
  {
   "metadata": {},
   "cell_type": "markdown",
   "source": "# 2. 약 정보 Retrieval",
   "id": "a5fd67a6d4aa7650"
  },
  {
   "metadata": {
    "ExecuteTime": {
     "end_time": "2024-12-20T00:27:58.731085Z",
     "start_time": "2024-12-20T00:27:58.724573Z"
    }
   },
   "cell_type": "code",
   "source": [
    "from langchain_openai.embeddings import OpenAIEmbeddings\n",
    "from langchain_pinecone import PineconeVectorStore\n",
    "\n",
    "def drug_info_similarity(query):\n",
    "    embeddings = OpenAIEmbeddings(model=\"text-embedding-3-small\")\n",
    "\n",
    "    dur_vector_db = PineconeVectorStore(\n",
    "        embedding=embeddings,\n",
    "        index_name=PINECONE_INDEX_NAME_2,\n",
    "        namespace=PINECONE_NAMESPACE_2,\n",
    "        pinecone_api_key=PINECONE_API_KEY\n",
    "    )\n",
    "    \n",
    "    results = dur_vector_db.similarity_search(    \n",
    "    query=query,\n",
    "    k=5,\n",
    "    namespace=PINECONE_NAMESPACE_2)\n",
    "    \n",
    "    return {\n",
    "        \"medicine_context\": \"\\n\".join([doc.page_content for doc in results])\n",
    "    }"
   ],
   "id": "3164ef70d385b3bb",
   "outputs": [],
   "execution_count": 10
  },
  {
   "metadata": {
    "ExecuteTime": {
     "end_time": "2024-12-20T00:28:02.942579Z",
     "start_time": "2024-12-20T00:27:58.755629Z"
    }
   },
   "cell_type": "code",
   "source": "drug_info_similarity('에이서캡슐(아세클로페낙)')",
   "id": "c105eb88f0067bc2",
   "outputs": [
    {
     "data": {
      "text/plain": [
       "{'medicine_context': '\\ufeff업체명: (주)한국글로벌제약\\n제품명: 뮤코틸캡슐(아세틸시스테인)\\n품목기준코드: 201404707\\n효능: 이 약은 급ㆍ만성기관지염, 기관지천식, 후두염, 부비동염, 낭성섬유증의 질환에서\\xa0객담배출곤란에 사용합니다.\\n복용방법: 급성질환에 성인은 1회 1캡슐(200 mg)씩, 1일 3회, 6~14세는 1회 1캡슐(200 mg)씩, 1일 2회 식전에 소량의 물과 함께 복용합니다.만성질환에 성인은 1회 1캡슐(200 mg)씩, 1일 2회, 6~14세는 1회\\xa0\\xa01/2\\xa0캡슐(100 mg)씩, 1일 3회 식전에 소량의 물과 함께 복용합니다.낭성섬유증에 6세 이상은 1회 1캡슐(200 mg)씩, 1일 3회 식전에 소량의 물과 함께 복용합니다.\\n알아야할 점: \\n사용상 주의사항: 이 약에 과민증 환자,\\xa0위•십이지장궤양,\\xa02세 미만 영아, 갈락토오스 불내성, Lapp 유당분해효소 결핍증 또는 포도당-갈락토오스 흡수장애 등의 유전적인 문제가 있는 환자는 이 약을 복용하지 마십시오.이 약을 복용하기 전에\\xa0임부 또는 임신하고 있을 가능성이 있는 여성 및 수유부는 의사 또는 약사와 상담하십시오.\\n병용금지 약/음식: 경구용 항생제(아목시실린, 세푸록심, 독시사이클린, 에리트로마이신, 티암페니콜)와\\xa0함께 복용 시 적어도 2시간\\xa0간격을 두고 복용하십시오.\\n이상반응 가능성: 드물게 구역, 구토, 구내염, 가슴쓰림, 설사, 두드러기, 가려움, 발진, 두통, 이명, 기관지경련(특히 천식 환자), 빈맥, 고혈압 등이 나타나는 경우\\xa0즉각 복용을 중지하고\\xa0의사 또는 약사와 상담하십시오.\\n보관방법: 실온에서 보관하십시오.어린이의 손이 닿지 않는 곳에 보관하십시오.\\n\\ufeff업체명: 태극제약(주)\\n제품명: 아로마에프캡슐\\n품목기준코드: 200903224\\n효능: 이 약은 치주치료 후 치은염, 경·중등도 치주염의 보조치료에 사용합니다.\\n복용방법: 성인은 1회 1캡슐, 1일 3회 식후에 복용합니다.\\n알아야할 점: \\n사용상 주의사항: 15세 미만 소아는 이 약을 복용하지 마십시오.이 약에 과민증 환자, 화장품 또는 달걀에 과민증(발열, 발진, 관절통, 천식, 가려움 등) 경험자, 알레르기 체질인 사람, 황색5호에 과민증 환자는\\xa0의사 또는 약사와 상의하십시오.정해진 용법과 용량을 잘 지키십시오.\\n병용금지 약/음식: \\n이상반응 가능성: 발진, 발적, 설사, 식욕부진, 위부불쾌감, 구역, 구토, 구내염, 피부점막안증후군(스티븐스-존슨증후군), 독성표피괴사용해(발열, 홍반, 가려움, 안충혈, 구내염 등의 증상, 전신의 피부, 입과 목의 점막에 고열을 동반하는 발진·발적, 화상모양의 수종 등의 중증의 증상) 등이 나타나는 경우 복용을 즉각 중지하고 의사 또는 약사와 상의하십시오.\\n보관방법: 실온에서 보관하십시오.어린이의 손이 닿지 않는 곳에 보관하십시오.\\n\\ufeff업체명: 아이큐어(주)\\n제품명: 아세틴캡슐(아세틸시스테인)\\n품목기준코드: 201705483\\n효능: 이 약은 급ㆍ만성기관지염, 기관지천식, 후두염, 부비동염, 낭성섬유증의 질환에서\\xa0객담배출곤란에 사용합니다.\\n복용방법: 급성질환에 성인은 1회 1캡슐(200 mg)씩, 1일 3회, 6~14세는 1회 1캡슐(200 mg)씩, 1일 2회 식전에 소량의 물과 함께 복용합니다.만성질환에 성인은 1회 1캡슐(200 mg)씩, 1일 2회, 6~14세는 1회\\xa0\\xa01/2\\xa0캡슐(100 mg)씩, 1일 3회 식전에 소량의 물과 함께 복용합니다.낭성섬유증에 6세 이상은 1회 1캡슐(200 mg)씩, 1일 3회 식전에 소량의 물과 함께 복용합니다.\\n알아야할 점: \\n사용상 주의사항: 이 약에 과민증 환자,\\xa0위•십이지장궤양,\\xa02세 미만 영아, 갈락토오스 불내성, Lapp 유당분해효소 결핍증 또는 포도당-갈락토오스 흡수장애 등의 유전적인 문제가 있는 환자는 이 약을 복용하지 마십시오.이 약을 복용하기 전에\\xa0임부 또는 임신하고 있을 가능성이 있는 여성 및 수유부는 의사 또는 약사와 상담하십시오.\\n병용금지 약/음식: 경구용 항생제(아목시실린, 세푸록심, 독시사이클린, 에리트로마이신, 티암페니콜)와\\xa0함께 복용 시 적어도 2시간\\xa0간격을 두고 복용하십시오.\\n이상반응 가능성: 드물게 구역, 구토, 구내염, 가슴쓰림, 설사, 두드러기, 가려움, 발진, 두통, 이명, 기관지경련(특히 천식 환자), 빈맥, 고혈압 등이 나타나는 경우\\xa0즉각 복용을 중지하고\\xa0의사 또는 약사와 상담하십시오.\\n보관방법: 실온에서 보관하십시오.어린이의 손이 닿지 않는 곳에 보관하십시오.\\n\\ufeff업체명: 동성제약(주)\\n제품명: 티스란에프캡슐\\n품목기준코드: 200900674\\n효능: 이 약은 치주치료 후 치은염, 경·중등도 치주염의 보조치료에 사용합니다.\\n복용방법: 성인은 1회 1캡슐, 1일 3회 식후에 복용합니다.\\n알아야할 점: \\n사용상 주의사항: 15세 미만의 소아는\\xa0이 약을 복용하지 마십시오.이 약을 복용하기 전에 약, 화장품 또는 달걀에 과민증, 알레르기 증상(발열, 발진, 관절통, 천식, 가려움 등) 경험자, 알레르기 체질인 사람은\\xa0의사 또는 약사와 상의하십시오.정해진 용법과 용량을 잘 지키십시오.1개월 이상\\xa0복용하여도 증상의 개선이 없을 경우 복용을 즉각 중지하고 의사 또는 약사와 상의하십시오.\\n병용금지 약/음식: \\n이상반응 가능성: 발진, 발적, 설사, 식욕부진, 위부불쾌감, 구역, 구토, 구내염, 피부점막안증후군(스티븐스-존슨증후군), 독성표피괴사용해(발열, 홍반, 가려움, 안충혈, 구내염 등의 증상, 전신의 피부, 입과 목의 점막에 고열을 동반하는 발진·발적, 화상모양의 수종 등의 중증의 증상) 등이 나타나는 경우 복용을 즉각 중지하고 의사 또는 약사와 상의하십시오.\\n보관방법: 실온에서 보관하십시오.어린이의 손이 닿지 않는 곳에 보관하십시오.\\n\\ufeff업체명: (주)파마킹\\n제품명: 아시틴캡슐(아세틸시스테인)\\n품목기준코드: 199601956\\n효능: 이 약은 급ㆍ만성기관지염, 기관지천식, 후두염, 부비동염, 낭성섬유증의 질환에서\\xa0객담배출곤란에 사용합니다.\\n복용방법: 급성질환에 성인은 1회 1캡슐(200 mg)씩, 1일 3회, 6~14세는 1회 1캡슐(200 mg)씩, 1일 2회 식전에 소량의 물과 함께 복용합니다.만성질환에 성인은 1회 1캡슐(200 mg)씩, 1일 2회, 6~14세는 1회\\xa0\\xa01/2\\xa0캡슐(100 mg)씩, 1일 3회 식전에 소량의 물과 함께 복용합니다.낭성섬유증에 6세 이상은 1회 1캡슐(200 mg)씩, 1일 3회 식전에 소량의 물과 함께 복용합니다.\\n알아야할 점: \\n사용상 주의사항: 이 약에 과민증 환자,\\xa0위•십이지장궤양,\\xa02세 미만 영아, 갈락토오스 불내성, Lapp 유당분해효소 결핍증 또는 포도당-갈락토오스 흡수장애 등의 유전적인 문제가 있는 환자는 이 약을 복용하지 마십시오.이 약을 복용하기 전에\\xa0임부 또는 임신하고 있을 가능성이 있는 여성 및 수유부는 의사 또는 약사와 상담하십시오.\\n병용금지 약/음식: 경구용 항생제(아목시실린, 세푸록심, 독시사이클린, 에리트로마이신, 티암페니콜)와\\xa0함께 복용 시 적어도 2시간\\xa0간격을 두고 복용하십시오.\\n이상반응 가능성: 드물게 구역, 구토, 구내염, 가슴쓰림, 설사, 두드러기, 가려움, 발진, 두통, 이명, 기관지경련(특히 천식 환자), 빈맥, 고혈압 등이 나타나는 경우\\xa0즉각 복용을 중지하고\\xa0의사 또는 약사와 상담하십시오.\\n보관방법: 실온에서 보관하십시오.어린이의 손이 닿지 않는 곳에 보관하십시오.'}"
      ]
     },
     "execution_count": 11,
     "metadata": {},
     "output_type": "execute_result"
    }
   ],
   "execution_count": 11
  },
  {
   "metadata": {
    "ExecuteTime": {
     "end_time": "2024-12-20T00:28:05.839748Z",
     "start_time": "2024-12-20T00:28:02.966279Z"
    }
   },
   "cell_type": "code",
   "source": [
    "from langchain_core.runnables import RunnableLambda\n",
    "chain = RunnableLambda(drug_info_similarity)\n",
    "chain.invoke('에이서캡슐(아세클로페낙)')"
   ],
   "id": "e161553735b99142",
   "outputs": [
    {
     "data": {
      "text/plain": [
       "{'medicine_context': '\\ufeff업체명: (주)한국글로벌제약\\n제품명: 뮤코틸캡슐(아세틸시스테인)\\n품목기준코드: 201404707\\n효능: 이 약은 급ㆍ만성기관지염, 기관지천식, 후두염, 부비동염, 낭성섬유증의 질환에서\\xa0객담배출곤란에 사용합니다.\\n복용방법: 급성질환에 성인은 1회 1캡슐(200 mg)씩, 1일 3회, 6~14세는 1회 1캡슐(200 mg)씩, 1일 2회 식전에 소량의 물과 함께 복용합니다.만성질환에 성인은 1회 1캡슐(200 mg)씩, 1일 2회, 6~14세는 1회\\xa0\\xa01/2\\xa0캡슐(100 mg)씩, 1일 3회 식전에 소량의 물과 함께 복용합니다.낭성섬유증에 6세 이상은 1회 1캡슐(200 mg)씩, 1일 3회 식전에 소량의 물과 함께 복용합니다.\\n알아야할 점: \\n사용상 주의사항: 이 약에 과민증 환자,\\xa0위•십이지장궤양,\\xa02세 미만 영아, 갈락토오스 불내성, Lapp 유당분해효소 결핍증 또는 포도당-갈락토오스 흡수장애 등의 유전적인 문제가 있는 환자는 이 약을 복용하지 마십시오.이 약을 복용하기 전에\\xa0임부 또는 임신하고 있을 가능성이 있는 여성 및 수유부는 의사 또는 약사와 상담하십시오.\\n병용금지 약/음식: 경구용 항생제(아목시실린, 세푸록심, 독시사이클린, 에리트로마이신, 티암페니콜)와\\xa0함께 복용 시 적어도 2시간\\xa0간격을 두고 복용하십시오.\\n이상반응 가능성: 드물게 구역, 구토, 구내염, 가슴쓰림, 설사, 두드러기, 가려움, 발진, 두통, 이명, 기관지경련(특히 천식 환자), 빈맥, 고혈압 등이 나타나는 경우\\xa0즉각 복용을 중지하고\\xa0의사 또는 약사와 상담하십시오.\\n보관방법: 실온에서 보관하십시오.어린이의 손이 닿지 않는 곳에 보관하십시오.\\n\\ufeff업체명: 태극제약(주)\\n제품명: 아로마에프캡슐\\n품목기준코드: 200903224\\n효능: 이 약은 치주치료 후 치은염, 경·중등도 치주염의 보조치료에 사용합니다.\\n복용방법: 성인은 1회 1캡슐, 1일 3회 식후에 복용합니다.\\n알아야할 점: \\n사용상 주의사항: 15세 미만 소아는 이 약을 복용하지 마십시오.이 약에 과민증 환자, 화장품 또는 달걀에 과민증(발열, 발진, 관절통, 천식, 가려움 등) 경험자, 알레르기 체질인 사람, 황색5호에 과민증 환자는\\xa0의사 또는 약사와 상의하십시오.정해진 용법과 용량을 잘 지키십시오.\\n병용금지 약/음식: \\n이상반응 가능성: 발진, 발적, 설사, 식욕부진, 위부불쾌감, 구역, 구토, 구내염, 피부점막안증후군(스티븐스-존슨증후군), 독성표피괴사용해(발열, 홍반, 가려움, 안충혈, 구내염 등의 증상, 전신의 피부, 입과 목의 점막에 고열을 동반하는 발진·발적, 화상모양의 수종 등의 중증의 증상) 등이 나타나는 경우 복용을 즉각 중지하고 의사 또는 약사와 상의하십시오.\\n보관방법: 실온에서 보관하십시오.어린이의 손이 닿지 않는 곳에 보관하십시오.\\n\\ufeff업체명: 아이큐어(주)\\n제품명: 아세틴캡슐(아세틸시스테인)\\n품목기준코드: 201705483\\n효능: 이 약은 급ㆍ만성기관지염, 기관지천식, 후두염, 부비동염, 낭성섬유증의 질환에서\\xa0객담배출곤란에 사용합니다.\\n복용방법: 급성질환에 성인은 1회 1캡슐(200 mg)씩, 1일 3회, 6~14세는 1회 1캡슐(200 mg)씩, 1일 2회 식전에 소량의 물과 함께 복용합니다.만성질환에 성인은 1회 1캡슐(200 mg)씩, 1일 2회, 6~14세는 1회\\xa0\\xa01/2\\xa0캡슐(100 mg)씩, 1일 3회 식전에 소량의 물과 함께 복용합니다.낭성섬유증에 6세 이상은 1회 1캡슐(200 mg)씩, 1일 3회 식전에 소량의 물과 함께 복용합니다.\\n알아야할 점: \\n사용상 주의사항: 이 약에 과민증 환자,\\xa0위•십이지장궤양,\\xa02세 미만 영아, 갈락토오스 불내성, Lapp 유당분해효소 결핍증 또는 포도당-갈락토오스 흡수장애 등의 유전적인 문제가 있는 환자는 이 약을 복용하지 마십시오.이 약을 복용하기 전에\\xa0임부 또는 임신하고 있을 가능성이 있는 여성 및 수유부는 의사 또는 약사와 상담하십시오.\\n병용금지 약/음식: 경구용 항생제(아목시실린, 세푸록심, 독시사이클린, 에리트로마이신, 티암페니콜)와\\xa0함께 복용 시 적어도 2시간\\xa0간격을 두고 복용하십시오.\\n이상반응 가능성: 드물게 구역, 구토, 구내염, 가슴쓰림, 설사, 두드러기, 가려움, 발진, 두통, 이명, 기관지경련(특히 천식 환자), 빈맥, 고혈압 등이 나타나는 경우\\xa0즉각 복용을 중지하고\\xa0의사 또는 약사와 상담하십시오.\\n보관방법: 실온에서 보관하십시오.어린이의 손이 닿지 않는 곳에 보관하십시오.\\n\\ufeff업체명: 동성제약(주)\\n제품명: 티스란에프캡슐\\n품목기준코드: 200900674\\n효능: 이 약은 치주치료 후 치은염, 경·중등도 치주염의 보조치료에 사용합니다.\\n복용방법: 성인은 1회 1캡슐, 1일 3회 식후에 복용합니다.\\n알아야할 점: \\n사용상 주의사항: 15세 미만의 소아는\\xa0이 약을 복용하지 마십시오.이 약을 복용하기 전에 약, 화장품 또는 달걀에 과민증, 알레르기 증상(발열, 발진, 관절통, 천식, 가려움 등) 경험자, 알레르기 체질인 사람은\\xa0의사 또는 약사와 상의하십시오.정해진 용법과 용량을 잘 지키십시오.1개월 이상\\xa0복용하여도 증상의 개선이 없을 경우 복용을 즉각 중지하고 의사 또는 약사와 상의하십시오.\\n병용금지 약/음식: \\n이상반응 가능성: 발진, 발적, 설사, 식욕부진, 위부불쾌감, 구역, 구토, 구내염, 피부점막안증후군(스티븐스-존슨증후군), 독성표피괴사용해(발열, 홍반, 가려움, 안충혈, 구내염 등의 증상, 전신의 피부, 입과 목의 점막에 고열을 동반하는 발진·발적, 화상모양의 수종 등의 중증의 증상) 등이 나타나는 경우 복용을 즉각 중지하고 의사 또는 약사와 상의하십시오.\\n보관방법: 실온에서 보관하십시오.어린이의 손이 닿지 않는 곳에 보관하십시오.\\n\\ufeff업체명: (주)파마킹\\n제품명: 아시틴캡슐(아세틸시스테인)\\n품목기준코드: 199601956\\n효능: 이 약은 급ㆍ만성기관지염, 기관지천식, 후두염, 부비동염, 낭성섬유증의 질환에서\\xa0객담배출곤란에 사용합니다.\\n복용방법: 급성질환에 성인은 1회 1캡슐(200 mg)씩, 1일 3회, 6~14세는 1회 1캡슐(200 mg)씩, 1일 2회 식전에 소량의 물과 함께 복용합니다.만성질환에 성인은 1회 1캡슐(200 mg)씩, 1일 2회, 6~14세는 1회\\xa0\\xa01/2\\xa0캡슐(100 mg)씩, 1일 3회 식전에 소량의 물과 함께 복용합니다.낭성섬유증에 6세 이상은 1회 1캡슐(200 mg)씩, 1일 3회 식전에 소량의 물과 함께 복용합니다.\\n알아야할 점: \\n사용상 주의사항: 이 약에 과민증 환자,\\xa0위•십이지장궤양,\\xa02세 미만 영아, 갈락토오스 불내성, Lapp 유당분해효소 결핍증 또는 포도당-갈락토오스 흡수장애 등의 유전적인 문제가 있는 환자는 이 약을 복용하지 마십시오.이 약을 복용하기 전에\\xa0임부 또는 임신하고 있을 가능성이 있는 여성 및 수유부는 의사 또는 약사와 상담하십시오.\\n병용금지 약/음식: 경구용 항생제(아목시실린, 세푸록심, 독시사이클린, 에리트로마이신, 티암페니콜)와\\xa0함께 복용 시 적어도 2시간\\xa0간격을 두고 복용하십시오.\\n이상반응 가능성: 드물게 구역, 구토, 구내염, 가슴쓰림, 설사, 두드러기, 가려움, 발진, 두통, 이명, 기관지경련(특히 천식 환자), 빈맥, 고혈압 등이 나타나는 경우\\xa0즉각 복용을 중지하고\\xa0의사 또는 약사와 상담하십시오.\\n보관방법: 실온에서 보관하십시오.어린이의 손이 닿지 않는 곳에 보관하십시오.'}"
      ]
     },
     "execution_count": 12,
     "metadata": {},
     "output_type": "execute_result"
    }
   ],
   "execution_count": 12
  },
  {
   "metadata": {
    "ExecuteTime": {
     "end_time": "2024-12-20T00:28:05.959635Z",
     "start_time": "2024-12-20T00:28:05.951913Z"
    }
   },
   "cell_type": "code",
   "source": [
    "# 각 딕셔너리를 합쳐 하나의 딕셔너리 반환\n",
    "def merge_dict(query):\n",
    "    dict1 = dur_pregnacy_similarity(query)\n",
    "    dict2 = drug_info_similarity(query)\n",
    "    merged_dict = dict1 | dict2\n",
    "    return merged_dict"
   ],
   "id": "d86786717ed61588",
   "outputs": [],
   "execution_count": 13
  },
  {
   "metadata": {
    "ExecuteTime": {
     "end_time": "2024-12-20T00:28:11.576998Z",
     "start_time": "2024-12-20T00:28:06.032025Z"
    }
   },
   "cell_type": "code",
   "source": "example_dict = merge_dict('에이서캡슐(아세클로페낙)')",
   "id": "39708323cfa7aa8b",
   "outputs": [],
   "execution_count": 14
  },
  {
   "metadata": {
    "ExecuteTime": {
     "end_time": "2024-12-20T00:28:11.602117Z",
     "start_time": "2024-12-20T00:28:11.593591Z"
    }
   },
   "cell_type": "code",
   "source": "print(example_dict)",
   "id": "aa05c1a233b9b4e0",
   "outputs": [
    {
     "name": "stdout",
     "output_type": "stream",
     "text": [
      "{'medicine_name': '에이서캡슐(아세클로페낙)', 'dur_context': '성분명: aceclofenac\\n제품명: 에이서캡슐(아세클로페낙)_(0.1g/1캡슐)\\n업체명: 경동제약(주)\\n금기등급: 2\\n상세정보: 임부에 대한 안전성 미확립.임신 말기에 투여시 태아의 동맥관조기폐쇄 가능성.동물실험에서 비스테로이드성 소염진통제는 난산발생빈도 증가, 분만지연, 태아 생존율 감소 보고.임신 약 20주 이후 비스테로이드성 소염제의 사용은 태아의 신기능 이상을 일으켜 양수 과소증 유발 가능 및 경우에 따라 신생아 신장애 발생 가능\\n성분명: cilostazol\\n제품명: 시타졸서방캡슐100mg(실로스타졸)_(0.1g/1캡슐)\\n업체명: 동광제약(주)\\n금기등급: 2\\n상세정보: 동물실험에서 이상태자의 증가 및 출생시의 저체중, 사망 증가 보고.\\n성분명: cilostazol\\n제품명: 시타졸서방캡슐200mg(실로스타졸)_(0.2g/1캡슐)\\n업체명: 동광제약(주)\\n금기등급: 2\\n상세정보: 동물실험에서 이상태자의 증가 및 출생시의 저체중, 사망 증가 보고.\\n성분명: ginkgo biloba leaf ext. + ginseng 30% ethanol ext.\\n제품명: 징코산캡슐_(1캡슐)\\n업체명: (주)한국파비스제약\\n금기등급: 2\\n상세정보: (정제, 액제, 캡슐제) 임신 중 투여에 대한 충분한 사용경험 적음 (주사제) -\\n성분명: Diacerein\\n제품명: 아세렌캡슐(디아세레인)_(50mg/1캡슐)\\n업체명: 대화제약(주)\\n금기등급: 2\\n상세정보: 동물실험에서 태자 골형성 지연 보고', 'medicine_context': '\\ufeff업체명: (주)한국글로벌제약\\n제품명: 뮤코틸캡슐(아세틸시스테인)\\n품목기준코드: 201404707\\n효능: 이 약은 급ㆍ만성기관지염, 기관지천식, 후두염, 부비동염, 낭성섬유증의 질환에서\\xa0객담배출곤란에 사용합니다.\\n복용방법: 급성질환에 성인은 1회 1캡슐(200 mg)씩, 1일 3회, 6~14세는 1회 1캡슐(200 mg)씩, 1일 2회 식전에 소량의 물과 함께 복용합니다.만성질환에 성인은 1회 1캡슐(200 mg)씩, 1일 2회, 6~14세는 1회\\xa0\\xa01/2\\xa0캡슐(100 mg)씩, 1일 3회 식전에 소량의 물과 함께 복용합니다.낭성섬유증에 6세 이상은 1회 1캡슐(200 mg)씩, 1일 3회 식전에 소량의 물과 함께 복용합니다.\\n알아야할 점: \\n사용상 주의사항: 이 약에 과민증 환자,\\xa0위•십이지장궤양,\\xa02세 미만 영아, 갈락토오스 불내성, Lapp 유당분해효소 결핍증 또는 포도당-갈락토오스 흡수장애 등의 유전적인 문제가 있는 환자는 이 약을 복용하지 마십시오.이 약을 복용하기 전에\\xa0임부 또는 임신하고 있을 가능성이 있는 여성 및 수유부는 의사 또는 약사와 상담하십시오.\\n병용금지 약/음식: 경구용 항생제(아목시실린, 세푸록심, 독시사이클린, 에리트로마이신, 티암페니콜)와\\xa0함께 복용 시 적어도 2시간\\xa0간격을 두고 복용하십시오.\\n이상반응 가능성: 드물게 구역, 구토, 구내염, 가슴쓰림, 설사, 두드러기, 가려움, 발진, 두통, 이명, 기관지경련(특히 천식 환자), 빈맥, 고혈압 등이 나타나는 경우\\xa0즉각 복용을 중지하고\\xa0의사 또는 약사와 상담하십시오.\\n보관방법: 실온에서 보관하십시오.어린이의 손이 닿지 않는 곳에 보관하십시오.\\n\\ufeff업체명: 태극제약(주)\\n제품명: 아로마에프캡슐\\n품목기준코드: 200903224\\n효능: 이 약은 치주치료 후 치은염, 경·중등도 치주염의 보조치료에 사용합니다.\\n복용방법: 성인은 1회 1캡슐, 1일 3회 식후에 복용합니다.\\n알아야할 점: \\n사용상 주의사항: 15세 미만 소아는 이 약을 복용하지 마십시오.이 약에 과민증 환자, 화장품 또는 달걀에 과민증(발열, 발진, 관절통, 천식, 가려움 등) 경험자, 알레르기 체질인 사람, 황색5호에 과민증 환자는\\xa0의사 또는 약사와 상의하십시오.정해진 용법과 용량을 잘 지키십시오.\\n병용금지 약/음식: \\n이상반응 가능성: 발진, 발적, 설사, 식욕부진, 위부불쾌감, 구역, 구토, 구내염, 피부점막안증후군(스티븐스-존슨증후군), 독성표피괴사용해(발열, 홍반, 가려움, 안충혈, 구내염 등의 증상, 전신의 피부, 입과 목의 점막에 고열을 동반하는 발진·발적, 화상모양의 수종 등의 중증의 증상) 등이 나타나는 경우 복용을 즉각 중지하고 의사 또는 약사와 상의하십시오.\\n보관방법: 실온에서 보관하십시오.어린이의 손이 닿지 않는 곳에 보관하십시오.\\n\\ufeff업체명: 아이큐어(주)\\n제품명: 아세틴캡슐(아세틸시스테인)\\n품목기준코드: 201705483\\n효능: 이 약은 급ㆍ만성기관지염, 기관지천식, 후두염, 부비동염, 낭성섬유증의 질환에서\\xa0객담배출곤란에 사용합니다.\\n복용방법: 급성질환에 성인은 1회 1캡슐(200 mg)씩, 1일 3회, 6~14세는 1회 1캡슐(200 mg)씩, 1일 2회 식전에 소량의 물과 함께 복용합니다.만성질환에 성인은 1회 1캡슐(200 mg)씩, 1일 2회, 6~14세는 1회\\xa0\\xa01/2\\xa0캡슐(100 mg)씩, 1일 3회 식전에 소량의 물과 함께 복용합니다.낭성섬유증에 6세 이상은 1회 1캡슐(200 mg)씩, 1일 3회 식전에 소량의 물과 함께 복용합니다.\\n알아야할 점: \\n사용상 주의사항: 이 약에 과민증 환자,\\xa0위•십이지장궤양,\\xa02세 미만 영아, 갈락토오스 불내성, Lapp 유당분해효소 결핍증 또는 포도당-갈락토오스 흡수장애 등의 유전적인 문제가 있는 환자는 이 약을 복용하지 마십시오.이 약을 복용하기 전에\\xa0임부 또는 임신하고 있을 가능성이 있는 여성 및 수유부는 의사 또는 약사와 상담하십시오.\\n병용금지 약/음식: 경구용 항생제(아목시실린, 세푸록심, 독시사이클린, 에리트로마이신, 티암페니콜)와\\xa0함께 복용 시 적어도 2시간\\xa0간격을 두고 복용하십시오.\\n이상반응 가능성: 드물게 구역, 구토, 구내염, 가슴쓰림, 설사, 두드러기, 가려움, 발진, 두통, 이명, 기관지경련(특히 천식 환자), 빈맥, 고혈압 등이 나타나는 경우\\xa0즉각 복용을 중지하고\\xa0의사 또는 약사와 상담하십시오.\\n보관방법: 실온에서 보관하십시오.어린이의 손이 닿지 않는 곳에 보관하십시오.\\n\\ufeff업체명: 동성제약(주)\\n제품명: 티스란에프캡슐\\n품목기준코드: 200900674\\n효능: 이 약은 치주치료 후 치은염, 경·중등도 치주염의 보조치료에 사용합니다.\\n복용방법: 성인은 1회 1캡슐, 1일 3회 식후에 복용합니다.\\n알아야할 점: \\n사용상 주의사항: 15세 미만의 소아는\\xa0이 약을 복용하지 마십시오.이 약을 복용하기 전에 약, 화장품 또는 달걀에 과민증, 알레르기 증상(발열, 발진, 관절통, 천식, 가려움 등) 경험자, 알레르기 체질인 사람은\\xa0의사 또는 약사와 상의하십시오.정해진 용법과 용량을 잘 지키십시오.1개월 이상\\xa0복용하여도 증상의 개선이 없을 경우 복용을 즉각 중지하고 의사 또는 약사와 상의하십시오.\\n병용금지 약/음식: \\n이상반응 가능성: 발진, 발적, 설사, 식욕부진, 위부불쾌감, 구역, 구토, 구내염, 피부점막안증후군(스티븐스-존슨증후군), 독성표피괴사용해(발열, 홍반, 가려움, 안충혈, 구내염 등의 증상, 전신의 피부, 입과 목의 점막에 고열을 동반하는 발진·발적, 화상모양의 수종 등의 중증의 증상) 등이 나타나는 경우 복용을 즉각 중지하고 의사 또는 약사와 상의하십시오.\\n보관방법: 실온에서 보관하십시오.어린이의 손이 닿지 않는 곳에 보관하십시오.\\n\\ufeff업체명: (주)파마킹\\n제품명: 아시틴캡슐(아세틸시스테인)\\n품목기준코드: 199601956\\n효능: 이 약은 급ㆍ만성기관지염, 기관지천식, 후두염, 부비동염, 낭성섬유증의 질환에서\\xa0객담배출곤란에 사용합니다.\\n복용방법: 급성질환에 성인은 1회 1캡슐(200 mg)씩, 1일 3회, 6~14세는 1회 1캡슐(200 mg)씩, 1일 2회 식전에 소량의 물과 함께 복용합니다.만성질환에 성인은 1회 1캡슐(200 mg)씩, 1일 2회, 6~14세는 1회\\xa0\\xa01/2\\xa0캡슐(100 mg)씩, 1일 3회 식전에 소량의 물과 함께 복용합니다.낭성섬유증에 6세 이상은 1회 1캡슐(200 mg)씩, 1일 3회 식전에 소량의 물과 함께 복용합니다.\\n알아야할 점: \\n사용상 주의사항: 이 약에 과민증 환자,\\xa0위•십이지장궤양,\\xa02세 미만 영아, 갈락토오스 불내성, Lapp 유당분해효소 결핍증 또는 포도당-갈락토오스 흡수장애 등의 유전적인 문제가 있는 환자는 이 약을 복용하지 마십시오.이 약을 복용하기 전에\\xa0임부 또는 임신하고 있을 가능성이 있는 여성 및 수유부는 의사 또는 약사와 상담하십시오.\\n병용금지 약/음식: 경구용 항생제(아목시실린, 세푸록심, 독시사이클린, 에리트로마이신, 티암페니콜)와\\xa0함께 복용 시 적어도 2시간\\xa0간격을 두고 복용하십시오.\\n이상반응 가능성: 드물게 구역, 구토, 구내염, 가슴쓰림, 설사, 두드러기, 가려움, 발진, 두통, 이명, 기관지경련(특히 천식 환자), 빈맥, 고혈압 등이 나타나는 경우\\xa0즉각 복용을 중지하고\\xa0의사 또는 약사와 상담하십시오.\\n보관방법: 실온에서 보관하십시오.어린이의 손이 닿지 않는 곳에 보관하십시오.'}\n"
     ]
    }
   ],
   "execution_count": 15
  },
  {
   "metadata": {
    "ExecuteTime": {
     "end_time": "2024-12-20T01:35:24.260997Z",
     "start_time": "2024-12-20T01:35:24.256103Z"
    }
   },
   "cell_type": "code",
   "source": [
    "def generate_prompt(medicine_name, medicine_context, dur_context):\n",
    "    return ChatPromptTemplate.from_messages([\n",
    "        ('system', \"\"\"\n",
    "        Persona: You are a knowledgeable and experienced pharmacist with a passion to help people. \n",
    "        \n",
    "        Role: As a pharmacist, your role is to provide simple and clear explanations about medicines for maternity.\n",
    "        \n",
    "        Examples:\n",
    "        Your explanation should cover the following:\n",
    "        \n",
    "        1. A brief explanation of the medicine, its effectiveness, dosage, precautions, side effects, and storage information.\n",
    "        2. If the medicine is safe for pregnant women, including any contraindications, warning levels, and what they mean.\n",
    "        \n",
    "        Use the context provided below to answer the user's query.\n",
    "        \"\"\"),\n",
    "        ('user', f\"\"\"\n",
    "        주어진 맥락에 사용하여 질문에 답변을 하되, 모르는 경우 모른다고 말하며 최대한 세문장으로 간결하게 한국말로 답변해주세요.\n",
    "        Use the following pieces of retrieved context to answer the \n",
    "        Context about the medicine:\n",
    "        {medicine_context}\n",
    "        \n",
    "        Context about the pregnancy-related contraindications:\n",
    "        {dur_context}\n",
    "        \n",
    "        Medicine name: {medicine_name}\n",
    "        \"\"\")\n",
    "    ])"
   ],
   "id": "62faede0ce3b2a27",
   "outputs": [],
   "execution_count": 118
  },
  {
   "metadata": {
    "ExecuteTime": {
     "end_time": "2024-12-20T01:35:27.556669Z",
     "start_time": "2024-12-20T01:35:27.550413Z"
    }
   },
   "cell_type": "code",
   "source": [
    "from langchain_core.prompts import ChatPromptTemplate, HumanMessagePromptTemplate\n",
    "from langchain_openai import ChatOpenAI\n",
    "from langchain_core.output_parsers import StrOutputParser\n",
    "from langchain_core.runnables import RunnableLambda\n",
    "\n",
    "\n",
    "def ai_pharmacist(question, merged_dict):\n",
    "    prompt = generate_prompt(\n",
    "        medicine_name=merged_dict['medicine_name'],\n",
    "        medicine_context=merged_dict['medicine_context'],\n",
    "        dur_context=merged_dict['dur_context']\n",
    "    )\n",
    "    \n",
    "    messages = prompt.format_messages()\n",
    "    \n",
    "    model = ChatOpenAI(model='gpt-4o',temperature=1)\n",
    "    \n",
    "    # RunnableLambda를 사용하여 모델 호출\n",
    "    pipeline = RunnableLambda(lambda x: model.invoke(messages))\n",
    "    \n",
    "    # 질문을 파이프라인에 전달\n",
    "    result = pipeline.invoke(question)\n",
    "    \n",
    "    # output_parser = StrOutputParser()\n",
    "    # chain = generate_prompt_runnable | model | output_parser\n",
    "    # result = chain.invoke(inputs)\n",
    "    \n",
    "    \n",
    "    return result\n",
    "    "
   ],
   "id": "6131b98a1afdfa3d",
   "outputs": [],
   "execution_count": 119
  },
  {
   "metadata": {
    "ExecuteTime": {
     "end_time": "2024-12-20T01:35:30.113552Z",
     "start_time": "2024-12-20T01:35:30.110510Z"
    }
   },
   "cell_type": "code",
   "source": "example_question = '임산부 복용 가능한지 알려줘'",
   "id": "6ac8c040fb774a66",
   "outputs": [],
   "execution_count": 120
  },
  {
   "metadata": {
    "ExecuteTime": {
     "end_time": "2024-12-20T01:57:58.211823Z",
     "start_time": "2024-12-20T01:57:52.985868Z"
    }
   },
   "cell_type": "code",
   "source": "example_dict = merge_dict('활명수')",
   "id": "47deee856f603432",
   "outputs": [],
   "execution_count": 125
  },
  {
   "metadata": {
    "ExecuteTime": {
     "end_time": "2024-12-20T01:58:04.487825Z",
     "start_time": "2024-12-20T01:58:01.594852Z"
    }
   },
   "cell_type": "code",
   "source": [
    "response = ai_pharmacist(example_question,example_dict)\n",
    "response.content"
   ],
   "id": "3bb30ece0c37d5a8",
   "outputs": [
    {
     "data": {
      "text/plain": [
       "'활명수는 식욕감퇴, 소화불량, 구역, 구토 등에 사용되는 약입니다. 성인이 최소 4시간 간격으로 하루 3회 복용할 수 있으며, 임신 중이거나 임신 가능성이 있는 여성은 사용 전 의사나 약사와 상담해야 합니다. 이 약은 습기와 빛을 피해 실온에서 보관하며, 어린이의 손이 닿지 않는 곳에 두세요.'"
      ]
     },
     "execution_count": 126,
     "metadata": {},
     "output_type": "execute_result"
    }
   ],
   "execution_count": 126
  },
  {
   "metadata": {
    "ExecuteTime": {
     "end_time": "2024-12-20T01:14:05.281205Z",
     "start_time": "2024-12-20T01:14:05.276436Z"
    }
   },
   "cell_type": "code",
   "source": [
    "from langchain_core.runnables import RunnablePassthrough\n",
    "\n",
    "query = '타이레놀'\n",
    "chain = ({'query' : query, 'question':RunnablePassthrough()})\n"
   ],
   "id": "7992b90b60b1ea6e",
   "outputs": [],
   "execution_count": 99
  },
  {
   "metadata": {
    "ExecuteTime": {
     "end_time": "2024-12-20T01:14:18.958156Z",
     "start_time": "2024-12-20T01:14:18.930273Z"
    }
   },
   "cell_type": "code",
   "source": "chain('타이레놀', '임산부가 복용가능')",
   "id": "54897080b19f0071",
   "outputs": [
    {
     "ename": "TypeError",
     "evalue": "'dict' object is not callable",
     "output_type": "error",
     "traceback": [
      "\u001B[1;31m---------------------------------------------------------------------------\u001B[0m",
      "\u001B[1;31mTypeError\u001B[0m                                 Traceback (most recent call last)",
      "Cell \u001B[1;32mIn[100], line 1\u001B[0m\n\u001B[1;32m----> 1\u001B[0m \u001B[43mchain\u001B[49m\u001B[43m(\u001B[49m\u001B[38;5;124;43m'\u001B[39;49m\u001B[38;5;124;43m타이레놀\u001B[39;49m\u001B[38;5;124;43m'\u001B[39;49m\u001B[43m,\u001B[49m\u001B[43m \u001B[49m\u001B[38;5;124;43m'\u001B[39;49m\u001B[38;5;124;43m임산부가 복용가능\u001B[39;49m\u001B[38;5;124;43m'\u001B[39;49m\u001B[43m)\u001B[49m\n",
      "\u001B[1;31mTypeError\u001B[0m: 'dict' object is not callable"
     ]
    }
   ],
   "execution_count": 100
  }
 ],
 "metadata": {
  "kernelspec": {
   "display_name": "Python 3",
   "language": "python",
   "name": "python3"
  },
  "language_info": {
   "codemirror_mode": {
    "name": "ipython",
    "version": 2
   },
   "file_extension": ".py",
   "mimetype": "text/x-python",
   "name": "python",
   "nbconvert_exporter": "python",
   "pygments_lexer": "ipython2",
   "version": "2.7.6"
  }
 },
 "nbformat": 4,
 "nbformat_minor": 5
}
