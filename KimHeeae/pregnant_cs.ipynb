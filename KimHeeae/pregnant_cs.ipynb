{
 "cells": [
  {
   "cell_type": "code",
   "id": "initial_id",
   "metadata": {
    "collapsed": true,
    "ExecuteTime": {
     "end_time": "2024-12-19T06:28:07.906771Z",
     "start_time": "2024-12-19T06:28:07.899205Z"
    }
   },
   "source": [
    "from dotenv import load_dotenv\n",
    "load_dotenv()"
   ],
   "outputs": [
    {
     "data": {
      "text/plain": [
       "True"
      ]
     },
     "execution_count": 11,
     "metadata": {},
     "output_type": "execute_result"
    }
   ],
   "execution_count": 11
  },
  {
   "metadata": {},
   "cell_type": "markdown",
   "source": "## 파일로드",
   "id": "d16610f19abac54"
  },
  {
   "metadata": {
    "ExecuteTime": {
     "end_time": "2024-12-19T06:25:38.297252Z",
     "start_time": "2024-12-19T06:25:38.060448Z"
    }
   },
   "cell_type": "code",
   "source": [
    "from langchain_community.document_loaders import CSVLoader\n",
    "\n",
    "dur_pregnant = CSVLoader('./data/DUR_pregnant.csv')\n",
    "\n",
    "dur_pregnant_docs = dur_pregnant.load()"
   ],
   "id": "cdfe38e744b22ad5",
   "outputs": [],
   "execution_count": 7
  },
  {
   "metadata": {
    "ExecuteTime": {
     "end_time": "2024-12-19T08:11:11.365018Z",
     "start_time": "2024-12-19T08:11:11.323119Z"
    }
   },
   "cell_type": "code",
   "source": "len(dur_pregnant_docs)",
   "id": "21a6f15a7639d681",
   "outputs": [
    {
     "data": {
      "text/plain": [
       "19014"
      ]
     },
     "execution_count": 18,
     "metadata": {},
     "output_type": "execute_result"
    }
   ],
   "execution_count": 18
  },
  {
   "metadata": {
    "ExecuteTime": {
     "end_time": "2024-12-19T06:31:50.975327Z",
     "start_time": "2024-12-19T06:31:50.971061Z"
    }
   },
   "cell_type": "code",
   "source": [
    "import os\n",
    "PINECONE_INDEX_NAME2 = os.getenv('PINECONE_INDEX_NAME2')\n",
    "PINECONE_NAMESPACE2 = os.getenv('PINECONE_NAMESPACE2')\n",
    "PINECONE_API_KEY = os.getenv('PINECONE_API_KEY')\n",
    "\n",
    "print(PINECONE_INDEX_NAME2)\n",
    "print(PINECONE_NAMESPACE2)\n",
    "print(PINECONE_API_KEY)"
   ],
   "id": "19859162fafa8096",
   "outputs": [
    {
     "name": "stdout",
     "output_type": "stream",
     "text": [
      "ai-pregnant\n",
      "ai-pregnant-ns\n",
      "pcsk_4XyuMX_5f47dcAxtKB3mkLzQbc4EfucgVHPSkZ7pikmbjCRbviWzyUBGstWunj4XTVTmaj\n"
     ]
    }
   ],
   "execution_count": 15
  },
  {
   "metadata": {
    "ExecuteTime": {
     "end_time": "2024-12-19T06:39:08.496789Z",
     "start_time": "2024-12-19T06:33:08.764484Z"
    }
   },
   "cell_type": "code",
   "source": [
    "from langchain_openai.embeddings import OpenAIEmbeddings\n",
    "from langchain_openai.embeddings import OpenAIEmbeddings\n",
    "from langchain_pinecone import PineconeVectorStore\n",
    "\n",
    "embeddings = OpenAIEmbeddings(model=\"text-embedding-3-small\")\n",
    "\n",
    "# 문서 배치 크기 설정 (예: 1000개씩 나눔)\n",
    "batch_size = 1000\n",
    "total_documents = len(dur_pregnant_docs)\n",
    "\n",
    "for i in range(0, total_documents, batch_size):\n",
    "    batch = dur_pregnant_docs[i:i+batch_size]\n",
    "    \n",
    "    vector_db = PineconeVectorStore.from_documents(\n",
    "        batch,\n",
    "        embedding=embeddings,\n",
    "        index_name=PINECONE_INDEX_NAME2,\n",
    "        namespace=PINECONE_NAMESPACE2,\n",
    "        pinecone_api_key=PINECONE_API_KEY       \n",
    "    )\n",
    "    \n",
    "    # 업로드 완료 시 메세지\n",
    "    print(f\"Batch {i // batch_size + 1} uploaded, {min(i+batch_size, total_documents)} documents processed\")"
   ],
   "id": "39467db8de1795c0",
   "outputs": [
    {
     "name": "stdout",
     "output_type": "stream",
     "text": [
      "Batch 1 uploaded, 1000 documents processed\n",
      "Batch 2 uploaded, 2000 documents processed\n",
      "Batch 3 uploaded, 3000 documents processed\n",
      "Batch 4 uploaded, 4000 documents processed\n",
      "Batch 5 uploaded, 5000 documents processed\n",
      "Batch 6 uploaded, 6000 documents processed\n",
      "Batch 7 uploaded, 7000 documents processed\n",
      "Batch 8 uploaded, 8000 documents processed\n",
      "Batch 9 uploaded, 9000 documents processed\n",
      "Batch 10 uploaded, 10000 documents processed\n",
      "Batch 11 uploaded, 11000 documents processed\n",
      "Batch 12 uploaded, 12000 documents processed\n",
      "Batch 13 uploaded, 13000 documents processed\n",
      "Batch 14 uploaded, 14000 documents processed\n",
      "Batch 15 uploaded, 15000 documents processed\n",
      "Batch 16 uploaded, 16000 documents processed\n",
      "Batch 17 uploaded, 17000 documents processed\n",
      "Batch 18 uploaded, 18000 documents processed\n",
      "Batch 19 uploaded, 19000 documents processed\n",
      "Batch 20 uploaded, 19014 documents processed\n"
     ]
    }
   ],
   "execution_count": 17
  }
 ],
 "metadata": {
  "kernelspec": {
   "display_name": "Python 3",
   "language": "python",
   "name": "python3"
  },
  "language_info": {
   "codemirror_mode": {
    "name": "ipython",
    "version": 2
   },
   "file_extension": ".py",
   "mimetype": "text/x-python",
   "name": "python",
   "nbconvert_exporter": "python",
   "pygments_lexer": "ipython2",
   "version": "2.7.6"
  }
 },
 "nbformat": 4,
 "nbformat_minor": 5
}
